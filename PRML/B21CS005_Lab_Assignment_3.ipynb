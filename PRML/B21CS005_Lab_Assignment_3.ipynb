{
  "nbformat": 4,
  "nbformat_minor": 0,
  "metadata": {
    "colab": {
      "provenance": []
    },
    "kernelspec": {
      "name": "python3",
      "display_name": "Python 3"
    },
    "language_info": {
      "name": "python"
    }
  },
  "cells": [
    {
      "cell_type": "code",
      "execution_count": 73,
      "metadata": {
        "id": "3YycISYkLyzR"
      },
      "outputs": [],
      "source": [
        "#1. Perform pre-processing and visualization of the dataset. Split the data into train and test sets. Also\n",
        "#identify the useful columns and drop the unnecessary ones\n",
        "import pandas as pd\n",
        "import numpy as np\n",
        "from sklearn.preprocessing import LabelEncoder\n",
        "from sklearn.model_selection import train_test_split as tts\n",
        "import matplotlib as plt"
      ]
    },
    {
      "cell_type": "code",
      "source": [
        "#analyzing and preprocessing the data\n",
        "data = pd.read_csv(\"/content/titanic-titanic.csv\")\n",
        "data = data.apply(pd.to_numeric, errors = \"coerce\").fillna(data)\n",
        "print(data)"
      ],
      "metadata": {
        "colab": {
          "base_uri": "https://localhost:8080/"
        },
        "id": "8lp8YYiFPVMu",
        "outputId": "42c41e1b-24db-44f7-f5b8-768c6d59ac7c"
      },
      "execution_count": 69,
      "outputs": [
        {
          "output_type": "stream",
          "name": "stdout",
          "text": [
            "     PassengerId                                               Name  Pclass  \\\n",
            "0              1                            Braund, Mr. Owen Harris       3   \n",
            "1              2  Cumings, Mrs. John Bradley (Florence Briggs Th...       1   \n",
            "2              3                             Heikkinen, Miss. Laina       3   \n",
            "3              4       Futrelle, Mrs. Jacques Heath (Lily May Peel)       1   \n",
            "4              5                           Allen, Mr. William Henry       3   \n",
            "..           ...                                                ...     ...   \n",
            "886          887                              Montvila, Rev. Juozas       2   \n",
            "887          888                       Graham, Miss. Margaret Edith       1   \n",
            "888          889           Johnston, Miss. Catherine Helen \"Carrie\"       3   \n",
            "889          890                              Behr, Mr. Karl Howell       1   \n",
            "890          891                                Dooley, Mr. Patrick       3   \n",
            "\n",
            "        Sex   Age            Ticket     Fare Cabin Embarked  Survived  \n",
            "0      male  22.0         A/5 21171     7.25   NaN        S         0  \n",
            "1    female  38.0          PC 17599  71.2833   C85        C         1  \n",
            "2    female  26.0  STON/O2. 3101282    7.925   NaN        S         1  \n",
            "3    female  35.0          113803.0     53.1  C123        S         1  \n",
            "4      male  35.0          373450.0     8.05   NaN        S         0  \n",
            "..      ...   ...               ...      ...   ...      ...       ...  \n",
            "886    male  27.0          211536.0     13.0   NaN        S         0  \n",
            "887  female  19.0          112053.0     30.0   B42        S         1  \n",
            "888  female   NaN        W./C. 6607    23.45   NaN        S         0  \n",
            "889    male  26.0          111369.0     30.0  C148        C         1  \n",
            "890    male  32.0          370376.0     7.75   NaN        Q         0  \n",
            "\n",
            "[891 rows x 10 columns]\n"
          ]
        }
      ]
    },
    {
      "cell_type": "code",
      "source": [
        "print(data.isnull().any())\n",
        "print(data.Age.isnull().sum())\n",
        "print(data.Embarked.isnull().sum())\n",
        "print(data.Cabin.isnull().sum())\n",
        "col_n = data.iloc[0]\n",
        "for i in col_n:\n",
        "  print(type(i))"
      ],
      "metadata": {
        "colab": {
          "base_uri": "https://localhost:8080/"
        },
        "id": "e667gG_nQuJZ",
        "outputId": "31cd18e7-5d1f-4d94-a835-588193d4fd76"
      },
      "execution_count": 70,
      "outputs": [
        {
          "output_type": "stream",
          "name": "stdout",
          "text": [
            "PassengerId    False\n",
            "Name           False\n",
            "Pclass         False\n",
            "Sex            False\n",
            "Age             True\n",
            "Ticket         False\n",
            "Fare           False\n",
            "Cabin           True\n",
            "Embarked        True\n",
            "Survived       False\n",
            "dtype: bool\n",
            "177\n",
            "2\n",
            "687\n",
            "<class 'numpy.int64'>\n",
            "<class 'str'>\n",
            "<class 'numpy.int64'>\n",
            "<class 'str'>\n",
            "<class 'float'>\n",
            "<class 'str'>\n",
            "<class 'float'>\n",
            "<class 'float'>\n",
            "<class 'str'>\n",
            "<class 'numpy.int64'>\n"
          ]
        }
      ]
    },
    {
      "cell_type": "markdown",
      "source": [
        "Since the cabin column has 687 out of 891 which is 77.104% of the entries missing we can safely drop this column from our dataset without any major reprucussions.\n",
        "\n",
        "Simiarly we can also drop names since all of them are different and thus the complete column is noisy and would adversely affect our dataset.\n",
        "\n",
        "We can also drop passenger Id as it is just a column which gives us serial no. which we already have from loading our dataset.\n",
        "\n",
        "Similarly we can drop ticket as we already have seperate passanger class."
      ],
      "metadata": {
        "id": "KqE3YlSPRmxJ"
      }
    },
    {
      "cell_type": "code",
      "source": [
        "data.drop(\"Cabin\",axis = 'columns',inplace = True)\n",
        "data.drop(\"Name\",axis = 'columns',inplace = True)\n",
        "data.drop(\"PassengerId\",axis = 'columns',inplace = True)\n",
        "data.drop(\"Ticket\",axis = 'columns',inplace = True)"
      ],
      "metadata": {
        "id": "0M7kMTNYSBIu"
      },
      "execution_count": 71,
      "outputs": []
    },
    {
      "cell_type": "code",
      "source": [
        "col_n = list(data.columns)\n",
        "data.Embarked.fillna(0,inplace = True)\n",
        "rows_dropped = []\n",
        "for i,row in data.iterrows():\n",
        "  if row['Embarked'] == 0:\n",
        "    rows_dropped.append(i)\n",
        "data = data.drop(list(set(rows_dropped)), axis=0, inplace=False)"
      ],
      "metadata": {
        "id": "JUMQWKwiPZuy"
      },
      "execution_count": 72,
      "outputs": []
    },
    {
      "cell_type": "code",
      "source": [
        "print(rows_dropped)"
      ],
      "metadata": {
        "colab": {
          "base_uri": "https://localhost:8080/"
        },
        "id": "IWvEE-2PceMB",
        "outputId": "277e04fd-58a1-436f-9d9c-a62dc973cacb"
      },
      "execution_count": 74,
      "outputs": [
        {
          "output_type": "stream",
          "name": "stdout",
          "text": [
            "[61, 829]\n"
          ]
        }
      ]
    },
    {
      "cell_type": "code",
      "source": [
        "data['Age'] = data.Age.fillna(data.Age.median())"
      ],
      "metadata": {
        "id": "0buCR02FhXyV"
      },
      "execution_count": 75,
      "outputs": []
    },
    {
      "cell_type": "code",
      "source": [
        "label_encode = LabelEncoder()\n",
        "labels_sex = label_encode.fit_transform(data.Sex)\n",
        "data[\"Sex\"] = labels_sex"
      ],
      "metadata": {
        "id": "uK8ruqspdggs"
      },
      "execution_count": 76,
      "outputs": []
    },
    {
      "cell_type": "code",
      "source": [
        "label_encode1 = LabelEncoder()\n",
        "labels_embarked = label_encode.fit_transform(data.Embarked)\n",
        "data[\"Embarked\"] = labels_embarked"
      ],
      "metadata": {
        "id": "SW4-9IkceUBA"
      },
      "execution_count": 77,
      "outputs": []
    },
    {
      "cell_type": "markdown",
      "source": [
        "Male ---> 1\n",
        "Female ---> 0\n",
        "Embarked: S ---> 2\n",
        "Embarked: Q ---> 1\n",
        "Embarked: C ---> 0"
      ],
      "metadata": {
        "id": "Gw-lrQN4fbQ0"
      }
    }
  ]
}