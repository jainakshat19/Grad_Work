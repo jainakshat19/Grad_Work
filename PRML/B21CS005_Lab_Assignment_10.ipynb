{
  "nbformat": 4,
  "nbformat_minor": 0,
  "metadata": {
    "colab": {
      "provenance": []
    },
    "kernelspec": {
      "name": "python3",
      "display_name": "Python 3"
    },
    "language_info": {
      "name": "python"
    }
  },
  "cells": [
    {
      "cell_type": "code",
      "execution_count": 109,
      "metadata": {
        "id": "KVuHKohVuN39"
      },
      "outputs": [],
      "source": [
        "import pandas as pd\n",
        "import numpy as np\n",
        "import sklearn\n",
        "import seaborn as sns \n",
        "from sklearn.model_selection import train_test_split as tts\n",
        "from sklearn.linear_model import LogisticRegression as LR\n",
        "from sklearn.tree import DecisionTreeRegressor as DTR\n",
        "from sklearn.tree import DecisionTreeClassifier as DTC\n",
        "from sklearn.metrics import mean_squared_error as MSE\n",
        "from sklearn.metrics import mean_absolute_error as MAE\n",
        "from sklearn.metrics import accuracy_score\n",
        "from warnings import simplefilter\n",
        "from sklearn.model_selection import cross_val_score\n",
        "import matplotlib.pyplot as plt\n",
        "from sklearn.model_selection import KFold\n",
        "from sklearn.model_selection import RepeatedKFold\n",
        "from sklearn import tree\n",
        "from sklearn import datasets\n",
        "import random\n",
        "import math\n",
        "import torch\n",
        "import torchvision\n",
        "import torchvision.datasets as datasets\n",
        "import torchvision.transforms as transforms\n",
        "from torch.utils.data import random_split\n",
        "import matplotlib.pyplot as plt\n",
        "from torch.utils.data import DataLoader\n",
        "import numpy as np\n",
        "import torch\n",
        "from torch.utils.data import random_split\n",
        "import torch.nn as nn\n",
        "import torch.optim as optim\n",
        "from tqdm import tqdm\n",
        "from sklearn.preprocessing import LabelEncoder\n",
        "from sklearn.preprocessing import StandardScaler\n",
        "from sklearn.datasets import make_moons\n",
        "from sklearn.ensemble import BaggingClassifier\n",
        "from sklearn.ensemble import RandomForestClassifier\n",
        "from sklearn.cluster import KMeans\n",
        "from yellowbrick.cluster import KElbowVisualizer\n",
        "from sklearn.inspection import DecisionBoundaryDisplay\n",
        "from sklearn.metrics import pairwise_distances\n",
        "from sklearn import metrics\n",
        "from sklearn.neighbors import KNeighborsClassifier\n",
        "from sklearn.cluster import DBSCAN\n",
        "from matplotlib.colors import ListedColormap\n",
        "from sklearn.svm import SVC\n",
        "from torch.utils.data import TensorDataset, DataLoader\n",
        "from tqdm import tqdm"
      ]
    },
    {
      "cell_type": "code",
      "source": [
        "data = pd.read_csv(\"/content/abalone.csv\",header = None)\n",
        "data"
      ],
      "metadata": {
        "colab": {
          "base_uri": "https://localhost:8080/",
          "height": 424
        },
        "id": "x_iRZj2GvRGs",
        "outputId": "bebf52a7-30ed-42b7-9d54-cf6efcde91b2"
      },
      "execution_count": 110,
      "outputs": [
        {
          "output_type": "execute_result",
          "data": {
            "text/plain": [
              "      0      1      2      3       4       5       6       7   8\n",
              "0     M  0.455  0.365  0.095  0.5140  0.2245  0.1010  0.1500  15\n",
              "1     M  0.350  0.265  0.090  0.2255  0.0995  0.0485  0.0700   7\n",
              "2     F  0.530  0.420  0.135  0.6770  0.2565  0.1415  0.2100   9\n",
              "3     M  0.440  0.365  0.125  0.5160  0.2155  0.1140  0.1550  10\n",
              "4     I  0.330  0.255  0.080  0.2050  0.0895  0.0395  0.0550   7\n",
              "...  ..    ...    ...    ...     ...     ...     ...     ...  ..\n",
              "4172  F  0.565  0.450  0.165  0.8870  0.3700  0.2390  0.2490  11\n",
              "4173  M  0.590  0.440  0.135  0.9660  0.4390  0.2145  0.2605  10\n",
              "4174  M  0.600  0.475  0.205  1.1760  0.5255  0.2875  0.3080   9\n",
              "4175  F  0.625  0.485  0.150  1.0945  0.5310  0.2610  0.2960  10\n",
              "4176  M  0.710  0.555  0.195  1.9485  0.9455  0.3765  0.4950  12\n",
              "\n",
              "[4177 rows x 9 columns]"
            ],
            "text/html": [
              "\n",
              "  <div id=\"df-a825e1f8-f150-4980-8736-79e627494054\">\n",
              "    <div class=\"colab-df-container\">\n",
              "      <div>\n",
              "<style scoped>\n",
              "    .dataframe tbody tr th:only-of-type {\n",
              "        vertical-align: middle;\n",
              "    }\n",
              "\n",
              "    .dataframe tbody tr th {\n",
              "        vertical-align: top;\n",
              "    }\n",
              "\n",
              "    .dataframe thead th {\n",
              "        text-align: right;\n",
              "    }\n",
              "</style>\n",
              "<table border=\"1\" class=\"dataframe\">\n",
              "  <thead>\n",
              "    <tr style=\"text-align: right;\">\n",
              "      <th></th>\n",
              "      <th>0</th>\n",
              "      <th>1</th>\n",
              "      <th>2</th>\n",
              "      <th>3</th>\n",
              "      <th>4</th>\n",
              "      <th>5</th>\n",
              "      <th>6</th>\n",
              "      <th>7</th>\n",
              "      <th>8</th>\n",
              "    </tr>\n",
              "  </thead>\n",
              "  <tbody>\n",
              "    <tr>\n",
              "      <th>0</th>\n",
              "      <td>M</td>\n",
              "      <td>0.455</td>\n",
              "      <td>0.365</td>\n",
              "      <td>0.095</td>\n",
              "      <td>0.5140</td>\n",
              "      <td>0.2245</td>\n",
              "      <td>0.1010</td>\n",
              "      <td>0.1500</td>\n",
              "      <td>15</td>\n",
              "    </tr>\n",
              "    <tr>\n",
              "      <th>1</th>\n",
              "      <td>M</td>\n",
              "      <td>0.350</td>\n",
              "      <td>0.265</td>\n",
              "      <td>0.090</td>\n",
              "      <td>0.2255</td>\n",
              "      <td>0.0995</td>\n",
              "      <td>0.0485</td>\n",
              "      <td>0.0700</td>\n",
              "      <td>7</td>\n",
              "    </tr>\n",
              "    <tr>\n",
              "      <th>2</th>\n",
              "      <td>F</td>\n",
              "      <td>0.530</td>\n",
              "      <td>0.420</td>\n",
              "      <td>0.135</td>\n",
              "      <td>0.6770</td>\n",
              "      <td>0.2565</td>\n",
              "      <td>0.1415</td>\n",
              "      <td>0.2100</td>\n",
              "      <td>9</td>\n",
              "    </tr>\n",
              "    <tr>\n",
              "      <th>3</th>\n",
              "      <td>M</td>\n",
              "      <td>0.440</td>\n",
              "      <td>0.365</td>\n",
              "      <td>0.125</td>\n",
              "      <td>0.5160</td>\n",
              "      <td>0.2155</td>\n",
              "      <td>0.1140</td>\n",
              "      <td>0.1550</td>\n",
              "      <td>10</td>\n",
              "    </tr>\n",
              "    <tr>\n",
              "      <th>4</th>\n",
              "      <td>I</td>\n",
              "      <td>0.330</td>\n",
              "      <td>0.255</td>\n",
              "      <td>0.080</td>\n",
              "      <td>0.2050</td>\n",
              "      <td>0.0895</td>\n",
              "      <td>0.0395</td>\n",
              "      <td>0.0550</td>\n",
              "      <td>7</td>\n",
              "    </tr>\n",
              "    <tr>\n",
              "      <th>...</th>\n",
              "      <td>...</td>\n",
              "      <td>...</td>\n",
              "      <td>...</td>\n",
              "      <td>...</td>\n",
              "      <td>...</td>\n",
              "      <td>...</td>\n",
              "      <td>...</td>\n",
              "      <td>...</td>\n",
              "      <td>...</td>\n",
              "    </tr>\n",
              "    <tr>\n",
              "      <th>4172</th>\n",
              "      <td>F</td>\n",
              "      <td>0.565</td>\n",
              "      <td>0.450</td>\n",
              "      <td>0.165</td>\n",
              "      <td>0.8870</td>\n",
              "      <td>0.3700</td>\n",
              "      <td>0.2390</td>\n",
              "      <td>0.2490</td>\n",
              "      <td>11</td>\n",
              "    </tr>\n",
              "    <tr>\n",
              "      <th>4173</th>\n",
              "      <td>M</td>\n",
              "      <td>0.590</td>\n",
              "      <td>0.440</td>\n",
              "      <td>0.135</td>\n",
              "      <td>0.9660</td>\n",
              "      <td>0.4390</td>\n",
              "      <td>0.2145</td>\n",
              "      <td>0.2605</td>\n",
              "      <td>10</td>\n",
              "    </tr>\n",
              "    <tr>\n",
              "      <th>4174</th>\n",
              "      <td>M</td>\n",
              "      <td>0.600</td>\n",
              "      <td>0.475</td>\n",
              "      <td>0.205</td>\n",
              "      <td>1.1760</td>\n",
              "      <td>0.5255</td>\n",
              "      <td>0.2875</td>\n",
              "      <td>0.3080</td>\n",
              "      <td>9</td>\n",
              "    </tr>\n",
              "    <tr>\n",
              "      <th>4175</th>\n",
              "      <td>F</td>\n",
              "      <td>0.625</td>\n",
              "      <td>0.485</td>\n",
              "      <td>0.150</td>\n",
              "      <td>1.0945</td>\n",
              "      <td>0.5310</td>\n",
              "      <td>0.2610</td>\n",
              "      <td>0.2960</td>\n",
              "      <td>10</td>\n",
              "    </tr>\n",
              "    <tr>\n",
              "      <th>4176</th>\n",
              "      <td>M</td>\n",
              "      <td>0.710</td>\n",
              "      <td>0.555</td>\n",
              "      <td>0.195</td>\n",
              "      <td>1.9485</td>\n",
              "      <td>0.9455</td>\n",
              "      <td>0.3765</td>\n",
              "      <td>0.4950</td>\n",
              "      <td>12</td>\n",
              "    </tr>\n",
              "  </tbody>\n",
              "</table>\n",
              "<p>4177 rows × 9 columns</p>\n",
              "</div>\n",
              "      <button class=\"colab-df-convert\" onclick=\"convertToInteractive('df-a825e1f8-f150-4980-8736-79e627494054')\"\n",
              "              title=\"Convert this dataframe to an interactive table.\"\n",
              "              style=\"display:none;\">\n",
              "        \n",
              "  <svg xmlns=\"http://www.w3.org/2000/svg\" height=\"24px\"viewBox=\"0 0 24 24\"\n",
              "       width=\"24px\">\n",
              "    <path d=\"M0 0h24v24H0V0z\" fill=\"none\"/>\n",
              "    <path d=\"M18.56 5.44l.94 2.06.94-2.06 2.06-.94-2.06-.94-.94-2.06-.94 2.06-2.06.94zm-11 1L8.5 8.5l.94-2.06 2.06-.94-2.06-.94L8.5 2.5l-.94 2.06-2.06.94zm10 10l.94 2.06.94-2.06 2.06-.94-2.06-.94-.94-2.06-.94 2.06-2.06.94z\"/><path d=\"M17.41 7.96l-1.37-1.37c-.4-.4-.92-.59-1.43-.59-.52 0-1.04.2-1.43.59L10.3 9.45l-7.72 7.72c-.78.78-.78 2.05 0 2.83L4 21.41c.39.39.9.59 1.41.59.51 0 1.02-.2 1.41-.59l7.78-7.78 2.81-2.81c.8-.78.8-2.07 0-2.86zM5.41 20L4 18.59l7.72-7.72 1.47 1.35L5.41 20z\"/>\n",
              "  </svg>\n",
              "      </button>\n",
              "      \n",
              "  <style>\n",
              "    .colab-df-container {\n",
              "      display:flex;\n",
              "      flex-wrap:wrap;\n",
              "      gap: 12px;\n",
              "    }\n",
              "\n",
              "    .colab-df-convert {\n",
              "      background-color: #E8F0FE;\n",
              "      border: none;\n",
              "      border-radius: 50%;\n",
              "      cursor: pointer;\n",
              "      display: none;\n",
              "      fill: #1967D2;\n",
              "      height: 32px;\n",
              "      padding: 0 0 0 0;\n",
              "      width: 32px;\n",
              "    }\n",
              "\n",
              "    .colab-df-convert:hover {\n",
              "      background-color: #E2EBFA;\n",
              "      box-shadow: 0px 1px 2px rgba(60, 64, 67, 0.3), 0px 1px 3px 1px rgba(60, 64, 67, 0.15);\n",
              "      fill: #174EA6;\n",
              "    }\n",
              "\n",
              "    [theme=dark] .colab-df-convert {\n",
              "      background-color: #3B4455;\n",
              "      fill: #D2E3FC;\n",
              "    }\n",
              "\n",
              "    [theme=dark] .colab-df-convert:hover {\n",
              "      background-color: #434B5C;\n",
              "      box-shadow: 0px 1px 3px 1px rgba(0, 0, 0, 0.15);\n",
              "      filter: drop-shadow(0px 1px 2px rgba(0, 0, 0, 0.3));\n",
              "      fill: #FFFFFF;\n",
              "    }\n",
              "  </style>\n",
              "\n",
              "      <script>\n",
              "        const buttonEl =\n",
              "          document.querySelector('#df-a825e1f8-f150-4980-8736-79e627494054 button.colab-df-convert');\n",
              "        buttonEl.style.display =\n",
              "          google.colab.kernel.accessAllowed ? 'block' : 'none';\n",
              "\n",
              "        async function convertToInteractive(key) {\n",
              "          const element = document.querySelector('#df-a825e1f8-f150-4980-8736-79e627494054');\n",
              "          const dataTable =\n",
              "            await google.colab.kernel.invokeFunction('convertToInteractive',\n",
              "                                                     [key], {});\n",
              "          if (!dataTable) return;\n",
              "\n",
              "          const docLinkHtml = 'Like what you see? Visit the ' +\n",
              "            '<a target=\"_blank\" href=https://colab.research.google.com/notebooks/data_table.ipynb>data table notebook</a>'\n",
              "            + ' to learn more about interactive tables.';\n",
              "          element.innerHTML = '';\n",
              "          dataTable['output_type'] = 'display_data';\n",
              "          await google.colab.output.renderOutput(dataTable, element);\n",
              "          const docLink = document.createElement('div');\n",
              "          docLink.innerHTML = docLinkHtml;\n",
              "          element.appendChild(docLink);\n",
              "        }\n",
              "      </script>\n",
              "    </div>\n",
              "  </div>\n",
              "  "
            ]
          },
          "metadata": {},
          "execution_count": 110
        }
      ]
    },
    {
      "cell_type": "code",
      "source": [
        "data.isna().sum()"
      ],
      "metadata": {
        "colab": {
          "base_uri": "https://localhost:8080/"
        },
        "id": "KBFXo-xGvV4r",
        "outputId": "c3227fb9-867d-4d25-c7d1-94b39e688e58"
      },
      "execution_count": 111,
      "outputs": [
        {
          "output_type": "execute_result",
          "data": {
            "text/plain": [
              "0    0\n",
              "1    0\n",
              "2    0\n",
              "3    0\n",
              "4    0\n",
              "5    0\n",
              "6    0\n",
              "7    0\n",
              "8    0\n",
              "dtype: int64"
            ]
          },
          "metadata": {},
          "execution_count": 111
        }
      ]
    },
    {
      "cell_type": "code",
      "source": [
        "data.isnull().sum()"
      ],
      "metadata": {
        "colab": {
          "base_uri": "https://localhost:8080/"
        },
        "id": "Nhz80aXfvYut",
        "outputId": "2de7cad7-ed59-4e3b-b9cc-3aec15f6e236"
      },
      "execution_count": 112,
      "outputs": [
        {
          "output_type": "execute_result",
          "data": {
            "text/plain": [
              "0    0\n",
              "1    0\n",
              "2    0\n",
              "3    0\n",
              "4    0\n",
              "5    0\n",
              "6    0\n",
              "7    0\n",
              "8    0\n",
              "dtype: int64"
            ]
          },
          "metadata": {},
          "execution_count": 112
        }
      ]
    },
    {
      "cell_type": "code",
      "source": [
        "label = LabelEncoder()\n",
        "data[0] = label.fit_transform(data[0])\n",
        "print(data)"
      ],
      "metadata": {
        "colab": {
          "base_uri": "https://localhost:8080/"
        },
        "id": "v2CW1lSMva48",
        "outputId": "ae1df6f2-c43d-461e-cc51-3087f121ee96"
      },
      "execution_count": 113,
      "outputs": [
        {
          "output_type": "stream",
          "name": "stdout",
          "text": [
            "      0      1      2      3       4       5       6       7   8\n",
            "0     2  0.455  0.365  0.095  0.5140  0.2245  0.1010  0.1500  15\n",
            "1     2  0.350  0.265  0.090  0.2255  0.0995  0.0485  0.0700   7\n",
            "2     0  0.530  0.420  0.135  0.6770  0.2565  0.1415  0.2100   9\n",
            "3     2  0.440  0.365  0.125  0.5160  0.2155  0.1140  0.1550  10\n",
            "4     1  0.330  0.255  0.080  0.2050  0.0895  0.0395  0.0550   7\n",
            "...  ..    ...    ...    ...     ...     ...     ...     ...  ..\n",
            "4172  0  0.565  0.450  0.165  0.8870  0.3700  0.2390  0.2490  11\n",
            "4173  2  0.590  0.440  0.135  0.9660  0.4390  0.2145  0.2605  10\n",
            "4174  2  0.600  0.475  0.205  1.1760  0.5255  0.2875  0.3080   9\n",
            "4175  0  0.625  0.485  0.150  1.0945  0.5310  0.2610  0.2960  10\n",
            "4176  2  0.710  0.555  0.195  1.9485  0.9455  0.3765  0.4950  12\n",
            "\n",
            "[4177 rows x 9 columns]\n"
          ]
        }
      ]
    },
    {
      "cell_type": "code",
      "source": [
        "print(data[8].value_counts())"
      ],
      "metadata": {
        "colab": {
          "base_uri": "https://localhost:8080/"
        },
        "id": "UtLuji_wvcgT",
        "outputId": "5eaf8940-0fe0-4dc6-8370-7f6244c96808"
      },
      "execution_count": 114,
      "outputs": [
        {
          "output_type": "stream",
          "name": "stdout",
          "text": [
            "9     689\n",
            "10    634\n",
            "8     568\n",
            "11    487\n",
            "7     391\n",
            "12    267\n",
            "6     259\n",
            "13    203\n",
            "14    126\n",
            "5     115\n",
            "15    103\n",
            "16     67\n",
            "17     58\n",
            "4      57\n",
            "18     42\n",
            "19     32\n",
            "20     26\n",
            "3      15\n",
            "21     14\n",
            "23      9\n",
            "22      6\n",
            "27      2\n",
            "24      2\n",
            "1       1\n",
            "26      1\n",
            "29      1\n",
            "2       1\n",
            "25      1\n",
            "Name: 8, dtype: int64\n"
          ]
        }
      ]
    },
    {
      "cell_type": "code",
      "source": [
        "count = 0\n",
        "cumil_arr = []\n",
        "for j in range(30):\n",
        "  for i in range(len(data)):  \n",
        "    if data.iloc[i,8] == j:\n",
        "      count += 1\n",
        "  cumil_arr.append(count)"
      ],
      "metadata": {
        "id": "wb4UwX5Uvg1A"
      },
      "execution_count": 115,
      "outputs": []
    },
    {
      "cell_type": "code",
      "source": [
        "print(cumil_arr)"
      ],
      "metadata": {
        "colab": {
          "base_uri": "https://localhost:8080/"
        },
        "id": "w8OPVWKCviyF",
        "outputId": "6e1361a4-14ef-4440-9989-f4cc5cfb41c4"
      },
      "execution_count": 116,
      "outputs": [
        {
          "output_type": "stream",
          "name": "stdout",
          "text": [
            "[0, 1, 2, 17, 74, 189, 448, 839, 1407, 2096, 2730, 3217, 3484, 3687, 3813, 3916, 3983, 4041, 4083, 4115, 4141, 4155, 4161, 4170, 4172, 4173, 4174, 4176, 4176, 4177]\n"
          ]
        }
      ]
    },
    {
      "cell_type": "code",
      "source": [
        "data[9] = data[8]\n",
        "for i in range(len(data)):\n",
        "  if data.iloc[i,8] <= 8:\n",
        "    data.iloc[i,9] = 0\n",
        "  elif data.iloc[i,8] <= 10:\n",
        "    data.iloc[i,9] = 1\n",
        "  else:\n",
        "    data.iloc[i,9] = 2"
      ],
      "metadata": {
        "id": "t7lV3fVKvlrW"
      },
      "execution_count": 117,
      "outputs": []
    },
    {
      "cell_type": "code",
      "source": [
        "data"
      ],
      "metadata": {
        "colab": {
          "base_uri": "https://localhost:8080/",
          "height": 424
        },
        "id": "v5AOlsUOvnap",
        "outputId": "a3bfbb98-c4df-455f-f197-6cda244b2749"
      },
      "execution_count": 118,
      "outputs": [
        {
          "output_type": "execute_result",
          "data": {
            "text/plain": [
              "      0      1      2      3       4       5       6       7   8  9\n",
              "0     2  0.455  0.365  0.095  0.5140  0.2245  0.1010  0.1500  15  2\n",
              "1     2  0.350  0.265  0.090  0.2255  0.0995  0.0485  0.0700   7  0\n",
              "2     0  0.530  0.420  0.135  0.6770  0.2565  0.1415  0.2100   9  1\n",
              "3     2  0.440  0.365  0.125  0.5160  0.2155  0.1140  0.1550  10  1\n",
              "4     1  0.330  0.255  0.080  0.2050  0.0895  0.0395  0.0550   7  0\n",
              "...  ..    ...    ...    ...     ...     ...     ...     ...  .. ..\n",
              "4172  0  0.565  0.450  0.165  0.8870  0.3700  0.2390  0.2490  11  2\n",
              "4173  2  0.590  0.440  0.135  0.9660  0.4390  0.2145  0.2605  10  1\n",
              "4174  2  0.600  0.475  0.205  1.1760  0.5255  0.2875  0.3080   9  1\n",
              "4175  0  0.625  0.485  0.150  1.0945  0.5310  0.2610  0.2960  10  1\n",
              "4176  2  0.710  0.555  0.195  1.9485  0.9455  0.3765  0.4950  12  2\n",
              "\n",
              "[4177 rows x 10 columns]"
            ],
            "text/html": [
              "\n",
              "  <div id=\"df-506d5436-9441-4179-8070-53740b06fefe\">\n",
              "    <div class=\"colab-df-container\">\n",
              "      <div>\n",
              "<style scoped>\n",
              "    .dataframe tbody tr th:only-of-type {\n",
              "        vertical-align: middle;\n",
              "    }\n",
              "\n",
              "    .dataframe tbody tr th {\n",
              "        vertical-align: top;\n",
              "    }\n",
              "\n",
              "    .dataframe thead th {\n",
              "        text-align: right;\n",
              "    }\n",
              "</style>\n",
              "<table border=\"1\" class=\"dataframe\">\n",
              "  <thead>\n",
              "    <tr style=\"text-align: right;\">\n",
              "      <th></th>\n",
              "      <th>0</th>\n",
              "      <th>1</th>\n",
              "      <th>2</th>\n",
              "      <th>3</th>\n",
              "      <th>4</th>\n",
              "      <th>5</th>\n",
              "      <th>6</th>\n",
              "      <th>7</th>\n",
              "      <th>8</th>\n",
              "      <th>9</th>\n",
              "    </tr>\n",
              "  </thead>\n",
              "  <tbody>\n",
              "    <tr>\n",
              "      <th>0</th>\n",
              "      <td>2</td>\n",
              "      <td>0.455</td>\n",
              "      <td>0.365</td>\n",
              "      <td>0.095</td>\n",
              "      <td>0.5140</td>\n",
              "      <td>0.2245</td>\n",
              "      <td>0.1010</td>\n",
              "      <td>0.1500</td>\n",
              "      <td>15</td>\n",
              "      <td>2</td>\n",
              "    </tr>\n",
              "    <tr>\n",
              "      <th>1</th>\n",
              "      <td>2</td>\n",
              "      <td>0.350</td>\n",
              "      <td>0.265</td>\n",
              "      <td>0.090</td>\n",
              "      <td>0.2255</td>\n",
              "      <td>0.0995</td>\n",
              "      <td>0.0485</td>\n",
              "      <td>0.0700</td>\n",
              "      <td>7</td>\n",
              "      <td>0</td>\n",
              "    </tr>\n",
              "    <tr>\n",
              "      <th>2</th>\n",
              "      <td>0</td>\n",
              "      <td>0.530</td>\n",
              "      <td>0.420</td>\n",
              "      <td>0.135</td>\n",
              "      <td>0.6770</td>\n",
              "      <td>0.2565</td>\n",
              "      <td>0.1415</td>\n",
              "      <td>0.2100</td>\n",
              "      <td>9</td>\n",
              "      <td>1</td>\n",
              "    </tr>\n",
              "    <tr>\n",
              "      <th>3</th>\n",
              "      <td>2</td>\n",
              "      <td>0.440</td>\n",
              "      <td>0.365</td>\n",
              "      <td>0.125</td>\n",
              "      <td>0.5160</td>\n",
              "      <td>0.2155</td>\n",
              "      <td>0.1140</td>\n",
              "      <td>0.1550</td>\n",
              "      <td>10</td>\n",
              "      <td>1</td>\n",
              "    </tr>\n",
              "    <tr>\n",
              "      <th>4</th>\n",
              "      <td>1</td>\n",
              "      <td>0.330</td>\n",
              "      <td>0.255</td>\n",
              "      <td>0.080</td>\n",
              "      <td>0.2050</td>\n",
              "      <td>0.0895</td>\n",
              "      <td>0.0395</td>\n",
              "      <td>0.0550</td>\n",
              "      <td>7</td>\n",
              "      <td>0</td>\n",
              "    </tr>\n",
              "    <tr>\n",
              "      <th>...</th>\n",
              "      <td>...</td>\n",
              "      <td>...</td>\n",
              "      <td>...</td>\n",
              "      <td>...</td>\n",
              "      <td>...</td>\n",
              "      <td>...</td>\n",
              "      <td>...</td>\n",
              "      <td>...</td>\n",
              "      <td>...</td>\n",
              "      <td>...</td>\n",
              "    </tr>\n",
              "    <tr>\n",
              "      <th>4172</th>\n",
              "      <td>0</td>\n",
              "      <td>0.565</td>\n",
              "      <td>0.450</td>\n",
              "      <td>0.165</td>\n",
              "      <td>0.8870</td>\n",
              "      <td>0.3700</td>\n",
              "      <td>0.2390</td>\n",
              "      <td>0.2490</td>\n",
              "      <td>11</td>\n",
              "      <td>2</td>\n",
              "    </tr>\n",
              "    <tr>\n",
              "      <th>4173</th>\n",
              "      <td>2</td>\n",
              "      <td>0.590</td>\n",
              "      <td>0.440</td>\n",
              "      <td>0.135</td>\n",
              "      <td>0.9660</td>\n",
              "      <td>0.4390</td>\n",
              "      <td>0.2145</td>\n",
              "      <td>0.2605</td>\n",
              "      <td>10</td>\n",
              "      <td>1</td>\n",
              "    </tr>\n",
              "    <tr>\n",
              "      <th>4174</th>\n",
              "      <td>2</td>\n",
              "      <td>0.600</td>\n",
              "      <td>0.475</td>\n",
              "      <td>0.205</td>\n",
              "      <td>1.1760</td>\n",
              "      <td>0.5255</td>\n",
              "      <td>0.2875</td>\n",
              "      <td>0.3080</td>\n",
              "      <td>9</td>\n",
              "      <td>1</td>\n",
              "    </tr>\n",
              "    <tr>\n",
              "      <th>4175</th>\n",
              "      <td>0</td>\n",
              "      <td>0.625</td>\n",
              "      <td>0.485</td>\n",
              "      <td>0.150</td>\n",
              "      <td>1.0945</td>\n",
              "      <td>0.5310</td>\n",
              "      <td>0.2610</td>\n",
              "      <td>0.2960</td>\n",
              "      <td>10</td>\n",
              "      <td>1</td>\n",
              "    </tr>\n",
              "    <tr>\n",
              "      <th>4176</th>\n",
              "      <td>2</td>\n",
              "      <td>0.710</td>\n",
              "      <td>0.555</td>\n",
              "      <td>0.195</td>\n",
              "      <td>1.9485</td>\n",
              "      <td>0.9455</td>\n",
              "      <td>0.3765</td>\n",
              "      <td>0.4950</td>\n",
              "      <td>12</td>\n",
              "      <td>2</td>\n",
              "    </tr>\n",
              "  </tbody>\n",
              "</table>\n",
              "<p>4177 rows × 10 columns</p>\n",
              "</div>\n",
              "      <button class=\"colab-df-convert\" onclick=\"convertToInteractive('df-506d5436-9441-4179-8070-53740b06fefe')\"\n",
              "              title=\"Convert this dataframe to an interactive table.\"\n",
              "              style=\"display:none;\">\n",
              "        \n",
              "  <svg xmlns=\"http://www.w3.org/2000/svg\" height=\"24px\"viewBox=\"0 0 24 24\"\n",
              "       width=\"24px\">\n",
              "    <path d=\"M0 0h24v24H0V0z\" fill=\"none\"/>\n",
              "    <path d=\"M18.56 5.44l.94 2.06.94-2.06 2.06-.94-2.06-.94-.94-2.06-.94 2.06-2.06.94zm-11 1L8.5 8.5l.94-2.06 2.06-.94-2.06-.94L8.5 2.5l-.94 2.06-2.06.94zm10 10l.94 2.06.94-2.06 2.06-.94-2.06-.94-.94-2.06-.94 2.06-2.06.94z\"/><path d=\"M17.41 7.96l-1.37-1.37c-.4-.4-.92-.59-1.43-.59-.52 0-1.04.2-1.43.59L10.3 9.45l-7.72 7.72c-.78.78-.78 2.05 0 2.83L4 21.41c.39.39.9.59 1.41.59.51 0 1.02-.2 1.41-.59l7.78-7.78 2.81-2.81c.8-.78.8-2.07 0-2.86zM5.41 20L4 18.59l7.72-7.72 1.47 1.35L5.41 20z\"/>\n",
              "  </svg>\n",
              "      </button>\n",
              "      \n",
              "  <style>\n",
              "    .colab-df-container {\n",
              "      display:flex;\n",
              "      flex-wrap:wrap;\n",
              "      gap: 12px;\n",
              "    }\n",
              "\n",
              "    .colab-df-convert {\n",
              "      background-color: #E8F0FE;\n",
              "      border: none;\n",
              "      border-radius: 50%;\n",
              "      cursor: pointer;\n",
              "      display: none;\n",
              "      fill: #1967D2;\n",
              "      height: 32px;\n",
              "      padding: 0 0 0 0;\n",
              "      width: 32px;\n",
              "    }\n",
              "\n",
              "    .colab-df-convert:hover {\n",
              "      background-color: #E2EBFA;\n",
              "      box-shadow: 0px 1px 2px rgba(60, 64, 67, 0.3), 0px 1px 3px 1px rgba(60, 64, 67, 0.15);\n",
              "      fill: #174EA6;\n",
              "    }\n",
              "\n",
              "    [theme=dark] .colab-df-convert {\n",
              "      background-color: #3B4455;\n",
              "      fill: #D2E3FC;\n",
              "    }\n",
              "\n",
              "    [theme=dark] .colab-df-convert:hover {\n",
              "      background-color: #434B5C;\n",
              "      box-shadow: 0px 1px 3px 1px rgba(0, 0, 0, 0.15);\n",
              "      filter: drop-shadow(0px 1px 2px rgba(0, 0, 0, 0.3));\n",
              "      fill: #FFFFFF;\n",
              "    }\n",
              "  </style>\n",
              "\n",
              "      <script>\n",
              "        const buttonEl =\n",
              "          document.querySelector('#df-506d5436-9441-4179-8070-53740b06fefe button.colab-df-convert');\n",
              "        buttonEl.style.display =\n",
              "          google.colab.kernel.accessAllowed ? 'block' : 'none';\n",
              "\n",
              "        async function convertToInteractive(key) {\n",
              "          const element = document.querySelector('#df-506d5436-9441-4179-8070-53740b06fefe');\n",
              "          const dataTable =\n",
              "            await google.colab.kernel.invokeFunction('convertToInteractive',\n",
              "                                                     [key], {});\n",
              "          if (!dataTable) return;\n",
              "\n",
              "          const docLinkHtml = 'Like what you see? Visit the ' +\n",
              "            '<a target=\"_blank\" href=https://colab.research.google.com/notebooks/data_table.ipynb>data table notebook</a>'\n",
              "            + ' to learn more about interactive tables.';\n",
              "          element.innerHTML = '';\n",
              "          dataTable['output_type'] = 'display_data';\n",
              "          await google.colab.output.renderOutput(dataTable, element);\n",
              "          const docLink = document.createElement('div');\n",
              "          docLink.innerHTML = docLinkHtml;\n",
              "          element.appendChild(docLink);\n",
              "        }\n",
              "      </script>\n",
              "    </div>\n",
              "  </div>\n",
              "  "
            ]
          },
          "metadata": {},
          "execution_count": 118
        }
      ]
    },
    {
      "cell_type": "code",
      "source": [
        "\n",
        "print(data[9].value_counts())"
      ],
      "metadata": {
        "colab": {
          "base_uri": "https://localhost:8080/"
        },
        "id": "44hYXqNrvpPx",
        "outputId": "c5ccb867-0e72-4503-aa6c-7e1bf85f2501"
      },
      "execution_count": 119,
      "outputs": [
        {
          "output_type": "stream",
          "name": "stdout",
          "text": [
            "2    1447\n",
            "0    1407\n",
            "1    1323\n",
            "Name: 9, dtype: int64\n"
          ]
        }
      ]
    },
    {
      "cell_type": "code",
      "source": [
        "Y = data[9].astype(int)\n",
        "X = data.drop([8,9],axis = 'columns')\n",
        "user_prompt = 0.35\n",
        "user_enable = True\n",
        "x_train,x_test,y_train,y_test = tts(X,Y,test_size=user_prompt,shuffle=user_enable,stratify = Y)"
      ],
      "metadata": {
        "id": "iu-GGNpxvr8W"
      },
      "execution_count": 120,
      "outputs": []
    },
    {
      "cell_type": "code",
      "source": [
        "print(y_train.value_counts())\n",
        "print(y_test.value_counts())"
      ],
      "metadata": {
        "colab": {
          "base_uri": "https://localhost:8080/"
        },
        "id": "7yTtFUwhvtwK",
        "outputId": "a0e66c9a-72e1-406e-e27b-7d6dbc2dce0d"
      },
      "execution_count": 121,
      "outputs": [
        {
          "output_type": "stream",
          "name": "stdout",
          "text": [
            "2    940\n",
            "0    915\n",
            "1    860\n",
            "Name: 9, dtype: int64\n",
            "2    507\n",
            "0    492\n",
            "1    463\n",
            "Name: 9, dtype: int64\n"
          ]
        }
      ]
    },
    {
      "cell_type": "code",
      "source": [
        "x_train = np.array(x_train)\n",
        "y_train = np.array(y_train)\n"
      ],
      "metadata": {
        "id": "NBknE1LCvw2k"
      },
      "execution_count": 122,
      "outputs": []
    },
    {
      "cell_type": "code",
      "source": [
        "x_test = np.array(x_test)\n",
        "y_test = np.array(y_test)"
      ],
      "metadata": {
        "id": "WbJMPtL8v3c8"
      },
      "execution_count": 123,
      "outputs": []
    },
    {
      "cell_type": "code",
      "source": [
        "# Define the network\n",
        "class MyNet(nn.Module):\n",
        "    def __init__(self, input_size, hidden_size, num_classes):\n",
        "        super(MyNet, self).__init__()\n",
        "        self.hidden1 = nn.Linear(input_size, hidden_size)\n",
        "        self.hidden2 = nn.Linear(input_size, hidden_size)\n",
        "        self.output = nn.Linear(hidden_size, num_classes)\n",
        "        \n",
        "    def forward(self, x):\n",
        "        x1 = self.hidden1(x)\n",
        "        x1 = nn.functional.tanh(x1)\n",
        "        \n",
        "        x2 = self.hidden2(x)\n",
        "        x2 = nn.functional.tanh(x2)\n",
        "        \n",
        "        x = torch.add(x1,x2)\n",
        "        x = self.output(x)\n",
        "        x = nn.functional.softmax(x, dim=1)\n",
        "        return x"
      ],
      "metadata": {
        "id": "QannkL0e15Ju"
      },
      "execution_count": 124,
      "outputs": []
    },
    {
      "cell_type": "code",
      "source": [
        "import torch\n",
        "import torch.nn as nn\n",
        "import torch.optim as optim\n",
        "from sklearn.model_selection import train_test_split\n",
        "\n",
        "\n",
        "X_train, X_val, y_train, y_val = train_test_split(x_train, y_train, test_size=0.2, random_state=42)\n",
        "\n",
        "\n",
        "X_train = torch.from_numpy(X_train).float()\n",
        "y_train = torch.from_numpy(y_train).long()\n",
        "X_val = torch.from_numpy(X_val).float()\n",
        "y_val = torch.from_numpy(y_val).long()\n",
        "X_test = torch.from_numpy(x_test).float()\n",
        "y_test = torch.from_numpy(y_test).long()\n",
        "\n",
        "trainset = TensorDataset(X_train, y_train)\n",
        "valset = TensorDataset(X_val, y_val)\n",
        "testset = TensorDataset(X_train, y_train)\n",
        "\n",
        "batch_size = 16\n",
        "trainloader = DataLoader(trainset, batch_size=batch_size, shuffle=True)\n",
        "valloader = DataLoader(valset, batch_size=batch_size, shuffle=True)\n",
        "testloader = DataLoader(testset, batch_size=batch_size, shuffle=True)\n",
        "\n",
        "input_size = X_train.shape[1]\n",
        "hidden_size = 32\n",
        "num_classes = np.unique(y_train).shape[0]\n",
        "learning_rate = 0.01\n",
        "num_epochs = 1000\n",
        "\n",
        "net = MyNet(input_size, hidden_size, num_classes)\n",
        "optimizer = optim.Adam(net.parameters(), lr=learning_rate)\n",
        "\n",
        "criterion = nn.CrossEntropyLoss()\n",
        "\n"
      ],
      "metadata": {
        "id": "UglDycyf11Co"
      },
      "execution_count": 125,
      "outputs": []
    },
    {
      "cell_type": "code",
      "source": [
        "best_model = None\n",
        "best_val_accuracy = 0.0\n",
        "history = {'train_loss': [], 'train_acc': [], 'val_loss': [], 'val_acc': []}\n",
        "\n",
        "for epoch in range(num_epochs):\n",
        "    train_loss = 0.0\n",
        "    train_accuracy = 0.0\n",
        "    valid_loss = 0.0\n",
        "    valid_accuracy = 0.0\n",
        "\n",
        "    net.train()\n",
        "\n",
        "    for inputs, targets in tqdm(trainloader, desc=f\"Epoch {epoch+1} Training\"):\n",
        "        optimizer.zero_grad()\n",
        "        outputs = net(inputs)\n",
        "        loss = criterion(outputs, targets)\n",
        "        loss.backward()\n",
        "        optimizer.step()\n",
        "        train_loss += loss.item() * inputs.size(0)\n",
        "        _, predicted = torch.max(outputs.data, 1)\n",
        "        train_accuracy += (predicted == targets).sum().item()\n",
        "    train_loss /= len(trainloader.dataset)\n",
        "    train_accuracy /= len(trainloader.dataset)\n",
        "    net.eval()\n",
        "    for inputs, targets in tqdm(valloader, desc=f\"Epoch {epoch+1} Validation\"):\n",
        "        outputs = net(inputs)\n",
        "        loss = criterion(outputs, targets)\n",
        "        valid_loss += loss.item() * inputs.size(0)\n",
        "        _, predicted = torch.max(outputs.data, 1)\n",
        "        valid_accuracy += (predicted == targets).sum().item()\n",
        "    valid_loss /= len(valloader.dataset)\n",
        "    valid_accuracy /= len(valloader.dataset)\n",
        "    print(f\"Epoch {epoch+1} Training Loss: {train_loss:.4f}, Accuracy: {train_accuracy:.4f}\")\n",
        "    print(f\"Epoch {epoch+1} Validation Loss: {valid_loss:.4f}, Accuracy: {valid_accuracy:.4f}\")\n",
        "    if valid_accuracy > best_val_accuracy:\n",
        "        best_val_accuracy = valid_accuracy\n",
        "        best_model = net.state_dict()\n",
        "    history['train_loss'].append(train_loss)\n",
        "    history['train_acc'].append(train_accuracy)\n",
        "    history['val_loss'].append(valid_loss)\n",
        "    history['val_acc'].append(valid_accuracy)\n",
        "net.load_state_dict(best_model)\n",
        "print(\"Training complete!\")\n"
      ],
      "metadata": {
        "colab": {
          "base_uri": "https://localhost:8080/"
        },
        "id": "JjPobWKW4CvS",
        "outputId": "48063d9a-5011-47f4-b4c0-abdd12e9887f"
      },
      "execution_count": 126,
      "outputs": [
        {
          "output_type": "stream",
          "name": "stderr",
          "text": [
            "Epoch 1 Training: 100%|██████████| 136/136 [00:00<00:00, 809.77it/s]\n",
            "Epoch 1 Validation: 100%|██████████| 34/34 [00:00<00:00, 2131.98it/s]\n"
          ]
        },
        {
          "output_type": "stream",
          "name": "stdout",
          "text": [
            "Epoch 1 Training Loss: 0.9831, Accuracy: 0.5327\n",
            "Epoch 1 Validation Loss: 0.9385, Accuracy: 0.5930\n"
          ]
        },
        {
          "output_type": "stream",
          "name": "stderr",
          "text": [
            "Epoch 2 Training: 100%|██████████| 136/136 [00:00<00:00, 850.32it/s]\n",
            "Epoch 2 Validation: 100%|██████████| 34/34 [00:00<00:00, 2287.45it/s]\n"
          ]
        },
        {
          "output_type": "stream",
          "name": "stdout",
          "text": [
            "Epoch 2 Training Loss: 0.9457, Accuracy: 0.5741\n",
            "Epoch 2 Validation Loss: 0.9224, Accuracy: 0.5967\n"
          ]
        },
        {
          "output_type": "stream",
          "name": "stderr",
          "text": [
            "Epoch 3 Training: 100%|██████████| 136/136 [00:00<00:00, 868.21it/s]\n",
            "Epoch 3 Validation: 100%|██████████| 34/34 [00:00<00:00, 2064.63it/s]\n"
          ]
        },
        {
          "output_type": "stream",
          "name": "stdout",
          "text": [
            "Epoch 3 Training Loss: 0.9319, Accuracy: 0.5921\n",
            "Epoch 3 Validation Loss: 0.9171, Accuracy: 0.6133\n"
          ]
        },
        {
          "output_type": "stream",
          "name": "stderr",
          "text": [
            "Epoch 4 Training: 100%|██████████| 136/136 [00:00<00:00, 860.66it/s]\n",
            "Epoch 4 Validation: 100%|██████████| 34/34 [00:00<00:00, 2095.24it/s]\n"
          ]
        },
        {
          "output_type": "stream",
          "name": "stdout",
          "text": [
            "Epoch 4 Training Loss: 0.9214, Accuracy: 0.5953\n",
            "Epoch 4 Validation Loss: 0.9138, Accuracy: 0.6133\n"
          ]
        },
        {
          "output_type": "stream",
          "name": "stderr",
          "text": [
            "Epoch 5 Training: 100%|██████████| 136/136 [00:00<00:00, 884.65it/s]\n",
            "Epoch 5 Validation: 100%|██████████| 34/34 [00:00<00:00, 2168.88it/s]\n"
          ]
        },
        {
          "output_type": "stream",
          "name": "stdout",
          "text": [
            "Epoch 5 Training Loss: 0.9196, Accuracy: 0.6064\n",
            "Epoch 5 Validation Loss: 0.9253, Accuracy: 0.5967\n"
          ]
        },
        {
          "output_type": "stream",
          "name": "stderr",
          "text": [
            "Epoch 6 Training: 100%|██████████| 136/136 [00:00<00:00, 884.55it/s]\n",
            "Epoch 6 Validation: 100%|██████████| 34/34 [00:00<00:00, 1673.14it/s]\n"
          ]
        },
        {
          "output_type": "stream",
          "name": "stdout",
          "text": [
            "Epoch 6 Training Loss: 0.9126, Accuracy: 0.6169\n",
            "Epoch 6 Validation Loss: 0.9041, Accuracy: 0.6317\n"
          ]
        },
        {
          "output_type": "stream",
          "name": "stderr",
          "text": [
            "Epoch 7 Training: 100%|██████████| 136/136 [00:00<00:00, 838.57it/s]\n",
            "Epoch 7 Validation: 100%|██████████| 34/34 [00:00<00:00, 2111.81it/s]\n"
          ]
        },
        {
          "output_type": "stream",
          "name": "stdout",
          "text": [
            "Epoch 7 Training Loss: 0.9147, Accuracy: 0.6073\n",
            "Epoch 7 Validation Loss: 0.9103, Accuracy: 0.6335\n"
          ]
        },
        {
          "output_type": "stream",
          "name": "stderr",
          "text": [
            "Epoch 8 Training: 100%|██████████| 136/136 [00:00<00:00, 916.63it/s]\n",
            "Epoch 8 Validation: 100%|██████████| 34/34 [00:00<00:00, 2110.59it/s]\n"
          ]
        },
        {
          "output_type": "stream",
          "name": "stdout",
          "text": [
            "Epoch 8 Training Loss: 0.8979, Accuracy: 0.6381\n",
            "Epoch 8 Validation Loss: 0.9012, Accuracy: 0.6243\n"
          ]
        },
        {
          "output_type": "stream",
          "name": "stderr",
          "text": [
            "Epoch 9 Training: 100%|██████████| 136/136 [00:00<00:00, 844.10it/s]\n",
            "Epoch 9 Validation: 100%|██████████| 34/34 [00:00<00:00, 1891.18it/s]\n"
          ]
        },
        {
          "output_type": "stream",
          "name": "stdout",
          "text": [
            "Epoch 9 Training Loss: 0.9027, Accuracy: 0.6331\n",
            "Epoch 9 Validation Loss: 0.9357, Accuracy: 0.5820\n"
          ]
        },
        {
          "output_type": "stream",
          "name": "stderr",
          "text": [
            "Epoch 10 Training: 100%|██████████| 136/136 [00:00<00:00, 870.06it/s]\n",
            "Epoch 10 Validation: 100%|██████████| 34/34 [00:00<00:00, 2053.51it/s]\n"
          ]
        },
        {
          "output_type": "stream",
          "name": "stdout",
          "text": [
            "Epoch 10 Training Loss: 0.8965, Accuracy: 0.6349\n",
            "Epoch 10 Validation Loss: 0.9059, Accuracy: 0.6022\n"
          ]
        },
        {
          "output_type": "stream",
          "name": "stderr",
          "text": [
            "Epoch 11 Training: 100%|██████████| 136/136 [00:00<00:00, 897.29it/s]\n",
            "Epoch 11 Validation: 100%|██████████| 34/34 [00:00<00:00, 2090.60it/s]\n"
          ]
        },
        {
          "output_type": "stream",
          "name": "stdout",
          "text": [
            "Epoch 11 Training Loss: 0.8958, Accuracy: 0.6308\n",
            "Epoch 11 Validation Loss: 0.8962, Accuracy: 0.6317\n"
          ]
        },
        {
          "output_type": "stream",
          "name": "stderr",
          "text": [
            "Epoch 12 Training: 100%|██████████| 136/136 [00:00<00:00, 845.97it/s]\n",
            "Epoch 12 Validation: 100%|██████████| 34/34 [00:00<00:00, 2197.83it/s]\n"
          ]
        },
        {
          "output_type": "stream",
          "name": "stdout",
          "text": [
            "Epoch 12 Training Loss: 0.9105, Accuracy: 0.6202\n",
            "Epoch 12 Validation Loss: 0.8997, Accuracy: 0.6280\n"
          ]
        },
        {
          "output_type": "stream",
          "name": "stderr",
          "text": [
            "Epoch 13 Training: 100%|██████████| 136/136 [00:00<00:00, 832.89it/s]\n",
            "Epoch 13 Validation: 100%|██████████| 34/34 [00:00<00:00, 2406.86it/s]\n"
          ]
        },
        {
          "output_type": "stream",
          "name": "stdout",
          "text": [
            "Epoch 13 Training Loss: 0.8878, Accuracy: 0.6533\n",
            "Epoch 13 Validation Loss: 0.9310, Accuracy: 0.5967\n"
          ]
        },
        {
          "output_type": "stream",
          "name": "stderr",
          "text": [
            "Epoch 14 Training: 100%|██████████| 136/136 [00:00<00:00, 852.29it/s]\n",
            "Epoch 14 Validation: 100%|██████████| 34/34 [00:00<00:00, 2067.87it/s]\n"
          ]
        },
        {
          "output_type": "stream",
          "name": "stdout",
          "text": [
            "Epoch 14 Training Loss: 0.8958, Accuracy: 0.6358\n",
            "Epoch 14 Validation Loss: 0.9173, Accuracy: 0.6096\n"
          ]
        },
        {
          "output_type": "stream",
          "name": "stderr",
          "text": [
            "Epoch 15 Training: 100%|██████████| 136/136 [00:00<00:00, 923.99it/s]\n",
            "Epoch 15 Validation: 100%|██████████| 34/34 [00:00<00:00, 1995.97it/s]\n"
          ]
        },
        {
          "output_type": "stream",
          "name": "stdout",
          "text": [
            "Epoch 15 Training Loss: 0.8941, Accuracy: 0.6390\n",
            "Epoch 15 Validation Loss: 0.9191, Accuracy: 0.6151\n"
          ]
        },
        {
          "output_type": "stream",
          "name": "stderr",
          "text": [
            "Epoch 16 Training: 100%|██████████| 136/136 [00:00<00:00, 861.99it/s]\n",
            "Epoch 16 Validation: 100%|██████████| 34/34 [00:00<00:00, 2323.87it/s]\n"
          ]
        },
        {
          "output_type": "stream",
          "name": "stdout",
          "text": [
            "Epoch 16 Training Loss: 0.8987, Accuracy: 0.6335\n",
            "Epoch 16 Validation Loss: 0.9197, Accuracy: 0.6077\n"
          ]
        },
        {
          "output_type": "stream",
          "name": "stderr",
          "text": [
            "Epoch 17 Training: 100%|██████████| 136/136 [00:00<00:00, 846.51it/s]\n",
            "Epoch 17 Validation: 100%|██████████| 34/34 [00:00<00:00, 2156.58it/s]\n"
          ]
        },
        {
          "output_type": "stream",
          "name": "stdout",
          "text": [
            "Epoch 17 Training Loss: 0.8905, Accuracy: 0.6349\n",
            "Epoch 17 Validation Loss: 0.9152, Accuracy: 0.6225\n"
          ]
        },
        {
          "output_type": "stream",
          "name": "stderr",
          "text": [
            "Epoch 18 Training: 100%|██████████| 136/136 [00:00<00:00, 935.90it/s]\n",
            "Epoch 18 Validation: 100%|██████████| 34/34 [00:00<00:00, 1979.05it/s]\n"
          ]
        },
        {
          "output_type": "stream",
          "name": "stdout",
          "text": [
            "Epoch 18 Training Loss: 0.8921, Accuracy: 0.6436\n",
            "Epoch 18 Validation Loss: 0.8966, Accuracy: 0.6390\n"
          ]
        },
        {
          "output_type": "stream",
          "name": "stderr",
          "text": [
            "Epoch 19 Training: 100%|██████████| 136/136 [00:00<00:00, 875.22it/s]\n",
            "Epoch 19 Validation: 100%|██████████| 34/34 [00:00<00:00, 1697.61it/s]\n"
          ]
        },
        {
          "output_type": "stream",
          "name": "stdout",
          "text": [
            "Epoch 19 Training Loss: 0.8955, Accuracy: 0.6363\n",
            "Epoch 19 Validation Loss: 0.9098, Accuracy: 0.6169\n"
          ]
        },
        {
          "output_type": "stream",
          "name": "stderr",
          "text": [
            "Epoch 20 Training: 100%|██████████| 136/136 [00:00<00:00, 912.18it/s]\n",
            "Epoch 20 Validation: 100%|██████████| 34/34 [00:00<00:00, 1882.67it/s]\n"
          ]
        },
        {
          "output_type": "stream",
          "name": "stdout",
          "text": [
            "Epoch 20 Training Loss: 0.8908, Accuracy: 0.6409\n",
            "Epoch 20 Validation Loss: 0.8987, Accuracy: 0.6225\n"
          ]
        },
        {
          "output_type": "stream",
          "name": "stderr",
          "text": [
            "Epoch 21 Training: 100%|██████████| 136/136 [00:00<00:00, 915.28it/s]\n",
            "Epoch 21 Validation: 100%|██████████| 34/34 [00:00<00:00, 2106.57it/s]\n"
          ]
        },
        {
          "output_type": "stream",
          "name": "stdout",
          "text": [
            "Epoch 21 Training Loss: 0.8842, Accuracy: 0.6459\n",
            "Epoch 21 Validation Loss: 0.9080, Accuracy: 0.6206\n"
          ]
        },
        {
          "output_type": "stream",
          "name": "stderr",
          "text": [
            "Epoch 22 Training: 100%|██████████| 136/136 [00:00<00:00, 856.23it/s]\n",
            "Epoch 22 Validation: 100%|██████████| 34/34 [00:00<00:00, 1950.17it/s]\n"
          ]
        },
        {
          "output_type": "stream",
          "name": "stdout",
          "text": [
            "Epoch 22 Training Loss: 0.8889, Accuracy: 0.6464\n",
            "Epoch 22 Validation Loss: 0.9122, Accuracy: 0.6188\n"
          ]
        },
        {
          "output_type": "stream",
          "name": "stderr",
          "text": [
            "Epoch 23 Training: 100%|██████████| 136/136 [00:00<00:00, 801.96it/s]\n",
            "Epoch 23 Validation: 100%|██████████| 34/34 [00:00<00:00, 1992.01it/s]\n"
          ]
        },
        {
          "output_type": "stream",
          "name": "stdout",
          "text": [
            "Epoch 23 Training Loss: 0.8894, Accuracy: 0.6395\n",
            "Epoch 23 Validation Loss: 0.8989, Accuracy: 0.6298\n"
          ]
        },
        {
          "output_type": "stream",
          "name": "stderr",
          "text": [
            "Epoch 24 Training: 100%|██████████| 136/136 [00:00<00:00, 893.24it/s]\n",
            "Epoch 24 Validation: 100%|██████████| 34/34 [00:00<00:00, 1996.28it/s]\n"
          ]
        },
        {
          "output_type": "stream",
          "name": "stdout",
          "text": [
            "Epoch 24 Training Loss: 0.8909, Accuracy: 0.6413\n",
            "Epoch 24 Validation Loss: 0.8979, Accuracy: 0.6262\n"
          ]
        },
        {
          "output_type": "stream",
          "name": "stderr",
          "text": [
            "Epoch 25 Training: 100%|██████████| 136/136 [00:00<00:00, 794.06it/s]\n",
            "Epoch 25 Validation: 100%|██████████| 34/34 [00:00<00:00, 1885.55it/s]\n"
          ]
        },
        {
          "output_type": "stream",
          "name": "stdout",
          "text": [
            "Epoch 25 Training Loss: 0.8879, Accuracy: 0.6459\n",
            "Epoch 25 Validation Loss: 0.8997, Accuracy: 0.6409\n"
          ]
        },
        {
          "output_type": "stream",
          "name": "stderr",
          "text": [
            "Epoch 26 Training: 100%|██████████| 136/136 [00:00<00:00, 831.47it/s]\n",
            "Epoch 26 Validation: 100%|██████████| 34/34 [00:00<00:00, 2111.81it/s]\n"
          ]
        },
        {
          "output_type": "stream",
          "name": "stdout",
          "text": [
            "Epoch 26 Training Loss: 0.8845, Accuracy: 0.6436\n",
            "Epoch 26 Validation Loss: 0.9304, Accuracy: 0.6004\n"
          ]
        },
        {
          "output_type": "stream",
          "name": "stderr",
          "text": [
            "Epoch 27 Training: 100%|██████████| 136/136 [00:00<00:00, 868.78it/s]\n",
            "Epoch 27 Validation: 100%|██████████| 34/34 [00:00<00:00, 1312.88it/s]\n"
          ]
        },
        {
          "output_type": "stream",
          "name": "stdout",
          "text": [
            "Epoch 27 Training Loss: 0.8888, Accuracy: 0.6427\n",
            "Epoch 27 Validation Loss: 0.9122, Accuracy: 0.6169\n"
          ]
        },
        {
          "output_type": "stream",
          "name": "stderr",
          "text": [
            "Epoch 28 Training: 100%|██████████| 136/136 [00:00<00:00, 840.53it/s]\n",
            "Epoch 28 Validation: 100%|██████████| 34/34 [00:00<00:00, 2013.10it/s]\n"
          ]
        },
        {
          "output_type": "stream",
          "name": "stdout",
          "text": [
            "Epoch 28 Training Loss: 0.8903, Accuracy: 0.6432\n",
            "Epoch 28 Validation Loss: 0.9105, Accuracy: 0.6206\n"
          ]
        },
        {
          "output_type": "stream",
          "name": "stderr",
          "text": [
            "Epoch 29 Training: 100%|██████████| 136/136 [00:00<00:00, 892.19it/s]\n",
            "Epoch 29 Validation: 100%|██████████| 34/34 [00:00<00:00, 1984.64it/s]\n"
          ]
        },
        {
          "output_type": "stream",
          "name": "stdout",
          "text": [
            "Epoch 29 Training Loss: 0.8899, Accuracy: 0.6459\n",
            "Epoch 29 Validation Loss: 0.9312, Accuracy: 0.5838\n"
          ]
        },
        {
          "output_type": "stream",
          "name": "stderr",
          "text": [
            "Epoch 30 Training: 100%|██████████| 136/136 [00:00<00:00, 816.89it/s]\n",
            "Epoch 30 Validation: 100%|██████████| 34/34 [00:00<00:00, 2180.89it/s]\n"
          ]
        },
        {
          "output_type": "stream",
          "name": "stdout",
          "text": [
            "Epoch 30 Training Loss: 0.8867, Accuracy: 0.6469\n",
            "Epoch 30 Validation Loss: 0.9052, Accuracy: 0.6169\n"
          ]
        },
        {
          "output_type": "stream",
          "name": "stderr",
          "text": [
            "Epoch 31 Training: 100%|██████████| 136/136 [00:00<00:00, 885.45it/s]\n",
            "Epoch 31 Validation: 100%|██████████| 34/34 [00:00<00:00, 1810.46it/s]\n"
          ]
        },
        {
          "output_type": "stream",
          "name": "stdout",
          "text": [
            "Epoch 31 Training Loss: 0.8857, Accuracy: 0.6556\n",
            "Epoch 31 Validation Loss: 0.8976, Accuracy: 0.6298\n"
          ]
        },
        {
          "output_type": "stream",
          "name": "stderr",
          "text": [
            "Epoch 32 Training: 100%|██████████| 136/136 [00:00<00:00, 862.64it/s]\n",
            "Epoch 32 Validation: 100%|██████████| 34/34 [00:00<00:00, 1958.64it/s]\n"
          ]
        },
        {
          "output_type": "stream",
          "name": "stdout",
          "text": [
            "Epoch 32 Training Loss: 0.8870, Accuracy: 0.6478\n",
            "Epoch 32 Validation Loss: 0.9045, Accuracy: 0.6169\n"
          ]
        },
        {
          "output_type": "stream",
          "name": "stderr",
          "text": [
            "Epoch 33 Training: 100%|██████████| 136/136 [00:00<00:00, 856.13it/s]\n",
            "Epoch 33 Validation: 100%|██████████| 34/34 [00:00<00:00, 2014.50it/s]\n"
          ]
        },
        {
          "output_type": "stream",
          "name": "stdout",
          "text": [
            "Epoch 33 Training Loss: 0.8832, Accuracy: 0.6519\n",
            "Epoch 33 Validation Loss: 0.9073, Accuracy: 0.6225\n"
          ]
        },
        {
          "output_type": "stream",
          "name": "stderr",
          "text": [
            "Epoch 34 Training: 100%|██████████| 136/136 [00:00<00:00, 840.57it/s]\n",
            "Epoch 34 Validation: 100%|██████████| 34/34 [00:00<00:00, 1965.22it/s]\n"
          ]
        },
        {
          "output_type": "stream",
          "name": "stdout",
          "text": [
            "Epoch 34 Training Loss: 0.8835, Accuracy: 0.6515\n",
            "Epoch 34 Validation Loss: 0.8936, Accuracy: 0.6446\n"
          ]
        },
        {
          "output_type": "stream",
          "name": "stderr",
          "text": [
            "Epoch 35 Training: 100%|██████████| 136/136 [00:00<00:00, 823.97it/s]\n",
            "Epoch 35 Validation: 100%|██████████| 34/34 [00:00<00:00, 1955.87it/s]\n"
          ]
        },
        {
          "output_type": "stream",
          "name": "stdout",
          "text": [
            "Epoch 35 Training Loss: 0.8819, Accuracy: 0.6469\n",
            "Epoch 35 Validation Loss: 0.9102, Accuracy: 0.6096\n"
          ]
        },
        {
          "output_type": "stream",
          "name": "stderr",
          "text": [
            "Epoch 36 Training: 100%|██████████| 136/136 [00:00<00:00, 843.66it/s]\n",
            "Epoch 36 Validation: 100%|██████████| 34/34 [00:00<00:00, 1947.64it/s]\n"
          ]
        },
        {
          "output_type": "stream",
          "name": "stdout",
          "text": [
            "Epoch 36 Training Loss: 0.8841, Accuracy: 0.6533\n",
            "Epoch 36 Validation Loss: 0.8963, Accuracy: 0.6483\n"
          ]
        },
        {
          "output_type": "stream",
          "name": "stderr",
          "text": [
            "Epoch 37 Training: 100%|██████████| 136/136 [00:00<00:00, 872.49it/s]\n",
            "Epoch 37 Validation: 100%|██████████| 34/34 [00:00<00:00, 1968.59it/s]\n"
          ]
        },
        {
          "output_type": "stream",
          "name": "stdout",
          "text": [
            "Epoch 37 Training Loss: 0.8837, Accuracy: 0.6441\n",
            "Epoch 37 Validation Loss: 0.8933, Accuracy: 0.6409\n"
          ]
        },
        {
          "output_type": "stream",
          "name": "stderr",
          "text": [
            "Epoch 38 Training: 100%|██████████| 136/136 [00:00<00:00, 855.76it/s]\n",
            "Epoch 38 Validation: 100%|██████████| 34/34 [00:00<00:00, 1832.19it/s]\n"
          ]
        },
        {
          "output_type": "stream",
          "name": "stdout",
          "text": [
            "Epoch 38 Training Loss: 0.8796, Accuracy: 0.6561\n",
            "Epoch 38 Validation Loss: 0.8908, Accuracy: 0.6501\n"
          ]
        },
        {
          "output_type": "stream",
          "name": "stderr",
          "text": [
            "Epoch 39 Training: 100%|██████████| 136/136 [00:00<00:00, 844.09it/s]\n",
            "Epoch 39 Validation: 100%|██████████| 34/34 [00:00<00:00, 1961.60it/s]\n"
          ]
        },
        {
          "output_type": "stream",
          "name": "stdout",
          "text": [
            "Epoch 39 Training Loss: 0.8784, Accuracy: 0.6607\n",
            "Epoch 39 Validation Loss: 0.9026, Accuracy: 0.6169\n"
          ]
        },
        {
          "output_type": "stream",
          "name": "stderr",
          "text": [
            "Epoch 40 Training: 100%|██████████| 136/136 [00:00<00:00, 761.92it/s]\n",
            "Epoch 40 Validation: 100%|██████████| 34/34 [00:00<00:00, 2124.14it/s]\n"
          ]
        },
        {
          "output_type": "stream",
          "name": "stdout",
          "text": [
            "Epoch 40 Training Loss: 0.8870, Accuracy: 0.6487\n",
            "Epoch 40 Validation Loss: 0.9012, Accuracy: 0.6298\n"
          ]
        },
        {
          "output_type": "stream",
          "name": "stderr",
          "text": [
            "Epoch 41 Training: 100%|██████████| 136/136 [00:00<00:00, 843.93it/s]\n",
            "Epoch 41 Validation: 100%|██████████| 34/34 [00:00<00:00, 1945.01it/s]\n"
          ]
        },
        {
          "output_type": "stream",
          "name": "stdout",
          "text": [
            "Epoch 41 Training Loss: 0.8907, Accuracy: 0.6409\n",
            "Epoch 41 Validation Loss: 0.9052, Accuracy: 0.6169\n"
          ]
        },
        {
          "output_type": "stream",
          "name": "stderr",
          "text": [
            "Epoch 42 Training: 100%|██████████| 136/136 [00:00<00:00, 754.50it/s]\n",
            "Epoch 42 Validation: 100%|██████████| 34/34 [00:00<00:00, 1585.92it/s]\n"
          ]
        },
        {
          "output_type": "stream",
          "name": "stdout",
          "text": [
            "Epoch 42 Training Loss: 0.8840, Accuracy: 0.6478\n",
            "Epoch 42 Validation Loss: 0.8992, Accuracy: 0.6262\n"
          ]
        },
        {
          "output_type": "stream",
          "name": "stderr",
          "text": [
            "Epoch 43 Training: 100%|██████████| 136/136 [00:00<00:00, 665.37it/s]\n",
            "Epoch 43 Validation: 100%|██████████| 34/34 [00:00<00:00, 1336.00it/s]\n"
          ]
        },
        {
          "output_type": "stream",
          "name": "stdout",
          "text": [
            "Epoch 43 Training Loss: 0.8813, Accuracy: 0.6510\n",
            "Epoch 43 Validation Loss: 0.8981, Accuracy: 0.6317\n"
          ]
        },
        {
          "output_type": "stream",
          "name": "stderr",
          "text": [
            "Epoch 44 Training: 100%|██████████| 136/136 [00:00<00:00, 695.62it/s]\n",
            "Epoch 44 Validation: 100%|██████████| 34/34 [00:00<00:00, 1699.45it/s]\n"
          ]
        },
        {
          "output_type": "stream",
          "name": "stdout",
          "text": [
            "Epoch 44 Training Loss: 0.8899, Accuracy: 0.6427\n",
            "Epoch 44 Validation Loss: 0.8920, Accuracy: 0.6538\n"
          ]
        },
        {
          "output_type": "stream",
          "name": "stderr",
          "text": [
            "Epoch 45 Training: 100%|██████████| 136/136 [00:00<00:00, 695.35it/s]\n",
            "Epoch 45 Validation: 100%|██████████| 34/34 [00:00<00:00, 1749.71it/s]\n"
          ]
        },
        {
          "output_type": "stream",
          "name": "stdout",
          "text": [
            "Epoch 45 Training Loss: 0.8862, Accuracy: 0.6469\n",
            "Epoch 45 Validation Loss: 0.9024, Accuracy: 0.6133\n"
          ]
        },
        {
          "output_type": "stream",
          "name": "stderr",
          "text": [
            "Epoch 46 Training: 100%|██████████| 136/136 [00:00<00:00, 665.74it/s]\n",
            "Epoch 46 Validation: 100%|██████████| 34/34 [00:00<00:00, 1693.68it/s]\n"
          ]
        },
        {
          "output_type": "stream",
          "name": "stdout",
          "text": [
            "Epoch 46 Training Loss: 0.8839, Accuracy: 0.6496\n",
            "Epoch 46 Validation Loss: 0.8956, Accuracy: 0.6390\n"
          ]
        },
        {
          "output_type": "stream",
          "name": "stderr",
          "text": [
            "Epoch 47 Training: 100%|██████████| 136/136 [00:00<00:00, 692.37it/s]\n",
            "Epoch 47 Validation: 100%|██████████| 34/34 [00:00<00:00, 1726.11it/s]\n"
          ]
        },
        {
          "output_type": "stream",
          "name": "stdout",
          "text": [
            "Epoch 47 Training Loss: 0.8805, Accuracy: 0.6547\n",
            "Epoch 47 Validation Loss: 0.8893, Accuracy: 0.6409\n"
          ]
        },
        {
          "output_type": "stream",
          "name": "stderr",
          "text": [
            "Epoch 48 Training: 100%|██████████| 136/136 [00:00<00:00, 651.85it/s]\n",
            "Epoch 48 Validation: 100%|██████████| 34/34 [00:00<00:00, 1737.32it/s]\n"
          ]
        },
        {
          "output_type": "stream",
          "name": "stdout",
          "text": [
            "Epoch 48 Training Loss: 0.8790, Accuracy: 0.6570\n",
            "Epoch 48 Validation Loss: 0.8988, Accuracy: 0.6427\n"
          ]
        },
        {
          "output_type": "stream",
          "name": "stderr",
          "text": [
            "Epoch 49 Training: 100%|██████████| 136/136 [00:00<00:00, 613.85it/s]\n",
            "Epoch 49 Validation: 100%|██████████| 34/34 [00:00<00:00, 1755.00it/s]\n"
          ]
        },
        {
          "output_type": "stream",
          "name": "stdout",
          "text": [
            "Epoch 49 Training Loss: 0.8875, Accuracy: 0.6464\n",
            "Epoch 49 Validation Loss: 0.8855, Accuracy: 0.6556\n"
          ]
        },
        {
          "output_type": "stream",
          "name": "stderr",
          "text": [
            "Epoch 50 Training: 100%|██████████| 136/136 [00:00<00:00, 640.53it/s]\n",
            "Epoch 50 Validation: 100%|██████████| 34/34 [00:00<00:00, 1519.89it/s]\n"
          ]
        },
        {
          "output_type": "stream",
          "name": "stdout",
          "text": [
            "Epoch 50 Training Loss: 0.8910, Accuracy: 0.6436\n",
            "Epoch 50 Validation Loss: 0.9011, Accuracy: 0.6243\n"
          ]
        },
        {
          "output_type": "stream",
          "name": "stderr",
          "text": [
            "Epoch 51 Training: 100%|██████████| 136/136 [00:00<00:00, 705.27it/s]\n",
            "Epoch 51 Validation: 100%|██████████| 34/34 [00:00<00:00, 2100.67it/s]\n"
          ]
        },
        {
          "output_type": "stream",
          "name": "stdout",
          "text": [
            "Epoch 51 Training Loss: 0.8834, Accuracy: 0.6469\n",
            "Epoch 51 Validation Loss: 0.9033, Accuracy: 0.6243\n"
          ]
        },
        {
          "output_type": "stream",
          "name": "stderr",
          "text": [
            "Epoch 52 Training: 100%|██████████| 136/136 [00:00<00:00, 783.31it/s]\n",
            "Epoch 52 Validation: 100%|██████████| 34/34 [00:00<00:00, 2122.40it/s]\n"
          ]
        },
        {
          "output_type": "stream",
          "name": "stdout",
          "text": [
            "Epoch 52 Training Loss: 0.8769, Accuracy: 0.6556\n",
            "Epoch 52 Validation Loss: 0.8992, Accuracy: 0.6243\n"
          ]
        },
        {
          "output_type": "stream",
          "name": "stderr",
          "text": [
            "Epoch 53 Training: 100%|██████████| 136/136 [00:00<00:00, 872.93it/s]\n",
            "Epoch 53 Validation: 100%|██████████| 34/34 [00:00<00:00, 1987.38it/s]\n"
          ]
        },
        {
          "output_type": "stream",
          "name": "stdout",
          "text": [
            "Epoch 53 Training Loss: 0.8809, Accuracy: 0.6473\n",
            "Epoch 53 Validation Loss: 0.8987, Accuracy: 0.6243\n"
          ]
        },
        {
          "output_type": "stream",
          "name": "stderr",
          "text": [
            "Epoch 54 Training: 100%|██████████| 136/136 [00:00<00:00, 870.76it/s]\n",
            "Epoch 54 Validation: 100%|██████████| 34/34 [00:00<00:00, 1985.36it/s]\n"
          ]
        },
        {
          "output_type": "stream",
          "name": "stdout",
          "text": [
            "Epoch 54 Training Loss: 0.8834, Accuracy: 0.6538\n",
            "Epoch 54 Validation Loss: 0.9074, Accuracy: 0.6262\n"
          ]
        },
        {
          "output_type": "stream",
          "name": "stderr",
          "text": [
            "Epoch 55 Training: 100%|██████████| 136/136 [00:00<00:00, 854.33it/s]\n",
            "Epoch 55 Validation: 100%|██████████| 34/34 [00:00<00:00, 1869.09it/s]\n"
          ]
        },
        {
          "output_type": "stream",
          "name": "stdout",
          "text": [
            "Epoch 55 Training Loss: 0.8770, Accuracy: 0.6469\n",
            "Epoch 55 Validation Loss: 0.9192, Accuracy: 0.6004\n"
          ]
        },
        {
          "output_type": "stream",
          "name": "stderr",
          "text": [
            "Epoch 56 Training: 100%|██████████| 136/136 [00:00<00:00, 856.71it/s]\n",
            "Epoch 56 Validation: 100%|██████████| 34/34 [00:00<00:00, 2097.65it/s]\n"
          ]
        },
        {
          "output_type": "stream",
          "name": "stdout",
          "text": [
            "Epoch 56 Training Loss: 0.8810, Accuracy: 0.6519\n",
            "Epoch 56 Validation Loss: 0.8969, Accuracy: 0.6317\n"
          ]
        },
        {
          "output_type": "stream",
          "name": "stderr",
          "text": [
            "Epoch 57 Training: 100%|██████████| 136/136 [00:00<00:00, 826.44it/s]\n",
            "Epoch 57 Validation: 100%|██████████| 34/34 [00:00<00:00, 1688.77it/s]\n"
          ]
        },
        {
          "output_type": "stream",
          "name": "stdout",
          "text": [
            "Epoch 57 Training Loss: 0.8770, Accuracy: 0.6611\n",
            "Epoch 57 Validation Loss: 0.9001, Accuracy: 0.6243\n"
          ]
        },
        {
          "output_type": "stream",
          "name": "stderr",
          "text": [
            "Epoch 58 Training: 100%|██████████| 136/136 [00:00<00:00, 828.01it/s]\n",
            "Epoch 58 Validation: 100%|██████████| 34/34 [00:00<00:00, 2257.93it/s]\n"
          ]
        },
        {
          "output_type": "stream",
          "name": "stdout",
          "text": [
            "Epoch 58 Training Loss: 0.8819, Accuracy: 0.6487\n",
            "Epoch 58 Validation Loss: 0.8918, Accuracy: 0.6427\n"
          ]
        },
        {
          "output_type": "stream",
          "name": "stderr",
          "text": [
            "Epoch 59 Training: 100%|██████████| 136/136 [00:00<00:00, 882.31it/s]\n",
            "Epoch 59 Validation: 100%|██████████| 34/34 [00:00<00:00, 2191.38it/s]\n"
          ]
        },
        {
          "output_type": "stream",
          "name": "stdout",
          "text": [
            "Epoch 59 Training Loss: 0.8759, Accuracy: 0.6579\n",
            "Epoch 59 Validation Loss: 0.8971, Accuracy: 0.6262\n"
          ]
        },
        {
          "output_type": "stream",
          "name": "stderr",
          "text": [
            "Epoch 60 Training: 100%|██████████| 136/136 [00:00<00:00, 877.75it/s]\n",
            "Epoch 60 Validation: 100%|██████████| 34/34 [00:00<00:00, 1686.39it/s]\n"
          ]
        },
        {
          "output_type": "stream",
          "name": "stdout",
          "text": [
            "Epoch 60 Training Loss: 0.8814, Accuracy: 0.6538\n",
            "Epoch 60 Validation Loss: 0.8940, Accuracy: 0.6317\n"
          ]
        },
        {
          "output_type": "stream",
          "name": "stderr",
          "text": [
            "Epoch 61 Training: 100%|██████████| 136/136 [00:00<00:00, 846.89it/s]\n",
            "Epoch 61 Validation: 100%|██████████| 34/34 [00:00<00:00, 1843.10it/s]\n"
          ]
        },
        {
          "output_type": "stream",
          "name": "stdout",
          "text": [
            "Epoch 61 Training Loss: 0.8854, Accuracy: 0.6450\n",
            "Epoch 61 Validation Loss: 0.9008, Accuracy: 0.6151\n"
          ]
        },
        {
          "output_type": "stream",
          "name": "stderr",
          "text": [
            "Epoch 62 Training: 100%|██████████| 136/136 [00:00<00:00, 901.68it/s]\n",
            "Epoch 62 Validation: 100%|██████████| 34/34 [00:00<00:00, 1722.61it/s]\n"
          ]
        },
        {
          "output_type": "stream",
          "name": "stdout",
          "text": [
            "Epoch 62 Training Loss: 0.8798, Accuracy: 0.6492\n",
            "Epoch 62 Validation Loss: 0.8900, Accuracy: 0.6317\n"
          ]
        },
        {
          "output_type": "stream",
          "name": "stderr",
          "text": [
            "Epoch 63 Training: 100%|██████████| 136/136 [00:00<00:00, 874.76it/s]\n",
            "Epoch 63 Validation: 100%|██████████| 34/34 [00:00<00:00, 1947.14it/s]\n"
          ]
        },
        {
          "output_type": "stream",
          "name": "stdout",
          "text": [
            "Epoch 63 Training Loss: 0.8820, Accuracy: 0.6487\n",
            "Epoch 63 Validation Loss: 0.8889, Accuracy: 0.6372\n"
          ]
        },
        {
          "output_type": "stream",
          "name": "stderr",
          "text": [
            "Epoch 64 Training: 100%|██████████| 136/136 [00:00<00:00, 831.28it/s]\n",
            "Epoch 64 Validation: 100%|██████████| 34/34 [00:00<00:00, 2081.12it/s]\n"
          ]
        },
        {
          "output_type": "stream",
          "name": "stdout",
          "text": [
            "Epoch 64 Training Loss: 0.8786, Accuracy: 0.6538\n",
            "Epoch 64 Validation Loss: 0.9077, Accuracy: 0.6188\n"
          ]
        },
        {
          "output_type": "stream",
          "name": "stderr",
          "text": [
            "Epoch 65 Training: 100%|██████████| 136/136 [00:00<00:00, 851.34it/s]\n",
            "Epoch 65 Validation: 100%|██████████| 34/34 [00:00<00:00, 1932.31it/s]\n"
          ]
        },
        {
          "output_type": "stream",
          "name": "stdout",
          "text": [
            "Epoch 65 Training Loss: 0.8771, Accuracy: 0.6593\n",
            "Epoch 65 Validation Loss: 0.8898, Accuracy: 0.6390\n"
          ]
        },
        {
          "output_type": "stream",
          "name": "stderr",
          "text": [
            "Epoch 66 Training: 100%|██████████| 136/136 [00:00<00:00, 867.22it/s]\n",
            "Epoch 66 Validation: 100%|██████████| 34/34 [00:00<00:00, 2002.76it/s]\n"
          ]
        },
        {
          "output_type": "stream",
          "name": "stdout",
          "text": [
            "Epoch 66 Training Loss: 0.8868, Accuracy: 0.6432\n",
            "Epoch 66 Validation Loss: 0.8968, Accuracy: 0.6427\n"
          ]
        },
        {
          "output_type": "stream",
          "name": "stderr",
          "text": [
            "Epoch 67 Training: 100%|██████████| 136/136 [00:00<00:00, 914.44it/s]\n",
            "Epoch 67 Validation: 100%|██████████| 34/34 [00:00<00:00, 2092.11it/s]\n"
          ]
        },
        {
          "output_type": "stream",
          "name": "stdout",
          "text": [
            "Epoch 67 Training Loss: 0.8815, Accuracy: 0.6506\n",
            "Epoch 67 Validation Loss: 0.8815, Accuracy: 0.6575\n"
          ]
        },
        {
          "output_type": "stream",
          "name": "stderr",
          "text": [
            "Epoch 68 Training: 100%|██████████| 136/136 [00:00<00:00, 885.07it/s]\n",
            "Epoch 68 Validation: 100%|██████████| 34/34 [00:00<00:00, 2189.09it/s]\n"
          ]
        },
        {
          "output_type": "stream",
          "name": "stdout",
          "text": [
            "Epoch 68 Training Loss: 0.8852, Accuracy: 0.6487\n",
            "Epoch 68 Validation Loss: 0.8874, Accuracy: 0.6519\n"
          ]
        },
        {
          "output_type": "stream",
          "name": "stderr",
          "text": [
            "Epoch 69 Training: 100%|██████████| 136/136 [00:00<00:00, 819.63it/s]\n",
            "Epoch 69 Validation: 100%|██████████| 34/34 [00:00<00:00, 2100.15it/s]\n"
          ]
        },
        {
          "output_type": "stream",
          "name": "stdout",
          "text": [
            "Epoch 69 Training Loss: 0.8887, Accuracy: 0.6459\n",
            "Epoch 69 Validation Loss: 0.8988, Accuracy: 0.6317\n"
          ]
        },
        {
          "output_type": "stream",
          "name": "stderr",
          "text": [
            "Epoch 70 Training: 100%|██████████| 136/136 [00:00<00:00, 887.69it/s]\n",
            "Epoch 70 Validation: 100%|██████████| 34/34 [00:00<00:00, 2015.38it/s]\n"
          ]
        },
        {
          "output_type": "stream",
          "name": "stdout",
          "text": [
            "Epoch 70 Training Loss: 0.8749, Accuracy: 0.6607\n",
            "Epoch 70 Validation Loss: 0.9004, Accuracy: 0.6335\n"
          ]
        },
        {
          "output_type": "stream",
          "name": "stderr",
          "text": [
            "Epoch 71 Training: 100%|██████████| 136/136 [00:00<00:00, 911.90it/s]\n",
            "Epoch 71 Validation: 100%|██████████| 34/34 [00:00<00:00, 1781.69it/s]\n"
          ]
        },
        {
          "output_type": "stream",
          "name": "stdout",
          "text": [
            "Epoch 71 Training Loss: 0.8814, Accuracy: 0.6515\n",
            "Epoch 71 Validation Loss: 0.9081, Accuracy: 0.6169\n"
          ]
        },
        {
          "output_type": "stream",
          "name": "stderr",
          "text": [
            "Epoch 72 Training: 100%|██████████| 136/136 [00:00<00:00, 886.49it/s]\n",
            "Epoch 72 Validation: 100%|██████████| 34/34 [00:00<00:00, 2196.51it/s]\n"
          ]
        },
        {
          "output_type": "stream",
          "name": "stdout",
          "text": [
            "Epoch 72 Training Loss: 0.8784, Accuracy: 0.6565\n",
            "Epoch 72 Validation Loss: 0.8900, Accuracy: 0.6354\n"
          ]
        },
        {
          "output_type": "stream",
          "name": "stderr",
          "text": [
            "Epoch 73 Training: 100%|██████████| 136/136 [00:00<00:00, 907.89it/s]\n",
            "Epoch 73 Validation: 100%|██████████| 34/34 [00:00<00:00, 1846.97it/s]\n"
          ]
        },
        {
          "output_type": "stream",
          "name": "stdout",
          "text": [
            "Epoch 73 Training Loss: 0.8745, Accuracy: 0.6556\n",
            "Epoch 73 Validation Loss: 0.8926, Accuracy: 0.6427\n"
          ]
        },
        {
          "output_type": "stream",
          "name": "stderr",
          "text": [
            "Epoch 74 Training: 100%|██████████| 136/136 [00:00<00:00, 816.91it/s]\n",
            "Epoch 74 Validation: 100%|██████████| 34/34 [00:00<00:00, 2325.00it/s]\n"
          ]
        },
        {
          "output_type": "stream",
          "name": "stdout",
          "text": [
            "Epoch 74 Training Loss: 0.8828, Accuracy: 0.6483\n",
            "Epoch 74 Validation Loss: 0.8935, Accuracy: 0.6372\n"
          ]
        },
        {
          "output_type": "stream",
          "name": "stderr",
          "text": [
            "Epoch 75 Training: 100%|██████████| 136/136 [00:00<00:00, 880.39it/s]\n",
            "Epoch 75 Validation: 100%|██████████| 34/34 [00:00<00:00, 2040.18it/s]\n"
          ]
        },
        {
          "output_type": "stream",
          "name": "stdout",
          "text": [
            "Epoch 75 Training Loss: 0.8747, Accuracy: 0.6538\n",
            "Epoch 75 Validation Loss: 0.8975, Accuracy: 0.6169\n"
          ]
        },
        {
          "output_type": "stream",
          "name": "stderr",
          "text": [
            "Epoch 76 Training: 100%|██████████| 136/136 [00:00<00:00, 907.97it/s]\n",
            "Epoch 76 Validation: 100%|██████████| 34/34 [00:00<00:00, 1910.13it/s]\n"
          ]
        },
        {
          "output_type": "stream",
          "name": "stdout",
          "text": [
            "Epoch 76 Training Loss: 0.8779, Accuracy: 0.6524\n",
            "Epoch 76 Validation Loss: 0.8849, Accuracy: 0.6390\n"
          ]
        },
        {
          "output_type": "stream",
          "name": "stderr",
          "text": [
            "Epoch 77 Training: 100%|██████████| 136/136 [00:00<00:00, 878.55it/s]\n",
            "Epoch 77 Validation: 100%|██████████| 34/34 [00:00<00:00, 1950.23it/s]\n"
          ]
        },
        {
          "output_type": "stream",
          "name": "stdout",
          "text": [
            "Epoch 77 Training Loss: 0.8732, Accuracy: 0.6565\n",
            "Epoch 77 Validation Loss: 0.8835, Accuracy: 0.6464\n"
          ]
        },
        {
          "output_type": "stream",
          "name": "stderr",
          "text": [
            "Epoch 78 Training: 100%|██████████| 136/136 [00:00<00:00, 821.20it/s]\n",
            "Epoch 78 Validation: 100%|██████████| 34/34 [00:00<00:00, 2200.51it/s]\n"
          ]
        },
        {
          "output_type": "stream",
          "name": "stdout",
          "text": [
            "Epoch 78 Training Loss: 0.8747, Accuracy: 0.6538\n",
            "Epoch 78 Validation Loss: 0.8850, Accuracy: 0.6630\n"
          ]
        },
        {
          "output_type": "stream",
          "name": "stderr",
          "text": [
            "Epoch 79 Training: 100%|██████████| 136/136 [00:00<00:00, 869.59it/s]\n",
            "Epoch 79 Validation: 100%|██████████| 34/34 [00:00<00:00, 1737.77it/s]\n"
          ]
        },
        {
          "output_type": "stream",
          "name": "stdout",
          "text": [
            "Epoch 79 Training Loss: 0.8776, Accuracy: 0.6501\n",
            "Epoch 79 Validation Loss: 0.9170, Accuracy: 0.6188\n"
          ]
        },
        {
          "output_type": "stream",
          "name": "stderr",
          "text": [
            "Epoch 80 Training: 100%|██████████| 136/136 [00:00<00:00, 880.65it/s]\n",
            "Epoch 80 Validation: 100%|██████████| 34/34 [00:00<00:00, 1970.41it/s]\n"
          ]
        },
        {
          "output_type": "stream",
          "name": "stdout",
          "text": [
            "Epoch 80 Training Loss: 0.8746, Accuracy: 0.6584\n",
            "Epoch 80 Validation Loss: 0.8794, Accuracy: 0.6593\n"
          ]
        },
        {
          "output_type": "stream",
          "name": "stderr",
          "text": [
            "Epoch 81 Training: 100%|██████████| 136/136 [00:00<00:00, 918.16it/s]\n",
            "Epoch 81 Validation: 100%|██████████| 34/34 [00:00<00:00, 1989.15it/s]\n"
          ]
        },
        {
          "output_type": "stream",
          "name": "stdout",
          "text": [
            "Epoch 81 Training Loss: 0.8775, Accuracy: 0.6625\n",
            "Epoch 81 Validation Loss: 0.8848, Accuracy: 0.6427\n"
          ]
        },
        {
          "output_type": "stream",
          "name": "stderr",
          "text": [
            "Epoch 82 Training: 100%|██████████| 136/136 [00:00<00:00, 868.73it/s]\n",
            "Epoch 82 Validation: 100%|██████████| 34/34 [00:00<00:00, 1770.41it/s]\n"
          ]
        },
        {
          "output_type": "stream",
          "name": "stdout",
          "text": [
            "Epoch 82 Training Loss: 0.8728, Accuracy: 0.6667\n",
            "Epoch 82 Validation Loss: 0.8957, Accuracy: 0.6390\n"
          ]
        },
        {
          "output_type": "stream",
          "name": "stderr",
          "text": [
            "Epoch 83 Training: 100%|██████████| 136/136 [00:00<00:00, 875.44it/s]\n",
            "Epoch 83 Validation: 100%|██████████| 34/34 [00:00<00:00, 1990.96it/s]\n"
          ]
        },
        {
          "output_type": "stream",
          "name": "stdout",
          "text": [
            "Epoch 83 Training Loss: 0.8743, Accuracy: 0.6570\n",
            "Epoch 83 Validation Loss: 0.8837, Accuracy: 0.6483\n"
          ]
        },
        {
          "output_type": "stream",
          "name": "stderr",
          "text": [
            "Epoch 84 Training: 100%|██████████| 136/136 [00:00<00:00, 892.33it/s]\n",
            "Epoch 84 Validation: 100%|██████████| 34/34 [00:00<00:00, 1722.13it/s]\n"
          ]
        },
        {
          "output_type": "stream",
          "name": "stdout",
          "text": [
            "Epoch 84 Training Loss: 0.8747, Accuracy: 0.6621\n",
            "Epoch 84 Validation Loss: 0.8948, Accuracy: 0.6243\n"
          ]
        },
        {
          "output_type": "stream",
          "name": "stderr",
          "text": [
            "Epoch 85 Training: 100%|██████████| 136/136 [00:00<00:00, 833.01it/s]\n",
            "Epoch 85 Validation: 100%|██████████| 34/34 [00:00<00:00, 2077.78it/s]\n"
          ]
        },
        {
          "output_type": "stream",
          "name": "stdout",
          "text": [
            "Epoch 85 Training Loss: 0.8732, Accuracy: 0.6616\n",
            "Epoch 85 Validation Loss: 0.8951, Accuracy: 0.6262\n"
          ]
        },
        {
          "output_type": "stream",
          "name": "stderr",
          "text": [
            "Epoch 86 Training: 100%|██████████| 136/136 [00:00<00:00, 888.24it/s]\n",
            "Epoch 86 Validation: 100%|██████████| 34/34 [00:00<00:00, 2155.97it/s]\n"
          ]
        },
        {
          "output_type": "stream",
          "name": "stdout",
          "text": [
            "Epoch 86 Training Loss: 0.8731, Accuracy: 0.6680\n",
            "Epoch 86 Validation Loss: 0.8844, Accuracy: 0.6446\n"
          ]
        },
        {
          "output_type": "stream",
          "name": "stderr",
          "text": [
            "Epoch 87 Training: 100%|██████████| 136/136 [00:00<00:00, 914.37it/s]\n",
            "Epoch 87 Validation: 100%|██████████| 34/34 [00:00<00:00, 2010.10it/s]\n"
          ]
        },
        {
          "output_type": "stream",
          "name": "stdout",
          "text": [
            "Epoch 87 Training Loss: 0.8765, Accuracy: 0.6598\n",
            "Epoch 87 Validation Loss: 0.8879, Accuracy: 0.6464\n"
          ]
        },
        {
          "output_type": "stream",
          "name": "stderr",
          "text": [
            "Epoch 88 Training: 100%|██████████| 136/136 [00:00<00:00, 857.05it/s]\n",
            "Epoch 88 Validation: 100%|██████████| 34/34 [00:00<00:00, 1813.80it/s]\n"
          ]
        },
        {
          "output_type": "stream",
          "name": "stdout",
          "text": [
            "Epoch 88 Training Loss: 0.8733, Accuracy: 0.6598\n",
            "Epoch 88 Validation Loss: 0.8783, Accuracy: 0.6556\n"
          ]
        },
        {
          "output_type": "stream",
          "name": "stderr",
          "text": [
            "Epoch 89 Training: 100%|██████████| 136/136 [00:00<00:00, 824.72it/s]\n",
            "Epoch 89 Validation: 100%|██████████| 34/34 [00:00<00:00, 2038.95it/s]\n"
          ]
        },
        {
          "output_type": "stream",
          "name": "stdout",
          "text": [
            "Epoch 89 Training Loss: 0.8730, Accuracy: 0.6676\n",
            "Epoch 89 Validation Loss: 0.8885, Accuracy: 0.6446\n"
          ]
        },
        {
          "output_type": "stream",
          "name": "stderr",
          "text": [
            "Epoch 90 Training: 100%|██████████| 136/136 [00:00<00:00, 894.13it/s]\n",
            "Epoch 90 Validation: 100%|██████████| 34/34 [00:00<00:00, 2176.93it/s]\n"
          ]
        },
        {
          "output_type": "stream",
          "name": "stdout",
          "text": [
            "Epoch 90 Training Loss: 0.8728, Accuracy: 0.6575\n",
            "Epoch 90 Validation Loss: 0.9007, Accuracy: 0.6280\n"
          ]
        },
        {
          "output_type": "stream",
          "name": "stderr",
          "text": [
            "Epoch 91 Training: 100%|██████████| 136/136 [00:00<00:00, 920.51it/s]\n",
            "Epoch 91 Validation: 100%|██████████| 34/34 [00:00<00:00, 1944.48it/s]\n"
          ]
        },
        {
          "output_type": "stream",
          "name": "stdout",
          "text": [
            "Epoch 91 Training Loss: 0.8768, Accuracy: 0.6579\n",
            "Epoch 91 Validation Loss: 0.8982, Accuracy: 0.6372\n"
          ]
        },
        {
          "output_type": "stream",
          "name": "stderr",
          "text": [
            "Epoch 92 Training: 100%|██████████| 136/136 [00:00<00:00, 985.60it/s] \n",
            "Epoch 92 Validation: 100%|██████████| 34/34 [00:00<00:00, 2059.15it/s]\n"
          ]
        },
        {
          "output_type": "stream",
          "name": "stdout",
          "text": [
            "Epoch 92 Training Loss: 0.8734, Accuracy: 0.6625\n",
            "Epoch 92 Validation Loss: 0.8806, Accuracy: 0.6483\n"
          ]
        },
        {
          "output_type": "stream",
          "name": "stderr",
          "text": [
            "Epoch 93 Training: 100%|██████████| 136/136 [00:00<00:00, 852.26it/s]\n",
            "Epoch 93 Validation: 100%|██████████| 34/34 [00:00<00:00, 1984.64it/s]\n"
          ]
        },
        {
          "output_type": "stream",
          "name": "stdout",
          "text": [
            "Epoch 93 Training Loss: 0.8686, Accuracy: 0.6694\n",
            "Epoch 93 Validation Loss: 0.8891, Accuracy: 0.6427\n"
          ]
        },
        {
          "output_type": "stream",
          "name": "stderr",
          "text": [
            "Epoch 94 Training: 100%|██████████| 136/136 [00:00<00:00, 859.25it/s]\n",
            "Epoch 94 Validation: 100%|██████████| 34/34 [00:00<00:00, 1773.69it/s]\n"
          ]
        },
        {
          "output_type": "stream",
          "name": "stdout",
          "text": [
            "Epoch 94 Training Loss: 0.8733, Accuracy: 0.6602\n",
            "Epoch 94 Validation Loss: 0.9036, Accuracy: 0.6243\n"
          ]
        },
        {
          "output_type": "stream",
          "name": "stderr",
          "text": [
            "Epoch 95 Training: 100%|██████████| 136/136 [00:00<00:00, 901.97it/s]\n",
            "Epoch 95 Validation: 100%|██████████| 34/34 [00:00<00:00, 1447.05it/s]\n"
          ]
        },
        {
          "output_type": "stream",
          "name": "stdout",
          "text": [
            "Epoch 95 Training Loss: 0.8768, Accuracy: 0.6565\n",
            "Epoch 95 Validation Loss: 0.8847, Accuracy: 0.6483\n"
          ]
        },
        {
          "output_type": "stream",
          "name": "stderr",
          "text": [
            "Epoch 96 Training: 100%|██████████| 136/136 [00:00<00:00, 866.01it/s]\n",
            "Epoch 96 Validation: 100%|██████████| 34/34 [00:00<00:00, 1847.69it/s]\n"
          ]
        },
        {
          "output_type": "stream",
          "name": "stdout",
          "text": [
            "Epoch 96 Training Loss: 0.8744, Accuracy: 0.6653\n",
            "Epoch 96 Validation Loss: 0.8953, Accuracy: 0.6206\n"
          ]
        },
        {
          "output_type": "stream",
          "name": "stderr",
          "text": [
            "Epoch 97 Training: 100%|██████████| 136/136 [00:00<00:00, 877.30it/s]\n",
            "Epoch 97 Validation: 100%|██████████| 34/34 [00:00<00:00, 1538.70it/s]\n"
          ]
        },
        {
          "output_type": "stream",
          "name": "stdout",
          "text": [
            "Epoch 97 Training Loss: 0.8721, Accuracy: 0.6607\n",
            "Epoch 97 Validation Loss: 0.8884, Accuracy: 0.6372\n"
          ]
        },
        {
          "output_type": "stream",
          "name": "stderr",
          "text": [
            "Epoch 98 Training: 100%|██████████| 136/136 [00:00<00:00, 893.13it/s]\n",
            "Epoch 98 Validation: 100%|██████████| 34/34 [00:00<00:00, 1904.16it/s]\n"
          ]
        },
        {
          "output_type": "stream",
          "name": "stdout",
          "text": [
            "Epoch 98 Training Loss: 0.8772, Accuracy: 0.6565\n",
            "Epoch 98 Validation Loss: 0.9074, Accuracy: 0.6188\n"
          ]
        },
        {
          "output_type": "stream",
          "name": "stderr",
          "text": [
            "Epoch 99 Training: 100%|██████████| 136/136 [00:00<00:00, 868.05it/s]\n",
            "Epoch 99 Validation: 100%|██████████| 34/34 [00:00<00:00, 2050.68it/s]\n"
          ]
        },
        {
          "output_type": "stream",
          "name": "stdout",
          "text": [
            "Epoch 99 Training Loss: 0.8733, Accuracy: 0.6648\n",
            "Epoch 99 Validation Loss: 0.9200, Accuracy: 0.6077\n"
          ]
        },
        {
          "output_type": "stream",
          "name": "stderr",
          "text": [
            "Epoch 100 Training: 100%|██████████| 136/136 [00:00<00:00, 892.15it/s]\n",
            "Epoch 100 Validation: 100%|██████████| 34/34 [00:00<00:00, 1909.03it/s]\n"
          ]
        },
        {
          "output_type": "stream",
          "name": "stdout",
          "text": [
            "Epoch 100 Training Loss: 0.8803, Accuracy: 0.6584\n",
            "Epoch 100 Validation Loss: 0.9119, Accuracy: 0.6041\n"
          ]
        },
        {
          "output_type": "stream",
          "name": "stderr",
          "text": [
            "Epoch 101 Training: 100%|██████████| 136/136 [00:00<00:00, 841.73it/s]\n",
            "Epoch 101 Validation: 100%|██████████| 34/34 [00:00<00:00, 1951.03it/s]\n"
          ]
        },
        {
          "output_type": "stream",
          "name": "stdout",
          "text": [
            "Epoch 101 Training Loss: 0.8782, Accuracy: 0.6538\n",
            "Epoch 101 Validation Loss: 0.8889, Accuracy: 0.6446\n"
          ]
        },
        {
          "output_type": "stream",
          "name": "stderr",
          "text": [
            "Epoch 102 Training: 100%|██████████| 136/136 [00:00<00:00, 879.63it/s]\n",
            "Epoch 102 Validation: 100%|██████████| 34/34 [00:00<00:00, 2096.69it/s]\n"
          ]
        },
        {
          "output_type": "stream",
          "name": "stdout",
          "text": [
            "Epoch 102 Training Loss: 0.8766, Accuracy: 0.6579\n",
            "Epoch 102 Validation Loss: 0.8861, Accuracy: 0.6464\n"
          ]
        },
        {
          "output_type": "stream",
          "name": "stderr",
          "text": [
            "Epoch 103 Training: 100%|██████████| 136/136 [00:00<00:00, 897.21it/s]\n",
            "Epoch 103 Validation: 100%|██████████| 34/34 [00:00<00:00, 1954.31it/s]\n"
          ]
        },
        {
          "output_type": "stream",
          "name": "stdout",
          "text": [
            "Epoch 103 Training Loss: 0.8722, Accuracy: 0.6685\n",
            "Epoch 103 Validation Loss: 0.8854, Accuracy: 0.6372\n"
          ]
        },
        {
          "output_type": "stream",
          "name": "stderr",
          "text": [
            "Epoch 104 Training: 100%|██████████| 136/136 [00:00<00:00, 581.12it/s]\n",
            "Epoch 104 Validation: 100%|██████████| 34/34 [00:00<00:00, 1553.58it/s]\n"
          ]
        },
        {
          "output_type": "stream",
          "name": "stdout",
          "text": [
            "Epoch 104 Training Loss: 0.8768, Accuracy: 0.6602\n",
            "Epoch 104 Validation Loss: 0.8795, Accuracy: 0.6483\n"
          ]
        },
        {
          "output_type": "stream",
          "name": "stderr",
          "text": [
            "Epoch 105 Training: 100%|██████████| 136/136 [00:00<00:00, 686.27it/s]\n",
            "Epoch 105 Validation: 100%|██████████| 34/34 [00:00<00:00, 1386.80it/s]\n"
          ]
        },
        {
          "output_type": "stream",
          "name": "stdout",
          "text": [
            "Epoch 105 Training Loss: 0.8757, Accuracy: 0.6584\n",
            "Epoch 105 Validation Loss: 0.8827, Accuracy: 0.6501\n"
          ]
        },
        {
          "output_type": "stream",
          "name": "stderr",
          "text": [
            "Epoch 106 Training: 100%|██████████| 136/136 [00:00<00:00, 653.44it/s]\n",
            "Epoch 106 Validation: 100%|██████████| 34/34 [00:00<00:00, 1787.70it/s]\n"
          ]
        },
        {
          "output_type": "stream",
          "name": "stdout",
          "text": [
            "Epoch 106 Training Loss: 0.8743, Accuracy: 0.6630\n",
            "Epoch 106 Validation Loss: 0.8929, Accuracy: 0.6280\n"
          ]
        },
        {
          "output_type": "stream",
          "name": "stderr",
          "text": [
            "Epoch 107 Training: 100%|██████████| 136/136 [00:00<00:00, 708.19it/s]\n",
            "Epoch 107 Validation: 100%|██████████| 34/34 [00:00<00:00, 1554.26it/s]\n"
          ]
        },
        {
          "output_type": "stream",
          "name": "stdout",
          "text": [
            "Epoch 107 Training Loss: 0.8707, Accuracy: 0.6653\n",
            "Epoch 107 Validation Loss: 0.8903, Accuracy: 0.6298\n"
          ]
        },
        {
          "output_type": "stream",
          "name": "stderr",
          "text": [
            "Epoch 108 Training: 100%|██████████| 136/136 [00:00<00:00, 689.52it/s]\n",
            "Epoch 108 Validation: 100%|██████████| 34/34 [00:00<00:00, 1484.66it/s]\n"
          ]
        },
        {
          "output_type": "stream",
          "name": "stdout",
          "text": [
            "Epoch 108 Training Loss: 0.8738, Accuracy: 0.6621\n",
            "Epoch 108 Validation Loss: 0.8829, Accuracy: 0.6446\n"
          ]
        },
        {
          "output_type": "stream",
          "name": "stderr",
          "text": [
            "Epoch 109 Training: 100%|██████████| 136/136 [00:00<00:00, 736.25it/s]\n",
            "Epoch 109 Validation: 100%|██████████| 34/34 [00:00<00:00, 1569.67it/s]\n"
          ]
        },
        {
          "output_type": "stream",
          "name": "stdout",
          "text": [
            "Epoch 109 Training Loss: 0.8730, Accuracy: 0.6602\n",
            "Epoch 109 Validation Loss: 0.9085, Accuracy: 0.6206\n"
          ]
        },
        {
          "output_type": "stream",
          "name": "stderr",
          "text": [
            "Epoch 110 Training: 100%|██████████| 136/136 [00:00<00:00, 679.95it/s]\n",
            "Epoch 110 Validation: 100%|██████████| 34/34 [00:00<00:00, 1446.74it/s]\n"
          ]
        },
        {
          "output_type": "stream",
          "name": "stdout",
          "text": [
            "Epoch 110 Training Loss: 0.8715, Accuracy: 0.6625\n",
            "Epoch 110 Validation Loss: 0.8941, Accuracy: 0.6317\n"
          ]
        },
        {
          "output_type": "stream",
          "name": "stderr",
          "text": [
            "Epoch 111 Training: 100%|██████████| 136/136 [00:00<00:00, 703.81it/s]\n",
            "Epoch 111 Validation: 100%|██████████| 34/34 [00:00<00:00, 1550.22it/s]\n"
          ]
        },
        {
          "output_type": "stream",
          "name": "stdout",
          "text": [
            "Epoch 111 Training Loss: 0.8718, Accuracy: 0.6602\n",
            "Epoch 111 Validation Loss: 0.8871, Accuracy: 0.6298\n"
          ]
        },
        {
          "output_type": "stream",
          "name": "stderr",
          "text": [
            "Epoch 112 Training: 100%|██████████| 136/136 [00:00<00:00, 663.11it/s]\n",
            "Epoch 112 Validation: 100%|██████████| 34/34 [00:00<00:00, 1654.44it/s]\n"
          ]
        },
        {
          "output_type": "stream",
          "name": "stdout",
          "text": [
            "Epoch 112 Training Loss: 0.8734, Accuracy: 0.6570\n",
            "Epoch 112 Validation Loss: 0.8845, Accuracy: 0.6464\n"
          ]
        },
        {
          "output_type": "stream",
          "name": "stderr",
          "text": [
            "Epoch 113 Training: 100%|██████████| 136/136 [00:00<00:00, 820.58it/s]\n",
            "Epoch 113 Validation: 100%|██████████| 34/34 [00:00<00:00, 1949.08it/s]\n"
          ]
        },
        {
          "output_type": "stream",
          "name": "stdout",
          "text": [
            "Epoch 113 Training Loss: 0.8724, Accuracy: 0.6616\n",
            "Epoch 113 Validation Loss: 0.8873, Accuracy: 0.6354\n"
          ]
        },
        {
          "output_type": "stream",
          "name": "stderr",
          "text": [
            "Epoch 114 Training: 100%|██████████| 136/136 [00:00<00:00, 808.04it/s]\n",
            "Epoch 114 Validation: 100%|██████████| 34/34 [00:00<00:00, 1895.93it/s]\n"
          ]
        },
        {
          "output_type": "stream",
          "name": "stdout",
          "text": [
            "Epoch 114 Training Loss: 0.8690, Accuracy: 0.6676\n",
            "Epoch 114 Validation Loss: 0.8991, Accuracy: 0.6206\n"
          ]
        },
        {
          "output_type": "stream",
          "name": "stderr",
          "text": [
            "Epoch 115 Training: 100%|██████████| 136/136 [00:00<00:00, 845.10it/s]\n",
            "Epoch 115 Validation: 100%|██████████| 34/34 [00:00<00:00, 1758.86it/s]\n"
          ]
        },
        {
          "output_type": "stream",
          "name": "stdout",
          "text": [
            "Epoch 115 Training Loss: 0.8711, Accuracy: 0.6657\n",
            "Epoch 115 Validation Loss: 0.9040, Accuracy: 0.6188\n"
          ]
        },
        {
          "output_type": "stream",
          "name": "stderr",
          "text": [
            "Epoch 116 Training: 100%|██████████| 136/136 [00:00<00:00, 909.10it/s]\n",
            "Epoch 116 Validation: 100%|██████████| 34/34 [00:00<00:00, 1978.69it/s]\n"
          ]
        },
        {
          "output_type": "stream",
          "name": "stdout",
          "text": [
            "Epoch 116 Training Loss: 0.8702, Accuracy: 0.6703\n",
            "Epoch 116 Validation Loss: 0.8952, Accuracy: 0.6262\n"
          ]
        },
        {
          "output_type": "stream",
          "name": "stderr",
          "text": [
            "Epoch 117 Training: 100%|██████████| 136/136 [00:00<00:00, 822.82it/s]\n",
            "Epoch 117 Validation: 100%|██████████| 34/34 [00:00<00:00, 1843.67it/s]\n"
          ]
        },
        {
          "output_type": "stream",
          "name": "stdout",
          "text": [
            "Epoch 117 Training Loss: 0.8688, Accuracy: 0.6634\n",
            "Epoch 117 Validation Loss: 0.9044, Accuracy: 0.6188\n"
          ]
        },
        {
          "output_type": "stream",
          "name": "stderr",
          "text": [
            "Epoch 118 Training: 100%|██████████| 136/136 [00:00<00:00, 885.59it/s]\n",
            "Epoch 118 Validation: 100%|██████████| 34/34 [00:00<00:00, 1693.60it/s]\n"
          ]
        },
        {
          "output_type": "stream",
          "name": "stdout",
          "text": [
            "Epoch 118 Training Loss: 0.8732, Accuracy: 0.6621\n",
            "Epoch 118 Validation Loss: 0.8824, Accuracy: 0.6464\n"
          ]
        },
        {
          "output_type": "stream",
          "name": "stderr",
          "text": [
            "Epoch 119 Training: 100%|██████████| 136/136 [00:00<00:00, 871.09it/s]\n",
            "Epoch 119 Validation: 100%|██████████| 34/34 [00:00<00:00, 1851.04it/s]\n"
          ]
        },
        {
          "output_type": "stream",
          "name": "stdout",
          "text": [
            "Epoch 119 Training Loss: 0.8735, Accuracy: 0.6588\n",
            "Epoch 119 Validation Loss: 0.8902, Accuracy: 0.6317\n"
          ]
        },
        {
          "output_type": "stream",
          "name": "stderr",
          "text": [
            "Epoch 120 Training: 100%|██████████| 136/136 [00:00<00:00, 810.55it/s]\n",
            "Epoch 120 Validation: 100%|██████████| 34/34 [00:00<00:00, 1900.35it/s]\n"
          ]
        },
        {
          "output_type": "stream",
          "name": "stdout",
          "text": [
            "Epoch 120 Training Loss: 0.8677, Accuracy: 0.6694\n",
            "Epoch 120 Validation Loss: 0.8919, Accuracy: 0.6317\n"
          ]
        },
        {
          "output_type": "stream",
          "name": "stderr",
          "text": [
            "Epoch 121 Training: 100%|██████████| 136/136 [00:00<00:00, 911.83it/s]\n",
            "Epoch 121 Validation: 100%|██████████| 34/34 [00:00<00:00, 2054.43it/s]\n"
          ]
        },
        {
          "output_type": "stream",
          "name": "stdout",
          "text": [
            "Epoch 121 Training Loss: 0.8675, Accuracy: 0.6685\n",
            "Epoch 121 Validation Loss: 0.8853, Accuracy: 0.6372\n"
          ]
        },
        {
          "output_type": "stream",
          "name": "stderr",
          "text": [
            "Epoch 122 Training: 100%|██████████| 136/136 [00:00<00:00, 902.64it/s]\n",
            "Epoch 122 Validation: 100%|██████████| 34/34 [00:00<00:00, 2178.83it/s]\n"
          ]
        },
        {
          "output_type": "stream",
          "name": "stdout",
          "text": [
            "Epoch 122 Training Loss: 0.8718, Accuracy: 0.6634\n",
            "Epoch 122 Validation Loss: 0.8809, Accuracy: 0.6501\n"
          ]
        },
        {
          "output_type": "stream",
          "name": "stderr",
          "text": [
            "Epoch 123 Training: 100%|██████████| 136/136 [00:00<00:00, 819.10it/s]\n",
            "Epoch 123 Validation: 100%|██████████| 34/34 [00:00<00:00, 1761.66it/s]\n"
          ]
        },
        {
          "output_type": "stream",
          "name": "stdout",
          "text": [
            "Epoch 123 Training Loss: 0.8681, Accuracy: 0.6671\n",
            "Epoch 123 Validation Loss: 0.8852, Accuracy: 0.6390\n"
          ]
        },
        {
          "output_type": "stream",
          "name": "stderr",
          "text": [
            "Epoch 124 Training: 100%|██████████| 136/136 [00:00<00:00, 882.85it/s]\n",
            "Epoch 124 Validation: 100%|██████████| 34/34 [00:00<00:00, 1883.49it/s]\n"
          ]
        },
        {
          "output_type": "stream",
          "name": "stdout",
          "text": [
            "Epoch 124 Training Loss: 0.8703, Accuracy: 0.6703\n",
            "Epoch 124 Validation Loss: 0.8831, Accuracy: 0.6538\n"
          ]
        },
        {
          "output_type": "stream",
          "name": "stderr",
          "text": [
            "Epoch 125 Training: 100%|██████████| 136/136 [00:00<00:00, 872.46it/s]\n",
            "Epoch 125 Validation: 100%|██████████| 34/34 [00:00<00:00, 1491.95it/s]\n"
          ]
        },
        {
          "output_type": "stream",
          "name": "stdout",
          "text": [
            "Epoch 125 Training Loss: 0.8738, Accuracy: 0.6611\n",
            "Epoch 125 Validation Loss: 0.8990, Accuracy: 0.6243\n"
          ]
        },
        {
          "output_type": "stream",
          "name": "stderr",
          "text": [
            "Epoch 126 Training: 100%|██████████| 136/136 [00:00<00:00, 906.41it/s]\n",
            "Epoch 126 Validation: 100%|██████████| 34/34 [00:00<00:00, 1845.25it/s]\n"
          ]
        },
        {
          "output_type": "stream",
          "name": "stdout",
          "text": [
            "Epoch 126 Training Loss: 0.8680, Accuracy: 0.6754\n",
            "Epoch 126 Validation Loss: 0.8925, Accuracy: 0.6317\n"
          ]
        },
        {
          "output_type": "stream",
          "name": "stderr",
          "text": [
            "Epoch 127 Training: 100%|██████████| 136/136 [00:00<00:00, 851.44it/s]\n",
            "Epoch 127 Validation: 100%|██████████| 34/34 [00:00<00:00, 1702.44it/s]\n"
          ]
        },
        {
          "output_type": "stream",
          "name": "stdout",
          "text": [
            "Epoch 127 Training Loss: 0.8720, Accuracy: 0.6653\n",
            "Epoch 127 Validation Loss: 0.8819, Accuracy: 0.6372\n"
          ]
        },
        {
          "output_type": "stream",
          "name": "stderr",
          "text": [
            "Epoch 128 Training: 100%|██████████| 136/136 [00:00<00:00, 852.24it/s]\n",
            "Epoch 128 Validation: 100%|██████████| 34/34 [00:00<00:00, 1817.17it/s]\n"
          ]
        },
        {
          "output_type": "stream",
          "name": "stdout",
          "text": [
            "Epoch 128 Training Loss: 0.8745, Accuracy: 0.6593\n",
            "Epoch 128 Validation Loss: 0.8971, Accuracy: 0.6243\n"
          ]
        },
        {
          "output_type": "stream",
          "name": "stderr",
          "text": [
            "Epoch 129 Training: 100%|██████████| 136/136 [00:00<00:00, 861.42it/s]\n",
            "Epoch 129 Validation: 100%|██████████| 34/34 [00:00<00:00, 1802.02it/s]\n"
          ]
        },
        {
          "output_type": "stream",
          "name": "stdout",
          "text": [
            "Epoch 129 Training Loss: 0.8702, Accuracy: 0.6662\n",
            "Epoch 129 Validation Loss: 0.8864, Accuracy: 0.6427\n"
          ]
        },
        {
          "output_type": "stream",
          "name": "stderr",
          "text": [
            "Epoch 130 Training: 100%|██████████| 136/136 [00:00<00:00, 821.63it/s]\n",
            "Epoch 130 Validation: 100%|██████████| 34/34 [00:00<00:00, 2061.23it/s]\n"
          ]
        },
        {
          "output_type": "stream",
          "name": "stdout",
          "text": [
            "Epoch 130 Training Loss: 0.8704, Accuracy: 0.6690\n",
            "Epoch 130 Validation Loss: 0.8945, Accuracy: 0.6206\n"
          ]
        },
        {
          "output_type": "stream",
          "name": "stderr",
          "text": [
            "Epoch 131 Training: 100%|██████████| 136/136 [00:00<00:00, 827.25it/s]\n",
            "Epoch 131 Validation: 100%|██████████| 34/34 [00:00<00:00, 1851.91it/s]\n"
          ]
        },
        {
          "output_type": "stream",
          "name": "stdout",
          "text": [
            "Epoch 131 Training Loss: 0.8752, Accuracy: 0.6579\n",
            "Epoch 131 Validation Loss: 0.8826, Accuracy: 0.6446\n"
          ]
        },
        {
          "output_type": "stream",
          "name": "stderr",
          "text": [
            "Epoch 132 Training: 100%|██████████| 136/136 [00:00<00:00, 816.95it/s]\n",
            "Epoch 132 Validation: 100%|██████████| 34/34 [00:00<00:00, 1944.19it/s]\n"
          ]
        },
        {
          "output_type": "stream",
          "name": "stdout",
          "text": [
            "Epoch 132 Training Loss: 0.8683, Accuracy: 0.6690\n",
            "Epoch 132 Validation Loss: 0.8851, Accuracy: 0.6446\n"
          ]
        },
        {
          "output_type": "stream",
          "name": "stderr",
          "text": [
            "Epoch 133 Training: 100%|██████████| 136/136 [00:00<00:00, 870.09it/s]\n",
            "Epoch 133 Validation: 100%|██████████| 34/34 [00:00<00:00, 2050.62it/s]\n"
          ]
        },
        {
          "output_type": "stream",
          "name": "stdout",
          "text": [
            "Epoch 133 Training Loss: 0.8731, Accuracy: 0.6630\n",
            "Epoch 133 Validation Loss: 0.8838, Accuracy: 0.6575\n"
          ]
        },
        {
          "output_type": "stream",
          "name": "stderr",
          "text": [
            "Epoch 134 Training: 100%|██████████| 136/136 [00:00<00:00, 864.15it/s]\n",
            "Epoch 134 Validation: 100%|██████████| 34/34 [00:00<00:00, 2276.20it/s]\n"
          ]
        },
        {
          "output_type": "stream",
          "name": "stdout",
          "text": [
            "Epoch 134 Training Loss: 0.8702, Accuracy: 0.6657\n",
            "Epoch 134 Validation Loss: 0.8982, Accuracy: 0.6317\n"
          ]
        },
        {
          "output_type": "stream",
          "name": "stderr",
          "text": [
            "Epoch 135 Training: 100%|██████████| 136/136 [00:00<00:00, 856.32it/s]\n",
            "Epoch 135 Validation: 100%|██████████| 34/34 [00:00<00:00, 1691.49it/s]\n"
          ]
        },
        {
          "output_type": "stream",
          "name": "stdout",
          "text": [
            "Epoch 135 Training Loss: 0.8735, Accuracy: 0.6625\n",
            "Epoch 135 Validation Loss: 0.8936, Accuracy: 0.6298\n"
          ]
        },
        {
          "output_type": "stream",
          "name": "stderr",
          "text": [
            "Epoch 136 Training: 100%|██████████| 136/136 [00:00<00:00, 844.68it/s]\n",
            "Epoch 136 Validation: 100%|██████████| 34/34 [00:00<00:00, 1754.83it/s]\n"
          ]
        },
        {
          "output_type": "stream",
          "name": "stdout",
          "text": [
            "Epoch 136 Training Loss: 0.8723, Accuracy: 0.6607\n",
            "Epoch 136 Validation Loss: 0.8745, Accuracy: 0.6575\n"
          ]
        },
        {
          "output_type": "stream",
          "name": "stderr",
          "text": [
            "Epoch 137 Training: 100%|██████████| 136/136 [00:00<00:00, 829.26it/s]\n",
            "Epoch 137 Validation: 100%|██████████| 34/34 [00:00<00:00, 2100.86it/s]\n"
          ]
        },
        {
          "output_type": "stream",
          "name": "stdout",
          "text": [
            "Epoch 137 Training Loss: 0.8676, Accuracy: 0.6680\n",
            "Epoch 137 Validation Loss: 0.8895, Accuracy: 0.6298\n"
          ]
        },
        {
          "output_type": "stream",
          "name": "stderr",
          "text": [
            "Epoch 138 Training: 100%|██████████| 136/136 [00:00<00:00, 852.31it/s]\n",
            "Epoch 138 Validation: 100%|██████████| 34/34 [00:00<00:00, 1801.90it/s]\n"
          ]
        },
        {
          "output_type": "stream",
          "name": "stdout",
          "text": [
            "Epoch 138 Training Loss: 0.8717, Accuracy: 0.6598\n",
            "Epoch 138 Validation Loss: 0.8862, Accuracy: 0.6427\n"
          ]
        },
        {
          "output_type": "stream",
          "name": "stderr",
          "text": [
            "Epoch 139 Training: 100%|██████████| 136/136 [00:00<00:00, 852.30it/s]\n",
            "Epoch 139 Validation: 100%|██████████| 34/34 [00:00<00:00, 1778.58it/s]\n"
          ]
        },
        {
          "output_type": "stream",
          "name": "stdout",
          "text": [
            "Epoch 139 Training Loss: 0.8660, Accuracy: 0.6717\n",
            "Epoch 139 Validation Loss: 0.8884, Accuracy: 0.6262\n"
          ]
        },
        {
          "output_type": "stream",
          "name": "stderr",
          "text": [
            "Epoch 140 Training: 100%|██████████| 136/136 [00:00<00:00, 853.00it/s]\n",
            "Epoch 140 Validation: 100%|██████████| 34/34 [00:00<00:00, 1981.74it/s]\n"
          ]
        },
        {
          "output_type": "stream",
          "name": "stdout",
          "text": [
            "Epoch 140 Training Loss: 0.8654, Accuracy: 0.6676\n",
            "Epoch 140 Validation Loss: 0.8807, Accuracy: 0.6611\n"
          ]
        },
        {
          "output_type": "stream",
          "name": "stderr",
          "text": [
            "Epoch 141 Training: 100%|██████████| 136/136 [00:00<00:00, 801.23it/s]\n",
            "Epoch 141 Validation: 100%|██████████| 34/34 [00:00<00:00, 1655.75it/s]\n"
          ]
        },
        {
          "output_type": "stream",
          "name": "stdout",
          "text": [
            "Epoch 141 Training Loss: 0.8667, Accuracy: 0.6680\n",
            "Epoch 141 Validation Loss: 0.8994, Accuracy: 0.6188\n"
          ]
        },
        {
          "output_type": "stream",
          "name": "stderr",
          "text": [
            "Epoch 142 Training: 100%|██████████| 136/136 [00:00<00:00, 820.39it/s]\n",
            "Epoch 142 Validation: 100%|██████████| 34/34 [00:00<00:00, 1695.60it/s]\n"
          ]
        },
        {
          "output_type": "stream",
          "name": "stdout",
          "text": [
            "Epoch 142 Training Loss: 0.8717, Accuracy: 0.6579\n",
            "Epoch 142 Validation Loss: 0.8832, Accuracy: 0.6372\n"
          ]
        },
        {
          "output_type": "stream",
          "name": "stderr",
          "text": [
            "Epoch 143 Training: 100%|██████████| 136/136 [00:00<00:00, 895.81it/s]\n",
            "Epoch 143 Validation: 100%|██████████| 34/34 [00:00<00:00, 2019.63it/s]\n"
          ]
        },
        {
          "output_type": "stream",
          "name": "stdout",
          "text": [
            "Epoch 143 Training Loss: 0.8706, Accuracy: 0.6648\n",
            "Epoch 143 Validation Loss: 0.8796, Accuracy: 0.6519\n"
          ]
        },
        {
          "output_type": "stream",
          "name": "stderr",
          "text": [
            "Epoch 144 Training: 100%|██████████| 136/136 [00:00<00:00, 867.43it/s]\n",
            "Epoch 144 Validation: 100%|██████████| 34/34 [00:00<00:00, 1629.77it/s]\n"
          ]
        },
        {
          "output_type": "stream",
          "name": "stdout",
          "text": [
            "Epoch 144 Training Loss: 0.8677, Accuracy: 0.6671\n",
            "Epoch 144 Validation Loss: 0.8942, Accuracy: 0.6262\n"
          ]
        },
        {
          "output_type": "stream",
          "name": "stderr",
          "text": [
            "Epoch 145 Training: 100%|██████████| 136/136 [00:00<00:00, 872.02it/s]\n",
            "Epoch 145 Validation: 100%|██████████| 34/34 [00:00<00:00, 1765.48it/s]\n"
          ]
        },
        {
          "output_type": "stream",
          "name": "stdout",
          "text": [
            "Epoch 145 Training Loss: 0.8708, Accuracy: 0.6630\n",
            "Epoch 145 Validation Loss: 0.8877, Accuracy: 0.6335\n"
          ]
        },
        {
          "output_type": "stream",
          "name": "stderr",
          "text": [
            "Epoch 146 Training: 100%|██████████| 136/136 [00:00<00:00, 804.50it/s]\n",
            "Epoch 146 Validation: 100%|██████████| 34/34 [00:00<00:00, 1633.28it/s]\n"
          ]
        },
        {
          "output_type": "stream",
          "name": "stdout",
          "text": [
            "Epoch 146 Training Loss: 0.8701, Accuracy: 0.6644\n",
            "Epoch 146 Validation Loss: 0.8846, Accuracy: 0.6427\n"
          ]
        },
        {
          "output_type": "stream",
          "name": "stderr",
          "text": [
            "Epoch 147 Training: 100%|██████████| 136/136 [00:00<00:00, 872.73it/s]\n",
            "Epoch 147 Validation: 100%|██████████| 34/34 [00:00<00:00, 1852.78it/s]\n"
          ]
        },
        {
          "output_type": "stream",
          "name": "stdout",
          "text": [
            "Epoch 147 Training Loss: 0.8740, Accuracy: 0.6611\n",
            "Epoch 147 Validation Loss: 0.8910, Accuracy: 0.6335\n"
          ]
        },
        {
          "output_type": "stream",
          "name": "stderr",
          "text": [
            "Epoch 148 Training: 100%|██████████| 136/136 [00:00<00:00, 888.92it/s]\n",
            "Epoch 148 Validation: 100%|██████████| 34/34 [00:00<00:00, 1880.56it/s]\n"
          ]
        },
        {
          "output_type": "stream",
          "name": "stdout",
          "text": [
            "Epoch 148 Training Loss: 0.8700, Accuracy: 0.6717\n",
            "Epoch 148 Validation Loss: 0.8910, Accuracy: 0.6372\n"
          ]
        },
        {
          "output_type": "stream",
          "name": "stderr",
          "text": [
            "Epoch 149 Training: 100%|██████████| 136/136 [00:00<00:00, 871.73it/s]\n",
            "Epoch 149 Validation: 100%|██████████| 34/34 [00:00<00:00, 1914.82it/s]\n"
          ]
        },
        {
          "output_type": "stream",
          "name": "stdout",
          "text": [
            "Epoch 149 Training Loss: 0.8703, Accuracy: 0.6648\n",
            "Epoch 149 Validation Loss: 0.8961, Accuracy: 0.6372\n"
          ]
        },
        {
          "output_type": "stream",
          "name": "stderr",
          "text": [
            "Epoch 150 Training: 100%|██████████| 136/136 [00:00<00:00, 841.10it/s]\n",
            "Epoch 150 Validation: 100%|██████████| 34/34 [00:00<00:00, 1766.13it/s]\n"
          ]
        },
        {
          "output_type": "stream",
          "name": "stdout",
          "text": [
            "Epoch 150 Training Loss: 0.8697, Accuracy: 0.6671\n",
            "Epoch 150 Validation Loss: 0.8925, Accuracy: 0.6317\n"
          ]
        },
        {
          "output_type": "stream",
          "name": "stderr",
          "text": [
            "Epoch 151 Training: 100%|██████████| 136/136 [00:00<00:00, 843.78it/s]\n",
            "Epoch 151 Validation: 100%|██████████| 34/34 [00:00<00:00, 2260.08it/s]\n"
          ]
        },
        {
          "output_type": "stream",
          "name": "stdout",
          "text": [
            "Epoch 151 Training Loss: 0.8741, Accuracy: 0.6561\n",
            "Epoch 151 Validation Loss: 0.8805, Accuracy: 0.6519\n"
          ]
        },
        {
          "output_type": "stream",
          "name": "stderr",
          "text": [
            "Epoch 152 Training: 100%|██████████| 136/136 [00:00<00:00, 846.71it/s]\n",
            "Epoch 152 Validation: 100%|██████████| 34/34 [00:00<00:00, 2297.14it/s]\n"
          ]
        },
        {
          "output_type": "stream",
          "name": "stdout",
          "text": [
            "Epoch 152 Training Loss: 0.8685, Accuracy: 0.6676\n",
            "Epoch 152 Validation Loss: 0.8851, Accuracy: 0.6390\n"
          ]
        },
        {
          "output_type": "stream",
          "name": "stderr",
          "text": [
            "Epoch 153 Training: 100%|██████████| 136/136 [00:00<00:00, 847.37it/s]\n",
            "Epoch 153 Validation: 100%|██████████| 34/34 [00:00<00:00, 2044.24it/s]\n"
          ]
        },
        {
          "output_type": "stream",
          "name": "stdout",
          "text": [
            "Epoch 153 Training Loss: 0.8673, Accuracy: 0.6690\n",
            "Epoch 153 Validation Loss: 0.8828, Accuracy: 0.6427\n"
          ]
        },
        {
          "output_type": "stream",
          "name": "stderr",
          "text": [
            "Epoch 154 Training: 100%|██████████| 136/136 [00:00<00:00, 798.33it/s]\n",
            "Epoch 154 Validation: 100%|██████████| 34/34 [00:00<00:00, 1628.89it/s]\n"
          ]
        },
        {
          "output_type": "stream",
          "name": "stdout",
          "text": [
            "Epoch 154 Training Loss: 0.8667, Accuracy: 0.6690\n",
            "Epoch 154 Validation Loss: 0.8798, Accuracy: 0.6593\n"
          ]
        },
        {
          "output_type": "stream",
          "name": "stderr",
          "text": [
            "Epoch 155 Training: 100%|██████████| 136/136 [00:00<00:00, 829.96it/s]\n",
            "Epoch 155 Validation: 100%|██████████| 34/34 [00:00<00:00, 1607.28it/s]\n"
          ]
        },
        {
          "output_type": "stream",
          "name": "stdout",
          "text": [
            "Epoch 155 Training Loss: 0.8732, Accuracy: 0.6616\n",
            "Epoch 155 Validation Loss: 0.8848, Accuracy: 0.6556\n"
          ]
        },
        {
          "output_type": "stream",
          "name": "stderr",
          "text": [
            "Epoch 156 Training: 100%|██████████| 136/136 [00:00<00:00, 868.75it/s]\n",
            "Epoch 156 Validation: 100%|██████████| 34/34 [00:00<00:00, 2085.31it/s]\n"
          ]
        },
        {
          "output_type": "stream",
          "name": "stdout",
          "text": [
            "Epoch 156 Training Loss: 0.8686, Accuracy: 0.6750\n",
            "Epoch 156 Validation Loss: 0.8824, Accuracy: 0.6464\n"
          ]
        },
        {
          "output_type": "stream",
          "name": "stderr",
          "text": [
            "Epoch 157 Training: 100%|██████████| 136/136 [00:00<00:00, 845.37it/s]\n",
            "Epoch 157 Validation: 100%|██████████| 34/34 [00:00<00:00, 1981.33it/s]\n"
          ]
        },
        {
          "output_type": "stream",
          "name": "stdout",
          "text": [
            "Epoch 157 Training Loss: 0.8717, Accuracy: 0.6630\n",
            "Epoch 157 Validation Loss: 0.8871, Accuracy: 0.6317\n"
          ]
        },
        {
          "output_type": "stream",
          "name": "stderr",
          "text": [
            "Epoch 158 Training: 100%|██████████| 136/136 [00:00<00:00, 871.78it/s]\n",
            "Epoch 158 Validation: 100%|██████████| 34/34 [00:00<00:00, 1615.99it/s]\n"
          ]
        },
        {
          "output_type": "stream",
          "name": "stdout",
          "text": [
            "Epoch 158 Training Loss: 0.8724, Accuracy: 0.6598\n",
            "Epoch 158 Validation Loss: 0.8870, Accuracy: 0.6575\n"
          ]
        },
        {
          "output_type": "stream",
          "name": "stderr",
          "text": [
            "Epoch 159 Training: 100%|██████████| 136/136 [00:00<00:00, 875.78it/s]\n",
            "Epoch 159 Validation: 100%|██████████| 34/34 [00:00<00:00, 1761.27it/s]\n"
          ]
        },
        {
          "output_type": "stream",
          "name": "stdout",
          "text": [
            "Epoch 159 Training Loss: 0.8721, Accuracy: 0.6680\n",
            "Epoch 159 Validation Loss: 0.8862, Accuracy: 0.6446\n"
          ]
        },
        {
          "output_type": "stream",
          "name": "stderr",
          "text": [
            "Epoch 160 Training: 100%|██████████| 136/136 [00:00<00:00, 884.96it/s]\n",
            "Epoch 160 Validation: 100%|██████████| 34/34 [00:00<00:00, 1557.99it/s]\n"
          ]
        },
        {
          "output_type": "stream",
          "name": "stdout",
          "text": [
            "Epoch 160 Training Loss: 0.8675, Accuracy: 0.6685\n",
            "Epoch 160 Validation Loss: 0.9004, Accuracy: 0.6225\n"
          ]
        },
        {
          "output_type": "stream",
          "name": "stderr",
          "text": [
            "Epoch 161 Training: 100%|██████████| 136/136 [00:00<00:00, 822.46it/s]\n",
            "Epoch 161 Validation: 100%|██████████| 34/34 [00:00<00:00, 2162.41it/s]\n"
          ]
        },
        {
          "output_type": "stream",
          "name": "stdout",
          "text": [
            "Epoch 161 Training Loss: 0.8682, Accuracy: 0.6680\n",
            "Epoch 161 Validation Loss: 0.8886, Accuracy: 0.6390\n"
          ]
        },
        {
          "output_type": "stream",
          "name": "stderr",
          "text": [
            "Epoch 162 Training: 100%|██████████| 136/136 [00:00<00:00, 850.63it/s]\n",
            "Epoch 162 Validation: 100%|██████████| 34/34 [00:00<00:00, 1732.38it/s]\n"
          ]
        },
        {
          "output_type": "stream",
          "name": "stdout",
          "text": [
            "Epoch 162 Training Loss: 0.8679, Accuracy: 0.6736\n",
            "Epoch 162 Validation Loss: 0.8909, Accuracy: 0.6427\n"
          ]
        },
        {
          "output_type": "stream",
          "name": "stderr",
          "text": [
            "Epoch 163 Training: 100%|██████████| 136/136 [00:00<00:00, 835.91it/s]\n",
            "Epoch 163 Validation: 100%|██████████| 34/34 [00:00<00:00, 1744.38it/s]\n"
          ]
        },
        {
          "output_type": "stream",
          "name": "stdout",
          "text": [
            "Epoch 163 Training Loss: 0.8705, Accuracy: 0.6565\n",
            "Epoch 163 Validation Loss: 0.8818, Accuracy: 0.6464\n"
          ]
        },
        {
          "output_type": "stream",
          "name": "stderr",
          "text": [
            "Epoch 164 Training: 100%|██████████| 136/136 [00:00<00:00, 811.53it/s]\n",
            "Epoch 164 Validation: 100%|██████████| 34/34 [00:00<00:00, 1244.22it/s]\n"
          ]
        },
        {
          "output_type": "stream",
          "name": "stdout",
          "text": [
            "Epoch 164 Training Loss: 0.8710, Accuracy: 0.6667\n",
            "Epoch 164 Validation Loss: 0.8877, Accuracy: 0.6427\n"
          ]
        },
        {
          "output_type": "stream",
          "name": "stderr",
          "text": [
            "Epoch 165 Training: 100%|██████████| 136/136 [00:00<00:00, 631.81it/s]\n",
            "Epoch 165 Validation: 100%|██████████| 34/34 [00:00<00:00, 1423.60it/s]\n"
          ]
        },
        {
          "output_type": "stream",
          "name": "stdout",
          "text": [
            "Epoch 165 Training Loss: 0.8702, Accuracy: 0.6690\n",
            "Epoch 165 Validation Loss: 0.9007, Accuracy: 0.6243\n"
          ]
        },
        {
          "output_type": "stream",
          "name": "stderr",
          "text": [
            "Epoch 166 Training: 100%|██████████| 136/136 [00:00<00:00, 678.83it/s]\n",
            "Epoch 166 Validation: 100%|██████████| 34/34 [00:00<00:00, 1710.85it/s]\n"
          ]
        },
        {
          "output_type": "stream",
          "name": "stdout",
          "text": [
            "Epoch 166 Training Loss: 0.8696, Accuracy: 0.6676\n",
            "Epoch 166 Validation Loss: 0.9070, Accuracy: 0.6298\n"
          ]
        },
        {
          "output_type": "stream",
          "name": "stderr",
          "text": [
            "Epoch 167 Training: 100%|██████████| 136/136 [00:00<00:00, 688.56it/s]\n",
            "Epoch 167 Validation: 100%|██████████| 34/34 [00:00<00:00, 1538.45it/s]\n"
          ]
        },
        {
          "output_type": "stream",
          "name": "stdout",
          "text": [
            "Epoch 167 Training Loss: 0.8716, Accuracy: 0.6644\n",
            "Epoch 167 Validation Loss: 0.8792, Accuracy: 0.6556\n"
          ]
        },
        {
          "output_type": "stream",
          "name": "stderr",
          "text": [
            "Epoch 168 Training: 100%|██████████| 136/136 [00:00<00:00, 702.62it/s]\n",
            "Epoch 168 Validation: 100%|██████████| 34/34 [00:00<00:00, 1548.08it/s]\n"
          ]
        },
        {
          "output_type": "stream",
          "name": "stdout",
          "text": [
            "Epoch 168 Training Loss: 0.8673, Accuracy: 0.6680\n",
            "Epoch 168 Validation Loss: 0.8786, Accuracy: 0.6464\n"
          ]
        },
        {
          "output_type": "stream",
          "name": "stderr",
          "text": [
            "Epoch 169 Training: 100%|██████████| 136/136 [00:00<00:00, 676.58it/s]\n",
            "Epoch 169 Validation: 100%|██████████| 34/34 [00:00<00:00, 1765.89it/s]\n"
          ]
        },
        {
          "output_type": "stream",
          "name": "stdout",
          "text": [
            "Epoch 169 Training Loss: 0.8668, Accuracy: 0.6708\n",
            "Epoch 169 Validation Loss: 0.8889, Accuracy: 0.6372\n"
          ]
        },
        {
          "output_type": "stream",
          "name": "stderr",
          "text": [
            "Epoch 170 Training: 100%|██████████| 136/136 [00:00<00:00, 691.58it/s]\n",
            "Epoch 170 Validation: 100%|██████████| 34/34 [00:00<00:00, 1770.08it/s]\n"
          ]
        },
        {
          "output_type": "stream",
          "name": "stdout",
          "text": [
            "Epoch 170 Training Loss: 0.8689, Accuracy: 0.6690\n",
            "Epoch 170 Validation Loss: 0.8987, Accuracy: 0.6188\n"
          ]
        },
        {
          "output_type": "stream",
          "name": "stderr",
          "text": [
            "Epoch 171 Training: 100%|██████████| 136/136 [00:00<00:00, 684.36it/s]\n",
            "Epoch 171 Validation: 100%|██████████| 34/34 [00:00<00:00, 1808.00it/s]\n"
          ]
        },
        {
          "output_type": "stream",
          "name": "stdout",
          "text": [
            "Epoch 171 Training Loss: 0.8762, Accuracy: 0.6570\n",
            "Epoch 171 Validation Loss: 0.8906, Accuracy: 0.6335\n"
          ]
        },
        {
          "output_type": "stream",
          "name": "stderr",
          "text": [
            "Epoch 172 Training: 100%|██████████| 136/136 [00:00<00:00, 691.98it/s]\n",
            "Epoch 172 Validation: 100%|██████████| 34/34 [00:00<00:00, 1598.55it/s]\n"
          ]
        },
        {
          "output_type": "stream",
          "name": "stdout",
          "text": [
            "Epoch 172 Training Loss: 0.8699, Accuracy: 0.6634\n",
            "Epoch 172 Validation Loss: 0.8892, Accuracy: 0.6354\n"
          ]
        },
        {
          "output_type": "stream",
          "name": "stderr",
          "text": [
            "Epoch 173 Training: 100%|██████████| 136/136 [00:00<00:00, 667.23it/s]\n",
            "Epoch 173 Validation: 100%|██████████| 34/34 [00:00<00:00, 1736.29it/s]\n"
          ]
        },
        {
          "output_type": "stream",
          "name": "stdout",
          "text": [
            "Epoch 173 Training Loss: 0.8651, Accuracy: 0.6713\n",
            "Epoch 173 Validation Loss: 0.8863, Accuracy: 0.6335\n"
          ]
        },
        {
          "output_type": "stream",
          "name": "stderr",
          "text": [
            "Epoch 174 Training: 100%|██████████| 136/136 [00:00<00:00, 627.21it/s]\n",
            "Epoch 174 Validation: 100%|██████████| 34/34 [00:00<00:00, 2119.94it/s]\n"
          ]
        },
        {
          "output_type": "stream",
          "name": "stdout",
          "text": [
            "Epoch 174 Training Loss: 0.8658, Accuracy: 0.6680\n",
            "Epoch 174 Validation Loss: 0.8876, Accuracy: 0.6298\n"
          ]
        },
        {
          "output_type": "stream",
          "name": "stderr",
          "text": [
            "Epoch 175 Training: 100%|██████████| 136/136 [00:00<00:00, 849.37it/s]\n",
            "Epoch 175 Validation: 100%|██████████| 34/34 [00:00<00:00, 2033.08it/s]\n"
          ]
        },
        {
          "output_type": "stream",
          "name": "stdout",
          "text": [
            "Epoch 175 Training Loss: 0.8654, Accuracy: 0.6703\n",
            "Epoch 175 Validation Loss: 0.8873, Accuracy: 0.6464\n"
          ]
        },
        {
          "output_type": "stream",
          "name": "stderr",
          "text": [
            "Epoch 176 Training: 100%|██████████| 136/136 [00:00<00:00, 838.28it/s]\n",
            "Epoch 176 Validation: 100%|██████████| 34/34 [00:00<00:00, 1581.76it/s]\n"
          ]
        },
        {
          "output_type": "stream",
          "name": "stdout",
          "text": [
            "Epoch 176 Training Loss: 0.8702, Accuracy: 0.6602\n",
            "Epoch 176 Validation Loss: 0.8919, Accuracy: 0.6262\n"
          ]
        },
        {
          "output_type": "stream",
          "name": "stderr",
          "text": [
            "Epoch 177 Training: 100%|██████████| 136/136 [00:00<00:00, 886.05it/s]\n",
            "Epoch 177 Validation: 100%|██████████| 34/34 [00:00<00:00, 1658.02it/s]\n"
          ]
        },
        {
          "output_type": "stream",
          "name": "stdout",
          "text": [
            "Epoch 177 Training Loss: 0.8681, Accuracy: 0.6676\n",
            "Epoch 177 Validation Loss: 0.8853, Accuracy: 0.6519\n"
          ]
        },
        {
          "output_type": "stream",
          "name": "stderr",
          "text": [
            "Epoch 178 Training: 100%|██████████| 136/136 [00:00<00:00, 918.56it/s]\n",
            "Epoch 178 Validation: 100%|██████████| 34/34 [00:00<00:00, 1701.58it/s]\n"
          ]
        },
        {
          "output_type": "stream",
          "name": "stdout",
          "text": [
            "Epoch 178 Training Loss: 0.8698, Accuracy: 0.6648\n",
            "Epoch 178 Validation Loss: 0.8981, Accuracy: 0.6206\n"
          ]
        },
        {
          "output_type": "stream",
          "name": "stderr",
          "text": [
            "Epoch 179 Training: 100%|██████████| 136/136 [00:00<00:00, 814.82it/s]\n",
            "Epoch 179 Validation: 100%|██████████| 34/34 [00:00<00:00, 2132.30it/s]\n"
          ]
        },
        {
          "output_type": "stream",
          "name": "stdout",
          "text": [
            "Epoch 179 Training Loss: 0.8663, Accuracy: 0.6750\n",
            "Epoch 179 Validation Loss: 0.8846, Accuracy: 0.6372\n"
          ]
        },
        {
          "output_type": "stream",
          "name": "stderr",
          "text": [
            "Epoch 180 Training: 100%|██████████| 136/136 [00:00<00:00, 853.67it/s]\n",
            "Epoch 180 Validation: 100%|██████████| 34/34 [00:00<00:00, 1607.72it/s]\n"
          ]
        },
        {
          "output_type": "stream",
          "name": "stdout",
          "text": [
            "Epoch 180 Training Loss: 0.8692, Accuracy: 0.6671\n",
            "Epoch 180 Validation Loss: 0.8770, Accuracy: 0.6575\n"
          ]
        },
        {
          "output_type": "stream",
          "name": "stderr",
          "text": [
            "Epoch 181 Training: 100%|██████████| 136/136 [00:00<00:00, 799.40it/s]\n",
            "Epoch 181 Validation: 100%|██████████| 34/34 [00:00<00:00, 1607.86it/s]\n"
          ]
        },
        {
          "output_type": "stream",
          "name": "stdout",
          "text": [
            "Epoch 181 Training Loss: 0.8684, Accuracy: 0.6644\n",
            "Epoch 181 Validation Loss: 0.8837, Accuracy: 0.6501\n"
          ]
        },
        {
          "output_type": "stream",
          "name": "stderr",
          "text": [
            "Epoch 182 Training: 100%|██████████| 136/136 [00:00<00:00, 866.17it/s]\n",
            "Epoch 182 Validation: 100%|██████████| 34/34 [00:00<00:00, 1760.83it/s]\n"
          ]
        },
        {
          "output_type": "stream",
          "name": "stdout",
          "text": [
            "Epoch 182 Training Loss: 0.8679, Accuracy: 0.6676\n",
            "Epoch 182 Validation Loss: 0.8924, Accuracy: 0.6335\n"
          ]
        },
        {
          "output_type": "stream",
          "name": "stderr",
          "text": [
            "Epoch 183 Training: 100%|██████████| 136/136 [00:00<00:00, 854.44it/s]\n",
            "Epoch 183 Validation: 100%|██████████| 34/34 [00:00<00:00, 1654.50it/s]\n"
          ]
        },
        {
          "output_type": "stream",
          "name": "stdout",
          "text": [
            "Epoch 183 Training Loss: 0.8669, Accuracy: 0.6644\n",
            "Epoch 183 Validation Loss: 0.8771, Accuracy: 0.6501\n"
          ]
        },
        {
          "output_type": "stream",
          "name": "stderr",
          "text": [
            "Epoch 184 Training: 100%|██████████| 136/136 [00:00<00:00, 896.66it/s]\n",
            "Epoch 184 Validation: 100%|██████████| 34/34 [00:00<00:00, 1669.39it/s]\n"
          ]
        },
        {
          "output_type": "stream",
          "name": "stdout",
          "text": [
            "Epoch 184 Training Loss: 0.8695, Accuracy: 0.6671\n",
            "Epoch 184 Validation Loss: 0.8864, Accuracy: 0.6427\n"
          ]
        },
        {
          "output_type": "stream",
          "name": "stderr",
          "text": [
            "Epoch 185 Training: 100%|██████████| 136/136 [00:00<00:00, 886.85it/s]\n",
            "Epoch 185 Validation: 100%|██████████| 34/34 [00:00<00:00, 1859.59it/s]\n"
          ]
        },
        {
          "output_type": "stream",
          "name": "stdout",
          "text": [
            "Epoch 185 Training Loss: 0.8661, Accuracy: 0.6694\n",
            "Epoch 185 Validation Loss: 0.8874, Accuracy: 0.6390\n"
          ]
        },
        {
          "output_type": "stream",
          "name": "stderr",
          "text": [
            "Epoch 186 Training: 100%|██████████| 136/136 [00:00<00:00, 871.00it/s]\n",
            "Epoch 186 Validation: 100%|██████████| 34/34 [00:00<00:00, 1752.63it/s]\n"
          ]
        },
        {
          "output_type": "stream",
          "name": "stdout",
          "text": [
            "Epoch 186 Training Loss: 0.8659, Accuracy: 0.6722\n",
            "Epoch 186 Validation Loss: 0.8908, Accuracy: 0.6280\n"
          ]
        },
        {
          "output_type": "stream",
          "name": "stderr",
          "text": [
            "Epoch 187 Training: 100%|██████████| 136/136 [00:00<00:00, 832.28it/s]\n",
            "Epoch 187 Validation: 100%|██████████| 34/34 [00:00<00:00, 1864.28it/s]\n"
          ]
        },
        {
          "output_type": "stream",
          "name": "stdout",
          "text": [
            "Epoch 187 Training Loss: 0.8693, Accuracy: 0.6667\n",
            "Epoch 187 Validation Loss: 0.8946, Accuracy: 0.6243\n"
          ]
        },
        {
          "output_type": "stream",
          "name": "stderr",
          "text": [
            "Epoch 188 Training: 100%|██████████| 136/136 [00:00<00:00, 851.97it/s]\n",
            "Epoch 188 Validation: 100%|██████████| 34/34 [00:00<00:00, 1782.78it/s]\n"
          ]
        },
        {
          "output_type": "stream",
          "name": "stdout",
          "text": [
            "Epoch 188 Training Loss: 0.8649, Accuracy: 0.6708\n",
            "Epoch 188 Validation Loss: 0.8871, Accuracy: 0.6390\n"
          ]
        },
        {
          "output_type": "stream",
          "name": "stderr",
          "text": [
            "Epoch 189 Training: 100%|██████████| 136/136 [00:00<00:00, 880.04it/s]\n",
            "Epoch 189 Validation: 100%|██████████| 34/34 [00:00<00:00, 1879.17it/s]\n"
          ]
        },
        {
          "output_type": "stream",
          "name": "stdout",
          "text": [
            "Epoch 189 Training Loss: 0.8746, Accuracy: 0.6579\n",
            "Epoch 189 Validation Loss: 0.8909, Accuracy: 0.6354\n"
          ]
        },
        {
          "output_type": "stream",
          "name": "stderr",
          "text": [
            "Epoch 190 Training: 100%|██████████| 136/136 [00:00<00:00, 809.47it/s]\n",
            "Epoch 190 Validation: 100%|██████████| 34/34 [00:00<00:00, 1333.36it/s]\n"
          ]
        },
        {
          "output_type": "stream",
          "name": "stdout",
          "text": [
            "Epoch 190 Training Loss: 0.8689, Accuracy: 0.6690\n",
            "Epoch 190 Validation Loss: 0.8796, Accuracy: 0.6593\n"
          ]
        },
        {
          "output_type": "stream",
          "name": "stderr",
          "text": [
            "Epoch 191 Training: 100%|██████████| 136/136 [00:00<00:00, 830.41it/s]\n",
            "Epoch 191 Validation: 100%|██████████| 34/34 [00:00<00:00, 1431.72it/s]\n"
          ]
        },
        {
          "output_type": "stream",
          "name": "stdout",
          "text": [
            "Epoch 191 Training Loss: 0.8722, Accuracy: 0.6671\n",
            "Epoch 191 Validation Loss: 0.8890, Accuracy: 0.6262\n"
          ]
        },
        {
          "output_type": "stream",
          "name": "stderr",
          "text": [
            "Epoch 192 Training: 100%|██████████| 136/136 [00:00<00:00, 762.79it/s]\n",
            "Epoch 192 Validation: 100%|██████████| 34/34 [00:00<00:00, 1860.58it/s]\n"
          ]
        },
        {
          "output_type": "stream",
          "name": "stdout",
          "text": [
            "Epoch 192 Training Loss: 0.8641, Accuracy: 0.6759\n",
            "Epoch 192 Validation Loss: 0.8867, Accuracy: 0.6317\n"
          ]
        },
        {
          "output_type": "stream",
          "name": "stderr",
          "text": [
            "Epoch 193 Training: 100%|██████████| 136/136 [00:00<00:00, 901.01it/s]\n",
            "Epoch 193 Validation: 100%|██████████| 34/34 [00:00<00:00, 2231.78it/s]\n"
          ]
        },
        {
          "output_type": "stream",
          "name": "stdout",
          "text": [
            "Epoch 193 Training Loss: 0.8675, Accuracy: 0.6731\n",
            "Epoch 193 Validation Loss: 0.8866, Accuracy: 0.6427\n"
          ]
        },
        {
          "output_type": "stream",
          "name": "stderr",
          "text": [
            "Epoch 194 Training: 100%|██████████| 136/136 [00:00<00:00, 805.57it/s]\n",
            "Epoch 194 Validation: 100%|██████████| 34/34 [00:00<00:00, 1458.62it/s]\n"
          ]
        },
        {
          "output_type": "stream",
          "name": "stdout",
          "text": [
            "Epoch 194 Training Loss: 0.8670, Accuracy: 0.6717\n",
            "Epoch 194 Validation Loss: 0.8945, Accuracy: 0.6262\n"
          ]
        },
        {
          "output_type": "stream",
          "name": "stderr",
          "text": [
            "Epoch 195 Training: 100%|██████████| 136/136 [00:00<00:00, 857.23it/s]\n",
            "Epoch 195 Validation: 100%|██████████| 34/34 [00:00<00:00, 1796.07it/s]\n"
          ]
        },
        {
          "output_type": "stream",
          "name": "stdout",
          "text": [
            "Epoch 195 Training Loss: 0.8674, Accuracy: 0.6750\n",
            "Epoch 195 Validation Loss: 0.8876, Accuracy: 0.6354\n"
          ]
        },
        {
          "output_type": "stream",
          "name": "stderr",
          "text": [
            "Epoch 196 Training: 100%|██████████| 136/136 [00:00<00:00, 891.09it/s]\n",
            "Epoch 196 Validation: 100%|██████████| 34/34 [00:00<00:00, 2220.28it/s]\n"
          ]
        },
        {
          "output_type": "stream",
          "name": "stdout",
          "text": [
            "Epoch 196 Training Loss: 0.8717, Accuracy: 0.6579\n",
            "Epoch 196 Validation Loss: 0.8879, Accuracy: 0.6335\n"
          ]
        },
        {
          "output_type": "stream",
          "name": "stderr",
          "text": [
            "Epoch 197 Training: 100%|██████████| 136/136 [00:00<00:00, 803.70it/s]\n",
            "Epoch 197 Validation: 100%|██████████| 34/34 [00:00<00:00, 1541.59it/s]\n"
          ]
        },
        {
          "output_type": "stream",
          "name": "stdout",
          "text": [
            "Epoch 197 Training Loss: 0.8655, Accuracy: 0.6727\n",
            "Epoch 197 Validation Loss: 0.9049, Accuracy: 0.6243\n"
          ]
        },
        {
          "output_type": "stream",
          "name": "stderr",
          "text": [
            "Epoch 198 Training: 100%|██████████| 136/136 [00:00<00:00, 822.25it/s]\n",
            "Epoch 198 Validation: 100%|██████████| 34/34 [00:00<00:00, 1702.42it/s]\n"
          ]
        },
        {
          "output_type": "stream",
          "name": "stdout",
          "text": [
            "Epoch 198 Training Loss: 0.8656, Accuracy: 0.6717\n",
            "Epoch 198 Validation Loss: 0.8778, Accuracy: 0.6740\n"
          ]
        },
        {
          "output_type": "stream",
          "name": "stderr",
          "text": [
            "Epoch 199 Training: 100%|██████████| 136/136 [00:00<00:00, 829.18it/s]\n",
            "Epoch 199 Validation: 100%|██████████| 34/34 [00:00<00:00, 1659.16it/s]\n"
          ]
        },
        {
          "output_type": "stream",
          "name": "stdout",
          "text": [
            "Epoch 199 Training Loss: 0.8686, Accuracy: 0.6685\n",
            "Epoch 199 Validation Loss: 0.8932, Accuracy: 0.6317\n"
          ]
        },
        {
          "output_type": "stream",
          "name": "stderr",
          "text": [
            "Epoch 200 Training: 100%|██████████| 136/136 [00:00<00:00, 871.47it/s]\n",
            "Epoch 200 Validation: 100%|██████████| 34/34 [00:00<00:00, 1692.01it/s]\n"
          ]
        },
        {
          "output_type": "stream",
          "name": "stdout",
          "text": [
            "Epoch 200 Training Loss: 0.8688, Accuracy: 0.6685\n",
            "Epoch 200 Validation Loss: 0.8948, Accuracy: 0.6262\n"
          ]
        },
        {
          "output_type": "stream",
          "name": "stderr",
          "text": [
            "Epoch 201 Training: 100%|██████████| 136/136 [00:00<00:00, 860.94it/s]\n",
            "Epoch 201 Validation: 100%|██████████| 34/34 [00:00<00:00, 1775.30it/s]\n"
          ]
        },
        {
          "output_type": "stream",
          "name": "stdout",
          "text": [
            "Epoch 201 Training Loss: 0.8687, Accuracy: 0.6703\n",
            "Epoch 201 Validation Loss: 0.9048, Accuracy: 0.6151\n"
          ]
        },
        {
          "output_type": "stream",
          "name": "stderr",
          "text": [
            "Epoch 202 Training: 100%|██████████| 136/136 [00:00<00:00, 833.71it/s]\n",
            "Epoch 202 Validation: 100%|██████████| 34/34 [00:00<00:00, 1661.36it/s]\n"
          ]
        },
        {
          "output_type": "stream",
          "name": "stdout",
          "text": [
            "Epoch 202 Training Loss: 0.8645, Accuracy: 0.6736\n",
            "Epoch 202 Validation Loss: 0.8922, Accuracy: 0.6298\n"
          ]
        },
        {
          "output_type": "stream",
          "name": "stderr",
          "text": [
            "Epoch 203 Training: 100%|██████████| 136/136 [00:00<00:00, 805.63it/s]\n",
            "Epoch 203 Validation: 100%|██████████| 34/34 [00:00<00:00, 1713.30it/s]\n"
          ]
        },
        {
          "output_type": "stream",
          "name": "stdout",
          "text": [
            "Epoch 203 Training Loss: 0.8693, Accuracy: 0.6671\n",
            "Epoch 203 Validation Loss: 0.9187, Accuracy: 0.6188\n"
          ]
        },
        {
          "output_type": "stream",
          "name": "stderr",
          "text": [
            "Epoch 204 Training: 100%|██████████| 136/136 [00:00<00:00, 821.49it/s]\n",
            "Epoch 204 Validation: 100%|██████████| 34/34 [00:00<00:00, 1737.81it/s]\n"
          ]
        },
        {
          "output_type": "stream",
          "name": "stdout",
          "text": [
            "Epoch 204 Training Loss: 0.8673, Accuracy: 0.6667\n",
            "Epoch 204 Validation Loss: 0.9104, Accuracy: 0.6169\n"
          ]
        },
        {
          "output_type": "stream",
          "name": "stderr",
          "text": [
            "Epoch 205 Training: 100%|██████████| 136/136 [00:00<00:00, 838.31it/s]\n",
            "Epoch 205 Validation: 100%|██████████| 34/34 [00:00<00:00, 1583.97it/s]\n"
          ]
        },
        {
          "output_type": "stream",
          "name": "stdout",
          "text": [
            "Epoch 205 Training Loss: 0.8653, Accuracy: 0.6731\n",
            "Epoch 205 Validation Loss: 0.8807, Accuracy: 0.6501\n"
          ]
        },
        {
          "output_type": "stream",
          "name": "stderr",
          "text": [
            "Epoch 206 Training: 100%|██████████| 136/136 [00:00<00:00, 833.49it/s]\n",
            "Epoch 206 Validation: 100%|██████████| 34/34 [00:00<00:00, 1956.59it/s]\n"
          ]
        },
        {
          "output_type": "stream",
          "name": "stdout",
          "text": [
            "Epoch 206 Training Loss: 0.8691, Accuracy: 0.6662\n",
            "Epoch 206 Validation Loss: 0.8885, Accuracy: 0.6354\n"
          ]
        },
        {
          "output_type": "stream",
          "name": "stderr",
          "text": [
            "Epoch 207 Training: 100%|██████████| 136/136 [00:00<00:00, 773.74it/s]\n",
            "Epoch 207 Validation: 100%|██████████| 34/34 [00:00<00:00, 1922.28it/s]\n"
          ]
        },
        {
          "output_type": "stream",
          "name": "stdout",
          "text": [
            "Epoch 207 Training Loss: 0.8633, Accuracy: 0.6800\n",
            "Epoch 207 Validation Loss: 0.8843, Accuracy: 0.6390\n"
          ]
        },
        {
          "output_type": "stream",
          "name": "stderr",
          "text": [
            "Epoch 208 Training: 100%|██████████| 136/136 [00:00<00:00, 824.30it/s]\n",
            "Epoch 208 Validation: 100%|██████████| 34/34 [00:00<00:00, 1397.50it/s]\n"
          ]
        },
        {
          "output_type": "stream",
          "name": "stdout",
          "text": [
            "Epoch 208 Training Loss: 0.8656, Accuracy: 0.6713\n",
            "Epoch 208 Validation Loss: 0.8840, Accuracy: 0.6501\n"
          ]
        },
        {
          "output_type": "stream",
          "name": "stderr",
          "text": [
            "Epoch 209 Training: 100%|██████████| 136/136 [00:00<00:00, 795.44it/s]\n",
            "Epoch 209 Validation: 100%|██████████| 34/34 [00:00<00:00, 1965.11it/s]\n"
          ]
        },
        {
          "output_type": "stream",
          "name": "stdout",
          "text": [
            "Epoch 209 Training Loss: 0.8666, Accuracy: 0.6690\n",
            "Epoch 209 Validation Loss: 0.8761, Accuracy: 0.6464\n"
          ]
        },
        {
          "output_type": "stream",
          "name": "stderr",
          "text": [
            "Epoch 210 Training: 100%|██████████| 136/136 [00:00<00:00, 810.27it/s]\n",
            "Epoch 210 Validation: 100%|██████████| 34/34 [00:00<00:00, 1646.72it/s]\n"
          ]
        },
        {
          "output_type": "stream",
          "name": "stdout",
          "text": [
            "Epoch 210 Training Loss: 0.8715, Accuracy: 0.6634\n",
            "Epoch 210 Validation Loss: 0.8919, Accuracy: 0.6372\n"
          ]
        },
        {
          "output_type": "stream",
          "name": "stderr",
          "text": [
            "Epoch 211 Training: 100%|██████████| 136/136 [00:00<00:00, 790.86it/s]\n",
            "Epoch 211 Validation: 100%|██████████| 34/34 [00:00<00:00, 1635.62it/s]\n"
          ]
        },
        {
          "output_type": "stream",
          "name": "stdout",
          "text": [
            "Epoch 211 Training Loss: 0.8672, Accuracy: 0.6667\n",
            "Epoch 211 Validation Loss: 0.8845, Accuracy: 0.6390\n"
          ]
        },
        {
          "output_type": "stream",
          "name": "stderr",
          "text": [
            "Epoch 212 Training: 100%|██████████| 136/136 [00:00<00:00, 793.84it/s]\n",
            "Epoch 212 Validation: 100%|██████████| 34/34 [00:00<00:00, 1679.05it/s]\n"
          ]
        },
        {
          "output_type": "stream",
          "name": "stdout",
          "text": [
            "Epoch 212 Training Loss: 0.8671, Accuracy: 0.6662\n",
            "Epoch 212 Validation Loss: 0.8968, Accuracy: 0.6225\n"
          ]
        },
        {
          "output_type": "stream",
          "name": "stderr",
          "text": [
            "Epoch 213 Training: 100%|██████████| 136/136 [00:00<00:00, 767.50it/s]\n",
            "Epoch 213 Validation: 100%|██████████| 34/34 [00:00<00:00, 1498.23it/s]\n"
          ]
        },
        {
          "output_type": "stream",
          "name": "stdout",
          "text": [
            "Epoch 213 Training Loss: 0.8727, Accuracy: 0.6657\n",
            "Epoch 213 Validation Loss: 0.8849, Accuracy: 0.6390\n"
          ]
        },
        {
          "output_type": "stream",
          "name": "stderr",
          "text": [
            "Epoch 214 Training: 100%|██████████| 136/136 [00:00<00:00, 857.99it/s]\n",
            "Epoch 214 Validation: 100%|██████████| 34/34 [00:00<00:00, 1542.12it/s]\n"
          ]
        },
        {
          "output_type": "stream",
          "name": "stdout",
          "text": [
            "Epoch 214 Training Loss: 0.8679, Accuracy: 0.6621\n",
            "Epoch 214 Validation Loss: 0.8916, Accuracy: 0.6298\n"
          ]
        },
        {
          "output_type": "stream",
          "name": "stderr",
          "text": [
            "Epoch 215 Training: 100%|██████████| 136/136 [00:00<00:00, 753.85it/s]\n",
            "Epoch 215 Validation: 100%|██████████| 34/34 [00:00<00:00, 1484.52it/s]\n"
          ]
        },
        {
          "output_type": "stream",
          "name": "stdout",
          "text": [
            "Epoch 215 Training Loss: 0.8669, Accuracy: 0.6722\n",
            "Epoch 215 Validation Loss: 0.8802, Accuracy: 0.6575\n"
          ]
        },
        {
          "output_type": "stream",
          "name": "stderr",
          "text": [
            "Epoch 216 Training: 100%|██████████| 136/136 [00:00<00:00, 852.70it/s]\n",
            "Epoch 216 Validation: 100%|██████████| 34/34 [00:00<00:00, 1530.97it/s]\n"
          ]
        },
        {
          "output_type": "stream",
          "name": "stdout",
          "text": [
            "Epoch 216 Training Loss: 0.8682, Accuracy: 0.6750\n",
            "Epoch 216 Validation Loss: 0.8775, Accuracy: 0.6593\n"
          ]
        },
        {
          "output_type": "stream",
          "name": "stderr",
          "text": [
            "Epoch 217 Training: 100%|██████████| 136/136 [00:00<00:00, 753.12it/s]\n",
            "Epoch 217 Validation: 100%|██████████| 34/34 [00:00<00:00, 1880.11it/s]\n"
          ]
        },
        {
          "output_type": "stream",
          "name": "stdout",
          "text": [
            "Epoch 217 Training Loss: 0.8656, Accuracy: 0.6667\n",
            "Epoch 217 Validation Loss: 0.8973, Accuracy: 0.6225\n"
          ]
        },
        {
          "output_type": "stream",
          "name": "stderr",
          "text": [
            "Epoch 218 Training: 100%|██████████| 136/136 [00:00<00:00, 895.05it/s]\n",
            "Epoch 218 Validation: 100%|██████████| 34/34 [00:00<00:00, 1659.45it/s]\n"
          ]
        },
        {
          "output_type": "stream",
          "name": "stdout",
          "text": [
            "Epoch 218 Training Loss: 0.8688, Accuracy: 0.6722\n",
            "Epoch 218 Validation Loss: 0.9093, Accuracy: 0.6225\n"
          ]
        },
        {
          "output_type": "stream",
          "name": "stderr",
          "text": [
            "Epoch 219 Training: 100%|██████████| 136/136 [00:00<00:00, 842.92it/s]\n",
            "Epoch 219 Validation: 100%|██████████| 34/34 [00:00<00:00, 1742.27it/s]\n"
          ]
        },
        {
          "output_type": "stream",
          "name": "stdout",
          "text": [
            "Epoch 219 Training Loss: 0.8713, Accuracy: 0.6667\n",
            "Epoch 219 Validation Loss: 0.9170, Accuracy: 0.6077\n"
          ]
        },
        {
          "output_type": "stream",
          "name": "stderr",
          "text": [
            "Epoch 220 Training: 100%|██████████| 136/136 [00:00<00:00, 843.78it/s]\n",
            "Epoch 220 Validation: 100%|██████████| 34/34 [00:00<00:00, 1636.22it/s]\n"
          ]
        },
        {
          "output_type": "stream",
          "name": "stdout",
          "text": [
            "Epoch 220 Training Loss: 0.8654, Accuracy: 0.6703\n",
            "Epoch 220 Validation Loss: 0.8797, Accuracy: 0.6538\n"
          ]
        },
        {
          "output_type": "stream",
          "name": "stderr",
          "text": [
            "Epoch 221 Training: 100%|██████████| 136/136 [00:00<00:00, 842.19it/s]\n",
            "Epoch 221 Validation: 100%|██████████| 34/34 [00:00<00:00, 1628.60it/s]\n"
          ]
        },
        {
          "output_type": "stream",
          "name": "stdout",
          "text": [
            "Epoch 221 Training Loss: 0.8676, Accuracy: 0.6657\n",
            "Epoch 221 Validation Loss: 0.8952, Accuracy: 0.6206\n"
          ]
        },
        {
          "output_type": "stream",
          "name": "stderr",
          "text": [
            "Epoch 222 Training: 100%|██████████| 136/136 [00:00<00:00, 836.04it/s]\n",
            "Epoch 222 Validation: 100%|██████████| 34/34 [00:00<00:00, 1713.17it/s]\n"
          ]
        },
        {
          "output_type": "stream",
          "name": "stdout",
          "text": [
            "Epoch 222 Training Loss: 0.8665, Accuracy: 0.6727\n",
            "Epoch 222 Validation Loss: 0.8854, Accuracy: 0.6372\n"
          ]
        },
        {
          "output_type": "stream",
          "name": "stderr",
          "text": [
            "Epoch 223 Training: 100%|██████████| 136/136 [00:00<00:00, 880.55it/s]\n",
            "Epoch 223 Validation: 100%|██████████| 34/34 [00:00<00:00, 1545.48it/s]\n"
          ]
        },
        {
          "output_type": "stream",
          "name": "stdout",
          "text": [
            "Epoch 223 Training Loss: 0.8667, Accuracy: 0.6680\n",
            "Epoch 223 Validation Loss: 0.8953, Accuracy: 0.6262\n"
          ]
        },
        {
          "output_type": "stream",
          "name": "stderr",
          "text": [
            "Epoch 224 Training: 100%|██████████| 136/136 [00:00<00:00, 812.11it/s]\n",
            "Epoch 224 Validation: 100%|██████████| 34/34 [00:00<00:00, 1296.40it/s]\n"
          ]
        },
        {
          "output_type": "stream",
          "name": "stdout",
          "text": [
            "Epoch 224 Training Loss: 0.8677, Accuracy: 0.6657\n",
            "Epoch 224 Validation Loss: 0.8860, Accuracy: 0.6372\n"
          ]
        },
        {
          "output_type": "stream",
          "name": "stderr",
          "text": [
            "Epoch 225 Training: 100%|██████████| 136/136 [00:00<00:00, 580.73it/s]\n",
            "Epoch 225 Validation: 100%|██████████| 34/34 [00:00<00:00, 1556.89it/s]\n"
          ]
        },
        {
          "output_type": "stream",
          "name": "stdout",
          "text": [
            "Epoch 225 Training Loss: 0.8640, Accuracy: 0.6768\n",
            "Epoch 225 Validation Loss: 0.8870, Accuracy: 0.6464\n"
          ]
        },
        {
          "output_type": "stream",
          "name": "stderr",
          "text": [
            "Epoch 226 Training: 100%|██████████| 136/136 [00:00<00:00, 618.02it/s]\n",
            "Epoch 226 Validation: 100%|██████████| 34/34 [00:00<00:00, 1776.83it/s]\n"
          ]
        },
        {
          "output_type": "stream",
          "name": "stdout",
          "text": [
            "Epoch 226 Training Loss: 0.8662, Accuracy: 0.6722\n",
            "Epoch 226 Validation Loss: 0.8844, Accuracy: 0.6446\n"
          ]
        },
        {
          "output_type": "stream",
          "name": "stderr",
          "text": [
            "Epoch 227 Training: 100%|██████████| 136/136 [00:00<00:00, 681.99it/s]\n",
            "Epoch 227 Validation: 100%|██████████| 34/34 [00:00<00:00, 1662.89it/s]\n"
          ]
        },
        {
          "output_type": "stream",
          "name": "stdout",
          "text": [
            "Epoch 227 Training Loss: 0.8641, Accuracy: 0.6763\n",
            "Epoch 227 Validation Loss: 0.8991, Accuracy: 0.6262\n"
          ]
        },
        {
          "output_type": "stream",
          "name": "stderr",
          "text": [
            "Epoch 228 Training: 100%|██████████| 136/136 [00:00<00:00, 684.61it/s]\n",
            "Epoch 228 Validation: 100%|██████████| 34/34 [00:00<00:00, 1827.54it/s]\n"
          ]
        },
        {
          "output_type": "stream",
          "name": "stdout",
          "text": [
            "Epoch 228 Training Loss: 0.8655, Accuracy: 0.6722\n",
            "Epoch 228 Validation Loss: 0.8846, Accuracy: 0.6483\n"
          ]
        },
        {
          "output_type": "stream",
          "name": "stderr",
          "text": [
            "Epoch 229 Training: 100%|██████████| 136/136 [00:00<00:00, 675.30it/s]\n",
            "Epoch 229 Validation: 100%|██████████| 34/34 [00:00<00:00, 1832.63it/s]\n"
          ]
        },
        {
          "output_type": "stream",
          "name": "stdout",
          "text": [
            "Epoch 229 Training Loss: 0.8750, Accuracy: 0.6593\n",
            "Epoch 229 Validation Loss: 0.8868, Accuracy: 0.6317\n"
          ]
        },
        {
          "output_type": "stream",
          "name": "stderr",
          "text": [
            "Epoch 230 Training: 100%|██████████| 136/136 [00:00<00:00, 718.96it/s]\n",
            "Epoch 230 Validation: 100%|██████████| 34/34 [00:00<00:00, 1827.75it/s]\n"
          ]
        },
        {
          "output_type": "stream",
          "name": "stdout",
          "text": [
            "Epoch 230 Training Loss: 0.8671, Accuracy: 0.6676\n",
            "Epoch 230 Validation Loss: 0.8802, Accuracy: 0.6354\n"
          ]
        },
        {
          "output_type": "stream",
          "name": "stderr",
          "text": [
            "Epoch 231 Training: 100%|██████████| 136/136 [00:00<00:00, 626.38it/s]\n",
            "Epoch 231 Validation: 100%|██████████| 34/34 [00:00<00:00, 1630.16it/s]\n"
          ]
        },
        {
          "output_type": "stream",
          "name": "stdout",
          "text": [
            "Epoch 231 Training Loss: 0.8673, Accuracy: 0.6722\n",
            "Epoch 231 Validation Loss: 0.8826, Accuracy: 0.6427\n"
          ]
        },
        {
          "output_type": "stream",
          "name": "stderr",
          "text": [
            "Epoch 232 Training: 100%|██████████| 136/136 [00:00<00:00, 705.26it/s]\n",
            "Epoch 232 Validation: 100%|██████████| 34/34 [00:00<00:00, 1707.55it/s]\n"
          ]
        },
        {
          "output_type": "stream",
          "name": "stdout",
          "text": [
            "Epoch 232 Training Loss: 0.8701, Accuracy: 0.6611\n",
            "Epoch 232 Validation Loss: 0.8937, Accuracy: 0.6317\n"
          ]
        },
        {
          "output_type": "stream",
          "name": "stderr",
          "text": [
            "Epoch 233 Training: 100%|██████████| 136/136 [00:00<00:00, 591.52it/s]\n",
            "Epoch 233 Validation: 100%|██████████| 34/34 [00:00<00:00, 1769.11it/s]\n"
          ]
        },
        {
          "output_type": "stream",
          "name": "stdout",
          "text": [
            "Epoch 233 Training Loss: 0.8615, Accuracy: 0.6796\n",
            "Epoch 233 Validation Loss: 0.8946, Accuracy: 0.6317\n"
          ]
        },
        {
          "output_type": "stream",
          "name": "stderr",
          "text": [
            "Epoch 234 Training: 100%|██████████| 136/136 [00:00<00:00, 568.20it/s]\n",
            "Epoch 234 Validation: 100%|██████████| 34/34 [00:00<00:00, 1241.36it/s]\n"
          ]
        },
        {
          "output_type": "stream",
          "name": "stdout",
          "text": [
            "Epoch 234 Training Loss: 0.8710, Accuracy: 0.6662\n",
            "Epoch 234 Validation Loss: 0.8981, Accuracy: 0.6298\n"
          ]
        },
        {
          "output_type": "stream",
          "name": "stderr",
          "text": [
            "Epoch 235 Training: 100%|██████████| 136/136 [00:00<00:00, 747.55it/s]\n",
            "Epoch 235 Validation: 100%|██████████| 34/34 [00:00<00:00, 1353.85it/s]\n"
          ]
        },
        {
          "output_type": "stream",
          "name": "stdout",
          "text": [
            "Epoch 235 Training Loss: 0.8636, Accuracy: 0.6745\n",
            "Epoch 235 Validation Loss: 0.8854, Accuracy: 0.6483\n"
          ]
        },
        {
          "output_type": "stream",
          "name": "stderr",
          "text": [
            "Epoch 236 Training: 100%|██████████| 136/136 [00:00<00:00, 796.45it/s]\n",
            "Epoch 236 Validation: 100%|██████████| 34/34 [00:00<00:00, 1285.04it/s]\n"
          ]
        },
        {
          "output_type": "stream",
          "name": "stdout",
          "text": [
            "Epoch 236 Training Loss: 0.8669, Accuracy: 0.6722\n",
            "Epoch 236 Validation Loss: 0.8827, Accuracy: 0.6446\n"
          ]
        },
        {
          "output_type": "stream",
          "name": "stderr",
          "text": [
            "Epoch 237 Training: 100%|██████████| 136/136 [00:00<00:00, 856.20it/s]\n",
            "Epoch 237 Validation: 100%|██████████| 34/34 [00:00<00:00, 1587.92it/s]\n"
          ]
        },
        {
          "output_type": "stream",
          "name": "stdout",
          "text": [
            "Epoch 237 Training Loss: 0.8657, Accuracy: 0.6713\n",
            "Epoch 237 Validation Loss: 0.8886, Accuracy: 0.6390\n"
          ]
        },
        {
          "output_type": "stream",
          "name": "stderr",
          "text": [
            "Epoch 238 Training: 100%|██████████| 136/136 [00:00<00:00, 848.74it/s]\n",
            "Epoch 238 Validation: 100%|██████████| 34/34 [00:00<00:00, 1677.84it/s]\n"
          ]
        },
        {
          "output_type": "stream",
          "name": "stdout",
          "text": [
            "Epoch 238 Training Loss: 0.8679, Accuracy: 0.6676\n",
            "Epoch 238 Validation Loss: 0.8777, Accuracy: 0.6575\n"
          ]
        },
        {
          "output_type": "stream",
          "name": "stderr",
          "text": [
            "Epoch 239 Training: 100%|██████████| 136/136 [00:00<00:00, 865.24it/s]\n",
            "Epoch 239 Validation: 100%|██████████| 34/34 [00:00<00:00, 1641.10it/s]\n"
          ]
        },
        {
          "output_type": "stream",
          "name": "stdout",
          "text": [
            "Epoch 239 Training Loss: 0.8691, Accuracy: 0.6745\n",
            "Epoch 239 Validation Loss: 0.9001, Accuracy: 0.6354\n"
          ]
        },
        {
          "output_type": "stream",
          "name": "stderr",
          "text": [
            "Epoch 240 Training: 100%|██████████| 136/136 [00:00<00:00, 763.62it/s]\n",
            "Epoch 240 Validation: 100%|██████████| 34/34 [00:00<00:00, 1584.02it/s]\n"
          ]
        },
        {
          "output_type": "stream",
          "name": "stdout",
          "text": [
            "Epoch 240 Training Loss: 0.8679, Accuracy: 0.6690\n",
            "Epoch 240 Validation Loss: 0.8828, Accuracy: 0.6446\n"
          ]
        },
        {
          "output_type": "stream",
          "name": "stderr",
          "text": [
            "Epoch 241 Training: 100%|██████████| 136/136 [00:00<00:00, 804.71it/s]\n",
            "Epoch 241 Validation: 100%|██████████| 34/34 [00:00<00:00, 1594.29it/s]\n"
          ]
        },
        {
          "output_type": "stream",
          "name": "stdout",
          "text": [
            "Epoch 241 Training Loss: 0.8653, Accuracy: 0.6699\n",
            "Epoch 241 Validation Loss: 0.8992, Accuracy: 0.6335\n"
          ]
        },
        {
          "output_type": "stream",
          "name": "stderr",
          "text": [
            "Epoch 242 Training: 100%|██████████| 136/136 [00:00<00:00, 843.03it/s]\n",
            "Epoch 242 Validation: 100%|██████████| 34/34 [00:00<00:00, 1381.94it/s]\n"
          ]
        },
        {
          "output_type": "stream",
          "name": "stdout",
          "text": [
            "Epoch 242 Training Loss: 0.8654, Accuracy: 0.6685\n",
            "Epoch 242 Validation Loss: 0.8896, Accuracy: 0.6280\n"
          ]
        },
        {
          "output_type": "stream",
          "name": "stderr",
          "text": [
            "Epoch 243 Training: 100%|██████████| 136/136 [00:00<00:00, 865.38it/s]\n",
            "Epoch 243 Validation: 100%|██████████| 34/34 [00:00<00:00, 1583.90it/s]\n"
          ]
        },
        {
          "output_type": "stream",
          "name": "stdout",
          "text": [
            "Epoch 243 Training Loss: 0.8648, Accuracy: 0.6736\n",
            "Epoch 243 Validation Loss: 0.8819, Accuracy: 0.6446\n"
          ]
        },
        {
          "output_type": "stream",
          "name": "stderr",
          "text": [
            "Epoch 244 Training: 100%|██████████| 136/136 [00:00<00:00, 818.10it/s]\n",
            "Epoch 244 Validation: 100%|██████████| 34/34 [00:00<00:00, 1575.73it/s]\n"
          ]
        },
        {
          "output_type": "stream",
          "name": "stdout",
          "text": [
            "Epoch 244 Training Loss: 0.8644, Accuracy: 0.6699\n",
            "Epoch 244 Validation Loss: 0.8972, Accuracy: 0.6280\n"
          ]
        },
        {
          "output_type": "stream",
          "name": "stderr",
          "text": [
            "Epoch 245 Training: 100%|██████████| 136/136 [00:00<00:00, 781.36it/s]\n",
            "Epoch 245 Validation: 100%|██████████| 34/34 [00:00<00:00, 1383.17it/s]\n"
          ]
        },
        {
          "output_type": "stream",
          "name": "stdout",
          "text": [
            "Epoch 245 Training Loss: 0.8650, Accuracy: 0.6727\n",
            "Epoch 245 Validation Loss: 0.8935, Accuracy: 0.6206\n"
          ]
        },
        {
          "output_type": "stream",
          "name": "stderr",
          "text": [
            "Epoch 246 Training: 100%|██████████| 136/136 [00:00<00:00, 828.53it/s]\n",
            "Epoch 246 Validation: 100%|██████████| 34/34 [00:00<00:00, 1841.96it/s]\n"
          ]
        },
        {
          "output_type": "stream",
          "name": "stdout",
          "text": [
            "Epoch 246 Training Loss: 0.8640, Accuracy: 0.6727\n",
            "Epoch 246 Validation Loss: 0.8762, Accuracy: 0.6519\n"
          ]
        },
        {
          "output_type": "stream",
          "name": "stderr",
          "text": [
            "Epoch 247 Training: 100%|██████████| 136/136 [00:00<00:00, 815.22it/s]\n",
            "Epoch 247 Validation: 100%|██████████| 34/34 [00:00<00:00, 1445.07it/s]\n"
          ]
        },
        {
          "output_type": "stream",
          "name": "stdout",
          "text": [
            "Epoch 247 Training Loss: 0.8656, Accuracy: 0.6717\n",
            "Epoch 247 Validation Loss: 0.8809, Accuracy: 0.6483\n"
          ]
        },
        {
          "output_type": "stream",
          "name": "stderr",
          "text": [
            "Epoch 248 Training: 100%|██████████| 136/136 [00:00<00:00, 805.14it/s]\n",
            "Epoch 248 Validation: 100%|██████████| 34/34 [00:00<00:00, 1571.18it/s]\n"
          ]
        },
        {
          "output_type": "stream",
          "name": "stdout",
          "text": [
            "Epoch 248 Training Loss: 0.8648, Accuracy: 0.6750\n",
            "Epoch 248 Validation Loss: 0.9019, Accuracy: 0.6317\n"
          ]
        },
        {
          "output_type": "stream",
          "name": "stderr",
          "text": [
            "Epoch 249 Training: 100%|██████████| 136/136 [00:00<00:00, 841.15it/s]\n",
            "Epoch 249 Validation: 100%|██████████| 34/34 [00:00<00:00, 1695.78it/s]\n"
          ]
        },
        {
          "output_type": "stream",
          "name": "stdout",
          "text": [
            "Epoch 249 Training Loss: 0.8649, Accuracy: 0.6713\n",
            "Epoch 249 Validation Loss: 0.8891, Accuracy: 0.6409\n"
          ]
        },
        {
          "output_type": "stream",
          "name": "stderr",
          "text": [
            "Epoch 250 Training: 100%|██████████| 136/136 [00:00<00:00, 783.82it/s]\n",
            "Epoch 250 Validation: 100%|██████████| 34/34 [00:00<00:00, 1631.65it/s]\n"
          ]
        },
        {
          "output_type": "stream",
          "name": "stdout",
          "text": [
            "Epoch 250 Training Loss: 0.8698, Accuracy: 0.6648\n",
            "Epoch 250 Validation Loss: 0.8950, Accuracy: 0.6262\n"
          ]
        },
        {
          "output_type": "stream",
          "name": "stderr",
          "text": [
            "Epoch 251 Training: 100%|██████████| 136/136 [00:00<00:00, 814.77it/s]\n",
            "Epoch 251 Validation: 100%|██████████| 34/34 [00:00<00:00, 2005.29it/s]\n"
          ]
        },
        {
          "output_type": "stream",
          "name": "stdout",
          "text": [
            "Epoch 251 Training Loss: 0.8695, Accuracy: 0.6602\n",
            "Epoch 251 Validation Loss: 0.8780, Accuracy: 0.6556\n"
          ]
        },
        {
          "output_type": "stream",
          "name": "stderr",
          "text": [
            "Epoch 252 Training: 100%|██████████| 136/136 [00:00<00:00, 851.16it/s]\n",
            "Epoch 252 Validation: 100%|██████████| 34/34 [00:00<00:00, 1744.04it/s]\n"
          ]
        },
        {
          "output_type": "stream",
          "name": "stdout",
          "text": [
            "Epoch 252 Training Loss: 0.8640, Accuracy: 0.6745\n",
            "Epoch 252 Validation Loss: 0.8817, Accuracy: 0.6519\n"
          ]
        },
        {
          "output_type": "stream",
          "name": "stderr",
          "text": [
            "Epoch 253 Training: 100%|██████████| 136/136 [00:00<00:00, 869.77it/s]\n",
            "Epoch 253 Validation: 100%|██████████| 34/34 [00:00<00:00, 1650.96it/s]\n"
          ]
        },
        {
          "output_type": "stream",
          "name": "stdout",
          "text": [
            "Epoch 253 Training Loss: 0.8682, Accuracy: 0.6657\n",
            "Epoch 253 Validation Loss: 0.8955, Accuracy: 0.6298\n"
          ]
        },
        {
          "output_type": "stream",
          "name": "stderr",
          "text": [
            "Epoch 254 Training: 100%|██████████| 136/136 [00:00<00:00, 881.47it/s]\n",
            "Epoch 254 Validation: 100%|██████████| 34/34 [00:00<00:00, 1490.28it/s]\n"
          ]
        },
        {
          "output_type": "stream",
          "name": "stdout",
          "text": [
            "Epoch 254 Training Loss: 0.8664, Accuracy: 0.6648\n",
            "Epoch 254 Validation Loss: 0.8845, Accuracy: 0.6427\n"
          ]
        },
        {
          "output_type": "stream",
          "name": "stderr",
          "text": [
            "Epoch 255 Training: 100%|██████████| 136/136 [00:00<00:00, 817.35it/s]\n",
            "Epoch 255 Validation: 100%|██████████| 34/34 [00:00<00:00, 1635.96it/s]\n"
          ]
        },
        {
          "output_type": "stream",
          "name": "stdout",
          "text": [
            "Epoch 255 Training Loss: 0.8649, Accuracy: 0.6713\n",
            "Epoch 255 Validation Loss: 0.8796, Accuracy: 0.6575\n"
          ]
        },
        {
          "output_type": "stream",
          "name": "stderr",
          "text": [
            "Epoch 256 Training: 100%|██████████| 136/136 [00:00<00:00, 838.87it/s]\n",
            "Epoch 256 Validation: 100%|██████████| 34/34 [00:00<00:00, 1620.51it/s]\n"
          ]
        },
        {
          "output_type": "stream",
          "name": "stdout",
          "text": [
            "Epoch 256 Training Loss: 0.8655, Accuracy: 0.6699\n",
            "Epoch 256 Validation Loss: 0.8904, Accuracy: 0.6280\n"
          ]
        },
        {
          "output_type": "stream",
          "name": "stderr",
          "text": [
            "Epoch 257 Training: 100%|██████████| 136/136 [00:00<00:00, 799.86it/s]\n",
            "Epoch 257 Validation: 100%|██████████| 34/34 [00:00<00:00, 1506.48it/s]\n"
          ]
        },
        {
          "output_type": "stream",
          "name": "stdout",
          "text": [
            "Epoch 257 Training Loss: 0.8646, Accuracy: 0.6782\n",
            "Epoch 257 Validation Loss: 0.8892, Accuracy: 0.6354\n"
          ]
        },
        {
          "output_type": "stream",
          "name": "stderr",
          "text": [
            "Epoch 258 Training: 100%|██████████| 136/136 [00:00<00:00, 843.22it/s]\n",
            "Epoch 258 Validation: 100%|██████████| 34/34 [00:00<00:00, 2333.37it/s]\n"
          ]
        },
        {
          "output_type": "stream",
          "name": "stdout",
          "text": [
            "Epoch 258 Training Loss: 0.8677, Accuracy: 0.6699\n",
            "Epoch 258 Validation Loss: 0.8833, Accuracy: 0.6501\n"
          ]
        },
        {
          "output_type": "stream",
          "name": "stderr",
          "text": [
            "Epoch 259 Training: 100%|██████████| 136/136 [00:00<00:00, 841.74it/s]\n",
            "Epoch 259 Validation: 100%|██████████| 34/34 [00:00<00:00, 1650.52it/s]\n"
          ]
        },
        {
          "output_type": "stream",
          "name": "stdout",
          "text": [
            "Epoch 259 Training Loss: 0.8656, Accuracy: 0.6680\n",
            "Epoch 259 Validation Loss: 0.8887, Accuracy: 0.6335\n"
          ]
        },
        {
          "output_type": "stream",
          "name": "stderr",
          "text": [
            "Epoch 260 Training: 100%|██████████| 136/136 [00:00<00:00, 814.89it/s]\n",
            "Epoch 260 Validation: 100%|██████████| 34/34 [00:00<00:00, 1457.87it/s]\n"
          ]
        },
        {
          "output_type": "stream",
          "name": "stdout",
          "text": [
            "Epoch 260 Training Loss: 0.8688, Accuracy: 0.6690\n",
            "Epoch 260 Validation Loss: 0.8817, Accuracy: 0.6427\n"
          ]
        },
        {
          "output_type": "stream",
          "name": "stderr",
          "text": [
            "Epoch 261 Training: 100%|██████████| 136/136 [00:00<00:00, 824.16it/s]\n",
            "Epoch 261 Validation: 100%|██████████| 34/34 [00:00<00:00, 1567.71it/s]\n"
          ]
        },
        {
          "output_type": "stream",
          "name": "stdout",
          "text": [
            "Epoch 261 Training Loss: 0.8684, Accuracy: 0.6690\n",
            "Epoch 261 Validation Loss: 0.8893, Accuracy: 0.6409\n"
          ]
        },
        {
          "output_type": "stream",
          "name": "stderr",
          "text": [
            "Epoch 262 Training: 100%|██████████| 136/136 [00:00<00:00, 890.50it/s]\n",
            "Epoch 262 Validation: 100%|██████████| 34/34 [00:00<00:00, 1515.78it/s]\n"
          ]
        },
        {
          "output_type": "stream",
          "name": "stdout",
          "text": [
            "Epoch 262 Training Loss: 0.8646, Accuracy: 0.6731\n",
            "Epoch 262 Validation Loss: 0.8788, Accuracy: 0.6575\n"
          ]
        },
        {
          "output_type": "stream",
          "name": "stderr",
          "text": [
            "Epoch 263 Training: 100%|██████████| 136/136 [00:00<00:00, 901.16it/s]\n",
            "Epoch 263 Validation: 100%|██████████| 34/34 [00:00<00:00, 1641.70it/s]\n"
          ]
        },
        {
          "output_type": "stream",
          "name": "stdout",
          "text": [
            "Epoch 263 Training Loss: 0.8668, Accuracy: 0.6671\n",
            "Epoch 263 Validation Loss: 0.8865, Accuracy: 0.6427\n"
          ]
        },
        {
          "output_type": "stream",
          "name": "stderr",
          "text": [
            "Epoch 264 Training: 100%|██████████| 136/136 [00:00<00:00, 813.66it/s]\n",
            "Epoch 264 Validation: 100%|██████████| 34/34 [00:00<00:00, 1661.61it/s]\n"
          ]
        },
        {
          "output_type": "stream",
          "name": "stdout",
          "text": [
            "Epoch 264 Training Loss: 0.8649, Accuracy: 0.6699\n",
            "Epoch 264 Validation Loss: 0.8823, Accuracy: 0.6501\n"
          ]
        },
        {
          "output_type": "stream",
          "name": "stderr",
          "text": [
            "Epoch 265 Training: 100%|██████████| 136/136 [00:00<00:00, 824.89it/s]\n",
            "Epoch 265 Validation: 100%|██████████| 34/34 [00:00<00:00, 1710.77it/s]\n"
          ]
        },
        {
          "output_type": "stream",
          "name": "stdout",
          "text": [
            "Epoch 265 Training Loss: 0.8617, Accuracy: 0.6782\n",
            "Epoch 265 Validation Loss: 0.8846, Accuracy: 0.6372\n"
          ]
        },
        {
          "output_type": "stream",
          "name": "stderr",
          "text": [
            "Epoch 266 Training: 100%|██████████| 136/136 [00:00<00:00, 776.39it/s]\n",
            "Epoch 266 Validation: 100%|██████████| 34/34 [00:00<00:00, 1346.17it/s]\n"
          ]
        },
        {
          "output_type": "stream",
          "name": "stdout",
          "text": [
            "Epoch 266 Training Loss: 0.8613, Accuracy: 0.6768\n",
            "Epoch 266 Validation Loss: 0.8849, Accuracy: 0.6483\n"
          ]
        },
        {
          "output_type": "stream",
          "name": "stderr",
          "text": [
            "Epoch 267 Training: 100%|██████████| 136/136 [00:00<00:00, 773.81it/s]\n",
            "Epoch 267 Validation: 100%|██████████| 34/34 [00:00<00:00, 1652.41it/s]\n"
          ]
        },
        {
          "output_type": "stream",
          "name": "stdout",
          "text": [
            "Epoch 267 Training Loss: 0.8654, Accuracy: 0.6740\n",
            "Epoch 267 Validation Loss: 0.8956, Accuracy: 0.6372\n"
          ]
        },
        {
          "output_type": "stream",
          "name": "stderr",
          "text": [
            "Epoch 268 Training: 100%|██████████| 136/136 [00:00<00:00, 849.76it/s]\n",
            "Epoch 268 Validation: 100%|██████████| 34/34 [00:00<00:00, 1545.08it/s]\n"
          ]
        },
        {
          "output_type": "stream",
          "name": "stdout",
          "text": [
            "Epoch 268 Training Loss: 0.8621, Accuracy: 0.6814\n",
            "Epoch 268 Validation Loss: 0.8930, Accuracy: 0.6280\n"
          ]
        },
        {
          "output_type": "stream",
          "name": "stderr",
          "text": [
            "Epoch 269 Training: 100%|██████████| 136/136 [00:00<00:00, 841.69it/s]\n",
            "Epoch 269 Validation: 100%|██████████| 34/34 [00:00<00:00, 1613.54it/s]\n"
          ]
        },
        {
          "output_type": "stream",
          "name": "stdout",
          "text": [
            "Epoch 269 Training Loss: 0.8626, Accuracy: 0.6703\n",
            "Epoch 269 Validation Loss: 0.8784, Accuracy: 0.6556\n"
          ]
        },
        {
          "output_type": "stream",
          "name": "stderr",
          "text": [
            "Epoch 270 Training: 100%|██████████| 136/136 [00:00<00:00, 867.75it/s]\n",
            "Epoch 270 Validation: 100%|██████████| 34/34 [00:00<00:00, 1328.31it/s]\n"
          ]
        },
        {
          "output_type": "stream",
          "name": "stdout",
          "text": [
            "Epoch 270 Training Loss: 0.8662, Accuracy: 0.6740\n",
            "Epoch 270 Validation Loss: 0.8904, Accuracy: 0.6298\n"
          ]
        },
        {
          "output_type": "stream",
          "name": "stderr",
          "text": [
            "Epoch 271 Training: 100%|██████████| 136/136 [00:00<00:00, 808.89it/s]\n",
            "Epoch 271 Validation: 100%|██████████| 34/34 [00:00<00:00, 1561.44it/s]\n"
          ]
        },
        {
          "output_type": "stream",
          "name": "stdout",
          "text": [
            "Epoch 271 Training Loss: 0.8696, Accuracy: 0.6685\n",
            "Epoch 271 Validation Loss: 0.8812, Accuracy: 0.6446\n"
          ]
        },
        {
          "output_type": "stream",
          "name": "stderr",
          "text": [
            "Epoch 272 Training: 100%|██████████| 136/136 [00:00<00:00, 895.74it/s]\n",
            "Epoch 272 Validation: 100%|██████████| 34/34 [00:00<00:00, 1738.78it/s]\n"
          ]
        },
        {
          "output_type": "stream",
          "name": "stdout",
          "text": [
            "Epoch 272 Training Loss: 0.8649, Accuracy: 0.6773\n",
            "Epoch 272 Validation Loss: 0.9052, Accuracy: 0.6206\n"
          ]
        },
        {
          "output_type": "stream",
          "name": "stderr",
          "text": [
            "Epoch 273 Training: 100%|██████████| 136/136 [00:00<00:00, 872.06it/s]\n",
            "Epoch 273 Validation: 100%|██████████| 34/34 [00:00<00:00, 1685.30it/s]\n"
          ]
        },
        {
          "output_type": "stream",
          "name": "stdout",
          "text": [
            "Epoch 273 Training Loss: 0.8652, Accuracy: 0.6722\n",
            "Epoch 273 Validation Loss: 0.8939, Accuracy: 0.6280\n"
          ]
        },
        {
          "output_type": "stream",
          "name": "stderr",
          "text": [
            "Epoch 274 Training: 100%|██████████| 136/136 [00:00<00:00, 793.95it/s]\n",
            "Epoch 274 Validation: 100%|██████████| 34/34 [00:00<00:00, 1454.81it/s]\n"
          ]
        },
        {
          "output_type": "stream",
          "name": "stdout",
          "text": [
            "Epoch 274 Training Loss: 0.8634, Accuracy: 0.6754\n",
            "Epoch 274 Validation Loss: 0.8842, Accuracy: 0.6464\n"
          ]
        },
        {
          "output_type": "stream",
          "name": "stderr",
          "text": [
            "Epoch 275 Training: 100%|██████████| 136/136 [00:00<00:00, 846.47it/s]\n",
            "Epoch 275 Validation: 100%|██████████| 34/34 [00:00<00:00, 1604.64it/s]\n"
          ]
        },
        {
          "output_type": "stream",
          "name": "stdout",
          "text": [
            "Epoch 275 Training Loss: 0.8643, Accuracy: 0.6722\n",
            "Epoch 275 Validation Loss: 0.8878, Accuracy: 0.6372\n"
          ]
        },
        {
          "output_type": "stream",
          "name": "stderr",
          "text": [
            "Epoch 276 Training: 100%|██████████| 136/136 [00:00<00:00, 823.18it/s]\n",
            "Epoch 276 Validation: 100%|██████████| 34/34 [00:00<00:00, 1771.38it/s]\n"
          ]
        },
        {
          "output_type": "stream",
          "name": "stdout",
          "text": [
            "Epoch 276 Training Loss: 0.8638, Accuracy: 0.6662\n",
            "Epoch 276 Validation Loss: 0.8946, Accuracy: 0.6243\n"
          ]
        },
        {
          "output_type": "stream",
          "name": "stderr",
          "text": [
            "Epoch 277 Training: 100%|██████████| 136/136 [00:00<00:00, 850.77it/s]\n",
            "Epoch 277 Validation: 100%|██████████| 34/34 [00:00<00:00, 1644.35it/s]"
          ]
        },
        {
          "output_type": "stream",
          "name": "stdout",
          "text": [
            "Epoch 277 Training Loss: 0.8613, Accuracy: 0.6791"
          ]
        },
        {
          "output_type": "stream",
          "name": "stderr",
          "text": [
            "\n"
          ]
        },
        {
          "output_type": "stream",
          "name": "stdout",
          "text": [
            "\n",
            "Epoch 277 Validation Loss: 0.8844, Accuracy: 0.6446\n"
          ]
        },
        {
          "output_type": "stream",
          "name": "stderr",
          "text": [
            "Epoch 278 Training: 100%|██████████| 136/136 [00:00<00:00, 843.05it/s]\n",
            "Epoch 278 Validation: 100%|██████████| 34/34 [00:00<00:00, 1659.39it/s]\n"
          ]
        },
        {
          "output_type": "stream",
          "name": "stdout",
          "text": [
            "Epoch 278 Training Loss: 0.8607, Accuracy: 0.6814\n",
            "Epoch 278 Validation Loss: 0.8914, Accuracy: 0.6317\n"
          ]
        },
        {
          "output_type": "stream",
          "name": "stderr",
          "text": [
            "Epoch 279 Training: 100%|██████████| 136/136 [00:00<00:00, 836.37it/s]\n",
            "Epoch 279 Validation: 100%|██████████| 34/34 [00:00<00:00, 1560.79it/s]\n"
          ]
        },
        {
          "output_type": "stream",
          "name": "stdout",
          "text": [
            "Epoch 279 Training Loss: 0.8692, Accuracy: 0.6662\n",
            "Epoch 279 Validation Loss: 0.8785, Accuracy: 0.6593\n"
          ]
        },
        {
          "output_type": "stream",
          "name": "stderr",
          "text": [
            "Epoch 280 Training: 100%|██████████| 136/136 [00:00<00:00, 868.72it/s]\n",
            "Epoch 280 Validation: 100%|██████████| 34/34 [00:00<00:00, 1758.88it/s]\n"
          ]
        },
        {
          "output_type": "stream",
          "name": "stdout",
          "text": [
            "Epoch 280 Training Loss: 0.8619, Accuracy: 0.6713\n",
            "Epoch 280 Validation Loss: 0.8893, Accuracy: 0.6372\n"
          ]
        },
        {
          "output_type": "stream",
          "name": "stderr",
          "text": [
            "Epoch 281 Training: 100%|██████████| 136/136 [00:00<00:00, 832.94it/s]\n",
            "Epoch 281 Validation: 100%|██████████| 34/34 [00:00<00:00, 1568.53it/s]\n"
          ]
        },
        {
          "output_type": "stream",
          "name": "stdout",
          "text": [
            "Epoch 281 Training Loss: 0.8670, Accuracy: 0.6657\n",
            "Epoch 281 Validation Loss: 0.9043, Accuracy: 0.6206\n"
          ]
        },
        {
          "output_type": "stream",
          "name": "stderr",
          "text": [
            "Epoch 282 Training: 100%|██████████| 136/136 [00:00<00:00, 785.80it/s]\n",
            "Epoch 282 Validation: 100%|██████████| 34/34 [00:00<00:00, 1430.45it/s]\n"
          ]
        },
        {
          "output_type": "stream",
          "name": "stdout",
          "text": [
            "Epoch 282 Training Loss: 0.8645, Accuracy: 0.6731\n",
            "Epoch 282 Validation Loss: 0.8979, Accuracy: 0.6225\n"
          ]
        },
        {
          "output_type": "stream",
          "name": "stderr",
          "text": [
            "Epoch 283 Training: 100%|██████████| 136/136 [00:00<00:00, 808.40it/s]\n",
            "Epoch 283 Validation: 100%|██████████| 34/34 [00:00<00:00, 1519.90it/s]\n"
          ]
        },
        {
          "output_type": "stream",
          "name": "stdout",
          "text": [
            "Epoch 283 Training Loss: 0.8652, Accuracy: 0.6690\n",
            "Epoch 283 Validation Loss: 0.8881, Accuracy: 0.6317\n"
          ]
        },
        {
          "output_type": "stream",
          "name": "stderr",
          "text": [
            "Epoch 284 Training: 100%|██████████| 136/136 [00:00<00:00, 707.06it/s]\n",
            "Epoch 284 Validation: 100%|██████████| 34/34 [00:00<00:00, 1294.42it/s]\n"
          ]
        },
        {
          "output_type": "stream",
          "name": "stdout",
          "text": [
            "Epoch 284 Training Loss: 0.8641, Accuracy: 0.6768\n",
            "Epoch 284 Validation Loss: 0.8829, Accuracy: 0.6501\n"
          ]
        },
        {
          "output_type": "stream",
          "name": "stderr",
          "text": [
            "Epoch 285 Training: 100%|██████████| 136/136 [00:00<00:00, 611.24it/s]\n",
            "Epoch 285 Validation: 100%|██████████| 34/34 [00:00<00:00, 1300.27it/s]\n"
          ]
        },
        {
          "output_type": "stream",
          "name": "stdout",
          "text": [
            "Epoch 285 Training Loss: 0.8649, Accuracy: 0.6740\n",
            "Epoch 285 Validation Loss: 0.8925, Accuracy: 0.6298\n"
          ]
        },
        {
          "output_type": "stream",
          "name": "stderr",
          "text": [
            "Epoch 286 Training: 100%|██████████| 136/136 [00:00<00:00, 642.70it/s]\n",
            "Epoch 286 Validation: 100%|██████████| 34/34 [00:00<00:00, 1550.96it/s]\n"
          ]
        },
        {
          "output_type": "stream",
          "name": "stdout",
          "text": [
            "Epoch 286 Training Loss: 0.8665, Accuracy: 0.6740\n",
            "Epoch 286 Validation Loss: 0.8798, Accuracy: 0.6538\n"
          ]
        },
        {
          "output_type": "stream",
          "name": "stderr",
          "text": [
            "Epoch 287 Training: 100%|██████████| 136/136 [00:00<00:00, 684.78it/s]\n",
            "Epoch 287 Validation: 100%|██████████| 34/34 [00:00<00:00, 1277.04it/s]\n"
          ]
        },
        {
          "output_type": "stream",
          "name": "stdout",
          "text": [
            "Epoch 287 Training Loss: 0.8721, Accuracy: 0.6634\n",
            "Epoch 287 Validation Loss: 0.8898, Accuracy: 0.6390\n"
          ]
        },
        {
          "output_type": "stream",
          "name": "stderr",
          "text": [
            "Epoch 288 Training: 100%|██████████| 136/136 [00:00<00:00, 635.31it/s]\n",
            "Epoch 288 Validation: 100%|██████████| 34/34 [00:00<00:00, 1371.56it/s]\n"
          ]
        },
        {
          "output_type": "stream",
          "name": "stdout",
          "text": [
            "Epoch 288 Training Loss: 0.8652, Accuracy: 0.6754\n",
            "Epoch 288 Validation Loss: 0.8873, Accuracy: 0.6390\n"
          ]
        },
        {
          "output_type": "stream",
          "name": "stderr",
          "text": [
            "Epoch 289 Training: 100%|██████████| 136/136 [00:00<00:00, 611.30it/s]\n",
            "Epoch 289 Validation: 100%|██████████| 34/34 [00:00<00:00, 1462.04it/s]\n"
          ]
        },
        {
          "output_type": "stream",
          "name": "stdout",
          "text": [
            "Epoch 289 Training Loss: 0.8670, Accuracy: 0.6740\n",
            "Epoch 289 Validation Loss: 0.8788, Accuracy: 0.6575\n"
          ]
        },
        {
          "output_type": "stream",
          "name": "stderr",
          "text": [
            "Epoch 290 Training: 100%|██████████| 136/136 [00:00<00:00, 685.18it/s]\n",
            "Epoch 290 Validation: 100%|██████████| 34/34 [00:00<00:00, 1829.46it/s]\n"
          ]
        },
        {
          "output_type": "stream",
          "name": "stdout",
          "text": [
            "Epoch 290 Training Loss: 0.8668, Accuracy: 0.6694\n",
            "Epoch 290 Validation Loss: 0.8862, Accuracy: 0.6317\n"
          ]
        },
        {
          "output_type": "stream",
          "name": "stderr",
          "text": [
            "Epoch 291 Training: 100%|██████████| 136/136 [00:00<00:00, 584.43it/s]\n",
            "Epoch 291 Validation: 100%|██████████| 34/34 [00:00<00:00, 1318.00it/s]\n"
          ]
        },
        {
          "output_type": "stream",
          "name": "stdout",
          "text": [
            "Epoch 291 Training Loss: 0.8658, Accuracy: 0.6703\n",
            "Epoch 291 Validation Loss: 0.8804, Accuracy: 0.6593\n"
          ]
        },
        {
          "output_type": "stream",
          "name": "stderr",
          "text": [
            "Epoch 292 Training: 100%|██████████| 136/136 [00:00<00:00, 581.40it/s]\n",
            "Epoch 292 Validation: 100%|██████████| 34/34 [00:00<00:00, 1519.66it/s]\n"
          ]
        },
        {
          "output_type": "stream",
          "name": "stdout",
          "text": [
            "Epoch 292 Training Loss: 0.8667, Accuracy: 0.6736\n",
            "Epoch 292 Validation Loss: 0.8888, Accuracy: 0.6446\n"
          ]
        },
        {
          "output_type": "stream",
          "name": "stderr",
          "text": [
            "Epoch 293 Training: 100%|██████████| 136/136 [00:00<00:00, 600.29it/s]\n",
            "Epoch 293 Validation: 100%|██████████| 34/34 [00:00<00:00, 1310.67it/s]\n"
          ]
        },
        {
          "output_type": "stream",
          "name": "stdout",
          "text": [
            "Epoch 293 Training Loss: 0.8685, Accuracy: 0.6685\n",
            "Epoch 293 Validation Loss: 0.8843, Accuracy: 0.6409\n"
          ]
        },
        {
          "output_type": "stream",
          "name": "stderr",
          "text": [
            "Epoch 294 Training: 100%|██████████| 136/136 [00:00<00:00, 801.53it/s]\n",
            "Epoch 294 Validation: 100%|██████████| 34/34 [00:00<00:00, 1531.51it/s]\n"
          ]
        },
        {
          "output_type": "stream",
          "name": "stdout",
          "text": [
            "Epoch 294 Training Loss: 0.8649, Accuracy: 0.6786\n",
            "Epoch 294 Validation Loss: 0.8758, Accuracy: 0.6593\n"
          ]
        },
        {
          "output_type": "stream",
          "name": "stderr",
          "text": [
            "Epoch 295 Training: 100%|██████████| 136/136 [00:00<00:00, 802.96it/s]\n",
            "Epoch 295 Validation: 100%|██████████| 34/34 [00:00<00:00, 1647.50it/s]\n"
          ]
        },
        {
          "output_type": "stream",
          "name": "stdout",
          "text": [
            "Epoch 295 Training Loss: 0.8642, Accuracy: 0.6736\n",
            "Epoch 295 Validation Loss: 0.8870, Accuracy: 0.6372\n"
          ]
        },
        {
          "output_type": "stream",
          "name": "stderr",
          "text": [
            "Epoch 296 Training: 100%|██████████| 136/136 [00:00<00:00, 826.16it/s]\n",
            "Epoch 296 Validation: 100%|██████████| 34/34 [00:00<00:00, 1764.69it/s]\n"
          ]
        },
        {
          "output_type": "stream",
          "name": "stdout",
          "text": [
            "Epoch 296 Training Loss: 0.8640, Accuracy: 0.6750\n",
            "Epoch 296 Validation Loss: 0.8897, Accuracy: 0.6372\n"
          ]
        },
        {
          "output_type": "stream",
          "name": "stderr",
          "text": [
            "Epoch 297 Training: 100%|██████████| 136/136 [00:00<00:00, 770.26it/s]\n",
            "Epoch 297 Validation: 100%|██████████| 34/34 [00:00<00:00, 1396.20it/s]\n"
          ]
        },
        {
          "output_type": "stream",
          "name": "stdout",
          "text": [
            "Epoch 297 Training Loss: 0.8632, Accuracy: 0.6745\n",
            "Epoch 297 Validation Loss: 0.8965, Accuracy: 0.6169\n"
          ]
        },
        {
          "output_type": "stream",
          "name": "stderr",
          "text": [
            "Epoch 298 Training: 100%|██████████| 136/136 [00:00<00:00, 800.77it/s]\n",
            "Epoch 298 Validation: 100%|██████████| 34/34 [00:00<00:00, 1193.19it/s]\n"
          ]
        },
        {
          "output_type": "stream",
          "name": "stdout",
          "text": [
            "Epoch 298 Training Loss: 0.8627, Accuracy: 0.6722\n",
            "Epoch 298 Validation Loss: 0.8927, Accuracy: 0.6243\n"
          ]
        },
        {
          "output_type": "stream",
          "name": "stderr",
          "text": [
            "Epoch 299 Training: 100%|██████████| 136/136 [00:00<00:00, 798.38it/s]\n",
            "Epoch 299 Validation: 100%|██████████| 34/34 [00:00<00:00, 1662.87it/s]\n"
          ]
        },
        {
          "output_type": "stream",
          "name": "stdout",
          "text": [
            "Epoch 299 Training Loss: 0.8633, Accuracy: 0.6699\n",
            "Epoch 299 Validation Loss: 0.8955, Accuracy: 0.6262\n"
          ]
        },
        {
          "output_type": "stream",
          "name": "stderr",
          "text": [
            "Epoch 300 Training: 100%|██████████| 136/136 [00:00<00:00, 811.20it/s]\n",
            "Epoch 300 Validation: 100%|██████████| 34/34 [00:00<00:00, 1294.41it/s]\n"
          ]
        },
        {
          "output_type": "stream",
          "name": "stdout",
          "text": [
            "Epoch 300 Training Loss: 0.8632, Accuracy: 0.6754\n",
            "Epoch 300 Validation Loss: 0.8941, Accuracy: 0.6262\n"
          ]
        },
        {
          "output_type": "stream",
          "name": "stderr",
          "text": [
            "Epoch 301 Training: 100%|██████████| 136/136 [00:00<00:00, 811.23it/s]\n",
            "Epoch 301 Validation: 100%|██████████| 34/34 [00:00<00:00, 1607.48it/s]\n"
          ]
        },
        {
          "output_type": "stream",
          "name": "stdout",
          "text": [
            "Epoch 301 Training Loss: 0.8691, Accuracy: 0.6653\n",
            "Epoch 301 Validation Loss: 0.9017, Accuracy: 0.6151\n"
          ]
        },
        {
          "output_type": "stream",
          "name": "stderr",
          "text": [
            "Epoch 302 Training: 100%|██████████| 136/136 [00:00<00:00, 827.97it/s]\n",
            "Epoch 302 Validation: 100%|██████████| 34/34 [00:00<00:00, 1684.40it/s]\n"
          ]
        },
        {
          "output_type": "stream",
          "name": "stdout",
          "text": [
            "Epoch 302 Training Loss: 0.8645, Accuracy: 0.6740\n",
            "Epoch 302 Validation Loss: 0.9004, Accuracy: 0.6169\n"
          ]
        },
        {
          "output_type": "stream",
          "name": "stderr",
          "text": [
            "Epoch 303 Training: 100%|██████████| 136/136 [00:00<00:00, 841.59it/s]\n",
            "Epoch 303 Validation: 100%|██████████| 34/34 [00:00<00:00, 1542.72it/s]\n"
          ]
        },
        {
          "output_type": "stream",
          "name": "stdout",
          "text": [
            "Epoch 303 Training Loss: 0.8674, Accuracy: 0.6727\n",
            "Epoch 303 Validation Loss: 0.9014, Accuracy: 0.6188\n"
          ]
        },
        {
          "output_type": "stream",
          "name": "stderr",
          "text": [
            "Epoch 304 Training: 100%|██████████| 136/136 [00:00<00:00, 744.65it/s]\n",
            "Epoch 304 Validation: 100%|██████████| 34/34 [00:00<00:00, 1663.86it/s]\n"
          ]
        },
        {
          "output_type": "stream",
          "name": "stdout",
          "text": [
            "Epoch 304 Training Loss: 0.8601, Accuracy: 0.6773\n",
            "Epoch 304 Validation Loss: 0.8823, Accuracy: 0.6575\n"
          ]
        },
        {
          "output_type": "stream",
          "name": "stderr",
          "text": [
            "Epoch 305 Training: 100%|██████████| 136/136 [00:00<00:00, 825.71it/s]\n",
            "Epoch 305 Validation: 100%|██████████| 34/34 [00:00<00:00, 1670.84it/s]\n"
          ]
        },
        {
          "output_type": "stream",
          "name": "stdout",
          "text": [
            "Epoch 305 Training Loss: 0.8609, Accuracy: 0.6791\n",
            "Epoch 305 Validation Loss: 0.8834, Accuracy: 0.6483\n"
          ]
        },
        {
          "output_type": "stream",
          "name": "stderr",
          "text": [
            "Epoch 306 Training: 100%|██████████| 136/136 [00:00<00:00, 834.88it/s]\n",
            "Epoch 306 Validation: 100%|██████████| 34/34 [00:00<00:00, 1697.61it/s]\n"
          ]
        },
        {
          "output_type": "stream",
          "name": "stdout",
          "text": [
            "Epoch 306 Training Loss: 0.8730, Accuracy: 0.6588\n",
            "Epoch 306 Validation Loss: 0.8864, Accuracy: 0.6390\n"
          ]
        },
        {
          "output_type": "stream",
          "name": "stderr",
          "text": [
            "Epoch 307 Training: 100%|██████████| 136/136 [00:00<00:00, 862.00it/s]\n",
            "Epoch 307 Validation: 100%|██████████| 34/34 [00:00<00:00, 1480.55it/s]\n"
          ]
        },
        {
          "output_type": "stream",
          "name": "stdout",
          "text": [
            "Epoch 307 Training Loss: 0.8612, Accuracy: 0.6722\n",
            "Epoch 307 Validation Loss: 0.8941, Accuracy: 0.6280\n"
          ]
        },
        {
          "output_type": "stream",
          "name": "stderr",
          "text": [
            "Epoch 308 Training: 100%|██████████| 136/136 [00:00<00:00, 824.35it/s]\n",
            "Epoch 308 Validation: 100%|██████████| 34/34 [00:00<00:00, 1618.39it/s]\n"
          ]
        },
        {
          "output_type": "stream",
          "name": "stdout",
          "text": [
            "Epoch 308 Training Loss: 0.8622, Accuracy: 0.6754\n",
            "Epoch 308 Validation Loss: 0.8844, Accuracy: 0.6409\n"
          ]
        },
        {
          "output_type": "stream",
          "name": "stderr",
          "text": [
            "Epoch 309 Training: 100%|██████████| 136/136 [00:00<00:00, 781.68it/s]\n",
            "Epoch 309 Validation: 100%|██████████| 34/34 [00:00<00:00, 1720.57it/s]\n"
          ]
        },
        {
          "output_type": "stream",
          "name": "stdout",
          "text": [
            "Epoch 309 Training Loss: 0.8632, Accuracy: 0.6745\n",
            "Epoch 309 Validation Loss: 0.8950, Accuracy: 0.6206\n"
          ]
        },
        {
          "output_type": "stream",
          "name": "stderr",
          "text": [
            "Epoch 310 Training: 100%|██████████| 136/136 [00:00<00:00, 860.74it/s]\n",
            "Epoch 310 Validation: 100%|██████████| 34/34 [00:00<00:00, 1529.01it/s]\n"
          ]
        },
        {
          "output_type": "stream",
          "name": "stdout",
          "text": [
            "Epoch 310 Training Loss: 0.8620, Accuracy: 0.6722\n",
            "Epoch 310 Validation Loss: 0.8826, Accuracy: 0.6409\n"
          ]
        },
        {
          "output_type": "stream",
          "name": "stderr",
          "text": [
            "Epoch 311 Training: 100%|██████████| 136/136 [00:00<00:00, 804.61it/s]\n",
            "Epoch 311 Validation: 100%|██████████| 34/34 [00:00<00:00, 1602.23it/s]\n"
          ]
        },
        {
          "output_type": "stream",
          "name": "stdout",
          "text": [
            "Epoch 311 Training Loss: 0.8651, Accuracy: 0.6773\n",
            "Epoch 311 Validation Loss: 0.9010, Accuracy: 0.6206\n"
          ]
        },
        {
          "output_type": "stream",
          "name": "stderr",
          "text": [
            "Epoch 312 Training: 100%|██████████| 136/136 [00:00<00:00, 812.05it/s]\n",
            "Epoch 312 Validation: 100%|██████████| 34/34 [00:00<00:00, 1634.91it/s]\n"
          ]
        },
        {
          "output_type": "stream",
          "name": "stdout",
          "text": [
            "Epoch 312 Training Loss: 0.8667, Accuracy: 0.6699\n",
            "Epoch 312 Validation Loss: 0.8911, Accuracy: 0.6335\n"
          ]
        },
        {
          "output_type": "stream",
          "name": "stderr",
          "text": [
            "Epoch 313 Training: 100%|██████████| 136/136 [00:00<00:00, 808.65it/s]\n",
            "Epoch 313 Validation: 100%|██████████| 34/34 [00:00<00:00, 1579.20it/s]\n"
          ]
        },
        {
          "output_type": "stream",
          "name": "stdout",
          "text": [
            "Epoch 313 Training Loss: 0.8635, Accuracy: 0.6722\n",
            "Epoch 313 Validation Loss: 0.8820, Accuracy: 0.6464\n"
          ]
        },
        {
          "output_type": "stream",
          "name": "stderr",
          "text": [
            "Epoch 314 Training: 100%|██████████| 136/136 [00:00<00:00, 776.19it/s]\n",
            "Epoch 314 Validation: 100%|██████████| 34/34 [00:00<00:00, 1632.79it/s]\n"
          ]
        },
        {
          "output_type": "stream",
          "name": "stdout",
          "text": [
            "Epoch 314 Training Loss: 0.8616, Accuracy: 0.6773\n",
            "Epoch 314 Validation Loss: 0.8774, Accuracy: 0.6501\n"
          ]
        },
        {
          "output_type": "stream",
          "name": "stderr",
          "text": [
            "Epoch 315 Training: 100%|██████████| 136/136 [00:00<00:00, 872.44it/s]\n",
            "Epoch 315 Validation: 100%|██████████| 34/34 [00:00<00:00, 1450.28it/s]\n"
          ]
        },
        {
          "output_type": "stream",
          "name": "stdout",
          "text": [
            "Epoch 315 Training Loss: 0.8639, Accuracy: 0.6740\n",
            "Epoch 315 Validation Loss: 0.9011, Accuracy: 0.6133\n"
          ]
        },
        {
          "output_type": "stream",
          "name": "stderr",
          "text": [
            "Epoch 316 Training: 100%|██████████| 136/136 [00:00<00:00, 833.83it/s]\n",
            "Epoch 316 Validation: 100%|██████████| 34/34 [00:00<00:00, 1571.26it/s]\n"
          ]
        },
        {
          "output_type": "stream",
          "name": "stdout",
          "text": [
            "Epoch 316 Training Loss: 0.8649, Accuracy: 0.6754\n",
            "Epoch 316 Validation Loss: 0.8879, Accuracy: 0.6317\n"
          ]
        },
        {
          "output_type": "stream",
          "name": "stderr",
          "text": [
            "Epoch 317 Training: 100%|██████████| 136/136 [00:00<00:00, 823.43it/s]\n",
            "Epoch 317 Validation: 100%|██████████| 34/34 [00:00<00:00, 1685.99it/s]\n"
          ]
        },
        {
          "output_type": "stream",
          "name": "stdout",
          "text": [
            "Epoch 317 Training Loss: 0.8652, Accuracy: 0.6777\n",
            "Epoch 317 Validation Loss: 0.8836, Accuracy: 0.6464\n"
          ]
        },
        {
          "output_type": "stream",
          "name": "stderr",
          "text": [
            "Epoch 318 Training: 100%|██████████| 136/136 [00:00<00:00, 841.91it/s]\n",
            "Epoch 318 Validation: 100%|██████████| 34/34 [00:00<00:00, 1571.30it/s]\n"
          ]
        },
        {
          "output_type": "stream",
          "name": "stdout",
          "text": [
            "Epoch 318 Training Loss: 0.8631, Accuracy: 0.6791\n",
            "Epoch 318 Validation Loss: 0.8982, Accuracy: 0.6354\n"
          ]
        },
        {
          "output_type": "stream",
          "name": "stderr",
          "text": [
            "Epoch 319 Training: 100%|██████████| 136/136 [00:00<00:00, 789.73it/s]\n",
            "Epoch 319 Validation: 100%|██████████| 34/34 [00:00<00:00, 1599.12it/s]\n"
          ]
        },
        {
          "output_type": "stream",
          "name": "stdout",
          "text": [
            "Epoch 319 Training Loss: 0.8636, Accuracy: 0.6727\n",
            "Epoch 319 Validation Loss: 0.8935, Accuracy: 0.6188\n"
          ]
        },
        {
          "output_type": "stream",
          "name": "stderr",
          "text": [
            "Epoch 320 Training: 100%|██████████| 136/136 [00:00<00:00, 791.13it/s]\n",
            "Epoch 320 Validation: 100%|██████████| 34/34 [00:00<00:00, 1508.84it/s]\n"
          ]
        },
        {
          "output_type": "stream",
          "name": "stdout",
          "text": [
            "Epoch 320 Training Loss: 0.8652, Accuracy: 0.6699\n",
            "Epoch 320 Validation Loss: 0.8836, Accuracy: 0.6538\n"
          ]
        },
        {
          "output_type": "stream",
          "name": "stderr",
          "text": [
            "Epoch 321 Training: 100%|██████████| 136/136 [00:00<00:00, 834.97it/s]\n",
            "Epoch 321 Validation: 100%|██████████| 34/34 [00:00<00:00, 1533.27it/s]\n"
          ]
        },
        {
          "output_type": "stream",
          "name": "stdout",
          "text": [
            "Epoch 321 Training Loss: 0.8634, Accuracy: 0.6731\n",
            "Epoch 321 Validation Loss: 0.8866, Accuracy: 0.6298\n"
          ]
        },
        {
          "output_type": "stream",
          "name": "stderr",
          "text": [
            "Epoch 322 Training: 100%|██████████| 136/136 [00:00<00:00, 793.01it/s]\n",
            "Epoch 322 Validation: 100%|██████████| 34/34 [00:00<00:00, 1753.92it/s]\n"
          ]
        },
        {
          "output_type": "stream",
          "name": "stdout",
          "text": [
            "Epoch 322 Training Loss: 0.8659, Accuracy: 0.6713\n",
            "Epoch 322 Validation Loss: 0.8907, Accuracy: 0.6317\n"
          ]
        },
        {
          "output_type": "stream",
          "name": "stderr",
          "text": [
            "Epoch 323 Training: 100%|██████████| 136/136 [00:00<00:00, 792.97it/s]\n",
            "Epoch 323 Validation: 100%|██████████| 34/34 [00:00<00:00, 1487.20it/s]\n"
          ]
        },
        {
          "output_type": "stream",
          "name": "stdout",
          "text": [
            "Epoch 323 Training Loss: 0.8642, Accuracy: 0.6727\n",
            "Epoch 323 Validation Loss: 0.8889, Accuracy: 0.6372\n"
          ]
        },
        {
          "output_type": "stream",
          "name": "stderr",
          "text": [
            "Epoch 324 Training: 100%|██████████| 136/136 [00:00<00:00, 757.61it/s]\n",
            "Epoch 324 Validation: 100%|██████████| 34/34 [00:00<00:00, 1420.93it/s]\n"
          ]
        },
        {
          "output_type": "stream",
          "name": "stdout",
          "text": [
            "Epoch 324 Training Loss: 0.8640, Accuracy: 0.6768\n",
            "Epoch 324 Validation Loss: 0.8932, Accuracy: 0.6280\n"
          ]
        },
        {
          "output_type": "stream",
          "name": "stderr",
          "text": [
            "Epoch 325 Training: 100%|██████████| 136/136 [00:00<00:00, 829.98it/s]\n",
            "Epoch 325 Validation: 100%|██████████| 34/34 [00:00<00:00, 1708.86it/s]\n"
          ]
        },
        {
          "output_type": "stream",
          "name": "stdout",
          "text": [
            "Epoch 325 Training Loss: 0.8655, Accuracy: 0.6708\n",
            "Epoch 325 Validation Loss: 0.8941, Accuracy: 0.6354\n"
          ]
        },
        {
          "output_type": "stream",
          "name": "stderr",
          "text": [
            "Epoch 326 Training: 100%|██████████| 136/136 [00:00<00:00, 839.95it/s]\n",
            "Epoch 326 Validation: 100%|██████████| 34/34 [00:00<00:00, 1618.06it/s]\n"
          ]
        },
        {
          "output_type": "stream",
          "name": "stdout",
          "text": [
            "Epoch 326 Training Loss: 0.8664, Accuracy: 0.6750\n",
            "Epoch 326 Validation Loss: 0.8995, Accuracy: 0.6280\n"
          ]
        },
        {
          "output_type": "stream",
          "name": "stderr",
          "text": [
            "Epoch 327 Training: 100%|██████████| 136/136 [00:00<00:00, 850.45it/s]\n",
            "Epoch 327 Validation: 100%|██████████| 34/34 [00:00<00:00, 1482.49it/s]\n"
          ]
        },
        {
          "output_type": "stream",
          "name": "stdout",
          "text": [
            "Epoch 327 Training Loss: 0.8644, Accuracy: 0.6644\n",
            "Epoch 327 Validation Loss: 0.8838, Accuracy: 0.6372\n"
          ]
        },
        {
          "output_type": "stream",
          "name": "stderr",
          "text": [
            "Epoch 328 Training: 100%|██████████| 136/136 [00:00<00:00, 833.26it/s]\n",
            "Epoch 328 Validation: 100%|██████████| 34/34 [00:00<00:00, 1419.80it/s]\n"
          ]
        },
        {
          "output_type": "stream",
          "name": "stdout",
          "text": [
            "Epoch 328 Training Loss: 0.8634, Accuracy: 0.6754\n",
            "Epoch 328 Validation Loss: 0.8803, Accuracy: 0.6556\n"
          ]
        },
        {
          "output_type": "stream",
          "name": "stderr",
          "text": [
            "Epoch 329 Training: 100%|██████████| 136/136 [00:00<00:00, 805.66it/s]\n",
            "Epoch 329 Validation: 100%|██████████| 34/34 [00:00<00:00, 1620.73it/s]\n"
          ]
        },
        {
          "output_type": "stream",
          "name": "stdout",
          "text": [
            "Epoch 329 Training Loss: 0.8617, Accuracy: 0.6814\n",
            "Epoch 329 Validation Loss: 0.8807, Accuracy: 0.6501\n"
          ]
        },
        {
          "output_type": "stream",
          "name": "stderr",
          "text": [
            "Epoch 330 Training: 100%|██████████| 136/136 [00:00<00:00, 821.34it/s]\n",
            "Epoch 330 Validation: 100%|██████████| 34/34 [00:00<00:00, 1546.40it/s]\n"
          ]
        },
        {
          "output_type": "stream",
          "name": "stdout",
          "text": [
            "Epoch 330 Training Loss: 0.8603, Accuracy: 0.6842\n",
            "Epoch 330 Validation Loss: 0.8827, Accuracy: 0.6519\n"
          ]
        },
        {
          "output_type": "stream",
          "name": "stderr",
          "text": [
            "Epoch 331 Training: 100%|██████████| 136/136 [00:00<00:00, 844.68it/s]\n",
            "Epoch 331 Validation: 100%|██████████| 34/34 [00:00<00:00, 1422.00it/s]\n"
          ]
        },
        {
          "output_type": "stream",
          "name": "stdout",
          "text": [
            "Epoch 331 Training Loss: 0.8617, Accuracy: 0.6777\n",
            "Epoch 331 Validation Loss: 0.8817, Accuracy: 0.6446\n"
          ]
        },
        {
          "output_type": "stream",
          "name": "stderr",
          "text": [
            "Epoch 332 Training: 100%|██████████| 136/136 [00:00<00:00, 791.19it/s]\n",
            "Epoch 332 Validation: 100%|██████████| 34/34 [00:00<00:00, 1659.99it/s]\n"
          ]
        },
        {
          "output_type": "stream",
          "name": "stdout",
          "text": [
            "Epoch 332 Training Loss: 0.8632, Accuracy: 0.6754\n",
            "Epoch 332 Validation Loss: 0.9027, Accuracy: 0.6243\n"
          ]
        },
        {
          "output_type": "stream",
          "name": "stderr",
          "text": [
            "Epoch 333 Training: 100%|██████████| 136/136 [00:00<00:00, 819.46it/s]\n",
            "Epoch 333 Validation: 100%|██████████| 34/34 [00:00<00:00, 1277.02it/s]\n"
          ]
        },
        {
          "output_type": "stream",
          "name": "stdout",
          "text": [
            "Epoch 333 Training Loss: 0.8662, Accuracy: 0.6676\n",
            "Epoch 333 Validation Loss: 0.8903, Accuracy: 0.6372\n"
          ]
        },
        {
          "output_type": "stream",
          "name": "stderr",
          "text": [
            "Epoch 334 Training: 100%|██████████| 136/136 [00:00<00:00, 801.13it/s]\n",
            "Epoch 334 Validation: 100%|██████████| 34/34 [00:00<00:00, 1495.88it/s]\n"
          ]
        },
        {
          "output_type": "stream",
          "name": "stdout",
          "text": [
            "Epoch 334 Training Loss: 0.8667, Accuracy: 0.6713\n",
            "Epoch 334 Validation Loss: 0.8767, Accuracy: 0.6630\n"
          ]
        },
        {
          "output_type": "stream",
          "name": "stderr",
          "text": [
            "Epoch 335 Training: 100%|██████████| 136/136 [00:00<00:00, 786.61it/s]\n",
            "Epoch 335 Validation: 100%|██████████| 34/34 [00:00<00:00, 1572.16it/s]\n"
          ]
        },
        {
          "output_type": "stream",
          "name": "stdout",
          "text": [
            "Epoch 335 Training Loss: 0.8664, Accuracy: 0.6717\n",
            "Epoch 335 Validation Loss: 0.8914, Accuracy: 0.6280\n"
          ]
        },
        {
          "output_type": "stream",
          "name": "stderr",
          "text": [
            "Epoch 336 Training: 100%|██████████| 136/136 [00:00<00:00, 836.74it/s]\n",
            "Epoch 336 Validation: 100%|██████████| 34/34 [00:00<00:00, 1631.86it/s]\n"
          ]
        },
        {
          "output_type": "stream",
          "name": "stdout",
          "text": [
            "Epoch 336 Training Loss: 0.8633, Accuracy: 0.6680\n",
            "Epoch 336 Validation Loss: 0.8771, Accuracy: 0.6556\n"
          ]
        },
        {
          "output_type": "stream",
          "name": "stderr",
          "text": [
            "Epoch 337 Training: 100%|██████████| 136/136 [00:00<00:00, 804.85it/s]\n",
            "Epoch 337 Validation: 100%|██████████| 34/34 [00:00<00:00, 1642.76it/s]\n"
          ]
        },
        {
          "output_type": "stream",
          "name": "stdout",
          "text": [
            "Epoch 337 Training Loss: 0.8627, Accuracy: 0.6773\n",
            "Epoch 337 Validation Loss: 0.8840, Accuracy: 0.6483\n"
          ]
        },
        {
          "output_type": "stream",
          "name": "stderr",
          "text": [
            "Epoch 338 Training: 100%|██████████| 136/136 [00:00<00:00, 795.72it/s]\n",
            "Epoch 338 Validation: 100%|██████████| 34/34 [00:00<00:00, 1347.06it/s]\n"
          ]
        },
        {
          "output_type": "stream",
          "name": "stdout",
          "text": [
            "Epoch 338 Training Loss: 0.8642, Accuracy: 0.6713\n",
            "Epoch 338 Validation Loss: 0.8800, Accuracy: 0.6575\n"
          ]
        },
        {
          "output_type": "stream",
          "name": "stderr",
          "text": [
            "Epoch 339 Training: 100%|██████████| 136/136 [00:00<00:00, 808.17it/s]\n",
            "Epoch 339 Validation: 100%|██████████| 34/34 [00:00<00:00, 1336.18it/s]\n"
          ]
        },
        {
          "output_type": "stream",
          "name": "stdout",
          "text": [
            "Epoch 339 Training Loss: 0.8653, Accuracy: 0.6722\n",
            "Epoch 339 Validation Loss: 0.8850, Accuracy: 0.6409\n"
          ]
        },
        {
          "output_type": "stream",
          "name": "stderr",
          "text": [
            "Epoch 340 Training: 100%|██████████| 136/136 [00:00<00:00, 818.08it/s]\n",
            "Epoch 340 Validation: 100%|██████████| 34/34 [00:00<00:00, 1620.56it/s]\n"
          ]
        },
        {
          "output_type": "stream",
          "name": "stdout",
          "text": [
            "Epoch 340 Training Loss: 0.8635, Accuracy: 0.6763\n",
            "Epoch 340 Validation Loss: 0.8818, Accuracy: 0.6409\n"
          ]
        },
        {
          "output_type": "stream",
          "name": "stderr",
          "text": [
            "Epoch 341 Training: 100%|██████████| 136/136 [00:00<00:00, 810.75it/s]\n",
            "Epoch 341 Validation: 100%|██████████| 34/34 [00:00<00:00, 1845.68it/s]\n"
          ]
        },
        {
          "output_type": "stream",
          "name": "stdout",
          "text": [
            "Epoch 341 Training Loss: 0.8633, Accuracy: 0.6777\n",
            "Epoch 341 Validation Loss: 0.8747, Accuracy: 0.6575\n"
          ]
        },
        {
          "output_type": "stream",
          "name": "stderr",
          "text": [
            "Epoch 342 Training: 100%|██████████| 136/136 [00:00<00:00, 738.55it/s]\n",
            "Epoch 342 Validation: 100%|██████████| 34/34 [00:00<00:00, 1297.06it/s]\n"
          ]
        },
        {
          "output_type": "stream",
          "name": "stdout",
          "text": [
            "Epoch 342 Training Loss: 0.8648, Accuracy: 0.6671\n",
            "Epoch 342 Validation Loss: 0.8940, Accuracy: 0.6298\n"
          ]
        },
        {
          "output_type": "stream",
          "name": "stderr",
          "text": [
            "Epoch 343 Training: 100%|██████████| 136/136 [00:00<00:00, 652.69it/s]\n",
            "Epoch 343 Validation: 100%|██████████| 34/34 [00:00<00:00, 1750.35it/s]\n"
          ]
        },
        {
          "output_type": "stream",
          "name": "stdout",
          "text": [
            "Epoch 343 Training Loss: 0.8619, Accuracy: 0.6773\n",
            "Epoch 343 Validation Loss: 0.8854, Accuracy: 0.6446\n"
          ]
        },
        {
          "output_type": "stream",
          "name": "stderr",
          "text": [
            "Epoch 344 Training: 100%|██████████| 136/136 [00:00<00:00, 638.42it/s]\n",
            "Epoch 344 Validation: 100%|██████████| 34/34 [00:00<00:00, 1718.60it/s]\n"
          ]
        },
        {
          "output_type": "stream",
          "name": "stdout",
          "text": [
            "Epoch 344 Training Loss: 0.8617, Accuracy: 0.6759\n",
            "Epoch 344 Validation Loss: 0.8818, Accuracy: 0.6519\n"
          ]
        },
        {
          "output_type": "stream",
          "name": "stderr",
          "text": [
            "Epoch 345 Training: 100%|██████████| 136/136 [00:00<00:00, 667.23it/s]\n",
            "Epoch 345 Validation: 100%|██████████| 34/34 [00:00<00:00, 1918.45it/s]\n"
          ]
        },
        {
          "output_type": "stream",
          "name": "stdout",
          "text": [
            "Epoch 345 Training Loss: 0.8651, Accuracy: 0.6754\n",
            "Epoch 345 Validation Loss: 0.8840, Accuracy: 0.6446\n"
          ]
        },
        {
          "output_type": "stream",
          "name": "stderr",
          "text": [
            "Epoch 346 Training: 100%|██████████| 136/136 [00:00<00:00, 684.05it/s]\n",
            "Epoch 346 Validation: 100%|██████████| 34/34 [00:00<00:00, 1675.69it/s]\n"
          ]
        },
        {
          "output_type": "stream",
          "name": "stdout",
          "text": [
            "Epoch 346 Training Loss: 0.8638, Accuracy: 0.6722\n",
            "Epoch 346 Validation Loss: 0.8864, Accuracy: 0.6317\n"
          ]
        },
        {
          "output_type": "stream",
          "name": "stderr",
          "text": [
            "Epoch 347 Training: 100%|██████████| 136/136 [00:00<00:00, 698.60it/s]\n",
            "Epoch 347 Validation: 100%|██████████| 34/34 [00:00<00:00, 1882.42it/s]\n"
          ]
        },
        {
          "output_type": "stream",
          "name": "stdout",
          "text": [
            "Epoch 347 Training Loss: 0.8611, Accuracy: 0.6773\n",
            "Epoch 347 Validation Loss: 0.8746, Accuracy: 0.6667\n"
          ]
        },
        {
          "output_type": "stream",
          "name": "stderr",
          "text": [
            "Epoch 348 Training: 100%|██████████| 136/136 [00:00<00:00, 560.16it/s]\n",
            "Epoch 348 Validation: 100%|██████████| 34/34 [00:00<00:00, 1613.94it/s]\n"
          ]
        },
        {
          "output_type": "stream",
          "name": "stdout",
          "text": [
            "Epoch 348 Training Loss: 0.8658, Accuracy: 0.6671\n",
            "Epoch 348 Validation Loss: 0.8967, Accuracy: 0.6262\n"
          ]
        },
        {
          "output_type": "stream",
          "name": "stderr",
          "text": [
            "Epoch 349 Training: 100%|██████████| 136/136 [00:00<00:00, 688.89it/s]\n",
            "Epoch 349 Validation: 100%|██████████| 34/34 [00:00<00:00, 1693.52it/s]\n"
          ]
        },
        {
          "output_type": "stream",
          "name": "stdout",
          "text": [
            "Epoch 349 Training Loss: 0.8609, Accuracy: 0.6814\n",
            "Epoch 349 Validation Loss: 0.8841, Accuracy: 0.6390\n"
          ]
        },
        {
          "output_type": "stream",
          "name": "stderr",
          "text": [
            "Epoch 350 Training: 100%|██████████| 136/136 [00:00<00:00, 698.93it/s]\n",
            "Epoch 350 Validation: 100%|██████████| 34/34 [00:00<00:00, 1822.14it/s]\n"
          ]
        },
        {
          "output_type": "stream",
          "name": "stdout",
          "text": [
            "Epoch 350 Training Loss: 0.8618, Accuracy: 0.6750\n",
            "Epoch 350 Validation Loss: 0.8873, Accuracy: 0.6519\n"
          ]
        },
        {
          "output_type": "stream",
          "name": "stderr",
          "text": [
            "Epoch 351 Training: 100%|██████████| 136/136 [00:00<00:00, 689.19it/s]\n",
            "Epoch 351 Validation: 100%|██████████| 34/34 [00:00<00:00, 1811.50it/s]\n"
          ]
        },
        {
          "output_type": "stream",
          "name": "stdout",
          "text": [
            "Epoch 351 Training Loss: 0.8664, Accuracy: 0.6708\n",
            "Epoch 351 Validation Loss: 0.8935, Accuracy: 0.6317\n"
          ]
        },
        {
          "output_type": "stream",
          "name": "stderr",
          "text": [
            "Epoch 352 Training: 100%|██████████| 136/136 [00:00<00:00, 587.67it/s]\n",
            "Epoch 352 Validation: 100%|██████████| 34/34 [00:00<00:00, 1390.11it/s]\n"
          ]
        },
        {
          "output_type": "stream",
          "name": "stdout",
          "text": [
            "Epoch 352 Training Loss: 0.8662, Accuracy: 0.6694\n",
            "Epoch 352 Validation Loss: 0.8972, Accuracy: 0.6280\n"
          ]
        },
        {
          "output_type": "stream",
          "name": "stderr",
          "text": [
            "Epoch 353 Training: 100%|██████████| 136/136 [00:00<00:00, 605.25it/s]\n",
            "Epoch 353 Validation: 100%|██████████| 34/34 [00:00<00:00, 1703.19it/s]\n"
          ]
        },
        {
          "output_type": "stream",
          "name": "stdout",
          "text": [
            "Epoch 353 Training Loss: 0.8621, Accuracy: 0.6782\n",
            "Epoch 353 Validation Loss: 0.8833, Accuracy: 0.6501\n"
          ]
        },
        {
          "output_type": "stream",
          "name": "stderr",
          "text": [
            "Epoch 354 Training: 100%|██████████| 136/136 [00:00<00:00, 745.51it/s]\n",
            "Epoch 354 Validation: 100%|██████████| 34/34 [00:00<00:00, 1307.68it/s]\n"
          ]
        },
        {
          "output_type": "stream",
          "name": "stdout",
          "text": [
            "Epoch 354 Training Loss: 0.8616, Accuracy: 0.6814\n",
            "Epoch 354 Validation Loss: 0.8789, Accuracy: 0.6446\n"
          ]
        },
        {
          "output_type": "stream",
          "name": "stderr",
          "text": [
            "Epoch 355 Training: 100%|██████████| 136/136 [00:00<00:00, 811.26it/s]\n",
            "Epoch 355 Validation: 100%|██████████| 34/34 [00:00<00:00, 1353.78it/s]\n"
          ]
        },
        {
          "output_type": "stream",
          "name": "stdout",
          "text": [
            "Epoch 355 Training Loss: 0.8639, Accuracy: 0.6699\n",
            "Epoch 355 Validation Loss: 0.8958, Accuracy: 0.6317\n"
          ]
        },
        {
          "output_type": "stream",
          "name": "stderr",
          "text": [
            "Epoch 356 Training: 100%|██████████| 136/136 [00:00<00:00, 834.51it/s]\n",
            "Epoch 356 Validation: 100%|██████████| 34/34 [00:00<00:00, 1664.41it/s]\n"
          ]
        },
        {
          "output_type": "stream",
          "name": "stdout",
          "text": [
            "Epoch 356 Training Loss: 0.8620, Accuracy: 0.6777\n",
            "Epoch 356 Validation Loss: 0.8822, Accuracy: 0.6501\n"
          ]
        },
        {
          "output_type": "stream",
          "name": "stderr",
          "text": [
            "Epoch 357 Training: 100%|██████████| 136/136 [00:00<00:00, 820.17it/s]\n",
            "Epoch 357 Validation: 100%|██████████| 34/34 [00:00<00:00, 1593.26it/s]\n"
          ]
        },
        {
          "output_type": "stream",
          "name": "stdout",
          "text": [
            "Epoch 357 Training Loss: 0.8567, Accuracy: 0.6860\n",
            "Epoch 357 Validation Loss: 0.8897, Accuracy: 0.6483\n"
          ]
        },
        {
          "output_type": "stream",
          "name": "stderr",
          "text": [
            "Epoch 358 Training: 100%|██████████| 136/136 [00:00<00:00, 828.88it/s]\n",
            "Epoch 358 Validation: 100%|██████████| 34/34 [00:00<00:00, 1559.19it/s]\n"
          ]
        },
        {
          "output_type": "stream",
          "name": "stdout",
          "text": [
            "Epoch 358 Training Loss: 0.8667, Accuracy: 0.6699\n",
            "Epoch 358 Validation Loss: 0.8856, Accuracy: 0.6446\n"
          ]
        },
        {
          "output_type": "stream",
          "name": "stderr",
          "text": [
            "Epoch 359 Training: 100%|██████████| 136/136 [00:00<00:00, 867.37it/s]\n",
            "Epoch 359 Validation: 100%|██████████| 34/34 [00:00<00:00, 1815.07it/s]\n"
          ]
        },
        {
          "output_type": "stream",
          "name": "stdout",
          "text": [
            "Epoch 359 Training Loss: 0.8644, Accuracy: 0.6740\n",
            "Epoch 359 Validation Loss: 0.8860, Accuracy: 0.6409\n"
          ]
        },
        {
          "output_type": "stream",
          "name": "stderr",
          "text": [
            "Epoch 360 Training: 100%|██████████| 136/136 [00:00<00:00, 843.00it/s]\n",
            "Epoch 360 Validation: 100%|██████████| 34/34 [00:00<00:00, 1668.57it/s]\n"
          ]
        },
        {
          "output_type": "stream",
          "name": "stdout",
          "text": [
            "Epoch 360 Training Loss: 0.8630, Accuracy: 0.6736\n",
            "Epoch 360 Validation Loss: 0.8940, Accuracy: 0.6280\n"
          ]
        },
        {
          "output_type": "stream",
          "name": "stderr",
          "text": [
            "Epoch 361 Training: 100%|██████████| 136/136 [00:00<00:00, 806.79it/s]\n",
            "Epoch 361 Validation: 100%|██████████| 34/34 [00:00<00:00, 1529.96it/s]\n"
          ]
        },
        {
          "output_type": "stream",
          "name": "stdout",
          "text": [
            "Epoch 361 Training Loss: 0.8621, Accuracy: 0.6777\n",
            "Epoch 361 Validation Loss: 0.8867, Accuracy: 0.6317\n"
          ]
        },
        {
          "output_type": "stream",
          "name": "stderr",
          "text": [
            "Epoch 362 Training: 100%|██████████| 136/136 [00:00<00:00, 821.12it/s]\n",
            "Epoch 362 Validation: 100%|██████████| 34/34 [00:00<00:00, 1743.55it/s]\n"
          ]
        },
        {
          "output_type": "stream",
          "name": "stdout",
          "text": [
            "Epoch 362 Training Loss: 0.8631, Accuracy: 0.6768\n",
            "Epoch 362 Validation Loss: 0.8901, Accuracy: 0.6409\n"
          ]
        },
        {
          "output_type": "stream",
          "name": "stderr",
          "text": [
            "Epoch 363 Training: 100%|██████████| 136/136 [00:00<00:00, 819.94it/s]\n",
            "Epoch 363 Validation: 100%|██████████| 34/34 [00:00<00:00, 1611.10it/s]\n"
          ]
        },
        {
          "output_type": "stream",
          "name": "stdout",
          "text": [
            "Epoch 363 Training Loss: 0.8620, Accuracy: 0.6800\n",
            "Epoch 363 Validation Loss: 0.8918, Accuracy: 0.6409\n"
          ]
        },
        {
          "output_type": "stream",
          "name": "stderr",
          "text": [
            "Epoch 364 Training: 100%|██████████| 136/136 [00:00<00:00, 800.36it/s]\n",
            "Epoch 364 Validation: 100%|██████████| 34/34 [00:00<00:00, 1713.77it/s]\n"
          ]
        },
        {
          "output_type": "stream",
          "name": "stdout",
          "text": [
            "Epoch 364 Training Loss: 0.8629, Accuracy: 0.6782\n",
            "Epoch 364 Validation Loss: 0.8840, Accuracy: 0.6446\n"
          ]
        },
        {
          "output_type": "stream",
          "name": "stderr",
          "text": [
            "Epoch 365 Training: 100%|██████████| 136/136 [00:00<00:00, 801.32it/s]\n",
            "Epoch 365 Validation: 100%|██████████| 34/34 [00:00<00:00, 1415.77it/s]\n"
          ]
        },
        {
          "output_type": "stream",
          "name": "stdout",
          "text": [
            "Epoch 365 Training Loss: 0.8606, Accuracy: 0.6740\n",
            "Epoch 365 Validation Loss: 0.8993, Accuracy: 0.6243\n"
          ]
        },
        {
          "output_type": "stream",
          "name": "stderr",
          "text": [
            "Epoch 366 Training: 100%|██████████| 136/136 [00:00<00:00, 782.69it/s]\n",
            "Epoch 366 Validation: 100%|██████████| 34/34 [00:00<00:00, 1466.63it/s]\n"
          ]
        },
        {
          "output_type": "stream",
          "name": "stdout",
          "text": [
            "Epoch 366 Training Loss: 0.8624, Accuracy: 0.6800\n",
            "Epoch 366 Validation Loss: 0.9007, Accuracy: 0.6206\n"
          ]
        },
        {
          "output_type": "stream",
          "name": "stderr",
          "text": [
            "Epoch 367 Training: 100%|██████████| 136/136 [00:00<00:00, 726.27it/s]\n",
            "Epoch 367 Validation: 100%|██████████| 34/34 [00:00<00:00, 1617.04it/s]\n"
          ]
        },
        {
          "output_type": "stream",
          "name": "stdout",
          "text": [
            "Epoch 367 Training Loss: 0.8643, Accuracy: 0.6722\n",
            "Epoch 367 Validation Loss: 0.8842, Accuracy: 0.6409\n"
          ]
        },
        {
          "output_type": "stream",
          "name": "stderr",
          "text": [
            "Epoch 368 Training: 100%|██████████| 136/136 [00:00<00:00, 816.42it/s]\n",
            "Epoch 368 Validation: 100%|██████████| 34/34 [00:00<00:00, 1612.41it/s]\n"
          ]
        },
        {
          "output_type": "stream",
          "name": "stdout",
          "text": [
            "Epoch 368 Training Loss: 0.8624, Accuracy: 0.6809\n",
            "Epoch 368 Validation Loss: 0.8805, Accuracy: 0.6501\n"
          ]
        },
        {
          "output_type": "stream",
          "name": "stderr",
          "text": [
            "Epoch 369 Training: 100%|██████████| 136/136 [00:00<00:00, 837.30it/s]\n",
            "Epoch 369 Validation: 100%|██████████| 34/34 [00:00<00:00, 1393.84it/s]\n"
          ]
        },
        {
          "output_type": "stream",
          "name": "stdout",
          "text": [
            "Epoch 369 Training Loss: 0.8636, Accuracy: 0.6703\n",
            "Epoch 369 Validation Loss: 0.8926, Accuracy: 0.6335\n"
          ]
        },
        {
          "output_type": "stream",
          "name": "stderr",
          "text": [
            "Epoch 370 Training: 100%|██████████| 136/136 [00:00<00:00, 797.48it/s]\n",
            "Epoch 370 Validation: 100%|██████████| 34/34 [00:00<00:00, 1499.68it/s]\n"
          ]
        },
        {
          "output_type": "stream",
          "name": "stdout",
          "text": [
            "Epoch 370 Training Loss: 0.8676, Accuracy: 0.6611\n",
            "Epoch 370 Validation Loss: 0.8775, Accuracy: 0.6483\n"
          ]
        },
        {
          "output_type": "stream",
          "name": "stderr",
          "text": [
            "Epoch 371 Training: 100%|██████████| 136/136 [00:00<00:00, 804.99it/s]\n",
            "Epoch 371 Validation: 100%|██████████| 34/34 [00:00<00:00, 1175.05it/s]\n"
          ]
        },
        {
          "output_type": "stream",
          "name": "stdout",
          "text": [
            "Epoch 371 Training Loss: 0.8611, Accuracy: 0.6745\n",
            "Epoch 371 Validation Loss: 0.8869, Accuracy: 0.6372\n"
          ]
        },
        {
          "output_type": "stream",
          "name": "stderr",
          "text": [
            "Epoch 372 Training: 100%|██████████| 136/136 [00:00<00:00, 767.67it/s]\n",
            "Epoch 372 Validation: 100%|██████████| 34/34 [00:00<00:00, 1314.82it/s]\n"
          ]
        },
        {
          "output_type": "stream",
          "name": "stdout",
          "text": [
            "Epoch 372 Training Loss: 0.8604, Accuracy: 0.6791\n",
            "Epoch 372 Validation Loss: 0.8969, Accuracy: 0.6225\n"
          ]
        },
        {
          "output_type": "stream",
          "name": "stderr",
          "text": [
            "Epoch 373 Training: 100%|██████████| 136/136 [00:00<00:00, 772.78it/s]\n",
            "Epoch 373 Validation: 100%|██████████| 34/34 [00:00<00:00, 1578.67it/s]\n"
          ]
        },
        {
          "output_type": "stream",
          "name": "stdout",
          "text": [
            "Epoch 373 Training Loss: 0.8594, Accuracy: 0.6837\n",
            "Epoch 373 Validation Loss: 0.8943, Accuracy: 0.6280\n"
          ]
        },
        {
          "output_type": "stream",
          "name": "stderr",
          "text": [
            "Epoch 374 Training: 100%|██████████| 136/136 [00:00<00:00, 780.95it/s]\n",
            "Epoch 374 Validation: 100%|██████████| 34/34 [00:00<00:00, 1406.11it/s]\n"
          ]
        },
        {
          "output_type": "stream",
          "name": "stdout",
          "text": [
            "Epoch 374 Training Loss: 0.8632, Accuracy: 0.6703\n",
            "Epoch 374 Validation Loss: 0.8877, Accuracy: 0.6409\n"
          ]
        },
        {
          "output_type": "stream",
          "name": "stderr",
          "text": [
            "Epoch 375 Training: 100%|██████████| 136/136 [00:00<00:00, 774.00it/s]\n",
            "Epoch 375 Validation: 100%|██████████| 34/34 [00:00<00:00, 1526.31it/s]\n"
          ]
        },
        {
          "output_type": "stream",
          "name": "stdout",
          "text": [
            "Epoch 375 Training Loss: 0.8640, Accuracy: 0.6727\n",
            "Epoch 375 Validation Loss: 0.8972, Accuracy: 0.6206\n"
          ]
        },
        {
          "output_type": "stream",
          "name": "stderr",
          "text": [
            "Epoch 376 Training: 100%|██████████| 136/136 [00:00<00:00, 788.27it/s]\n",
            "Epoch 376 Validation: 100%|██████████| 34/34 [00:00<00:00, 1697.82it/s]\n"
          ]
        },
        {
          "output_type": "stream",
          "name": "stdout",
          "text": [
            "Epoch 376 Training Loss: 0.8611, Accuracy: 0.6740\n",
            "Epoch 376 Validation Loss: 0.8939, Accuracy: 0.6298\n"
          ]
        },
        {
          "output_type": "stream",
          "name": "stderr",
          "text": [
            "Epoch 377 Training: 100%|██████████| 136/136 [00:00<00:00, 789.10it/s]\n",
            "Epoch 377 Validation: 100%|██████████| 34/34 [00:00<00:00, 1601.72it/s]\n"
          ]
        },
        {
          "output_type": "stream",
          "name": "stdout",
          "text": [
            "Epoch 377 Training Loss: 0.8597, Accuracy: 0.6768\n",
            "Epoch 377 Validation Loss: 0.8804, Accuracy: 0.6593\n"
          ]
        },
        {
          "output_type": "stream",
          "name": "stderr",
          "text": [
            "Epoch 378 Training: 100%|██████████| 136/136 [00:00<00:00, 804.00it/s]\n",
            "Epoch 378 Validation: 100%|██████████| 34/34 [00:00<00:00, 1709.72it/s]\n"
          ]
        },
        {
          "output_type": "stream",
          "name": "stdout",
          "text": [
            "Epoch 378 Training Loss: 0.8617, Accuracy: 0.6768\n",
            "Epoch 378 Validation Loss: 0.8928, Accuracy: 0.6354\n"
          ]
        },
        {
          "output_type": "stream",
          "name": "stderr",
          "text": [
            "Epoch 379 Training: 100%|██████████| 136/136 [00:00<00:00, 840.30it/s]\n",
            "Epoch 379 Validation: 100%|██████████| 34/34 [00:00<00:00, 1662.39it/s]\n"
          ]
        },
        {
          "output_type": "stream",
          "name": "stdout",
          "text": [
            "Epoch 379 Training Loss: 0.8600, Accuracy: 0.6786\n",
            "Epoch 379 Validation Loss: 0.8857, Accuracy: 0.6409\n"
          ]
        },
        {
          "output_type": "stream",
          "name": "stderr",
          "text": [
            "Epoch 380 Training: 100%|██████████| 136/136 [00:00<00:00, 848.88it/s]\n",
            "Epoch 380 Validation: 100%|██████████| 34/34 [00:00<00:00, 1527.23it/s]\n"
          ]
        },
        {
          "output_type": "stream",
          "name": "stdout",
          "text": [
            "Epoch 380 Training Loss: 0.8618, Accuracy: 0.6740\n",
            "Epoch 380 Validation Loss: 0.8869, Accuracy: 0.6335\n"
          ]
        },
        {
          "output_type": "stream",
          "name": "stderr",
          "text": [
            "Epoch 381 Training: 100%|██████████| 136/136 [00:00<00:00, 836.28it/s]\n",
            "Epoch 381 Validation: 100%|██████████| 34/34 [00:00<00:00, 1621.01it/s]\n"
          ]
        },
        {
          "output_type": "stream",
          "name": "stdout",
          "text": [
            "Epoch 381 Training Loss: 0.8643, Accuracy: 0.6722\n",
            "Epoch 381 Validation Loss: 0.8886, Accuracy: 0.6409\n"
          ]
        },
        {
          "output_type": "stream",
          "name": "stderr",
          "text": [
            "Epoch 382 Training: 100%|██████████| 136/136 [00:00<00:00, 823.02it/s]\n",
            "Epoch 382 Validation: 100%|██████████| 34/34 [00:00<00:00, 1613.67it/s]\n"
          ]
        },
        {
          "output_type": "stream",
          "name": "stdout",
          "text": [
            "Epoch 382 Training Loss: 0.8644, Accuracy: 0.6708\n",
            "Epoch 382 Validation Loss: 0.8871, Accuracy: 0.6335\n"
          ]
        },
        {
          "output_type": "stream",
          "name": "stderr",
          "text": [
            "Epoch 383 Training: 100%|██████████| 136/136 [00:00<00:00, 799.70it/s]\n",
            "Epoch 383 Validation: 100%|██████████| 34/34 [00:00<00:00, 1704.86it/s]\n"
          ]
        },
        {
          "output_type": "stream",
          "name": "stdout",
          "text": [
            "Epoch 383 Training Loss: 0.8622, Accuracy: 0.6740\n",
            "Epoch 383 Validation Loss: 0.8840, Accuracy: 0.6519\n"
          ]
        },
        {
          "output_type": "stream",
          "name": "stderr",
          "text": [
            "Epoch 384 Training: 100%|██████████| 136/136 [00:00<00:00, 793.25it/s]\n",
            "Epoch 384 Validation: 100%|██████████| 34/34 [00:00<00:00, 1643.35it/s]\n"
          ]
        },
        {
          "output_type": "stream",
          "name": "stdout",
          "text": [
            "Epoch 384 Training Loss: 0.8636, Accuracy: 0.6722\n",
            "Epoch 384 Validation Loss: 0.8881, Accuracy: 0.6354\n"
          ]
        },
        {
          "output_type": "stream",
          "name": "stderr",
          "text": [
            "Epoch 385 Training: 100%|██████████| 136/136 [00:00<00:00, 832.62it/s]\n",
            "Epoch 385 Validation: 100%|██████████| 34/34 [00:00<00:00, 1525.45it/s]\n"
          ]
        },
        {
          "output_type": "stream",
          "name": "stdout",
          "text": [
            "Epoch 385 Training Loss: 0.8623, Accuracy: 0.6759\n",
            "Epoch 385 Validation Loss: 0.8825, Accuracy: 0.6409\n"
          ]
        },
        {
          "output_type": "stream",
          "name": "stderr",
          "text": [
            "Epoch 386 Training: 100%|██████████| 136/136 [00:00<00:00, 804.28it/s]\n",
            "Epoch 386 Validation: 100%|██████████| 34/34 [00:00<00:00, 1643.59it/s]\n"
          ]
        },
        {
          "output_type": "stream",
          "name": "stdout",
          "text": [
            "Epoch 386 Training Loss: 0.8632, Accuracy: 0.6782\n",
            "Epoch 386 Validation Loss: 0.8953, Accuracy: 0.6188\n"
          ]
        },
        {
          "output_type": "stream",
          "name": "stderr",
          "text": [
            "Epoch 387 Training: 100%|██████████| 136/136 [00:00<00:00, 827.83it/s]\n",
            "Epoch 387 Validation: 100%|██████████| 34/34 [00:00<00:00, 1441.52it/s]"
          ]
        },
        {
          "output_type": "stream",
          "name": "stdout",
          "text": [
            "Epoch 387 Training Loss: 0.8637, Accuracy: 0.6722"
          ]
        },
        {
          "output_type": "stream",
          "name": "stderr",
          "text": [
            "\n"
          ]
        },
        {
          "output_type": "stream",
          "name": "stdout",
          "text": [
            "\n",
            "Epoch 387 Validation Loss: 0.8857, Accuracy: 0.6446\n"
          ]
        },
        {
          "output_type": "stream",
          "name": "stderr",
          "text": [
            "Epoch 388 Training: 100%|██████████| 136/136 [00:00<00:00, 811.71it/s]\n",
            "Epoch 388 Validation: 100%|██████████| 34/34 [00:00<00:00, 1649.14it/s]\n"
          ]
        },
        {
          "output_type": "stream",
          "name": "stdout",
          "text": [
            "Epoch 388 Training Loss: 0.8608, Accuracy: 0.6763\n",
            "Epoch 388 Validation Loss: 0.8948, Accuracy: 0.6280\n"
          ]
        },
        {
          "output_type": "stream",
          "name": "stderr",
          "text": [
            "Epoch 389 Training: 100%|██████████| 136/136 [00:00<00:00, 799.76it/s]\n",
            "Epoch 389 Validation: 100%|██████████| 34/34 [00:00<00:00, 1616.16it/s]\n"
          ]
        },
        {
          "output_type": "stream",
          "name": "stdout",
          "text": [
            "Epoch 389 Training Loss: 0.8623, Accuracy: 0.6750\n",
            "Epoch 389 Validation Loss: 0.8934, Accuracy: 0.6243\n"
          ]
        },
        {
          "output_type": "stream",
          "name": "stderr",
          "text": [
            "Epoch 390 Training: 100%|██████████| 136/136 [00:00<00:00, 353.54it/s]\n",
            "Epoch 390 Validation: 100%|██████████| 34/34 [00:00<00:00, 524.64it/s]\n"
          ]
        },
        {
          "output_type": "stream",
          "name": "stdout",
          "text": [
            "Epoch 390 Training Loss: 0.8660, Accuracy: 0.6703\n",
            "Epoch 390 Validation Loss: 0.8863, Accuracy: 0.6409\n"
          ]
        },
        {
          "output_type": "stream",
          "name": "stderr",
          "text": [
            "Epoch 391 Training: 100%|██████████| 136/136 [00:00<00:00, 414.41it/s]\n",
            "Epoch 391 Validation: 100%|██████████| 34/34 [00:00<00:00, 1585.82it/s]\n"
          ]
        },
        {
          "output_type": "stream",
          "name": "stdout",
          "text": [
            "Epoch 391 Training Loss: 0.8640, Accuracy: 0.6694\n",
            "Epoch 391 Validation Loss: 0.8977, Accuracy: 0.6225\n"
          ]
        },
        {
          "output_type": "stream",
          "name": "stderr",
          "text": [
            "Epoch 392 Training: 100%|██████████| 136/136 [00:00<00:00, 809.37it/s]\n",
            "Epoch 392 Validation: 100%|██████████| 34/34 [00:00<00:00, 1750.89it/s]\n"
          ]
        },
        {
          "output_type": "stream",
          "name": "stdout",
          "text": [
            "Epoch 392 Training Loss: 0.8634, Accuracy: 0.6671\n",
            "Epoch 392 Validation Loss: 0.8799, Accuracy: 0.6501\n"
          ]
        },
        {
          "output_type": "stream",
          "name": "stderr",
          "text": [
            "Epoch 393 Training: 100%|██████████| 136/136 [00:00<00:00, 809.46it/s]\n",
            "Epoch 393 Validation: 100%|██████████| 34/34 [00:00<00:00, 1314.79it/s]\n"
          ]
        },
        {
          "output_type": "stream",
          "name": "stdout",
          "text": [
            "Epoch 393 Training Loss: 0.8603, Accuracy: 0.6777\n",
            "Epoch 393 Validation Loss: 0.8854, Accuracy: 0.6464\n"
          ]
        },
        {
          "output_type": "stream",
          "name": "stderr",
          "text": [
            "Epoch 394 Training: 100%|██████████| 136/136 [00:00<00:00, 223.76it/s]\n",
            "Epoch 394 Validation: 100%|██████████| 34/34 [00:00<00:00, 1589.37it/s]\n"
          ]
        },
        {
          "output_type": "stream",
          "name": "stdout",
          "text": [
            "Epoch 394 Training Loss: 0.8641, Accuracy: 0.6717\n",
            "Epoch 394 Validation Loss: 0.8932, Accuracy: 0.6298\n"
          ]
        },
        {
          "output_type": "stream",
          "name": "stderr",
          "text": [
            "Epoch 395 Training: 100%|██████████| 136/136 [00:00<00:00, 859.97it/s]\n",
            "Epoch 395 Validation: 100%|██████████| 34/34 [00:00<00:00, 1588.38it/s]\n"
          ]
        },
        {
          "output_type": "stream",
          "name": "stdout",
          "text": [
            "Epoch 395 Training Loss: 0.8617, Accuracy: 0.6773\n",
            "Epoch 395 Validation Loss: 0.8826, Accuracy: 0.6464\n"
          ]
        },
        {
          "output_type": "stream",
          "name": "stderr",
          "text": [
            "Epoch 396 Training: 100%|██████████| 136/136 [00:00<00:00, 796.01it/s]\n",
            "Epoch 396 Validation: 100%|██████████| 34/34 [00:00<00:00, 1616.50it/s]\n"
          ]
        },
        {
          "output_type": "stream",
          "name": "stdout",
          "text": [
            "Epoch 396 Training Loss: 0.8648, Accuracy: 0.6662\n",
            "Epoch 396 Validation Loss: 0.8824, Accuracy: 0.6446\n"
          ]
        },
        {
          "output_type": "stream",
          "name": "stderr",
          "text": [
            "Epoch 397 Training: 100%|██████████| 136/136 [00:00<00:00, 769.73it/s]\n",
            "Epoch 397 Validation: 100%|██████████| 34/34 [00:00<00:00, 1584.02it/s]\n"
          ]
        },
        {
          "output_type": "stream",
          "name": "stdout",
          "text": [
            "Epoch 397 Training Loss: 0.8637, Accuracy: 0.6722\n",
            "Epoch 397 Validation Loss: 0.8826, Accuracy: 0.6427\n"
          ]
        },
        {
          "output_type": "stream",
          "name": "stderr",
          "text": [
            "Epoch 398 Training: 100%|██████████| 136/136 [00:00<00:00, 645.33it/s]\n",
            "Epoch 398 Validation: 100%|██████████| 34/34 [00:00<00:00, 1471.06it/s]\n"
          ]
        },
        {
          "output_type": "stream",
          "name": "stdout",
          "text": [
            "Epoch 398 Training Loss: 0.8662, Accuracy: 0.6690\n",
            "Epoch 398 Validation Loss: 0.8933, Accuracy: 0.6225\n"
          ]
        },
        {
          "output_type": "stream",
          "name": "stderr",
          "text": [
            "Epoch 399 Training: 100%|██████████| 136/136 [00:00<00:00, 616.23it/s]\n",
            "Epoch 399 Validation: 100%|██████████| 34/34 [00:00<00:00, 1375.21it/s]\n"
          ]
        },
        {
          "output_type": "stream",
          "name": "stdout",
          "text": [
            "Epoch 399 Training Loss: 0.8621, Accuracy: 0.6759\n",
            "Epoch 399 Validation Loss: 0.8794, Accuracy: 0.6501\n"
          ]
        },
        {
          "output_type": "stream",
          "name": "stderr",
          "text": [
            "Epoch 400 Training: 100%|██████████| 136/136 [00:00<00:00, 690.39it/s]\n",
            "Epoch 400 Validation: 100%|██████████| 34/34 [00:00<00:00, 1769.88it/s]\n"
          ]
        },
        {
          "output_type": "stream",
          "name": "stdout",
          "text": [
            "Epoch 400 Training Loss: 0.8667, Accuracy: 0.6708\n",
            "Epoch 400 Validation Loss: 0.8781, Accuracy: 0.6575\n"
          ]
        },
        {
          "output_type": "stream",
          "name": "stderr",
          "text": [
            "Epoch 401 Training: 100%|██████████| 136/136 [00:00<00:00, 639.65it/s]\n",
            "Epoch 401 Validation: 100%|██████████| 34/34 [00:00<00:00, 1673.51it/s]\n"
          ]
        },
        {
          "output_type": "stream",
          "name": "stdout",
          "text": [
            "Epoch 401 Training Loss: 0.8620, Accuracy: 0.6773\n",
            "Epoch 401 Validation Loss: 0.8845, Accuracy: 0.6409\n"
          ]
        },
        {
          "output_type": "stream",
          "name": "stderr",
          "text": [
            "Epoch 402 Training: 100%|██████████| 136/136 [00:00<00:00, 628.37it/s]\n",
            "Epoch 402 Validation: 100%|██████████| 34/34 [00:00<00:00, 1835.61it/s]\n"
          ]
        },
        {
          "output_type": "stream",
          "name": "stdout",
          "text": [
            "Epoch 402 Training Loss: 0.8630, Accuracy: 0.6754\n",
            "Epoch 402 Validation Loss: 0.9014, Accuracy: 0.6206\n"
          ]
        },
        {
          "output_type": "stream",
          "name": "stderr",
          "text": [
            "Epoch 403 Training: 100%|██████████| 136/136 [00:00<00:00, 677.28it/s]\n",
            "Epoch 403 Validation: 100%|██████████| 34/34 [00:00<00:00, 1707.06it/s]\n"
          ]
        },
        {
          "output_type": "stream",
          "name": "stdout",
          "text": [
            "Epoch 403 Training Loss: 0.8620, Accuracy: 0.6773\n",
            "Epoch 403 Validation Loss: 0.8842, Accuracy: 0.6390\n"
          ]
        },
        {
          "output_type": "stream",
          "name": "stderr",
          "text": [
            "Epoch 404 Training: 100%|██████████| 136/136 [00:00<00:00, 569.03it/s]\n",
            "Epoch 404 Validation: 100%|██████████| 34/34 [00:00<00:00, 1567.00it/s]\n"
          ]
        },
        {
          "output_type": "stream",
          "name": "stdout",
          "text": [
            "Epoch 404 Training Loss: 0.8646, Accuracy: 0.6727\n",
            "Epoch 404 Validation Loss: 0.8834, Accuracy: 0.6630\n"
          ]
        },
        {
          "output_type": "stream",
          "name": "stderr",
          "text": [
            "Epoch 405 Training: 100%|██████████| 136/136 [00:00<00:00, 626.97it/s]\n",
            "Epoch 405 Validation: 100%|██████████| 34/34 [00:00<00:00, 1359.67it/s]\n"
          ]
        },
        {
          "output_type": "stream",
          "name": "stdout",
          "text": [
            "Epoch 405 Training Loss: 0.8631, Accuracy: 0.6699\n",
            "Epoch 405 Validation Loss: 0.8824, Accuracy: 0.6409\n"
          ]
        },
        {
          "output_type": "stream",
          "name": "stderr",
          "text": [
            "Epoch 406 Training: 100%|██████████| 136/136 [00:00<00:00, 610.81it/s]\n",
            "Epoch 406 Validation: 100%|██████████| 34/34 [00:00<00:00, 1761.25it/s]\n"
          ]
        },
        {
          "output_type": "stream",
          "name": "stdout",
          "text": [
            "Epoch 406 Training Loss: 0.8629, Accuracy: 0.6750\n",
            "Epoch 406 Validation Loss: 0.8805, Accuracy: 0.6538\n"
          ]
        },
        {
          "output_type": "stream",
          "name": "stderr",
          "text": [
            "Epoch 407 Training: 100%|██████████| 136/136 [00:00<00:00, 582.13it/s]\n",
            "Epoch 407 Validation: 100%|██████████| 34/34 [00:00<00:00, 1652.41it/s]\n"
          ]
        },
        {
          "output_type": "stream",
          "name": "stdout",
          "text": [
            "Epoch 407 Training Loss: 0.8626, Accuracy: 0.6745\n",
            "Epoch 407 Validation Loss: 0.8911, Accuracy: 0.6317\n"
          ]
        },
        {
          "output_type": "stream",
          "name": "stderr",
          "text": [
            "Epoch 408 Training: 100%|██████████| 136/136 [00:00<00:00, 665.47it/s]\n",
            "Epoch 408 Validation: 100%|██████████| 34/34 [00:00<00:00, 1227.68it/s]\n"
          ]
        },
        {
          "output_type": "stream",
          "name": "stdout",
          "text": [
            "Epoch 408 Training Loss: 0.8648, Accuracy: 0.6671\n",
            "Epoch 408 Validation Loss: 0.8898, Accuracy: 0.6335\n"
          ]
        },
        {
          "output_type": "stream",
          "name": "stderr",
          "text": [
            "Epoch 409 Training: 100%|██████████| 136/136 [00:00<00:00, 776.48it/s]\n",
            "Epoch 409 Validation: 100%|██████████| 34/34 [00:00<00:00, 1673.41it/s]\n"
          ]
        },
        {
          "output_type": "stream",
          "name": "stdout",
          "text": [
            "Epoch 409 Training Loss: 0.8647, Accuracy: 0.6671\n",
            "Epoch 409 Validation Loss: 0.8870, Accuracy: 0.6464\n"
          ]
        },
        {
          "output_type": "stream",
          "name": "stderr",
          "text": [
            "Epoch 410 Training: 100%|██████████| 136/136 [00:00<00:00, 853.25it/s]\n",
            "Epoch 410 Validation: 100%|██████████| 34/34 [00:00<00:00, 1497.70it/s]\n"
          ]
        },
        {
          "output_type": "stream",
          "name": "stdout",
          "text": [
            "Epoch 410 Training Loss: 0.8585, Accuracy: 0.6837\n",
            "Epoch 410 Validation Loss: 0.8840, Accuracy: 0.6464\n"
          ]
        },
        {
          "output_type": "stream",
          "name": "stderr",
          "text": [
            "Epoch 411 Training: 100%|██████████| 136/136 [00:00<00:00, 800.83it/s]\n",
            "Epoch 411 Validation: 100%|██████████| 34/34 [00:00<00:00, 1424.06it/s]\n"
          ]
        },
        {
          "output_type": "stream",
          "name": "stdout",
          "text": [
            "Epoch 411 Training Loss: 0.8604, Accuracy: 0.6786\n",
            "Epoch 411 Validation Loss: 0.8927, Accuracy: 0.6225\n"
          ]
        },
        {
          "output_type": "stream",
          "name": "stderr",
          "text": [
            "Epoch 412 Training: 100%|██████████| 136/136 [00:00<00:00, 813.45it/s]\n",
            "Epoch 412 Validation: 100%|██████████| 34/34 [00:00<00:00, 1810.62it/s]\n"
          ]
        },
        {
          "output_type": "stream",
          "name": "stdout",
          "text": [
            "Epoch 412 Training Loss: 0.8586, Accuracy: 0.6805\n",
            "Epoch 412 Validation Loss: 0.8988, Accuracy: 0.6225\n"
          ]
        },
        {
          "output_type": "stream",
          "name": "stderr",
          "text": [
            "Epoch 413 Training: 100%|██████████| 136/136 [00:00<00:00, 807.34it/s]\n",
            "Epoch 413 Validation: 100%|██████████| 34/34 [00:00<00:00, 1462.94it/s]\n"
          ]
        },
        {
          "output_type": "stream",
          "name": "stdout",
          "text": [
            "Epoch 413 Training Loss: 0.8659, Accuracy: 0.6731\n",
            "Epoch 413 Validation Loss: 0.8891, Accuracy: 0.6280\n"
          ]
        },
        {
          "output_type": "stream",
          "name": "stderr",
          "text": [
            "Epoch 414 Training: 100%|██████████| 136/136 [00:00<00:00, 828.36it/s]\n",
            "Epoch 414 Validation: 100%|██████████| 34/34 [00:00<00:00, 1528.52it/s]\n"
          ]
        },
        {
          "output_type": "stream",
          "name": "stdout",
          "text": [
            "Epoch 414 Training Loss: 0.8602, Accuracy: 0.6768\n",
            "Epoch 414 Validation Loss: 0.8885, Accuracy: 0.6409\n"
          ]
        },
        {
          "output_type": "stream",
          "name": "stderr",
          "text": [
            "Epoch 415 Training: 100%|██████████| 136/136 [00:00<00:00, 773.96it/s]\n",
            "Epoch 415 Validation: 100%|██████████| 34/34 [00:00<00:00, 1782.11it/s]\n"
          ]
        },
        {
          "output_type": "stream",
          "name": "stdout",
          "text": [
            "Epoch 415 Training Loss: 0.8636, Accuracy: 0.6754\n",
            "Epoch 415 Validation Loss: 0.8832, Accuracy: 0.6409\n"
          ]
        },
        {
          "output_type": "stream",
          "name": "stderr",
          "text": [
            "Epoch 416 Training: 100%|██████████| 136/136 [00:00<00:00, 793.01it/s]\n",
            "Epoch 416 Validation: 100%|██████████| 34/34 [00:00<00:00, 1284.30it/s]\n"
          ]
        },
        {
          "output_type": "stream",
          "name": "stdout",
          "text": [
            "Epoch 416 Training Loss: 0.8624, Accuracy: 0.6690\n",
            "Epoch 416 Validation Loss: 0.8927, Accuracy: 0.6317\n"
          ]
        },
        {
          "output_type": "stream",
          "name": "stderr",
          "text": [
            "Epoch 417 Training: 100%|██████████| 136/136 [00:00<00:00, 890.10it/s]\n",
            "Epoch 417 Validation: 100%|██████████| 34/34 [00:00<00:00, 1669.75it/s]\n"
          ]
        },
        {
          "output_type": "stream",
          "name": "stdout",
          "text": [
            "Epoch 417 Training Loss: 0.8628, Accuracy: 0.6727\n",
            "Epoch 417 Validation Loss: 0.8819, Accuracy: 0.6538\n"
          ]
        },
        {
          "output_type": "stream",
          "name": "stderr",
          "text": [
            "Epoch 418 Training: 100%|██████████| 136/136 [00:00<00:00, 875.96it/s]\n",
            "Epoch 418 Validation: 100%|██████████| 34/34 [00:00<00:00, 1816.73it/s]\n"
          ]
        },
        {
          "output_type": "stream",
          "name": "stdout",
          "text": [
            "Epoch 418 Training Loss: 0.8587, Accuracy: 0.6805\n",
            "Epoch 418 Validation Loss: 0.8826, Accuracy: 0.6556\n"
          ]
        },
        {
          "output_type": "stream",
          "name": "stderr",
          "text": [
            "Epoch 419 Training: 100%|██████████| 136/136 [00:00<00:00, 843.81it/s]\n",
            "Epoch 419 Validation: 100%|██████████| 34/34 [00:00<00:00, 1221.12it/s]\n"
          ]
        },
        {
          "output_type": "stream",
          "name": "stdout",
          "text": [
            "Epoch 419 Training Loss: 0.8615, Accuracy: 0.6694\n",
            "Epoch 419 Validation Loss: 0.8923, Accuracy: 0.6280\n"
          ]
        },
        {
          "output_type": "stream",
          "name": "stderr",
          "text": [
            "Epoch 420 Training: 100%|██████████| 136/136 [00:00<00:00, 797.04it/s]\n",
            "Epoch 420 Validation: 100%|██████████| 34/34 [00:00<00:00, 1785.68it/s]\n"
          ]
        },
        {
          "output_type": "stream",
          "name": "stdout",
          "text": [
            "Epoch 420 Training Loss: 0.8611, Accuracy: 0.6759\n",
            "Epoch 420 Validation Loss: 0.8931, Accuracy: 0.6243\n"
          ]
        },
        {
          "output_type": "stream",
          "name": "stderr",
          "text": [
            "Epoch 421 Training: 100%|██████████| 136/136 [00:00<00:00, 792.83it/s]\n",
            "Epoch 421 Validation: 100%|██████████| 34/34 [00:00<00:00, 1669.16it/s]\n"
          ]
        },
        {
          "output_type": "stream",
          "name": "stdout",
          "text": [
            "Epoch 421 Training Loss: 0.8626, Accuracy: 0.6754\n",
            "Epoch 421 Validation Loss: 0.8902, Accuracy: 0.6243\n"
          ]
        },
        {
          "output_type": "stream",
          "name": "stderr",
          "text": [
            "Epoch 422 Training: 100%|██████████| 136/136 [00:00<00:00, 824.51it/s]\n",
            "Epoch 422 Validation: 100%|██████████| 34/34 [00:00<00:00, 1313.68it/s]\n"
          ]
        },
        {
          "output_type": "stream",
          "name": "stdout",
          "text": [
            "Epoch 422 Training Loss: 0.8630, Accuracy: 0.6722\n",
            "Epoch 422 Validation Loss: 0.8876, Accuracy: 0.6409\n"
          ]
        },
        {
          "output_type": "stream",
          "name": "stderr",
          "text": [
            "Epoch 423 Training: 100%|██████████| 136/136 [00:00<00:00, 834.04it/s]\n",
            "Epoch 423 Validation: 100%|██████████| 34/34 [00:00<00:00, 1750.26it/s]\n"
          ]
        },
        {
          "output_type": "stream",
          "name": "stdout",
          "text": [
            "Epoch 423 Training Loss: 0.8596, Accuracy: 0.6773\n",
            "Epoch 423 Validation Loss: 0.8784, Accuracy: 0.6519\n"
          ]
        },
        {
          "output_type": "stream",
          "name": "stderr",
          "text": [
            "Epoch 424 Training: 100%|██████████| 136/136 [00:00<00:00, 763.11it/s]\n",
            "Epoch 424 Validation: 100%|██████████| 34/34 [00:00<00:00, 1641.74it/s]\n"
          ]
        },
        {
          "output_type": "stream",
          "name": "stdout",
          "text": [
            "Epoch 424 Training Loss: 0.8627, Accuracy: 0.6805\n",
            "Epoch 424 Validation Loss: 0.8850, Accuracy: 0.6427\n"
          ]
        },
        {
          "output_type": "stream",
          "name": "stderr",
          "text": [
            "Epoch 425 Training: 100%|██████████| 136/136 [00:00<00:00, 793.34it/s]\n",
            "Epoch 425 Validation: 100%|██████████| 34/34 [00:00<00:00, 1598.82it/s]\n"
          ]
        },
        {
          "output_type": "stream",
          "name": "stdout",
          "text": [
            "Epoch 425 Training Loss: 0.8643, Accuracy: 0.6717\n",
            "Epoch 425 Validation Loss: 0.9042, Accuracy: 0.6298\n"
          ]
        },
        {
          "output_type": "stream",
          "name": "stderr",
          "text": [
            "Epoch 426 Training: 100%|██████████| 136/136 [00:00<00:00, 820.47it/s]\n",
            "Epoch 426 Validation: 100%|██████████| 34/34 [00:00<00:00, 1677.03it/s]\n"
          ]
        },
        {
          "output_type": "stream",
          "name": "stdout",
          "text": [
            "Epoch 426 Training Loss: 0.8627, Accuracy: 0.6740\n",
            "Epoch 426 Validation Loss: 0.8849, Accuracy: 0.6409\n"
          ]
        },
        {
          "output_type": "stream",
          "name": "stderr",
          "text": [
            "Epoch 427 Training: 100%|██████████| 136/136 [00:00<00:00, 807.32it/s]\n",
            "Epoch 427 Validation: 100%|██████████| 34/34 [00:00<00:00, 1445.12it/s]\n"
          ]
        },
        {
          "output_type": "stream",
          "name": "stdout",
          "text": [
            "Epoch 427 Training Loss: 0.8603, Accuracy: 0.6791\n",
            "Epoch 427 Validation Loss: 0.8812, Accuracy: 0.6483\n"
          ]
        },
        {
          "output_type": "stream",
          "name": "stderr",
          "text": [
            "Epoch 428 Training: 100%|██████████| 136/136 [00:00<00:00, 818.35it/s]\n",
            "Epoch 428 Validation: 100%|██████████| 34/34 [00:00<00:00, 1344.16it/s]\n"
          ]
        },
        {
          "output_type": "stream",
          "name": "stdout",
          "text": [
            "Epoch 428 Training Loss: 0.8625, Accuracy: 0.6750\n",
            "Epoch 428 Validation Loss: 0.8906, Accuracy: 0.6390\n"
          ]
        },
        {
          "output_type": "stream",
          "name": "stderr",
          "text": [
            "Epoch 429 Training: 100%|██████████| 136/136 [00:00<00:00, 830.76it/s]\n",
            "Epoch 429 Validation: 100%|██████████| 34/34 [00:00<00:00, 1341.58it/s]\n"
          ]
        },
        {
          "output_type": "stream",
          "name": "stdout",
          "text": [
            "Epoch 429 Training Loss: 0.8619, Accuracy: 0.6786\n",
            "Epoch 429 Validation Loss: 0.8853, Accuracy: 0.6335\n"
          ]
        },
        {
          "output_type": "stream",
          "name": "stderr",
          "text": [
            "Epoch 430 Training: 100%|██████████| 136/136 [00:00<00:00, 751.84it/s]\n",
            "Epoch 430 Validation: 100%|██████████| 34/34 [00:00<00:00, 1435.62it/s]\n"
          ]
        },
        {
          "output_type": "stream",
          "name": "stdout",
          "text": [
            "Epoch 430 Training Loss: 0.8616, Accuracy: 0.6736\n",
            "Epoch 430 Validation Loss: 0.8896, Accuracy: 0.6354\n"
          ]
        },
        {
          "output_type": "stream",
          "name": "stderr",
          "text": [
            "Epoch 431 Training: 100%|██████████| 136/136 [00:00<00:00, 793.91it/s]\n",
            "Epoch 431 Validation: 100%|██████████| 34/34 [00:00<00:00, 1698.79it/s]\n"
          ]
        },
        {
          "output_type": "stream",
          "name": "stdout",
          "text": [
            "Epoch 431 Training Loss: 0.8612, Accuracy: 0.6800\n",
            "Epoch 431 Validation Loss: 0.8834, Accuracy: 0.6446\n"
          ]
        },
        {
          "output_type": "stream",
          "name": "stderr",
          "text": [
            "Epoch 432 Training: 100%|██████████| 136/136 [00:00<00:00, 820.53it/s]\n",
            "Epoch 432 Validation: 100%|██████████| 34/34 [00:00<00:00, 1501.31it/s]\n"
          ]
        },
        {
          "output_type": "stream",
          "name": "stdout",
          "text": [
            "Epoch 432 Training Loss: 0.8609, Accuracy: 0.6750\n",
            "Epoch 432 Validation Loss: 0.8953, Accuracy: 0.6243\n"
          ]
        },
        {
          "output_type": "stream",
          "name": "stderr",
          "text": [
            "Epoch 433 Training: 100%|██████████| 136/136 [00:00<00:00, 819.75it/s]\n",
            "Epoch 433 Validation: 100%|██████████| 34/34 [00:00<00:00, 1806.24it/s]\n"
          ]
        },
        {
          "output_type": "stream",
          "name": "stdout",
          "text": [
            "Epoch 433 Training Loss: 0.8577, Accuracy: 0.6814\n",
            "Epoch 433 Validation Loss: 0.8868, Accuracy: 0.6390\n"
          ]
        },
        {
          "output_type": "stream",
          "name": "stderr",
          "text": [
            "Epoch 434 Training: 100%|██████████| 136/136 [00:00<00:00, 827.46it/s]\n",
            "Epoch 434 Validation: 100%|██████████| 34/34 [00:00<00:00, 1463.18it/s]\n"
          ]
        },
        {
          "output_type": "stream",
          "name": "stdout",
          "text": [
            "Epoch 434 Training Loss: 0.8621, Accuracy: 0.6736\n",
            "Epoch 434 Validation Loss: 0.8962, Accuracy: 0.6225\n"
          ]
        },
        {
          "output_type": "stream",
          "name": "stderr",
          "text": [
            "Epoch 435 Training: 100%|██████████| 136/136 [00:00<00:00, 771.25it/s]\n",
            "Epoch 435 Validation: 100%|██████████| 34/34 [00:00<00:00, 1698.69it/s]\n"
          ]
        },
        {
          "output_type": "stream",
          "name": "stdout",
          "text": [
            "Epoch 435 Training Loss: 0.8603, Accuracy: 0.6791\n",
            "Epoch 435 Validation Loss: 0.8917, Accuracy: 0.6262\n"
          ]
        },
        {
          "output_type": "stream",
          "name": "stderr",
          "text": [
            "Epoch 436 Training: 100%|██████████| 136/136 [00:00<00:00, 775.21it/s]\n",
            "Epoch 436 Validation: 100%|██████████| 34/34 [00:00<00:00, 1435.90it/s]\n"
          ]
        },
        {
          "output_type": "stream",
          "name": "stdout",
          "text": [
            "Epoch 436 Training Loss: 0.8600, Accuracy: 0.6777\n",
            "Epoch 436 Validation Loss: 0.8832, Accuracy: 0.6483\n"
          ]
        },
        {
          "output_type": "stream",
          "name": "stderr",
          "text": [
            "Epoch 437 Training: 100%|██████████| 136/136 [00:00<00:00, 788.77it/s]\n",
            "Epoch 437 Validation: 100%|██████████| 34/34 [00:00<00:00, 1460.35it/s]\n"
          ]
        },
        {
          "output_type": "stream",
          "name": "stdout",
          "text": [
            "Epoch 437 Training Loss: 0.8632, Accuracy: 0.6768\n",
            "Epoch 437 Validation Loss: 0.8977, Accuracy: 0.6243\n"
          ]
        },
        {
          "output_type": "stream",
          "name": "stderr",
          "text": [
            "Epoch 438 Training: 100%|██████████| 136/136 [00:00<00:00, 806.55it/s]\n",
            "Epoch 438 Validation: 100%|██████████| 34/34 [00:00<00:00, 1368.75it/s]\n"
          ]
        },
        {
          "output_type": "stream",
          "name": "stdout",
          "text": [
            "Epoch 438 Training Loss: 0.8636, Accuracy: 0.6768\n",
            "Epoch 438 Validation Loss: 0.8810, Accuracy: 0.6519\n"
          ]
        },
        {
          "output_type": "stream",
          "name": "stderr",
          "text": [
            "Epoch 439 Training: 100%|██████████| 136/136 [00:00<00:00, 842.29it/s]\n",
            "Epoch 439 Validation: 100%|██████████| 34/34 [00:00<00:00, 1551.59it/s]\n"
          ]
        },
        {
          "output_type": "stream",
          "name": "stdout",
          "text": [
            "Epoch 439 Training Loss: 0.8622, Accuracy: 0.6731\n",
            "Epoch 439 Validation Loss: 0.8959, Accuracy: 0.6354\n"
          ]
        },
        {
          "output_type": "stream",
          "name": "stderr",
          "text": [
            "Epoch 440 Training: 100%|██████████| 136/136 [00:00<00:00, 787.22it/s]\n",
            "Epoch 440 Validation: 100%|██████████| 34/34 [00:00<00:00, 1516.59it/s]\n"
          ]
        },
        {
          "output_type": "stream",
          "name": "stdout",
          "text": [
            "Epoch 440 Training Loss: 0.8613, Accuracy: 0.6796\n",
            "Epoch 440 Validation Loss: 0.8777, Accuracy: 0.6575\n"
          ]
        },
        {
          "output_type": "stream",
          "name": "stderr",
          "text": [
            "Epoch 441 Training: 100%|██████████| 136/136 [00:00<00:00, 803.65it/s]\n",
            "Epoch 441 Validation: 100%|██████████| 34/34 [00:00<00:00, 1503.32it/s]\n"
          ]
        },
        {
          "output_type": "stream",
          "name": "stdout",
          "text": [
            "Epoch 441 Training Loss: 0.8599, Accuracy: 0.6777\n",
            "Epoch 441 Validation Loss: 0.8793, Accuracy: 0.6519\n"
          ]
        },
        {
          "output_type": "stream",
          "name": "stderr",
          "text": [
            "Epoch 442 Training: 100%|██████████| 136/136 [00:00<00:00, 901.60it/s]\n",
            "Epoch 442 Validation: 100%|██████████| 34/34 [00:00<00:00, 1562.64it/s]\n"
          ]
        },
        {
          "output_type": "stream",
          "name": "stdout",
          "text": [
            "Epoch 442 Training Loss: 0.8601, Accuracy: 0.6782\n",
            "Epoch 442 Validation Loss: 0.8816, Accuracy: 0.6446\n"
          ]
        },
        {
          "output_type": "stream",
          "name": "stderr",
          "text": [
            "Epoch 443 Training: 100%|██████████| 136/136 [00:00<00:00, 877.10it/s]\n",
            "Epoch 443 Validation: 100%|██████████| 34/34 [00:00<00:00, 1642.40it/s]\n"
          ]
        },
        {
          "output_type": "stream",
          "name": "stdout",
          "text": [
            "Epoch 443 Training Loss: 0.8599, Accuracy: 0.6819\n",
            "Epoch 443 Validation Loss: 0.8889, Accuracy: 0.6390\n"
          ]
        },
        {
          "output_type": "stream",
          "name": "stderr",
          "text": [
            "Epoch 444 Training: 100%|██████████| 136/136 [00:00<00:00, 781.78it/s]\n",
            "Epoch 444 Validation: 100%|██████████| 34/34 [00:00<00:00, 1584.59it/s]\n"
          ]
        },
        {
          "output_type": "stream",
          "name": "stdout",
          "text": [
            "Epoch 444 Training Loss: 0.8608, Accuracy: 0.6782\n",
            "Epoch 444 Validation Loss: 0.8801, Accuracy: 0.6575\n"
          ]
        },
        {
          "output_type": "stream",
          "name": "stderr",
          "text": [
            "Epoch 445 Training: 100%|██████████| 136/136 [00:00<00:00, 757.82it/s]\n",
            "Epoch 445 Validation: 100%|██████████| 34/34 [00:00<00:00, 1406.79it/s]\n"
          ]
        },
        {
          "output_type": "stream",
          "name": "stdout",
          "text": [
            "Epoch 445 Training Loss: 0.8605, Accuracy: 0.6777\n",
            "Epoch 445 Validation Loss: 0.8898, Accuracy: 0.6335\n"
          ]
        },
        {
          "output_type": "stream",
          "name": "stderr",
          "text": [
            "Epoch 446 Training: 100%|██████████| 136/136 [00:00<00:00, 830.22it/s]\n",
            "Epoch 446 Validation: 100%|██████████| 34/34 [00:00<00:00, 1503.00it/s]\n"
          ]
        },
        {
          "output_type": "stream",
          "name": "stdout",
          "text": [
            "Epoch 446 Training Loss: 0.8604, Accuracy: 0.6763\n",
            "Epoch 446 Validation Loss: 0.8812, Accuracy: 0.6446\n"
          ]
        },
        {
          "output_type": "stream",
          "name": "stderr",
          "text": [
            "Epoch 447 Training: 100%|██████████| 136/136 [00:00<00:00, 848.62it/s]\n",
            "Epoch 447 Validation: 100%|██████████| 34/34 [00:00<00:00, 1503.76it/s]\n"
          ]
        },
        {
          "output_type": "stream",
          "name": "stdout",
          "text": [
            "Epoch 447 Training Loss: 0.8577, Accuracy: 0.6782\n",
            "Epoch 447 Validation Loss: 0.8928, Accuracy: 0.6390\n"
          ]
        },
        {
          "output_type": "stream",
          "name": "stderr",
          "text": [
            "Epoch 448 Training: 100%|██████████| 136/136 [00:00<00:00, 843.77it/s]\n",
            "Epoch 448 Validation: 100%|██████████| 34/34 [00:00<00:00, 1594.95it/s]\n"
          ]
        },
        {
          "output_type": "stream",
          "name": "stdout",
          "text": [
            "Epoch 448 Training Loss: 0.8611, Accuracy: 0.6754\n",
            "Epoch 448 Validation Loss: 0.8781, Accuracy: 0.6538\n"
          ]
        },
        {
          "output_type": "stream",
          "name": "stderr",
          "text": [
            "Epoch 449 Training: 100%|██████████| 136/136 [00:00<00:00, 789.49it/s]\n",
            "Epoch 449 Validation: 100%|██████████| 34/34 [00:00<00:00, 1628.48it/s]\n"
          ]
        },
        {
          "output_type": "stream",
          "name": "stdout",
          "text": [
            "Epoch 449 Training Loss: 0.8600, Accuracy: 0.6717\n",
            "Epoch 449 Validation Loss: 0.8794, Accuracy: 0.6538\n"
          ]
        },
        {
          "output_type": "stream",
          "name": "stderr",
          "text": [
            "Epoch 450 Training: 100%|██████████| 136/136 [00:00<00:00, 719.49it/s]\n",
            "Epoch 450 Validation: 100%|██████████| 34/34 [00:00<00:00, 1784.50it/s]\n"
          ]
        },
        {
          "output_type": "stream",
          "name": "stdout",
          "text": [
            "Epoch 450 Training Loss: 0.8592, Accuracy: 0.6763\n",
            "Epoch 450 Validation Loss: 0.9089, Accuracy: 0.6262\n"
          ]
        },
        {
          "output_type": "stream",
          "name": "stderr",
          "text": [
            "Epoch 451 Training: 100%|██████████| 136/136 [00:00<00:00, 773.69it/s]\n",
            "Epoch 451 Validation: 100%|██████████| 34/34 [00:00<00:00, 1603.16it/s]\n"
          ]
        },
        {
          "output_type": "stream",
          "name": "stdout",
          "text": [
            "Epoch 451 Training Loss: 0.8596, Accuracy: 0.6754\n",
            "Epoch 451 Validation Loss: 0.8839, Accuracy: 0.6519\n"
          ]
        },
        {
          "output_type": "stream",
          "name": "stderr",
          "text": [
            "Epoch 452 Training: 100%|██████████| 136/136 [00:00<00:00, 799.45it/s]\n",
            "Epoch 452 Validation: 100%|██████████| 34/34 [00:00<00:00, 1614.03it/s]\n"
          ]
        },
        {
          "output_type": "stream",
          "name": "stdout",
          "text": [
            "Epoch 452 Training Loss: 0.8611, Accuracy: 0.6777\n",
            "Epoch 452 Validation Loss: 0.8813, Accuracy: 0.6575\n"
          ]
        },
        {
          "output_type": "stream",
          "name": "stderr",
          "text": [
            "Epoch 453 Training: 100%|██████████| 136/136 [00:00<00:00, 783.00it/s]\n",
            "Epoch 453 Validation: 100%|██████████| 34/34 [00:00<00:00, 1526.77it/s]\n"
          ]
        },
        {
          "output_type": "stream",
          "name": "stdout",
          "text": [
            "Epoch 453 Training Loss: 0.8635, Accuracy: 0.6731\n",
            "Epoch 453 Validation Loss: 0.8901, Accuracy: 0.6262\n"
          ]
        },
        {
          "output_type": "stream",
          "name": "stderr",
          "text": [
            "Epoch 454 Training: 100%|██████████| 136/136 [00:00<00:00, 795.17it/s]\n",
            "Epoch 454 Validation: 100%|██████████| 34/34 [00:00<00:00, 1386.47it/s]\n"
          ]
        },
        {
          "output_type": "stream",
          "name": "stdout",
          "text": [
            "Epoch 454 Training Loss: 0.8603, Accuracy: 0.6777\n",
            "Epoch 454 Validation Loss: 0.8993, Accuracy: 0.6280\n"
          ]
        },
        {
          "output_type": "stream",
          "name": "stderr",
          "text": [
            "Epoch 455 Training: 100%|██████████| 136/136 [00:00<00:00, 742.45it/s]\n",
            "Epoch 455 Validation: 100%|██████████| 34/34 [00:00<00:00, 1621.54it/s]\n"
          ]
        },
        {
          "output_type": "stream",
          "name": "stdout",
          "text": [
            "Epoch 455 Training Loss: 0.8600, Accuracy: 0.6805\n",
            "Epoch 455 Validation Loss: 0.8868, Accuracy: 0.6372\n"
          ]
        },
        {
          "output_type": "stream",
          "name": "stderr",
          "text": [
            "Epoch 456 Training: 100%|██████████| 136/136 [00:00<00:00, 829.08it/s]\n",
            "Epoch 456 Validation: 100%|██████████| 34/34 [00:00<00:00, 1606.14it/s]\n"
          ]
        },
        {
          "output_type": "stream",
          "name": "stdout",
          "text": [
            "Epoch 456 Training Loss: 0.8595, Accuracy: 0.6777\n",
            "Epoch 456 Validation Loss: 0.8916, Accuracy: 0.6280\n"
          ]
        },
        {
          "output_type": "stream",
          "name": "stderr",
          "text": [
            "Epoch 457 Training: 100%|██████████| 136/136 [00:00<00:00, 851.95it/s]\n",
            "Epoch 457 Validation: 100%|██████████| 34/34 [00:00<00:00, 1278.27it/s]\n"
          ]
        },
        {
          "output_type": "stream",
          "name": "stdout",
          "text": [
            "Epoch 457 Training Loss: 0.8626, Accuracy: 0.6759\n",
            "Epoch 457 Validation Loss: 0.8820, Accuracy: 0.6538\n"
          ]
        },
        {
          "output_type": "stream",
          "name": "stderr",
          "text": [
            "Epoch 458 Training: 100%|██████████| 136/136 [00:00<00:00, 605.49it/s]\n",
            "Epoch 458 Validation: 100%|██████████| 34/34 [00:00<00:00, 1626.44it/s]\n"
          ]
        },
        {
          "output_type": "stream",
          "name": "stdout",
          "text": [
            "Epoch 458 Training Loss: 0.8609, Accuracy: 0.6763\n",
            "Epoch 458 Validation Loss: 0.8861, Accuracy: 0.6464\n"
          ]
        },
        {
          "output_type": "stream",
          "name": "stderr",
          "text": [
            "Epoch 459 Training: 100%|██████████| 136/136 [00:00<00:00, 607.38it/s]\n",
            "Epoch 459 Validation: 100%|██████████| 34/34 [00:00<00:00, 1777.14it/s]\n"
          ]
        },
        {
          "output_type": "stream",
          "name": "stdout",
          "text": [
            "Epoch 459 Training Loss: 0.8664, Accuracy: 0.6653\n",
            "Epoch 459 Validation Loss: 0.8872, Accuracy: 0.6335\n"
          ]
        },
        {
          "output_type": "stream",
          "name": "stderr",
          "text": [
            "Epoch 460 Training: 100%|██████████| 136/136 [00:00<00:00, 686.70it/s]\n",
            "Epoch 460 Validation: 100%|██████████| 34/34 [00:00<00:00, 1794.74it/s]\n"
          ]
        },
        {
          "output_type": "stream",
          "name": "stdout",
          "text": [
            "Epoch 460 Training Loss: 0.8600, Accuracy: 0.6791\n",
            "Epoch 460 Validation Loss: 0.8884, Accuracy: 0.6354\n"
          ]
        },
        {
          "output_type": "stream",
          "name": "stderr",
          "text": [
            "Epoch 461 Training: 100%|██████████| 136/136 [00:00<00:00, 683.20it/s]\n",
            "Epoch 461 Validation: 100%|██████████| 34/34 [00:00<00:00, 1835.23it/s]\n"
          ]
        },
        {
          "output_type": "stream",
          "name": "stdout",
          "text": [
            "Epoch 461 Training Loss: 0.8657, Accuracy: 0.6740\n",
            "Epoch 461 Validation Loss: 0.8767, Accuracy: 0.6519\n"
          ]
        },
        {
          "output_type": "stream",
          "name": "stderr",
          "text": [
            "Epoch 462 Training: 100%|██████████| 136/136 [00:00<00:00, 678.03it/s]\n",
            "Epoch 462 Validation: 100%|██████████| 34/34 [00:00<00:00, 1656.96it/s]\n"
          ]
        },
        {
          "output_type": "stream",
          "name": "stdout",
          "text": [
            "Epoch 462 Training Loss: 0.8595, Accuracy: 0.6865\n",
            "Epoch 462 Validation Loss: 0.8891, Accuracy: 0.6317\n"
          ]
        },
        {
          "output_type": "stream",
          "name": "stderr",
          "text": [
            "Epoch 463 Training: 100%|██████████| 136/136 [00:00<00:00, 653.83it/s]\n",
            "Epoch 463 Validation: 100%|██████████| 34/34 [00:00<00:00, 1498.58it/s]\n"
          ]
        },
        {
          "output_type": "stream",
          "name": "stdout",
          "text": [
            "Epoch 463 Training Loss: 0.8606, Accuracy: 0.6782\n",
            "Epoch 463 Validation Loss: 0.8937, Accuracy: 0.6225\n"
          ]
        },
        {
          "output_type": "stream",
          "name": "stderr",
          "text": [
            "Epoch 464 Training: 100%|██████████| 136/136 [00:00<00:00, 632.24it/s]\n",
            "Epoch 464 Validation: 100%|██████████| 34/34 [00:00<00:00, 1729.78it/s]\n"
          ]
        },
        {
          "output_type": "stream",
          "name": "stdout",
          "text": [
            "Epoch 464 Training Loss: 0.8587, Accuracy: 0.6805\n",
            "Epoch 464 Validation Loss: 0.8920, Accuracy: 0.6243\n"
          ]
        },
        {
          "output_type": "stream",
          "name": "stderr",
          "text": [
            "Epoch 465 Training: 100%|██████████| 136/136 [00:00<00:00, 721.33it/s]\n",
            "Epoch 465 Validation: 100%|██████████| 34/34 [00:00<00:00, 1765.04it/s]\n"
          ]
        },
        {
          "output_type": "stream",
          "name": "stdout",
          "text": [
            "Epoch 465 Training Loss: 0.8599, Accuracy: 0.6763\n",
            "Epoch 465 Validation Loss: 0.8951, Accuracy: 0.6280\n"
          ]
        },
        {
          "output_type": "stream",
          "name": "stderr",
          "text": [
            "Epoch 466 Training: 100%|██████████| 136/136 [00:00<00:00, 689.14it/s]\n",
            "Epoch 466 Validation: 100%|██████████| 34/34 [00:00<00:00, 1745.64it/s]\n"
          ]
        },
        {
          "output_type": "stream",
          "name": "stdout",
          "text": [
            "Epoch 466 Training Loss: 0.8584, Accuracy: 0.6814\n",
            "Epoch 466 Validation Loss: 0.8904, Accuracy: 0.6354\n"
          ]
        },
        {
          "output_type": "stream",
          "name": "stderr",
          "text": [
            "Epoch 467 Training: 100%|██████████| 136/136 [00:00<00:00, 708.31it/s]\n",
            "Epoch 467 Validation: 100%|██████████| 34/34 [00:00<00:00, 1618.82it/s]\n"
          ]
        },
        {
          "output_type": "stream",
          "name": "stdout",
          "text": [
            "Epoch 467 Training Loss: 0.8607, Accuracy: 0.6750\n",
            "Epoch 467 Validation Loss: 0.8855, Accuracy: 0.6427\n"
          ]
        },
        {
          "output_type": "stream",
          "name": "stderr",
          "text": [
            "Epoch 468 Training: 100%|██████████| 136/136 [00:00<00:00, 545.42it/s]\n",
            "Epoch 468 Validation: 100%|██████████| 34/34 [00:00<00:00, 1611.33it/s]\n"
          ]
        },
        {
          "output_type": "stream",
          "name": "stdout",
          "text": [
            "Epoch 468 Training Loss: 0.8600, Accuracy: 0.6814\n",
            "Epoch 468 Validation Loss: 0.8827, Accuracy: 0.6354\n"
          ]
        },
        {
          "output_type": "stream",
          "name": "stderr",
          "text": [
            "Epoch 469 Training: 100%|██████████| 136/136 [00:00<00:00, 640.08it/s]\n",
            "Epoch 469 Validation: 100%|██████████| 34/34 [00:00<00:00, 1198.38it/s]\n"
          ]
        },
        {
          "output_type": "stream",
          "name": "stdout",
          "text": [
            "Epoch 469 Training Loss: 0.8555, Accuracy: 0.6865\n",
            "Epoch 469 Validation Loss: 0.8858, Accuracy: 0.6427\n"
          ]
        },
        {
          "output_type": "stream",
          "name": "stderr",
          "text": [
            "Epoch 470 Training: 100%|██████████| 136/136 [00:00<00:00, 541.42it/s]\n",
            "Epoch 470 Validation: 100%|██████████| 34/34 [00:00<00:00, 1792.08it/s]\n"
          ]
        },
        {
          "output_type": "stream",
          "name": "stdout",
          "text": [
            "Epoch 470 Training Loss: 0.8591, Accuracy: 0.6745\n",
            "Epoch 470 Validation Loss: 0.8898, Accuracy: 0.6298\n"
          ]
        },
        {
          "output_type": "stream",
          "name": "stderr",
          "text": [
            "Epoch 471 Training: 100%|██████████| 136/136 [00:00<00:00, 785.94it/s]\n",
            "Epoch 471 Validation: 100%|██████████| 34/34 [00:00<00:00, 1841.70it/s]\n"
          ]
        },
        {
          "output_type": "stream",
          "name": "stdout",
          "text": [
            "Epoch 471 Training Loss: 0.8586, Accuracy: 0.6800\n",
            "Epoch 471 Validation Loss: 0.8833, Accuracy: 0.6501\n"
          ]
        },
        {
          "output_type": "stream",
          "name": "stderr",
          "text": [
            "Epoch 472 Training: 100%|██████████| 136/136 [00:00<00:00, 810.12it/s]\n",
            "Epoch 472 Validation: 100%|██████████| 34/34 [00:00<00:00, 1440.37it/s]\n"
          ]
        },
        {
          "output_type": "stream",
          "name": "stdout",
          "text": [
            "Epoch 472 Training Loss: 0.8580, Accuracy: 0.6823\n",
            "Epoch 472 Validation Loss: 0.8928, Accuracy: 0.6317\n"
          ]
        },
        {
          "output_type": "stream",
          "name": "stderr",
          "text": [
            "Epoch 473 Training: 100%|██████████| 136/136 [00:00<00:00, 845.04it/s]\n",
            "Epoch 473 Validation: 100%|██████████| 34/34 [00:00<00:00, 1572.77it/s]\n"
          ]
        },
        {
          "output_type": "stream",
          "name": "stdout",
          "text": [
            "Epoch 473 Training Loss: 0.8619, Accuracy: 0.6750\n",
            "Epoch 473 Validation Loss: 0.8847, Accuracy: 0.6519\n"
          ]
        },
        {
          "output_type": "stream",
          "name": "stderr",
          "text": [
            "Epoch 474 Training: 100%|██████████| 136/136 [00:00<00:00, 790.76it/s]\n",
            "Epoch 474 Validation: 100%|██████████| 34/34 [00:00<00:00, 1621.01it/s]\n"
          ]
        },
        {
          "output_type": "stream",
          "name": "stdout",
          "text": [
            "Epoch 474 Training Loss: 0.8594, Accuracy: 0.6791\n",
            "Epoch 474 Validation Loss: 0.8937, Accuracy: 0.6280\n"
          ]
        },
        {
          "output_type": "stream",
          "name": "stderr",
          "text": [
            "Epoch 475 Training: 100%|██████████| 136/136 [00:00<00:00, 783.73it/s]\n",
            "Epoch 475 Validation: 100%|██████████| 34/34 [00:00<00:00, 1419.93it/s]\n"
          ]
        },
        {
          "output_type": "stream",
          "name": "stdout",
          "text": [
            "Epoch 475 Training Loss: 0.8613, Accuracy: 0.6759\n",
            "Epoch 475 Validation Loss: 0.8843, Accuracy: 0.6483\n"
          ]
        },
        {
          "output_type": "stream",
          "name": "stderr",
          "text": [
            "Epoch 476 Training: 100%|██████████| 136/136 [00:00<00:00, 756.10it/s]\n",
            "Epoch 476 Validation: 100%|██████████| 34/34 [00:00<00:00, 1558.10it/s]\n"
          ]
        },
        {
          "output_type": "stream",
          "name": "stdout",
          "text": [
            "Epoch 476 Training Loss: 0.8590, Accuracy: 0.6796\n",
            "Epoch 476 Validation Loss: 0.8988, Accuracy: 0.6354\n"
          ]
        },
        {
          "output_type": "stream",
          "name": "stderr",
          "text": [
            "Epoch 477 Training: 100%|██████████| 136/136 [00:00<00:00, 732.30it/s]\n",
            "Epoch 477 Validation: 100%|██████████| 34/34 [00:00<00:00, 1634.48it/s]\n"
          ]
        },
        {
          "output_type": "stream",
          "name": "stdout",
          "text": [
            "Epoch 477 Training Loss: 0.8594, Accuracy: 0.6786\n",
            "Epoch 477 Validation Loss: 0.8928, Accuracy: 0.6243\n"
          ]
        },
        {
          "output_type": "stream",
          "name": "stderr",
          "text": [
            "Epoch 478 Training: 100%|██████████| 136/136 [00:00<00:00, 786.42it/s]\n",
            "Epoch 478 Validation: 100%|██████████| 34/34 [00:00<00:00, 1623.77it/s]\n"
          ]
        },
        {
          "output_type": "stream",
          "name": "stdout",
          "text": [
            "Epoch 478 Training Loss: 0.8610, Accuracy: 0.6750\n",
            "Epoch 478 Validation Loss: 0.8805, Accuracy: 0.6501\n"
          ]
        },
        {
          "output_type": "stream",
          "name": "stderr",
          "text": [
            "Epoch 479 Training: 100%|██████████| 136/136 [00:00<00:00, 795.05it/s]\n",
            "Epoch 479 Validation: 100%|██████████| 34/34 [00:00<00:00, 1760.88it/s]\n"
          ]
        },
        {
          "output_type": "stream",
          "name": "stdout",
          "text": [
            "Epoch 479 Training Loss: 0.8602, Accuracy: 0.6763\n",
            "Epoch 479 Validation Loss: 0.8887, Accuracy: 0.6464\n"
          ]
        },
        {
          "output_type": "stream",
          "name": "stderr",
          "text": [
            "Epoch 480 Training: 100%|██████████| 136/136 [00:00<00:00, 809.94it/s]\n",
            "Epoch 480 Validation: 100%|██████████| 34/34 [00:00<00:00, 1559.25it/s]\n"
          ]
        },
        {
          "output_type": "stream",
          "name": "stdout",
          "text": [
            "Epoch 480 Training Loss: 0.8567, Accuracy: 0.6874\n",
            "Epoch 480 Validation Loss: 0.8815, Accuracy: 0.6556\n"
          ]
        },
        {
          "output_type": "stream",
          "name": "stderr",
          "text": [
            "Epoch 481 Training: 100%|██████████| 136/136 [00:00<00:00, 814.94it/s]\n",
            "Epoch 481 Validation: 100%|██████████| 34/34 [00:00<00:00, 1229.14it/s]\n"
          ]
        },
        {
          "output_type": "stream",
          "name": "stdout",
          "text": [
            "Epoch 481 Training Loss: 0.8608, Accuracy: 0.6740\n",
            "Epoch 481 Validation Loss: 0.8937, Accuracy: 0.6225\n"
          ]
        },
        {
          "output_type": "stream",
          "name": "stderr",
          "text": [
            "Epoch 482 Training: 100%|██████████| 136/136 [00:00<00:00, 713.57it/s]\n",
            "Epoch 482 Validation: 100%|██████████| 34/34 [00:00<00:00, 1505.70it/s]\n"
          ]
        },
        {
          "output_type": "stream",
          "name": "stdout",
          "text": [
            "Epoch 482 Training Loss: 0.8583, Accuracy: 0.6800\n",
            "Epoch 482 Validation Loss: 0.8847, Accuracy: 0.6409\n"
          ]
        },
        {
          "output_type": "stream",
          "name": "stderr",
          "text": [
            "Epoch 483 Training: 100%|██████████| 136/136 [00:00<00:00, 792.16it/s]\n",
            "Epoch 483 Validation: 100%|██████████| 34/34 [00:00<00:00, 1609.37it/s]\n"
          ]
        },
        {
          "output_type": "stream",
          "name": "stdout",
          "text": [
            "Epoch 483 Training Loss: 0.8603, Accuracy: 0.6740\n",
            "Epoch 483 Validation Loss: 0.8892, Accuracy: 0.6335\n"
          ]
        },
        {
          "output_type": "stream",
          "name": "stderr",
          "text": [
            "Epoch 484 Training: 100%|██████████| 136/136 [00:00<00:00, 742.13it/s]\n",
            "Epoch 484 Validation: 100%|██████████| 34/34 [00:00<00:00, 1532.15it/s]\n"
          ]
        },
        {
          "output_type": "stream",
          "name": "stdout",
          "text": [
            "Epoch 484 Training Loss: 0.8612, Accuracy: 0.6754\n",
            "Epoch 484 Validation Loss: 0.8933, Accuracy: 0.6280\n"
          ]
        },
        {
          "output_type": "stream",
          "name": "stderr",
          "text": [
            "Epoch 485 Training: 100%|██████████| 136/136 [00:00<00:00, 771.37it/s]\n",
            "Epoch 485 Validation: 100%|██████████| 34/34 [00:00<00:00, 1536.14it/s]\n"
          ]
        },
        {
          "output_type": "stream",
          "name": "stdout",
          "text": [
            "Epoch 485 Training Loss: 0.8593, Accuracy: 0.6796\n",
            "Epoch 485 Validation Loss: 0.8903, Accuracy: 0.6335\n"
          ]
        },
        {
          "output_type": "stream",
          "name": "stderr",
          "text": [
            "Epoch 486 Training: 100%|██████████| 136/136 [00:00<00:00, 851.61it/s]\n",
            "Epoch 486 Validation: 100%|██████████| 34/34 [00:00<00:00, 1698.50it/s]\n"
          ]
        },
        {
          "output_type": "stream",
          "name": "stdout",
          "text": [
            "Epoch 486 Training Loss: 0.8612, Accuracy: 0.6717\n",
            "Epoch 486 Validation Loss: 0.8924, Accuracy: 0.6317\n"
          ]
        },
        {
          "output_type": "stream",
          "name": "stderr",
          "text": [
            "Epoch 487 Training: 100%|██████████| 136/136 [00:00<00:00, 800.39it/s]\n",
            "Epoch 487 Validation: 100%|██████████| 34/34 [00:00<00:00, 1761.09it/s]"
          ]
        },
        {
          "output_type": "stream",
          "name": "stdout",
          "text": [
            "Epoch 487 Training Loss: 0.8563, Accuracy: 0.6846"
          ]
        },
        {
          "output_type": "stream",
          "name": "stderr",
          "text": [
            "\n"
          ]
        },
        {
          "output_type": "stream",
          "name": "stdout",
          "text": [
            "\n",
            "Epoch 487 Validation Loss: 0.8979, Accuracy: 0.6317\n"
          ]
        },
        {
          "output_type": "stream",
          "name": "stderr",
          "text": [
            "Epoch 488 Training: 100%|██████████| 136/136 [00:00<00:00, 825.18it/s]\n",
            "Epoch 488 Validation: 100%|██████████| 34/34 [00:00<00:00, 1384.55it/s]\n"
          ]
        },
        {
          "output_type": "stream",
          "name": "stdout",
          "text": [
            "Epoch 488 Training Loss: 0.8604, Accuracy: 0.6786\n",
            "Epoch 488 Validation Loss: 0.8929, Accuracy: 0.6335\n"
          ]
        },
        {
          "output_type": "stream",
          "name": "stderr",
          "text": [
            "Epoch 489 Training: 100%|██████████| 136/136 [00:00<00:00, 761.78it/s]\n",
            "Epoch 489 Validation: 100%|██████████| 34/34 [00:00<00:00, 1421.03it/s]\n"
          ]
        },
        {
          "output_type": "stream",
          "name": "stdout",
          "text": [
            "Epoch 489 Training Loss: 0.8582, Accuracy: 0.6745\n",
            "Epoch 489 Validation Loss: 0.8908, Accuracy: 0.6409\n"
          ]
        },
        {
          "output_type": "stream",
          "name": "stderr",
          "text": [
            "Epoch 490 Training: 100%|██████████| 136/136 [00:00<00:00, 770.08it/s]\n",
            "Epoch 490 Validation: 100%|██████████| 34/34 [00:00<00:00, 1485.54it/s]\n"
          ]
        },
        {
          "output_type": "stream",
          "name": "stdout",
          "text": [
            "Epoch 490 Training Loss: 0.8565, Accuracy: 0.6851\n",
            "Epoch 490 Validation Loss: 0.9057, Accuracy: 0.6151\n"
          ]
        },
        {
          "output_type": "stream",
          "name": "stderr",
          "text": [
            "Epoch 491 Training: 100%|██████████| 136/136 [00:00<00:00, 777.64it/s]\n",
            "Epoch 491 Validation: 100%|██████████| 34/34 [00:00<00:00, 1494.62it/s]\n"
          ]
        },
        {
          "output_type": "stream",
          "name": "stdout",
          "text": [
            "Epoch 491 Training Loss: 0.8572, Accuracy: 0.6809\n",
            "Epoch 491 Validation Loss: 0.8905, Accuracy: 0.6298\n"
          ]
        },
        {
          "output_type": "stream",
          "name": "stderr",
          "text": [
            "Epoch 492 Training: 100%|██████████| 136/136 [00:00<00:00, 738.97it/s]\n",
            "Epoch 492 Validation: 100%|██████████| 34/34 [00:00<00:00, 1484.76it/s]\n"
          ]
        },
        {
          "output_type": "stream",
          "name": "stdout",
          "text": [
            "Epoch 492 Training Loss: 0.8590, Accuracy: 0.6786\n",
            "Epoch 492 Validation Loss: 0.8844, Accuracy: 0.6409\n"
          ]
        },
        {
          "output_type": "stream",
          "name": "stderr",
          "text": [
            "Epoch 493 Training: 100%|██████████| 136/136 [00:00<00:00, 810.14it/s]\n",
            "Epoch 493 Validation: 100%|██████████| 34/34 [00:00<00:00, 1501.40it/s]\n"
          ]
        },
        {
          "output_type": "stream",
          "name": "stdout",
          "text": [
            "Epoch 493 Training Loss: 0.8597, Accuracy: 0.6809\n",
            "Epoch 493 Validation Loss: 0.8940, Accuracy: 0.6280\n"
          ]
        },
        {
          "output_type": "stream",
          "name": "stderr",
          "text": [
            "Epoch 494 Training: 100%|██████████| 136/136 [00:00<00:00, 768.66it/s]\n",
            "Epoch 494 Validation: 100%|██████████| 34/34 [00:00<00:00, 1668.24it/s]\n"
          ]
        },
        {
          "output_type": "stream",
          "name": "stdout",
          "text": [
            "Epoch 494 Training Loss: 0.8609, Accuracy: 0.6727\n",
            "Epoch 494 Validation Loss: 0.8846, Accuracy: 0.6427\n"
          ]
        },
        {
          "output_type": "stream",
          "name": "stderr",
          "text": [
            "Epoch 495 Training: 100%|██████████| 136/136 [00:00<00:00, 758.10it/s]\n",
            "Epoch 495 Validation: 100%|██████████| 34/34 [00:00<00:00, 1486.63it/s]\n"
          ]
        },
        {
          "output_type": "stream",
          "name": "stdout",
          "text": [
            "Epoch 495 Training Loss: 0.8599, Accuracy: 0.6786\n",
            "Epoch 495 Validation Loss: 0.8888, Accuracy: 0.6372\n"
          ]
        },
        {
          "output_type": "stream",
          "name": "stderr",
          "text": [
            "Epoch 496 Training: 100%|██████████| 136/136 [00:00<00:00, 755.57it/s]\n",
            "Epoch 496 Validation: 100%|██████████| 34/34 [00:00<00:00, 1752.57it/s]\n"
          ]
        },
        {
          "output_type": "stream",
          "name": "stdout",
          "text": [
            "Epoch 496 Training Loss: 0.8569, Accuracy: 0.6865\n",
            "Epoch 496 Validation Loss: 0.8936, Accuracy: 0.6298\n"
          ]
        },
        {
          "output_type": "stream",
          "name": "stderr",
          "text": [
            "Epoch 497 Training: 100%|██████████| 136/136 [00:00<00:00, 814.26it/s]\n",
            "Epoch 497 Validation: 100%|██████████| 34/34 [00:00<00:00, 1685.91it/s]\n"
          ]
        },
        {
          "output_type": "stream",
          "name": "stdout",
          "text": [
            "Epoch 497 Training Loss: 0.8559, Accuracy: 0.6855\n",
            "Epoch 497 Validation Loss: 0.9022, Accuracy: 0.6225\n"
          ]
        },
        {
          "output_type": "stream",
          "name": "stderr",
          "text": [
            "Epoch 498 Training: 100%|██████████| 136/136 [00:00<00:00, 822.21it/s]\n",
            "Epoch 498 Validation: 100%|██████████| 34/34 [00:00<00:00, 1697.41it/s]\n"
          ]
        },
        {
          "output_type": "stream",
          "name": "stdout",
          "text": [
            "Epoch 498 Training Loss: 0.8621, Accuracy: 0.6823\n",
            "Epoch 498 Validation Loss: 0.8770, Accuracy: 0.6556\n"
          ]
        },
        {
          "output_type": "stream",
          "name": "stderr",
          "text": [
            "Epoch 499 Training: 100%|██████████| 136/136 [00:00<00:00, 817.67it/s]\n",
            "Epoch 499 Validation: 100%|██████████| 34/34 [00:00<00:00, 1485.39it/s]\n"
          ]
        },
        {
          "output_type": "stream",
          "name": "stdout",
          "text": [
            "Epoch 499 Training Loss: 0.8596, Accuracy: 0.6750\n",
            "Epoch 499 Validation Loss: 0.8895, Accuracy: 0.6372\n"
          ]
        },
        {
          "output_type": "stream",
          "name": "stderr",
          "text": [
            "Epoch 500 Training: 100%|██████████| 136/136 [00:00<00:00, 762.15it/s]\n",
            "Epoch 500 Validation: 100%|██████████| 34/34 [00:00<00:00, 1689.61it/s]\n"
          ]
        },
        {
          "output_type": "stream",
          "name": "stdout",
          "text": [
            "Epoch 500 Training Loss: 0.8598, Accuracy: 0.6786\n",
            "Epoch 500 Validation Loss: 0.8894, Accuracy: 0.6335\n"
          ]
        },
        {
          "output_type": "stream",
          "name": "stderr",
          "text": [
            "Epoch 501 Training: 100%|██████████| 136/136 [00:00<00:00, 783.40it/s]\n",
            "Epoch 501 Validation: 100%|██████████| 34/34 [00:00<00:00, 1525.76it/s]\n"
          ]
        },
        {
          "output_type": "stream",
          "name": "stdout",
          "text": [
            "Epoch 501 Training Loss: 0.8600, Accuracy: 0.6800\n",
            "Epoch 501 Validation Loss: 0.8847, Accuracy: 0.6427\n"
          ]
        },
        {
          "output_type": "stream",
          "name": "stderr",
          "text": [
            "Epoch 502 Training: 100%|██████████| 136/136 [00:00<00:00, 837.97it/s]\n",
            "Epoch 502 Validation: 100%|██████████| 34/34 [00:00<00:00, 1595.92it/s]\n"
          ]
        },
        {
          "output_type": "stream",
          "name": "stdout",
          "text": [
            "Epoch 502 Training Loss: 0.8602, Accuracy: 0.6754\n",
            "Epoch 502 Validation Loss: 0.8909, Accuracy: 0.6298\n"
          ]
        },
        {
          "output_type": "stream",
          "name": "stderr",
          "text": [
            "Epoch 503 Training: 100%|██████████| 136/136 [00:00<00:00, 842.17it/s]\n",
            "Epoch 503 Validation: 100%|██████████| 34/34 [00:00<00:00, 1518.22it/s]\n"
          ]
        },
        {
          "output_type": "stream",
          "name": "stdout",
          "text": [
            "Epoch 503 Training Loss: 0.8583, Accuracy: 0.6773\n",
            "Epoch 503 Validation Loss: 0.8874, Accuracy: 0.6354\n"
          ]
        },
        {
          "output_type": "stream",
          "name": "stderr",
          "text": [
            "Epoch 504 Training: 100%|██████████| 136/136 [00:00<00:00, 782.08it/s]\n",
            "Epoch 504 Validation: 100%|██████████| 34/34 [00:00<00:00, 1380.29it/s]\n"
          ]
        },
        {
          "output_type": "stream",
          "name": "stdout",
          "text": [
            "Epoch 504 Training Loss: 0.8576, Accuracy: 0.6773\n",
            "Epoch 504 Validation Loss: 0.8860, Accuracy: 0.6372\n"
          ]
        },
        {
          "output_type": "stream",
          "name": "stderr",
          "text": [
            "Epoch 505 Training: 100%|██████████| 136/136 [00:00<00:00, 794.81it/s]\n",
            "Epoch 505 Validation: 100%|██████████| 34/34 [00:00<00:00, 1547.14it/s]\n"
          ]
        },
        {
          "output_type": "stream",
          "name": "stdout",
          "text": [
            "Epoch 505 Training Loss: 0.8582, Accuracy: 0.6828\n",
            "Epoch 505 Validation Loss: 0.8825, Accuracy: 0.6501\n"
          ]
        },
        {
          "output_type": "stream",
          "name": "stderr",
          "text": [
            "Epoch 506 Training: 100%|██████████| 136/136 [00:00<00:00, 752.90it/s]\n",
            "Epoch 506 Validation: 100%|██████████| 34/34 [00:00<00:00, 1370.92it/s]\n"
          ]
        },
        {
          "output_type": "stream",
          "name": "stdout",
          "text": [
            "Epoch 506 Training Loss: 0.8622, Accuracy: 0.6713\n",
            "Epoch 506 Validation Loss: 0.8916, Accuracy: 0.6335\n"
          ]
        },
        {
          "output_type": "stream",
          "name": "stderr",
          "text": [
            "Epoch 507 Training: 100%|██████████| 136/136 [00:00<00:00, 764.27it/s]\n",
            "Epoch 507 Validation: 100%|██████████| 34/34 [00:00<00:00, 1462.63it/s]\n"
          ]
        },
        {
          "output_type": "stream",
          "name": "stdout",
          "text": [
            "Epoch 507 Training Loss: 0.8570, Accuracy: 0.6763\n",
            "Epoch 507 Validation Loss: 0.8806, Accuracy: 0.6593\n"
          ]
        },
        {
          "output_type": "stream",
          "name": "stderr",
          "text": [
            "Epoch 508 Training: 100%|██████████| 136/136 [00:00<00:00, 751.29it/s]\n",
            "Epoch 508 Validation: 100%|██████████| 34/34 [00:00<00:00, 1404.55it/s]\n"
          ]
        },
        {
          "output_type": "stream",
          "name": "stdout",
          "text": [
            "Epoch 508 Training Loss: 0.8617, Accuracy: 0.6731\n",
            "Epoch 508 Validation Loss: 0.8849, Accuracy: 0.6483\n"
          ]
        },
        {
          "output_type": "stream",
          "name": "stderr",
          "text": [
            "Epoch 509 Training: 100%|██████████| 136/136 [00:00<00:00, 750.08it/s]\n",
            "Epoch 509 Validation: 100%|██████████| 34/34 [00:00<00:00, 1730.93it/s]\n"
          ]
        },
        {
          "output_type": "stream",
          "name": "stdout",
          "text": [
            "Epoch 509 Training Loss: 0.8580, Accuracy: 0.6846\n",
            "Epoch 509 Validation Loss: 0.8993, Accuracy: 0.6206\n"
          ]
        },
        {
          "output_type": "stream",
          "name": "stderr",
          "text": [
            "Epoch 510 Training: 100%|██████████| 136/136 [00:00<00:00, 762.38it/s]\n",
            "Epoch 510 Validation: 100%|██████████| 34/34 [00:00<00:00, 1598.22it/s]\n"
          ]
        },
        {
          "output_type": "stream",
          "name": "stdout",
          "text": [
            "Epoch 510 Training Loss: 0.8577, Accuracy: 0.6823\n",
            "Epoch 510 Validation Loss: 0.8964, Accuracy: 0.6262\n"
          ]
        },
        {
          "output_type": "stream",
          "name": "stderr",
          "text": [
            "Epoch 511 Training: 100%|██████████| 136/136 [00:00<00:00, 756.02it/s]\n",
            "Epoch 511 Validation: 100%|██████████| 34/34 [00:00<00:00, 1508.81it/s]\n"
          ]
        },
        {
          "output_type": "stream",
          "name": "stdout",
          "text": [
            "Epoch 511 Training Loss: 0.8592, Accuracy: 0.6773\n",
            "Epoch 511 Validation Loss: 0.8740, Accuracy: 0.6648\n"
          ]
        },
        {
          "output_type": "stream",
          "name": "stderr",
          "text": [
            "Epoch 512 Training: 100%|██████████| 136/136 [00:00<00:00, 816.36it/s]\n",
            "Epoch 512 Validation: 100%|██████████| 34/34 [00:00<00:00, 1396.34it/s]\n"
          ]
        },
        {
          "output_type": "stream",
          "name": "stdout",
          "text": [
            "Epoch 512 Training Loss: 0.8613, Accuracy: 0.6814\n",
            "Epoch 512 Validation Loss: 0.8812, Accuracy: 0.6556\n"
          ]
        },
        {
          "output_type": "stream",
          "name": "stderr",
          "text": [
            "Epoch 513 Training: 100%|██████████| 136/136 [00:00<00:00, 767.41it/s]\n",
            "Epoch 513 Validation: 100%|██████████| 34/34 [00:00<00:00, 1488.07it/s]\n"
          ]
        },
        {
          "output_type": "stream",
          "name": "stdout",
          "text": [
            "Epoch 513 Training Loss: 0.8590, Accuracy: 0.6763\n",
            "Epoch 513 Validation Loss: 0.9013, Accuracy: 0.6169\n"
          ]
        },
        {
          "output_type": "stream",
          "name": "stderr",
          "text": [
            "Epoch 514 Training: 100%|██████████| 136/136 [00:00<00:00, 800.87it/s]\n",
            "Epoch 514 Validation: 100%|██████████| 34/34 [00:00<00:00, 1517.01it/s]\n"
          ]
        },
        {
          "output_type": "stream",
          "name": "stdout",
          "text": [
            "Epoch 514 Training Loss: 0.8626, Accuracy: 0.6727\n",
            "Epoch 514 Validation Loss: 0.8858, Accuracy: 0.6409\n"
          ]
        },
        {
          "output_type": "stream",
          "name": "stderr",
          "text": [
            "Epoch 515 Training: 100%|██████████| 136/136 [00:00<00:00, 766.50it/s]\n",
            "Epoch 515 Validation: 100%|██████████| 34/34 [00:00<00:00, 1489.49it/s]\n"
          ]
        },
        {
          "output_type": "stream",
          "name": "stdout",
          "text": [
            "Epoch 515 Training Loss: 0.8590, Accuracy: 0.6777\n",
            "Epoch 515 Validation Loss: 0.8945, Accuracy: 0.6243\n"
          ]
        },
        {
          "output_type": "stream",
          "name": "stderr",
          "text": [
            "Epoch 516 Training: 100%|██████████| 136/136 [00:00<00:00, 748.88it/s]\n",
            "Epoch 516 Validation: 100%|██████████| 34/34 [00:00<00:00, 1528.86it/s]\n"
          ]
        },
        {
          "output_type": "stream",
          "name": "stdout",
          "text": [
            "Epoch 516 Training Loss: 0.8639, Accuracy: 0.6763\n",
            "Epoch 516 Validation Loss: 0.8850, Accuracy: 0.6501\n"
          ]
        },
        {
          "output_type": "stream",
          "name": "stderr",
          "text": [
            "Epoch 517 Training: 100%|██████████| 136/136 [00:00<00:00, 788.39it/s]\n",
            "Epoch 517 Validation: 100%|██████████| 34/34 [00:00<00:00, 1725.90it/s]\n"
          ]
        },
        {
          "output_type": "stream",
          "name": "stdout",
          "text": [
            "Epoch 517 Training Loss: 0.8578, Accuracy: 0.6819\n",
            "Epoch 517 Validation Loss: 0.8843, Accuracy: 0.6427\n"
          ]
        },
        {
          "output_type": "stream",
          "name": "stderr",
          "text": [
            "Epoch 518 Training: 100%|██████████| 136/136 [00:00<00:00, 584.76it/s]\n",
            "Epoch 518 Validation: 100%|██████████| 34/34 [00:00<00:00, 1517.31it/s]\n"
          ]
        },
        {
          "output_type": "stream",
          "name": "stdout",
          "text": [
            "Epoch 518 Training Loss: 0.8608, Accuracy: 0.6759\n",
            "Epoch 518 Validation Loss: 0.8976, Accuracy: 0.6188\n"
          ]
        },
        {
          "output_type": "stream",
          "name": "stderr",
          "text": [
            "Epoch 519 Training: 100%|██████████| 136/136 [00:00<00:00, 568.11it/s]\n",
            "Epoch 519 Validation: 100%|██████████| 34/34 [00:00<00:00, 1841.15it/s]\n"
          ]
        },
        {
          "output_type": "stream",
          "name": "stdout",
          "text": [
            "Epoch 519 Training Loss: 0.8581, Accuracy: 0.6791\n",
            "Epoch 519 Validation Loss: 0.9014, Accuracy: 0.6335\n"
          ]
        },
        {
          "output_type": "stream",
          "name": "stderr",
          "text": [
            "Epoch 520 Training: 100%|██████████| 136/136 [00:00<00:00, 597.28it/s]\n",
            "Epoch 520 Validation: 100%|██████████| 34/34 [00:00<00:00, 1859.23it/s]\n"
          ]
        },
        {
          "output_type": "stream",
          "name": "stdout",
          "text": [
            "Epoch 520 Training Loss: 0.8576, Accuracy: 0.6819\n",
            "Epoch 520 Validation Loss: 0.8866, Accuracy: 0.6335\n"
          ]
        },
        {
          "output_type": "stream",
          "name": "stderr",
          "text": [
            "Epoch 521 Training: 100%|██████████| 136/136 [00:00<00:00, 608.95it/s]\n",
            "Epoch 521 Validation: 100%|██████████| 34/34 [00:00<00:00, 1612.59it/s]\n"
          ]
        },
        {
          "output_type": "stream",
          "name": "stdout",
          "text": [
            "Epoch 521 Training Loss: 0.8579, Accuracy: 0.6777\n",
            "Epoch 521 Validation Loss: 0.8889, Accuracy: 0.6298\n"
          ]
        },
        {
          "output_type": "stream",
          "name": "stderr",
          "text": [
            "Epoch 522 Training: 100%|██████████| 136/136 [00:00<00:00, 562.38it/s]\n",
            "Epoch 522 Validation: 100%|██████████| 34/34 [00:00<00:00, 1533.60it/s]\n"
          ]
        },
        {
          "output_type": "stream",
          "name": "stdout",
          "text": [
            "Epoch 522 Training Loss: 0.8566, Accuracy: 0.6865\n",
            "Epoch 522 Validation Loss: 0.8984, Accuracy: 0.6335\n"
          ]
        },
        {
          "output_type": "stream",
          "name": "stderr",
          "text": [
            "Epoch 523 Training: 100%|██████████| 136/136 [00:00<00:00, 606.09it/s]\n",
            "Epoch 523 Validation: 100%|██████████| 34/34 [00:00<00:00, 1458.16it/s]\n"
          ]
        },
        {
          "output_type": "stream",
          "name": "stdout",
          "text": [
            "Epoch 523 Training Loss: 0.8613, Accuracy: 0.6740\n",
            "Epoch 523 Validation Loss: 0.8875, Accuracy: 0.6317\n"
          ]
        },
        {
          "output_type": "stream",
          "name": "stderr",
          "text": [
            "Epoch 524 Training: 100%|██████████| 136/136 [00:00<00:00, 581.65it/s]\n",
            "Epoch 524 Validation: 100%|██████████| 34/34 [00:00<00:00, 1620.88it/s]\n"
          ]
        },
        {
          "output_type": "stream",
          "name": "stdout",
          "text": [
            "Epoch 524 Training Loss: 0.8559, Accuracy: 0.6782\n",
            "Epoch 524 Validation Loss: 0.8820, Accuracy: 0.6464\n"
          ]
        },
        {
          "output_type": "stream",
          "name": "stderr",
          "text": [
            "Epoch 525 Training: 100%|██████████| 136/136 [00:00<00:00, 543.41it/s]\n",
            "Epoch 525 Validation: 100%|██████████| 34/34 [00:00<00:00, 1413.40it/s]\n"
          ]
        },
        {
          "output_type": "stream",
          "name": "stdout",
          "text": [
            "Epoch 525 Training Loss: 0.8567, Accuracy: 0.6800\n",
            "Epoch 525 Validation Loss: 0.8955, Accuracy: 0.6335\n"
          ]
        },
        {
          "output_type": "stream",
          "name": "stderr",
          "text": [
            "Epoch 526 Training: 100%|██████████| 136/136 [00:00<00:00, 555.27it/s]\n",
            "Epoch 526 Validation: 100%|██████████| 34/34 [00:00<00:00, 1751.10it/s]\n"
          ]
        },
        {
          "output_type": "stream",
          "name": "stdout",
          "text": [
            "Epoch 526 Training Loss: 0.8547, Accuracy: 0.6837\n",
            "Epoch 526 Validation Loss: 0.8785, Accuracy: 0.6519\n"
          ]
        },
        {
          "output_type": "stream",
          "name": "stderr",
          "text": [
            "Epoch 527 Training: 100%|██████████| 136/136 [00:00<00:00, 593.50it/s]\n",
            "Epoch 527 Validation: 100%|██████████| 34/34 [00:00<00:00, 1644.84it/s]\n"
          ]
        },
        {
          "output_type": "stream",
          "name": "stdout",
          "text": [
            "Epoch 527 Training Loss: 0.8583, Accuracy: 0.6800\n",
            "Epoch 527 Validation Loss: 0.8835, Accuracy: 0.6446\n"
          ]
        },
        {
          "output_type": "stream",
          "name": "stderr",
          "text": [
            "Epoch 528 Training: 100%|██████████| 136/136 [00:00<00:00, 706.20it/s]\n",
            "Epoch 528 Validation: 100%|██████████| 34/34 [00:00<00:00, 1720.14it/s]\n"
          ]
        },
        {
          "output_type": "stream",
          "name": "stdout",
          "text": [
            "Epoch 528 Training Loss: 0.8581, Accuracy: 0.6782\n",
            "Epoch 528 Validation Loss: 0.8895, Accuracy: 0.6372\n"
          ]
        },
        {
          "output_type": "stream",
          "name": "stderr",
          "text": [
            "Epoch 529 Training: 100%|██████████| 136/136 [00:00<00:00, 792.12it/s]\n",
            "Epoch 529 Validation: 100%|██████████| 34/34 [00:00<00:00, 1695.72it/s]\n"
          ]
        },
        {
          "output_type": "stream",
          "name": "stdout",
          "text": [
            "Epoch 529 Training Loss: 0.8577, Accuracy: 0.6782\n",
            "Epoch 529 Validation Loss: 0.8801, Accuracy: 0.6593\n"
          ]
        },
        {
          "output_type": "stream",
          "name": "stderr",
          "text": [
            "Epoch 530 Training: 100%|██████████| 136/136 [00:00<00:00, 750.90it/s]\n",
            "Epoch 530 Validation: 100%|██████████| 34/34 [00:00<00:00, 1603.38it/s]\n"
          ]
        },
        {
          "output_type": "stream",
          "name": "stdout",
          "text": [
            "Epoch 530 Training Loss: 0.8618, Accuracy: 0.6800\n",
            "Epoch 530 Validation Loss: 0.8952, Accuracy: 0.6409\n"
          ]
        },
        {
          "output_type": "stream",
          "name": "stderr",
          "text": [
            "Epoch 531 Training: 100%|██████████| 136/136 [00:00<00:00, 742.78it/s]\n",
            "Epoch 531 Validation: 100%|██████████| 34/34 [00:00<00:00, 1371.11it/s]\n"
          ]
        },
        {
          "output_type": "stream",
          "name": "stdout",
          "text": [
            "Epoch 531 Training Loss: 0.8631, Accuracy: 0.6708\n",
            "Epoch 531 Validation Loss: 0.8896, Accuracy: 0.6390\n"
          ]
        },
        {
          "output_type": "stream",
          "name": "stderr",
          "text": [
            "Epoch 532 Training: 100%|██████████| 136/136 [00:00<00:00, 766.31it/s]\n",
            "Epoch 532 Validation: 100%|██████████| 34/34 [00:00<00:00, 1420.01it/s]\n"
          ]
        },
        {
          "output_type": "stream",
          "name": "stdout",
          "text": [
            "Epoch 532 Training Loss: 0.8550, Accuracy: 0.6837\n",
            "Epoch 532 Validation Loss: 0.8853, Accuracy: 0.6354\n"
          ]
        },
        {
          "output_type": "stream",
          "name": "stderr",
          "text": [
            "Epoch 533 Training: 100%|██████████| 136/136 [00:00<00:00, 766.55it/s]\n",
            "Epoch 533 Validation: 100%|██████████| 34/34 [00:00<00:00, 1710.93it/s]\n"
          ]
        },
        {
          "output_type": "stream",
          "name": "stdout",
          "text": [
            "Epoch 533 Training Loss: 0.8563, Accuracy: 0.6809\n",
            "Epoch 533 Validation Loss: 0.8909, Accuracy: 0.6225\n"
          ]
        },
        {
          "output_type": "stream",
          "name": "stderr",
          "text": [
            "Epoch 534 Training: 100%|██████████| 136/136 [00:00<00:00, 740.81it/s]\n",
            "Epoch 534 Validation: 100%|██████████| 34/34 [00:00<00:00, 1560.91it/s]\n"
          ]
        },
        {
          "output_type": "stream",
          "name": "stdout",
          "text": [
            "Epoch 534 Training Loss: 0.8600, Accuracy: 0.6759\n",
            "Epoch 534 Validation Loss: 0.8908, Accuracy: 0.6280\n"
          ]
        },
        {
          "output_type": "stream",
          "name": "stderr",
          "text": [
            "Epoch 535 Training: 100%|██████████| 136/136 [00:00<00:00, 756.77it/s]\n",
            "Epoch 535 Validation: 100%|██████████| 34/34 [00:00<00:00, 1499.45it/s]\n"
          ]
        },
        {
          "output_type": "stream",
          "name": "stdout",
          "text": [
            "Epoch 535 Training Loss: 0.8576, Accuracy: 0.6786\n",
            "Epoch 535 Validation Loss: 0.8848, Accuracy: 0.6446\n"
          ]
        },
        {
          "output_type": "stream",
          "name": "stderr",
          "text": [
            "Epoch 536 Training: 100%|██████████| 136/136 [00:00<00:00, 791.58it/s]\n",
            "Epoch 536 Validation: 100%|██████████| 34/34 [00:00<00:00, 1598.94it/s]\n"
          ]
        },
        {
          "output_type": "stream",
          "name": "stdout",
          "text": [
            "Epoch 536 Training Loss: 0.8599, Accuracy: 0.6782\n",
            "Epoch 536 Validation Loss: 0.8794, Accuracy: 0.6483\n"
          ]
        },
        {
          "output_type": "stream",
          "name": "stderr",
          "text": [
            "Epoch 537 Training: 100%|██████████| 136/136 [00:00<00:00, 729.09it/s]\n",
            "Epoch 537 Validation: 100%|██████████| 34/34 [00:00<00:00, 1614.49it/s]\n"
          ]
        },
        {
          "output_type": "stream",
          "name": "stdout",
          "text": [
            "Epoch 537 Training Loss: 0.8647, Accuracy: 0.6722\n",
            "Epoch 537 Validation Loss: 0.8900, Accuracy: 0.6280\n"
          ]
        },
        {
          "output_type": "stream",
          "name": "stderr",
          "text": [
            "Epoch 538 Training: 100%|██████████| 136/136 [00:00<00:00, 766.64it/s]\n",
            "Epoch 538 Validation: 100%|██████████| 34/34 [00:00<00:00, 1449.52it/s]\n"
          ]
        },
        {
          "output_type": "stream",
          "name": "stdout",
          "text": [
            "Epoch 538 Training Loss: 0.8563, Accuracy: 0.6855\n",
            "Epoch 538 Validation Loss: 0.8905, Accuracy: 0.6280\n"
          ]
        },
        {
          "output_type": "stream",
          "name": "stderr",
          "text": [
            "Epoch 539 Training: 100%|██████████| 136/136 [00:00<00:00, 787.20it/s]\n",
            "Epoch 539 Validation: 100%|██████████| 34/34 [00:00<00:00, 1712.72it/s]\n"
          ]
        },
        {
          "output_type": "stream",
          "name": "stdout",
          "text": [
            "Epoch 539 Training Loss: 0.8592, Accuracy: 0.6837\n",
            "Epoch 539 Validation Loss: 0.8957, Accuracy: 0.6262\n"
          ]
        },
        {
          "output_type": "stream",
          "name": "stderr",
          "text": [
            "Epoch 540 Training: 100%|██████████| 136/136 [00:00<00:00, 775.47it/s]\n",
            "Epoch 540 Validation: 100%|██████████| 34/34 [00:00<00:00, 1507.79it/s]\n"
          ]
        },
        {
          "output_type": "stream",
          "name": "stdout",
          "text": [
            "Epoch 540 Training Loss: 0.8589, Accuracy: 0.6777\n",
            "Epoch 540 Validation Loss: 0.8842, Accuracy: 0.6372\n"
          ]
        },
        {
          "output_type": "stream",
          "name": "stderr",
          "text": [
            "Epoch 541 Training: 100%|██████████| 136/136 [00:00<00:00, 795.14it/s]\n",
            "Epoch 541 Validation: 100%|██████████| 34/34 [00:00<00:00, 1796.03it/s]\n"
          ]
        },
        {
          "output_type": "stream",
          "name": "stdout",
          "text": [
            "Epoch 541 Training Loss: 0.8566, Accuracy: 0.6819\n",
            "Epoch 541 Validation Loss: 0.9003, Accuracy: 0.6188\n"
          ]
        },
        {
          "output_type": "stream",
          "name": "stderr",
          "text": [
            "Epoch 542 Training: 100%|██████████| 136/136 [00:00<00:00, 777.86it/s]\n",
            "Epoch 542 Validation: 100%|██████████| 34/34 [00:00<00:00, 1306.76it/s]\n"
          ]
        },
        {
          "output_type": "stream",
          "name": "stdout",
          "text": [
            "Epoch 542 Training Loss: 0.8565, Accuracy: 0.6814\n",
            "Epoch 542 Validation Loss: 0.9029, Accuracy: 0.6188\n"
          ]
        },
        {
          "output_type": "stream",
          "name": "stderr",
          "text": [
            "Epoch 543 Training: 100%|██████████| 136/136 [00:00<00:00, 701.92it/s]\n",
            "Epoch 543 Validation: 100%|██████████| 34/34 [00:00<00:00, 1713.87it/s]\n"
          ]
        },
        {
          "output_type": "stream",
          "name": "stdout",
          "text": [
            "Epoch 543 Training Loss: 0.8579, Accuracy: 0.6819\n",
            "Epoch 543 Validation Loss: 0.8974, Accuracy: 0.6354\n"
          ]
        },
        {
          "output_type": "stream",
          "name": "stderr",
          "text": [
            "Epoch 544 Training: 100%|██████████| 136/136 [00:00<00:00, 805.04it/s]\n",
            "Epoch 544 Validation: 100%|██████████| 34/34 [00:00<00:00, 1571.94it/s]\n"
          ]
        },
        {
          "output_type": "stream",
          "name": "stdout",
          "text": [
            "Epoch 544 Training Loss: 0.8566, Accuracy: 0.6828\n",
            "Epoch 544 Validation Loss: 0.8834, Accuracy: 0.6501\n"
          ]
        },
        {
          "output_type": "stream",
          "name": "stderr",
          "text": [
            "Epoch 545 Training: 100%|██████████| 136/136 [00:00<00:00, 785.74it/s]\n",
            "Epoch 545 Validation: 100%|██████████| 34/34 [00:00<00:00, 1758.68it/s]\n"
          ]
        },
        {
          "output_type": "stream",
          "name": "stdout",
          "text": [
            "Epoch 545 Training Loss: 0.8562, Accuracy: 0.6809\n",
            "Epoch 545 Validation Loss: 0.8916, Accuracy: 0.6262\n"
          ]
        },
        {
          "output_type": "stream",
          "name": "stderr",
          "text": [
            "Epoch 546 Training: 100%|██████████| 136/136 [00:00<00:00, 780.82it/s]\n",
            "Epoch 546 Validation: 100%|██████████| 34/34 [00:00<00:00, 1665.38it/s]\n"
          ]
        },
        {
          "output_type": "stream",
          "name": "stdout",
          "text": [
            "Epoch 546 Training Loss: 0.8573, Accuracy: 0.6809\n",
            "Epoch 546 Validation Loss: 0.8850, Accuracy: 0.6538\n"
          ]
        },
        {
          "output_type": "stream",
          "name": "stderr",
          "text": [
            "Epoch 547 Training: 100%|██████████| 136/136 [00:00<00:00, 760.33it/s]\n",
            "Epoch 547 Validation: 100%|██████████| 34/34 [00:00<00:00, 1704.86it/s]\n"
          ]
        },
        {
          "output_type": "stream",
          "name": "stdout",
          "text": [
            "Epoch 547 Training Loss: 0.8582, Accuracy: 0.6777\n",
            "Epoch 547 Validation Loss: 0.8903, Accuracy: 0.6372\n"
          ]
        },
        {
          "output_type": "stream",
          "name": "stderr",
          "text": [
            "Epoch 548 Training: 100%|██████████| 136/136 [00:00<00:00, 802.71it/s]\n",
            "Epoch 548 Validation: 100%|██████████| 34/34 [00:00<00:00, 1483.72it/s]\n"
          ]
        },
        {
          "output_type": "stream",
          "name": "stdout",
          "text": [
            "Epoch 548 Training Loss: 0.8568, Accuracy: 0.6763\n",
            "Epoch 548 Validation Loss: 0.8947, Accuracy: 0.6390\n"
          ]
        },
        {
          "output_type": "stream",
          "name": "stderr",
          "text": [
            "Epoch 549 Training: 100%|██████████| 136/136 [00:00<00:00, 753.33it/s]\n",
            "Epoch 549 Validation: 100%|██████████| 34/34 [00:00<00:00, 1423.27it/s]\n"
          ]
        },
        {
          "output_type": "stream",
          "name": "stdout",
          "text": [
            "Epoch 549 Training Loss: 0.8558, Accuracy: 0.6855\n",
            "Epoch 549 Validation Loss: 0.9017, Accuracy: 0.6298\n"
          ]
        },
        {
          "output_type": "stream",
          "name": "stderr",
          "text": [
            "Epoch 550 Training: 100%|██████████| 136/136 [00:00<00:00, 758.68it/s]\n",
            "Epoch 550 Validation: 100%|██████████| 34/34 [00:00<00:00, 1501.26it/s]\n"
          ]
        },
        {
          "output_type": "stream",
          "name": "stdout",
          "text": [
            "Epoch 550 Training Loss: 0.8594, Accuracy: 0.6796\n",
            "Epoch 550 Validation Loss: 0.8740, Accuracy: 0.6611\n"
          ]
        },
        {
          "output_type": "stream",
          "name": "stderr",
          "text": [
            "Epoch 551 Training: 100%|██████████| 136/136 [00:00<00:00, 812.94it/s]\n",
            "Epoch 551 Validation: 100%|██████████| 34/34 [00:00<00:00, 1549.08it/s]\n"
          ]
        },
        {
          "output_type": "stream",
          "name": "stdout",
          "text": [
            "Epoch 551 Training Loss: 0.8543, Accuracy: 0.6865\n",
            "Epoch 551 Validation Loss: 0.9096, Accuracy: 0.6280\n"
          ]
        },
        {
          "output_type": "stream",
          "name": "stderr",
          "text": [
            "Epoch 552 Training: 100%|██████████| 136/136 [00:00<00:00, 778.03it/s]\n",
            "Epoch 552 Validation: 100%|██████████| 34/34 [00:00<00:00, 1784.10it/s]\n"
          ]
        },
        {
          "output_type": "stream",
          "name": "stdout",
          "text": [
            "Epoch 552 Training Loss: 0.8573, Accuracy: 0.6814\n",
            "Epoch 552 Validation Loss: 0.8971, Accuracy: 0.6409\n"
          ]
        },
        {
          "output_type": "stream",
          "name": "stderr",
          "text": [
            "Epoch 553 Training: 100%|██████████| 136/136 [00:00<00:00, 795.60it/s]\n",
            "Epoch 553 Validation: 100%|██████████| 34/34 [00:00<00:00, 1765.21it/s]\n"
          ]
        },
        {
          "output_type": "stream",
          "name": "stdout",
          "text": [
            "Epoch 553 Training Loss: 0.8546, Accuracy: 0.6846\n",
            "Epoch 553 Validation Loss: 0.8828, Accuracy: 0.6464\n"
          ]
        },
        {
          "output_type": "stream",
          "name": "stderr",
          "text": [
            "Epoch 554 Training: 100%|██████████| 136/136 [00:00<00:00, 823.68it/s]\n",
            "Epoch 554 Validation: 100%|██████████| 34/34 [00:00<00:00, 1590.43it/s]\n"
          ]
        },
        {
          "output_type": "stream",
          "name": "stdout",
          "text": [
            "Epoch 554 Training Loss: 0.8566, Accuracy: 0.6823\n",
            "Epoch 554 Validation Loss: 0.8783, Accuracy: 0.6630\n"
          ]
        },
        {
          "output_type": "stream",
          "name": "stderr",
          "text": [
            "Epoch 555 Training: 100%|██████████| 136/136 [00:00<00:00, 825.89it/s]\n",
            "Epoch 555 Validation: 100%|██████████| 34/34 [00:00<00:00, 1630.63it/s]\n"
          ]
        },
        {
          "output_type": "stream",
          "name": "stdout",
          "text": [
            "Epoch 555 Training Loss: 0.8600, Accuracy: 0.6796\n",
            "Epoch 555 Validation Loss: 0.8876, Accuracy: 0.6335\n"
          ]
        },
        {
          "output_type": "stream",
          "name": "stderr",
          "text": [
            "Epoch 556 Training: 100%|██████████| 136/136 [00:00<00:00, 808.61it/s]\n",
            "Epoch 556 Validation: 100%|██████████| 34/34 [00:00<00:00, 1597.31it/s]\n"
          ]
        },
        {
          "output_type": "stream",
          "name": "stdout",
          "text": [
            "Epoch 556 Training Loss: 0.8599, Accuracy: 0.6782\n",
            "Epoch 556 Validation Loss: 0.8754, Accuracy: 0.6648\n"
          ]
        },
        {
          "output_type": "stream",
          "name": "stderr",
          "text": [
            "Epoch 557 Training: 100%|██████████| 136/136 [00:00<00:00, 726.62it/s]\n",
            "Epoch 557 Validation: 100%|██████████| 34/34 [00:00<00:00, 1438.71it/s]\n"
          ]
        },
        {
          "output_type": "stream",
          "name": "stdout",
          "text": [
            "Epoch 557 Training Loss: 0.8565, Accuracy: 0.6819\n",
            "Epoch 557 Validation Loss: 0.8816, Accuracy: 0.6538\n"
          ]
        },
        {
          "output_type": "stream",
          "name": "stderr",
          "text": [
            "Epoch 558 Training: 100%|██████████| 136/136 [00:00<00:00, 773.62it/s]\n",
            "Epoch 558 Validation: 100%|██████████| 34/34 [00:00<00:00, 1544.09it/s]\n"
          ]
        },
        {
          "output_type": "stream",
          "name": "stdout",
          "text": [
            "Epoch 558 Training Loss: 0.8567, Accuracy: 0.6773\n",
            "Epoch 558 Validation Loss: 0.8853, Accuracy: 0.6354\n"
          ]
        },
        {
          "output_type": "stream",
          "name": "stderr",
          "text": [
            "Epoch 559 Training: 100%|██████████| 136/136 [00:00<00:00, 764.22it/s]\n",
            "Epoch 559 Validation: 100%|██████████| 34/34 [00:00<00:00, 1363.10it/s]\n"
          ]
        },
        {
          "output_type": "stream",
          "name": "stdout",
          "text": [
            "Epoch 559 Training Loss: 0.8582, Accuracy: 0.6819\n",
            "Epoch 559 Validation Loss: 0.8942, Accuracy: 0.6262\n"
          ]
        },
        {
          "output_type": "stream",
          "name": "stderr",
          "text": [
            "Epoch 560 Training: 100%|██████████| 136/136 [00:00<00:00, 796.88it/s]\n",
            "Epoch 560 Validation: 100%|██████████| 34/34 [00:00<00:00, 1399.60it/s]\n"
          ]
        },
        {
          "output_type": "stream",
          "name": "stdout",
          "text": [
            "Epoch 560 Training Loss: 0.8579, Accuracy: 0.6814\n",
            "Epoch 560 Validation Loss: 0.8905, Accuracy: 0.6243\n"
          ]
        },
        {
          "output_type": "stream",
          "name": "stderr",
          "text": [
            "Epoch 561 Training: 100%|██████████| 136/136 [00:00<00:00, 788.49it/s]\n",
            "Epoch 561 Validation: 100%|██████████| 34/34 [00:00<00:00, 1193.00it/s]\n"
          ]
        },
        {
          "output_type": "stream",
          "name": "stdout",
          "text": [
            "Epoch 561 Training Loss: 0.8597, Accuracy: 0.6796\n",
            "Epoch 561 Validation Loss: 0.8979, Accuracy: 0.6169\n"
          ]
        },
        {
          "output_type": "stream",
          "name": "stderr",
          "text": [
            "Epoch 562 Training: 100%|██████████| 136/136 [00:00<00:00, 766.82it/s]\n",
            "Epoch 562 Validation: 100%|██████████| 34/34 [00:00<00:00, 1288.50it/s]\n"
          ]
        },
        {
          "output_type": "stream",
          "name": "stdout",
          "text": [
            "Epoch 562 Training Loss: 0.8597, Accuracy: 0.6796\n",
            "Epoch 562 Validation Loss: 0.8883, Accuracy: 0.6372\n"
          ]
        },
        {
          "output_type": "stream",
          "name": "stderr",
          "text": [
            "Epoch 563 Training: 100%|██████████| 136/136 [00:00<00:00, 738.37it/s]\n",
            "Epoch 563 Validation: 100%|██████████| 34/34 [00:00<00:00, 1716.20it/s]\n"
          ]
        },
        {
          "output_type": "stream",
          "name": "stdout",
          "text": [
            "Epoch 563 Training Loss: 0.8556, Accuracy: 0.6842\n",
            "Epoch 563 Validation Loss: 0.8808, Accuracy: 0.6538\n"
          ]
        },
        {
          "output_type": "stream",
          "name": "stderr",
          "text": [
            "Epoch 564 Training: 100%|██████████| 136/136 [00:00<00:00, 733.14it/s]\n",
            "Epoch 564 Validation: 100%|██████████| 34/34 [00:00<00:00, 1623.55it/s]\n"
          ]
        },
        {
          "output_type": "stream",
          "name": "stdout",
          "text": [
            "Epoch 564 Training Loss: 0.8578, Accuracy: 0.6814\n",
            "Epoch 564 Validation Loss: 0.8937, Accuracy: 0.6317\n"
          ]
        },
        {
          "output_type": "stream",
          "name": "stderr",
          "text": [
            "Epoch 565 Training: 100%|██████████| 136/136 [00:00<00:00, 779.88it/s]\n",
            "Epoch 565 Validation: 100%|██████████| 34/34 [00:00<00:00, 1659.51it/s]\n"
          ]
        },
        {
          "output_type": "stream",
          "name": "stdout",
          "text": [
            "Epoch 565 Training Loss: 0.8568, Accuracy: 0.6809\n",
            "Epoch 565 Validation Loss: 0.8886, Accuracy: 0.6372\n"
          ]
        },
        {
          "output_type": "stream",
          "name": "stderr",
          "text": [
            "Epoch 566 Training: 100%|██████████| 136/136 [00:00<00:00, 742.42it/s]\n",
            "Epoch 566 Validation: 100%|██████████| 34/34 [00:00<00:00, 1482.41it/s]\n"
          ]
        },
        {
          "output_type": "stream",
          "name": "stdout",
          "text": [
            "Epoch 566 Training Loss: 0.8544, Accuracy: 0.6846\n",
            "Epoch 566 Validation Loss: 0.8908, Accuracy: 0.6225\n"
          ]
        },
        {
          "output_type": "stream",
          "name": "stderr",
          "text": [
            "Epoch 567 Training: 100%|██████████| 136/136 [00:00<00:00, 754.99it/s]\n",
            "Epoch 567 Validation: 100%|██████████| 34/34 [00:00<00:00, 1645.81it/s]\n"
          ]
        },
        {
          "output_type": "stream",
          "name": "stdout",
          "text": [
            "Epoch 567 Training Loss: 0.8555, Accuracy: 0.6814\n",
            "Epoch 567 Validation Loss: 0.8856, Accuracy: 0.6446\n"
          ]
        },
        {
          "output_type": "stream",
          "name": "stderr",
          "text": [
            "Epoch 568 Training: 100%|██████████| 136/136 [00:00<00:00, 755.21it/s]\n",
            "Epoch 568 Validation: 100%|██████████| 34/34 [00:00<00:00, 1432.98it/s]\n"
          ]
        },
        {
          "output_type": "stream",
          "name": "stdout",
          "text": [
            "Epoch 568 Training Loss: 0.8562, Accuracy: 0.6819\n",
            "Epoch 568 Validation Loss: 0.8823, Accuracy: 0.6501\n"
          ]
        },
        {
          "output_type": "stream",
          "name": "stderr",
          "text": [
            "Epoch 569 Training: 100%|██████████| 136/136 [00:00<00:00, 751.78it/s]\n",
            "Epoch 569 Validation: 100%|██████████| 34/34 [00:00<00:00, 1618.08it/s]\n"
          ]
        },
        {
          "output_type": "stream",
          "name": "stdout",
          "text": [
            "Epoch 569 Training Loss: 0.8557, Accuracy: 0.6823\n",
            "Epoch 569 Validation Loss: 0.9043, Accuracy: 0.6206\n"
          ]
        },
        {
          "output_type": "stream",
          "name": "stderr",
          "text": [
            "Epoch 570 Training: 100%|██████████| 136/136 [00:00<00:00, 773.61it/s]\n",
            "Epoch 570 Validation: 100%|██████████| 34/34 [00:00<00:00, 1399.47it/s]\n"
          ]
        },
        {
          "output_type": "stream",
          "name": "stdout",
          "text": [
            "Epoch 570 Training Loss: 0.8590, Accuracy: 0.6819\n",
            "Epoch 570 Validation Loss: 0.8883, Accuracy: 0.6354\n"
          ]
        },
        {
          "output_type": "stream",
          "name": "stderr",
          "text": [
            "Epoch 571 Training: 100%|██████████| 136/136 [00:00<00:00, 736.23it/s]\n",
            "Epoch 571 Validation: 100%|██████████| 34/34 [00:00<00:00, 1454.68it/s]\n"
          ]
        },
        {
          "output_type": "stream",
          "name": "stdout",
          "text": [
            "Epoch 571 Training Loss: 0.8593, Accuracy: 0.6832\n",
            "Epoch 571 Validation Loss: 0.9002, Accuracy: 0.6262\n"
          ]
        },
        {
          "output_type": "stream",
          "name": "stderr",
          "text": [
            "Epoch 572 Training: 100%|██████████| 136/136 [00:00<00:00, 768.44it/s]\n",
            "Epoch 572 Validation: 100%|██████████| 34/34 [00:00<00:00, 1561.25it/s]\n"
          ]
        },
        {
          "output_type": "stream",
          "name": "stdout",
          "text": [
            "Epoch 572 Training Loss: 0.8569, Accuracy: 0.6828\n",
            "Epoch 572 Validation Loss: 0.8928, Accuracy: 0.6280\n"
          ]
        },
        {
          "output_type": "stream",
          "name": "stderr",
          "text": [
            "Epoch 573 Training: 100%|██████████| 136/136 [00:00<00:00, 754.07it/s]\n",
            "Epoch 573 Validation: 100%|██████████| 34/34 [00:00<00:00, 1409.03it/s]\n"
          ]
        },
        {
          "output_type": "stream",
          "name": "stdout",
          "text": [
            "Epoch 573 Training Loss: 0.8598, Accuracy: 0.6727\n",
            "Epoch 573 Validation Loss: 0.8783, Accuracy: 0.6630\n"
          ]
        },
        {
          "output_type": "stream",
          "name": "stderr",
          "text": [
            "Epoch 574 Training: 100%|██████████| 136/136 [00:00<00:00, 588.82it/s]\n",
            "Epoch 574 Validation: 100%|██████████| 34/34 [00:00<00:00, 1621.04it/s]\n"
          ]
        },
        {
          "output_type": "stream",
          "name": "stdout",
          "text": [
            "Epoch 574 Training Loss: 0.8556, Accuracy: 0.6851\n",
            "Epoch 574 Validation Loss: 0.8879, Accuracy: 0.6427\n"
          ]
        },
        {
          "output_type": "stream",
          "name": "stderr",
          "text": [
            "Epoch 575 Training: 100%|██████████| 136/136 [00:00<00:00, 574.96it/s]\n",
            "Epoch 575 Validation: 100%|██████████| 34/34 [00:00<00:00, 1301.95it/s]\n"
          ]
        },
        {
          "output_type": "stream",
          "name": "stdout",
          "text": [
            "Epoch 575 Training Loss: 0.8564, Accuracy: 0.6786\n",
            "Epoch 575 Validation Loss: 0.8823, Accuracy: 0.6519\n"
          ]
        },
        {
          "output_type": "stream",
          "name": "stderr",
          "text": [
            "Epoch 576 Training: 100%|██████████| 136/136 [00:00<00:00, 677.01it/s]\n",
            "Epoch 576 Validation: 100%|██████████| 34/34 [00:00<00:00, 1656.92it/s]\n"
          ]
        },
        {
          "output_type": "stream",
          "name": "stdout",
          "text": [
            "Epoch 576 Training Loss: 0.8546, Accuracy: 0.6915\n",
            "Epoch 576 Validation Loss: 0.8909, Accuracy: 0.6390\n"
          ]
        },
        {
          "output_type": "stream",
          "name": "stderr",
          "text": [
            "Epoch 577 Training: 100%|██████████| 136/136 [00:00<00:00, 626.68it/s]\n",
            "Epoch 577 Validation: 100%|██████████| 34/34 [00:00<00:00, 1816.04it/s]\n"
          ]
        },
        {
          "output_type": "stream",
          "name": "stdout",
          "text": [
            "Epoch 577 Training Loss: 0.8591, Accuracy: 0.6777\n",
            "Epoch 577 Validation Loss: 0.8870, Accuracy: 0.6409\n"
          ]
        },
        {
          "output_type": "stream",
          "name": "stderr",
          "text": [
            "Epoch 578 Training: 100%|██████████| 136/136 [00:00<00:00, 637.43it/s]\n",
            "Epoch 578 Validation: 100%|██████████| 34/34 [00:00<00:00, 1526.38it/s]\n"
          ]
        },
        {
          "output_type": "stream",
          "name": "stdout",
          "text": [
            "Epoch 578 Training Loss: 0.8605, Accuracy: 0.6786\n",
            "Epoch 578 Validation Loss: 0.8853, Accuracy: 0.6427\n"
          ]
        },
        {
          "output_type": "stream",
          "name": "stderr",
          "text": [
            "Epoch 579 Training: 100%|██████████| 136/136 [00:00<00:00, 583.03it/s]\n",
            "Epoch 579 Validation: 100%|██████████| 34/34 [00:00<00:00, 1548.69it/s]\n"
          ]
        },
        {
          "output_type": "stream",
          "name": "stdout",
          "text": [
            "Epoch 579 Training Loss: 0.8546, Accuracy: 0.6865\n",
            "Epoch 579 Validation Loss: 0.8850, Accuracy: 0.6409\n"
          ]
        },
        {
          "output_type": "stream",
          "name": "stderr",
          "text": [
            "Epoch 580 Training: 100%|██████████| 136/136 [00:00<00:00, 580.62it/s]\n",
            "Epoch 580 Validation: 100%|██████████| 34/34 [00:00<00:00, 1806.84it/s]\n"
          ]
        },
        {
          "output_type": "stream",
          "name": "stdout",
          "text": [
            "Epoch 580 Training Loss: 0.8609, Accuracy: 0.6754\n",
            "Epoch 580 Validation Loss: 0.8886, Accuracy: 0.6372\n"
          ]
        },
        {
          "output_type": "stream",
          "name": "stderr",
          "text": [
            "Epoch 581 Training: 100%|██████████| 136/136 [00:00<00:00, 654.13it/s]\n",
            "Epoch 581 Validation: 100%|██████████| 34/34 [00:00<00:00, 1840.75it/s]\n"
          ]
        },
        {
          "output_type": "stream",
          "name": "stdout",
          "text": [
            "Epoch 581 Training Loss: 0.8570, Accuracy: 0.6865\n",
            "Epoch 581 Validation Loss: 0.8949, Accuracy: 0.6225\n"
          ]
        },
        {
          "output_type": "stream",
          "name": "stderr",
          "text": [
            "Epoch 582 Training: 100%|██████████| 136/136 [00:00<00:00, 668.85it/s]\n",
            "Epoch 582 Validation: 100%|██████████| 34/34 [00:00<00:00, 1827.21it/s]\n"
          ]
        },
        {
          "output_type": "stream",
          "name": "stdout",
          "text": [
            "Epoch 582 Training Loss: 0.8558, Accuracy: 0.6860\n",
            "Epoch 582 Validation Loss: 0.8994, Accuracy: 0.6372\n"
          ]
        },
        {
          "output_type": "stream",
          "name": "stderr",
          "text": [
            "Epoch 583 Training: 100%|██████████| 136/136 [00:00<00:00, 675.45it/s]\n",
            "Epoch 583 Validation: 100%|██████████| 34/34 [00:00<00:00, 1508.23it/s]\n"
          ]
        },
        {
          "output_type": "stream",
          "name": "stdout",
          "text": [
            "Epoch 583 Training Loss: 0.8579, Accuracy: 0.6819\n",
            "Epoch 583 Validation Loss: 0.8999, Accuracy: 0.6225\n"
          ]
        },
        {
          "output_type": "stream",
          "name": "stderr",
          "text": [
            "Epoch 584 Training: 100%|██████████| 136/136 [00:00<00:00, 538.78it/s]\n",
            "Epoch 584 Validation: 100%|██████████| 34/34 [00:00<00:00, 1553.92it/s]\n"
          ]
        },
        {
          "output_type": "stream",
          "name": "stdout",
          "text": [
            "Epoch 584 Training Loss: 0.8585, Accuracy: 0.6800\n",
            "Epoch 584 Validation Loss: 0.8889, Accuracy: 0.6372\n"
          ]
        },
        {
          "output_type": "stream",
          "name": "stderr",
          "text": [
            "Epoch 585 Training: 100%|██████████| 136/136 [00:00<00:00, 554.33it/s]\n",
            "Epoch 585 Validation: 100%|██████████| 34/34 [00:00<00:00, 1686.13it/s]\n"
          ]
        },
        {
          "output_type": "stream",
          "name": "stdout",
          "text": [
            "Epoch 585 Training Loss: 0.8617, Accuracy: 0.6717\n",
            "Epoch 585 Validation Loss: 0.9000, Accuracy: 0.6262\n"
          ]
        },
        {
          "output_type": "stream",
          "name": "stderr",
          "text": [
            "Epoch 586 Training: 100%|██████████| 136/136 [00:00<00:00, 556.16it/s]\n",
            "Epoch 586 Validation: 100%|██████████| 34/34 [00:00<00:00, 1451.38it/s]\n"
          ]
        },
        {
          "output_type": "stream",
          "name": "stdout",
          "text": [
            "Epoch 586 Training Loss: 0.8599, Accuracy: 0.6786\n",
            "Epoch 586 Validation Loss: 0.8864, Accuracy: 0.6390\n"
          ]
        },
        {
          "output_type": "stream",
          "name": "stderr",
          "text": [
            "Epoch 587 Training: 100%|██████████| 136/136 [00:00<00:00, 829.18it/s]\n",
            "Epoch 587 Validation: 100%|██████████| 34/34 [00:00<00:00, 1657.11it/s]\n"
          ]
        },
        {
          "output_type": "stream",
          "name": "stdout",
          "text": [
            "Epoch 587 Training Loss: 0.8541, Accuracy: 0.6878\n",
            "Epoch 587 Validation Loss: 0.8938, Accuracy: 0.6390\n"
          ]
        },
        {
          "output_type": "stream",
          "name": "stderr",
          "text": [
            "Epoch 588 Training: 100%|██████████| 136/136 [00:00<00:00, 744.47it/s]\n",
            "Epoch 588 Validation: 100%|██████████| 34/34 [00:00<00:00, 1409.21it/s]\n"
          ]
        },
        {
          "output_type": "stream",
          "name": "stdout",
          "text": [
            "Epoch 588 Training Loss: 0.8589, Accuracy: 0.6773\n",
            "Epoch 588 Validation Loss: 0.8987, Accuracy: 0.6317\n"
          ]
        },
        {
          "output_type": "stream",
          "name": "stderr",
          "text": [
            "Epoch 589 Training: 100%|██████████| 136/136 [00:00<00:00, 769.13it/s]\n",
            "Epoch 589 Validation: 100%|██████████| 34/34 [00:00<00:00, 1653.39it/s]\n"
          ]
        },
        {
          "output_type": "stream",
          "name": "stdout",
          "text": [
            "Epoch 589 Training Loss: 0.8541, Accuracy: 0.6874\n",
            "Epoch 589 Validation Loss: 0.8904, Accuracy: 0.6298\n"
          ]
        },
        {
          "output_type": "stream",
          "name": "stderr",
          "text": [
            "Epoch 590 Training: 100%|██████████| 136/136 [00:00<00:00, 772.76it/s]\n",
            "Epoch 590 Validation: 100%|██████████| 34/34 [00:00<00:00, 1618.25it/s]\n"
          ]
        },
        {
          "output_type": "stream",
          "name": "stdout",
          "text": [
            "Epoch 590 Training Loss: 0.8544, Accuracy: 0.6874\n",
            "Epoch 590 Validation Loss: 0.8791, Accuracy: 0.6556\n"
          ]
        },
        {
          "output_type": "stream",
          "name": "stderr",
          "text": [
            "Epoch 591 Training: 100%|██████████| 136/136 [00:00<00:00, 797.84it/s]\n",
            "Epoch 591 Validation: 100%|██████████| 34/34 [00:00<00:00, 1561.18it/s]\n"
          ]
        },
        {
          "output_type": "stream",
          "name": "stdout",
          "text": [
            "Epoch 591 Training Loss: 0.8562, Accuracy: 0.6819\n",
            "Epoch 591 Validation Loss: 0.8929, Accuracy: 0.6225\n"
          ]
        },
        {
          "output_type": "stream",
          "name": "stderr",
          "text": [
            "Epoch 592 Training: 100%|██████████| 136/136 [00:00<00:00, 792.65it/s]\n",
            "Epoch 592 Validation: 100%|██████████| 34/34 [00:00<00:00, 1554.21it/s]\n"
          ]
        },
        {
          "output_type": "stream",
          "name": "stdout",
          "text": [
            "Epoch 592 Training Loss: 0.8562, Accuracy: 0.6809\n",
            "Epoch 592 Validation Loss: 0.8911, Accuracy: 0.6317\n"
          ]
        },
        {
          "output_type": "stream",
          "name": "stderr",
          "text": [
            "Epoch 593 Training: 100%|██████████| 136/136 [00:00<00:00, 728.08it/s]\n",
            "Epoch 593 Validation: 100%|██████████| 34/34 [00:00<00:00, 1501.14it/s]\n"
          ]
        },
        {
          "output_type": "stream",
          "name": "stdout",
          "text": [
            "Epoch 593 Training Loss: 0.8552, Accuracy: 0.6874\n",
            "Epoch 593 Validation Loss: 0.8836, Accuracy: 0.6519\n"
          ]
        },
        {
          "output_type": "stream",
          "name": "stderr",
          "text": [
            "Epoch 594 Training: 100%|██████████| 136/136 [00:00<00:00, 764.81it/s]\n",
            "Epoch 594 Validation: 100%|██████████| 34/34 [00:00<00:00, 1307.14it/s]\n"
          ]
        },
        {
          "output_type": "stream",
          "name": "stdout",
          "text": [
            "Epoch 594 Training Loss: 0.8569, Accuracy: 0.6842\n",
            "Epoch 594 Validation Loss: 0.9006, Accuracy: 0.6317\n"
          ]
        },
        {
          "output_type": "stream",
          "name": "stderr",
          "text": [
            "Epoch 595 Training: 100%|██████████| 136/136 [00:00<00:00, 757.31it/s]\n",
            "Epoch 595 Validation: 100%|██████████| 34/34 [00:00<00:00, 1760.81it/s]\n"
          ]
        },
        {
          "output_type": "stream",
          "name": "stdout",
          "text": [
            "Epoch 595 Training Loss: 0.8549, Accuracy: 0.6846\n",
            "Epoch 595 Validation Loss: 0.8762, Accuracy: 0.6648\n"
          ]
        },
        {
          "output_type": "stream",
          "name": "stderr",
          "text": [
            "Epoch 596 Training: 100%|██████████| 136/136 [00:00<00:00, 782.06it/s]\n",
            "Epoch 596 Validation: 100%|██████████| 34/34 [00:00<00:00, 1784.74it/s]\n"
          ]
        },
        {
          "output_type": "stream",
          "name": "stdout",
          "text": [
            "Epoch 596 Training Loss: 0.8564, Accuracy: 0.6842\n",
            "Epoch 596 Validation Loss: 0.8980, Accuracy: 0.6409\n"
          ]
        },
        {
          "output_type": "stream",
          "name": "stderr",
          "text": [
            "Epoch 597 Training: 100%|██████████| 136/136 [00:00<00:00, 770.83it/s]\n",
            "Epoch 597 Validation: 100%|██████████| 34/34 [00:00<00:00, 1613.19it/s]\n"
          ]
        },
        {
          "output_type": "stream",
          "name": "stdout",
          "text": [
            "Epoch 597 Training Loss: 0.8573, Accuracy: 0.6814\n",
            "Epoch 597 Validation Loss: 0.8795, Accuracy: 0.6556\n"
          ]
        },
        {
          "output_type": "stream",
          "name": "stderr",
          "text": [
            "Epoch 598 Training: 100%|██████████| 136/136 [00:00<00:00, 773.05it/s]\n",
            "Epoch 598 Validation: 100%|██████████| 34/34 [00:00<00:00, 1760.85it/s]\n"
          ]
        },
        {
          "output_type": "stream",
          "name": "stdout",
          "text": [
            "Epoch 598 Training Loss: 0.8556, Accuracy: 0.6892\n",
            "Epoch 598 Validation Loss: 0.8877, Accuracy: 0.6427\n"
          ]
        },
        {
          "output_type": "stream",
          "name": "stderr",
          "text": [
            "Epoch 599 Training: 100%|██████████| 136/136 [00:00<00:00, 782.10it/s]\n",
            "Epoch 599 Validation: 100%|██████████| 34/34 [00:00<00:00, 1393.35it/s]\n"
          ]
        },
        {
          "output_type": "stream",
          "name": "stdout",
          "text": [
            "Epoch 599 Training Loss: 0.8563, Accuracy: 0.6814\n",
            "Epoch 599 Validation Loss: 0.9002, Accuracy: 0.6225\n"
          ]
        },
        {
          "output_type": "stream",
          "name": "stderr",
          "text": [
            "Epoch 600 Training: 100%|██████████| 136/136 [00:00<00:00, 754.07it/s]\n",
            "Epoch 600 Validation: 100%|██████████| 34/34 [00:00<00:00, 1492.70it/s]\n"
          ]
        },
        {
          "output_type": "stream",
          "name": "stdout",
          "text": [
            "Epoch 600 Training Loss: 0.8548, Accuracy: 0.6828\n",
            "Epoch 600 Validation Loss: 0.8922, Accuracy: 0.6409\n"
          ]
        },
        {
          "output_type": "stream",
          "name": "stderr",
          "text": [
            "Epoch 601 Training: 100%|██████████| 136/136 [00:00<00:00, 801.77it/s]\n",
            "Epoch 601 Validation: 100%|██████████| 34/34 [00:00<00:00, 1649.54it/s]\n"
          ]
        },
        {
          "output_type": "stream",
          "name": "stdout",
          "text": [
            "Epoch 601 Training Loss: 0.8565, Accuracy: 0.6809\n",
            "Epoch 601 Validation Loss: 0.8920, Accuracy: 0.6335\n"
          ]
        },
        {
          "output_type": "stream",
          "name": "stderr",
          "text": [
            "Epoch 602 Training: 100%|██████████| 136/136 [00:00<00:00, 723.18it/s]\n",
            "Epoch 602 Validation: 100%|██████████| 34/34 [00:00<00:00, 1435.00it/s]\n"
          ]
        },
        {
          "output_type": "stream",
          "name": "stdout",
          "text": [
            "Epoch 602 Training Loss: 0.8536, Accuracy: 0.6837\n",
            "Epoch 602 Validation Loss: 0.9010, Accuracy: 0.6151\n"
          ]
        },
        {
          "output_type": "stream",
          "name": "stderr",
          "text": [
            "Epoch 603 Training: 100%|██████████| 136/136 [00:00<00:00, 779.36it/s]\n",
            "Epoch 603 Validation: 100%|██████████| 34/34 [00:00<00:00, 1518.74it/s]\n"
          ]
        },
        {
          "output_type": "stream",
          "name": "stdout",
          "text": [
            "Epoch 603 Training Loss: 0.8555, Accuracy: 0.6842\n",
            "Epoch 603 Validation Loss: 0.8934, Accuracy: 0.6262\n"
          ]
        },
        {
          "output_type": "stream",
          "name": "stderr",
          "text": [
            "Epoch 604 Training: 100%|██████████| 136/136 [00:00<00:00, 759.04it/s]\n",
            "Epoch 604 Validation: 100%|██████████| 34/34 [00:00<00:00, 1493.46it/s]\n"
          ]
        },
        {
          "output_type": "stream",
          "name": "stdout",
          "text": [
            "Epoch 604 Training Loss: 0.8584, Accuracy: 0.6809\n",
            "Epoch 604 Validation Loss: 0.8833, Accuracy: 0.6464\n"
          ]
        },
        {
          "output_type": "stream",
          "name": "stderr",
          "text": [
            "Epoch 605 Training: 100%|██████████| 136/136 [00:00<00:00, 696.29it/s]\n",
            "Epoch 605 Validation: 100%|██████████| 34/34 [00:00<00:00, 1453.68it/s]\n"
          ]
        },
        {
          "output_type": "stream",
          "name": "stdout",
          "text": [
            "Epoch 605 Training Loss: 0.8584, Accuracy: 0.6842\n",
            "Epoch 605 Validation Loss: 0.8904, Accuracy: 0.6335\n"
          ]
        },
        {
          "output_type": "stream",
          "name": "stderr",
          "text": [
            "Epoch 606 Training: 100%|██████████| 136/136 [00:00<00:00, 750.66it/s]\n",
            "Epoch 606 Validation: 100%|██████████| 34/34 [00:00<00:00, 1333.65it/s]\n"
          ]
        },
        {
          "output_type": "stream",
          "name": "stdout",
          "text": [
            "Epoch 606 Training Loss: 0.8571, Accuracy: 0.6814\n",
            "Epoch 606 Validation Loss: 0.9080, Accuracy: 0.6262\n"
          ]
        },
        {
          "output_type": "stream",
          "name": "stderr",
          "text": [
            "Epoch 607 Training: 100%|██████████| 136/136 [00:00<00:00, 764.20it/s]\n",
            "Epoch 607 Validation: 100%|██████████| 34/34 [00:00<00:00, 1291.68it/s]\n"
          ]
        },
        {
          "output_type": "stream",
          "name": "stdout",
          "text": [
            "Epoch 607 Training Loss: 0.8646, Accuracy: 0.6690\n",
            "Epoch 607 Validation Loss: 0.8888, Accuracy: 0.6390\n"
          ]
        },
        {
          "output_type": "stream",
          "name": "stderr",
          "text": [
            "Epoch 608 Training: 100%|██████████| 136/136 [00:00<00:00, 809.26it/s]\n",
            "Epoch 608 Validation: 100%|██████████| 34/34 [00:00<00:00, 1494.54it/s]\n"
          ]
        },
        {
          "output_type": "stream",
          "name": "stdout",
          "text": [
            "Epoch 608 Training Loss: 0.8583, Accuracy: 0.6837\n",
            "Epoch 608 Validation Loss: 0.8889, Accuracy: 0.6372\n"
          ]
        },
        {
          "output_type": "stream",
          "name": "stderr",
          "text": [
            "Epoch 609 Training: 100%|██████████| 136/136 [00:00<00:00, 759.15it/s]\n",
            "Epoch 609 Validation: 100%|██████████| 34/34 [00:00<00:00, 1267.72it/s]\n"
          ]
        },
        {
          "output_type": "stream",
          "name": "stdout",
          "text": [
            "Epoch 609 Training Loss: 0.8531, Accuracy: 0.6929\n",
            "Epoch 609 Validation Loss: 0.8760, Accuracy: 0.6611\n"
          ]
        },
        {
          "output_type": "stream",
          "name": "stderr",
          "text": [
            "Epoch 610 Training: 100%|██████████| 136/136 [00:00<00:00, 797.49it/s]\n",
            "Epoch 610 Validation: 100%|██████████| 34/34 [00:00<00:00, 1161.56it/s]\n"
          ]
        },
        {
          "output_type": "stream",
          "name": "stdout",
          "text": [
            "Epoch 610 Training Loss: 0.8553, Accuracy: 0.6851\n",
            "Epoch 610 Validation Loss: 0.8940, Accuracy: 0.6409\n"
          ]
        },
        {
          "output_type": "stream",
          "name": "stderr",
          "text": [
            "Epoch 611 Training: 100%|██████████| 136/136 [00:00<00:00, 738.06it/s]\n",
            "Epoch 611 Validation: 100%|██████████| 34/34 [00:00<00:00, 1481.04it/s]\n"
          ]
        },
        {
          "output_type": "stream",
          "name": "stdout",
          "text": [
            "Epoch 611 Training Loss: 0.8562, Accuracy: 0.6842\n",
            "Epoch 611 Validation Loss: 0.8953, Accuracy: 0.6354\n"
          ]
        },
        {
          "output_type": "stream",
          "name": "stderr",
          "text": [
            "Epoch 612 Training: 100%|██████████| 136/136 [00:00<00:00, 744.03it/s]\n",
            "Epoch 612 Validation: 100%|██████████| 34/34 [00:00<00:00, 1528.60it/s]\n"
          ]
        },
        {
          "output_type": "stream",
          "name": "stdout",
          "text": [
            "Epoch 612 Training Loss: 0.8535, Accuracy: 0.6846\n",
            "Epoch 612 Validation Loss: 0.8976, Accuracy: 0.6298\n"
          ]
        },
        {
          "output_type": "stream",
          "name": "stderr",
          "text": [
            "Epoch 613 Training: 100%|██████████| 136/136 [00:00<00:00, 746.76it/s]\n",
            "Epoch 613 Validation: 100%|██████████| 34/34 [00:00<00:00, 1542.17it/s]\n"
          ]
        },
        {
          "output_type": "stream",
          "name": "stdout",
          "text": [
            "Epoch 613 Training Loss: 0.8587, Accuracy: 0.6805\n",
            "Epoch 613 Validation Loss: 0.8874, Accuracy: 0.6354\n"
          ]
        },
        {
          "output_type": "stream",
          "name": "stderr",
          "text": [
            "Epoch 614 Training: 100%|██████████| 136/136 [00:00<00:00, 759.51it/s]\n",
            "Epoch 614 Validation: 100%|██████████| 34/34 [00:00<00:00, 1538.76it/s]\n"
          ]
        },
        {
          "output_type": "stream",
          "name": "stdout",
          "text": [
            "Epoch 614 Training Loss: 0.8536, Accuracy: 0.6846\n",
            "Epoch 614 Validation Loss: 0.8830, Accuracy: 0.6427\n"
          ]
        },
        {
          "output_type": "stream",
          "name": "stderr",
          "text": [
            "Epoch 615 Training: 100%|██████████| 136/136 [00:00<00:00, 741.71it/s]\n",
            "Epoch 615 Validation: 100%|██████████| 34/34 [00:00<00:00, 1705.41it/s]\n"
          ]
        },
        {
          "output_type": "stream",
          "name": "stdout",
          "text": [
            "Epoch 615 Training Loss: 0.8548, Accuracy: 0.6855\n",
            "Epoch 615 Validation Loss: 0.8907, Accuracy: 0.6464\n"
          ]
        },
        {
          "output_type": "stream",
          "name": "stderr",
          "text": [
            "Epoch 616 Training: 100%|██████████| 136/136 [00:00<00:00, 777.33it/s]\n",
            "Epoch 616 Validation: 100%|██████████| 34/34 [00:00<00:00, 1893.41it/s]\n"
          ]
        },
        {
          "output_type": "stream",
          "name": "stdout",
          "text": [
            "Epoch 616 Training Loss: 0.8574, Accuracy: 0.6828\n",
            "Epoch 616 Validation Loss: 0.8942, Accuracy: 0.6390\n"
          ]
        },
        {
          "output_type": "stream",
          "name": "stderr",
          "text": [
            "Epoch 617 Training: 100%|██████████| 136/136 [00:00<00:00, 821.50it/s]\n",
            "Epoch 617 Validation: 100%|██████████| 34/34 [00:00<00:00, 1726.95it/s]\n"
          ]
        },
        {
          "output_type": "stream",
          "name": "stdout",
          "text": [
            "Epoch 617 Training Loss: 0.8528, Accuracy: 0.6906\n",
            "Epoch 617 Validation Loss: 0.8803, Accuracy: 0.6593\n"
          ]
        },
        {
          "output_type": "stream",
          "name": "stderr",
          "text": [
            "Epoch 618 Training: 100%|██████████| 136/136 [00:00<00:00, 781.66it/s]\n",
            "Epoch 618 Validation: 100%|██████████| 34/34 [00:00<00:00, 1654.39it/s]\n"
          ]
        },
        {
          "output_type": "stream",
          "name": "stdout",
          "text": [
            "Epoch 618 Training Loss: 0.8561, Accuracy: 0.6809\n",
            "Epoch 618 Validation Loss: 0.8957, Accuracy: 0.6390\n"
          ]
        },
        {
          "output_type": "stream",
          "name": "stderr",
          "text": [
            "Epoch 619 Training: 100%|██████████| 136/136 [00:00<00:00, 730.82it/s]\n",
            "Epoch 619 Validation: 100%|██████████| 34/34 [00:00<00:00, 1570.59it/s]\n"
          ]
        },
        {
          "output_type": "stream",
          "name": "stdout",
          "text": [
            "Epoch 619 Training Loss: 0.8561, Accuracy: 0.6814\n",
            "Epoch 619 Validation Loss: 0.8905, Accuracy: 0.6390\n"
          ]
        },
        {
          "output_type": "stream",
          "name": "stderr",
          "text": [
            "Epoch 620 Training: 100%|██████████| 136/136 [00:00<00:00, 757.91it/s]\n",
            "Epoch 620 Validation: 100%|██████████| 34/34 [00:00<00:00, 1575.62it/s]\n"
          ]
        },
        {
          "output_type": "stream",
          "name": "stdout",
          "text": [
            "Epoch 620 Training Loss: 0.8534, Accuracy: 0.6883\n",
            "Epoch 620 Validation Loss: 0.8875, Accuracy: 0.6409\n"
          ]
        },
        {
          "output_type": "stream",
          "name": "stderr",
          "text": [
            "Epoch 621 Training: 100%|██████████| 136/136 [00:00<00:00, 745.31it/s]\n",
            "Epoch 621 Validation: 100%|██████████| 34/34 [00:00<00:00, 1726.80it/s]\n"
          ]
        },
        {
          "output_type": "stream",
          "name": "stdout",
          "text": [
            "Epoch 621 Training Loss: 0.8567, Accuracy: 0.6805\n",
            "Epoch 621 Validation Loss: 0.8870, Accuracy: 0.6483\n"
          ]
        },
        {
          "output_type": "stream",
          "name": "stderr",
          "text": [
            "Epoch 622 Training: 100%|██████████| 136/136 [00:00<00:00, 763.34it/s]\n",
            "Epoch 622 Validation: 100%|██████████| 34/34 [00:00<00:00, 1343.44it/s]\n"
          ]
        },
        {
          "output_type": "stream",
          "name": "stdout",
          "text": [
            "Epoch 622 Training Loss: 0.8522, Accuracy: 0.6911\n",
            "Epoch 622 Validation Loss: 0.8826, Accuracy: 0.6501\n"
          ]
        },
        {
          "output_type": "stream",
          "name": "stderr",
          "text": [
            "Epoch 623 Training: 100%|██████████| 136/136 [00:00<00:00, 761.40it/s]\n",
            "Epoch 623 Validation: 100%|██████████| 34/34 [00:00<00:00, 1784.32it/s]\n"
          ]
        },
        {
          "output_type": "stream",
          "name": "stdout",
          "text": [
            "Epoch 623 Training Loss: 0.8564, Accuracy: 0.6819\n",
            "Epoch 623 Validation Loss: 0.8819, Accuracy: 0.6538\n"
          ]
        },
        {
          "output_type": "stream",
          "name": "stderr",
          "text": [
            "Epoch 624 Training: 100%|██████████| 136/136 [00:00<00:00, 746.76it/s]\n",
            "Epoch 624 Validation: 100%|██████████| 34/34 [00:00<00:00, 1707.49it/s]\n"
          ]
        },
        {
          "output_type": "stream",
          "name": "stdout",
          "text": [
            "Epoch 624 Training Loss: 0.8574, Accuracy: 0.6791\n",
            "Epoch 624 Validation Loss: 0.8941, Accuracy: 0.6335\n"
          ]
        },
        {
          "output_type": "stream",
          "name": "stderr",
          "text": [
            "Epoch 625 Training: 100%|██████████| 136/136 [00:00<00:00, 772.55it/s]\n",
            "Epoch 625 Validation: 100%|██████████| 34/34 [00:00<00:00, 1560.77it/s]\n"
          ]
        },
        {
          "output_type": "stream",
          "name": "stdout",
          "text": [
            "Epoch 625 Training Loss: 0.8535, Accuracy: 0.6869\n",
            "Epoch 625 Validation Loss: 0.8933, Accuracy: 0.6390\n"
          ]
        },
        {
          "output_type": "stream",
          "name": "stderr",
          "text": [
            "Epoch 626 Training: 100%|██████████| 136/136 [00:00<00:00, 791.44it/s]\n",
            "Epoch 626 Validation: 100%|██████████| 34/34 [00:00<00:00, 1692.13it/s]\n"
          ]
        },
        {
          "output_type": "stream",
          "name": "stdout",
          "text": [
            "Epoch 626 Training Loss: 0.8553, Accuracy: 0.6883\n",
            "Epoch 626 Validation Loss: 0.8911, Accuracy: 0.6372\n"
          ]
        },
        {
          "output_type": "stream",
          "name": "stderr",
          "text": [
            "Epoch 627 Training: 100%|██████████| 136/136 [00:00<00:00, 792.08it/s]\n",
            "Epoch 627 Validation: 100%|██████████| 34/34 [00:00<00:00, 1701.83it/s]\n"
          ]
        },
        {
          "output_type": "stream",
          "name": "stdout",
          "text": [
            "Epoch 627 Training Loss: 0.8555, Accuracy: 0.6828\n",
            "Epoch 627 Validation Loss: 0.8920, Accuracy: 0.6335\n"
          ]
        },
        {
          "output_type": "stream",
          "name": "stderr",
          "text": [
            "Epoch 628 Training: 100%|██████████| 136/136 [00:00<00:00, 774.95it/s]\n",
            "Epoch 628 Validation: 100%|██████████| 34/34 [00:00<00:00, 1657.40it/s]\n"
          ]
        },
        {
          "output_type": "stream",
          "name": "stdout",
          "text": [
            "Epoch 628 Training Loss: 0.8572, Accuracy: 0.6883\n",
            "Epoch 628 Validation Loss: 0.8892, Accuracy: 0.6335\n"
          ]
        },
        {
          "output_type": "stream",
          "name": "stderr",
          "text": [
            "Epoch 629 Training: 100%|██████████| 136/136 [00:00<00:00, 765.26it/s]\n",
            "Epoch 629 Validation: 100%|██████████| 34/34 [00:00<00:00, 1426.23it/s]\n"
          ]
        },
        {
          "output_type": "stream",
          "name": "stdout",
          "text": [
            "Epoch 629 Training Loss: 0.8555, Accuracy: 0.6842\n",
            "Epoch 629 Validation Loss: 0.8849, Accuracy: 0.6519\n"
          ]
        },
        {
          "output_type": "stream",
          "name": "stderr",
          "text": [
            "Epoch 630 Training: 100%|██████████| 136/136 [00:00<00:00, 767.10it/s]\n",
            "Epoch 630 Validation: 100%|██████████| 34/34 [00:00<00:00, 1408.94it/s]\n"
          ]
        },
        {
          "output_type": "stream",
          "name": "stdout",
          "text": [
            "Epoch 630 Training Loss: 0.8526, Accuracy: 0.6938\n",
            "Epoch 630 Validation Loss: 0.8867, Accuracy: 0.6483\n"
          ]
        },
        {
          "output_type": "stream",
          "name": "stderr",
          "text": [
            "Epoch 631 Training: 100%|██████████| 136/136 [00:00<00:00, 772.26it/s]\n",
            "Epoch 631 Validation: 100%|██████████| 34/34 [00:00<00:00, 1416.12it/s]\n"
          ]
        },
        {
          "output_type": "stream",
          "name": "stdout",
          "text": [
            "Epoch 631 Training Loss: 0.8567, Accuracy: 0.6773\n",
            "Epoch 631 Validation Loss: 0.8970, Accuracy: 0.6298\n"
          ]
        },
        {
          "output_type": "stream",
          "name": "stderr",
          "text": [
            "Epoch 632 Training: 100%|██████████| 136/136 [00:00<00:00, 761.49it/s]\n",
            "Epoch 632 Validation: 100%|██████████| 34/34 [00:00<00:00, 1521.20it/s]\n"
          ]
        },
        {
          "output_type": "stream",
          "name": "stdout",
          "text": [
            "Epoch 632 Training Loss: 0.8552, Accuracy: 0.6901\n",
            "Epoch 632 Validation Loss: 0.8981, Accuracy: 0.6335\n"
          ]
        },
        {
          "output_type": "stream",
          "name": "stderr",
          "text": [
            "Epoch 633 Training: 100%|██████████| 136/136 [00:00<00:00, 603.81it/s]\n",
            "Epoch 633 Validation: 100%|██████████| 34/34 [00:00<00:00, 1775.28it/s]\n"
          ]
        },
        {
          "output_type": "stream",
          "name": "stdout",
          "text": [
            "Epoch 633 Training Loss: 0.8558, Accuracy: 0.6883\n",
            "Epoch 633 Validation Loss: 0.8896, Accuracy: 0.6446\n"
          ]
        },
        {
          "output_type": "stream",
          "name": "stderr",
          "text": [
            "Epoch 634 Training: 100%|██████████| 136/136 [00:00<00:00, 561.29it/s]\n",
            "Epoch 634 Validation: 100%|██████████| 34/34 [00:00<00:00, 1457.43it/s]\n"
          ]
        },
        {
          "output_type": "stream",
          "name": "stdout",
          "text": [
            "Epoch 634 Training Loss: 0.8519, Accuracy: 0.6874\n",
            "Epoch 634 Validation Loss: 0.8884, Accuracy: 0.6390\n"
          ]
        },
        {
          "output_type": "stream",
          "name": "stderr",
          "text": [
            "Epoch 635 Training: 100%|██████████| 136/136 [00:00<00:00, 623.11it/s]\n",
            "Epoch 635 Validation: 100%|██████████| 34/34 [00:00<00:00, 1789.29it/s]\n"
          ]
        },
        {
          "output_type": "stream",
          "name": "stdout",
          "text": [
            "Epoch 635 Training Loss: 0.8537, Accuracy: 0.6860\n",
            "Epoch 635 Validation Loss: 0.9011, Accuracy: 0.6427\n"
          ]
        },
        {
          "output_type": "stream",
          "name": "stderr",
          "text": [
            "Epoch 636 Training: 100%|██████████| 136/136 [00:00<00:00, 610.51it/s]\n",
            "Epoch 636 Validation: 100%|██████████| 34/34 [00:00<00:00, 1836.86it/s]\n"
          ]
        },
        {
          "output_type": "stream",
          "name": "stdout",
          "text": [
            "Epoch 636 Training Loss: 0.8564, Accuracy: 0.6786\n",
            "Epoch 636 Validation Loss: 0.8834, Accuracy: 0.6427\n"
          ]
        },
        {
          "output_type": "stream",
          "name": "stderr",
          "text": [
            "Epoch 637 Training: 100%|██████████| 136/136 [00:00<00:00, 663.30it/s]\n",
            "Epoch 637 Validation: 100%|██████████| 34/34 [00:00<00:00, 1276.02it/s]\n"
          ]
        },
        {
          "output_type": "stream",
          "name": "stdout",
          "text": [
            "Epoch 637 Training Loss: 0.8520, Accuracy: 0.6911\n",
            "Epoch 637 Validation Loss: 0.8943, Accuracy: 0.6335\n"
          ]
        },
        {
          "output_type": "stream",
          "name": "stderr",
          "text": [
            "Epoch 638 Training: 100%|██████████| 136/136 [00:00<00:00, 554.33it/s]\n",
            "Epoch 638 Validation: 100%|██████████| 34/34 [00:00<00:00, 1535.18it/s]\n"
          ]
        },
        {
          "output_type": "stream",
          "name": "stdout",
          "text": [
            "Epoch 638 Training Loss: 0.8551, Accuracy: 0.6878\n",
            "Epoch 638 Validation Loss: 0.8850, Accuracy: 0.6556\n"
          ]
        },
        {
          "output_type": "stream",
          "name": "stderr",
          "text": [
            "Epoch 639 Training: 100%|██████████| 136/136 [00:00<00:00, 547.31it/s]\n",
            "Epoch 639 Validation: 100%|██████████| 34/34 [00:00<00:00, 1536.24it/s]\n"
          ]
        },
        {
          "output_type": "stream",
          "name": "stdout",
          "text": [
            "Epoch 639 Training Loss: 0.8588, Accuracy: 0.6791\n",
            "Epoch 639 Validation Loss: 0.8941, Accuracy: 0.6354\n"
          ]
        },
        {
          "output_type": "stream",
          "name": "stderr",
          "text": [
            "Epoch 640 Training: 100%|██████████| 136/136 [00:00<00:00, 588.87it/s]\n",
            "Epoch 640 Validation: 100%|██████████| 34/34 [00:00<00:00, 1575.20it/s]\n"
          ]
        },
        {
          "output_type": "stream",
          "name": "stdout",
          "text": [
            "Epoch 640 Training Loss: 0.8539, Accuracy: 0.6855\n",
            "Epoch 640 Validation Loss: 0.8910, Accuracy: 0.6335\n"
          ]
        },
        {
          "output_type": "stream",
          "name": "stderr",
          "text": [
            "Epoch 641 Training: 100%|██████████| 136/136 [00:00<00:00, 505.61it/s]\n",
            "Epoch 641 Validation: 100%|██████████| 34/34 [00:00<00:00, 1377.95it/s]\n"
          ]
        },
        {
          "output_type": "stream",
          "name": "stdout",
          "text": [
            "Epoch 641 Training Loss: 0.8579, Accuracy: 0.6782\n",
            "Epoch 641 Validation Loss: 0.8907, Accuracy: 0.6390\n"
          ]
        },
        {
          "output_type": "stream",
          "name": "stderr",
          "text": [
            "Epoch 642 Training: 100%|██████████| 136/136 [00:00<00:00, 464.86it/s]\n",
            "Epoch 642 Validation: 100%|██████████| 34/34 [00:00<00:00, 1225.26it/s]\n"
          ]
        },
        {
          "output_type": "stream",
          "name": "stdout",
          "text": [
            "Epoch 642 Training Loss: 0.8504, Accuracy: 0.6892\n",
            "Epoch 642 Validation Loss: 0.8820, Accuracy: 0.6630\n"
          ]
        },
        {
          "output_type": "stream",
          "name": "stderr",
          "text": [
            "Epoch 643 Training: 100%|██████████| 136/136 [00:00<00:00, 577.17it/s]\n",
            "Epoch 643 Validation: 100%|██████████| 34/34 [00:00<00:00, 1776.25it/s]\n"
          ]
        },
        {
          "output_type": "stream",
          "name": "stdout",
          "text": [
            "Epoch 643 Training Loss: 0.8564, Accuracy: 0.6805\n",
            "Epoch 643 Validation Loss: 0.8789, Accuracy: 0.6538\n"
          ]
        },
        {
          "output_type": "stream",
          "name": "stderr",
          "text": [
            "Epoch 644 Training: 100%|██████████| 136/136 [00:00<00:00, 755.08it/s]\n",
            "Epoch 644 Validation: 100%|██████████| 34/34 [00:00<00:00, 1587.25it/s]\n"
          ]
        },
        {
          "output_type": "stream",
          "name": "stdout",
          "text": [
            "Epoch 644 Training Loss: 0.8543, Accuracy: 0.6819\n",
            "Epoch 644 Validation Loss: 0.8877, Accuracy: 0.6483\n"
          ]
        },
        {
          "output_type": "stream",
          "name": "stderr",
          "text": [
            "Epoch 645 Training: 100%|██████████| 136/136 [00:00<00:00, 725.66it/s]\n",
            "Epoch 645 Validation: 100%|██████████| 34/34 [00:00<00:00, 1350.85it/s]\n"
          ]
        },
        {
          "output_type": "stream",
          "name": "stdout",
          "text": [
            "Epoch 645 Training Loss: 0.8587, Accuracy: 0.6782\n",
            "Epoch 645 Validation Loss: 0.8824, Accuracy: 0.6575\n"
          ]
        },
        {
          "output_type": "stream",
          "name": "stderr",
          "text": [
            "Epoch 646 Training: 100%|██████████| 136/136 [00:00<00:00, 734.36it/s]\n",
            "Epoch 646 Validation: 100%|██████████| 34/34 [00:00<00:00, 1565.23it/s]\n"
          ]
        },
        {
          "output_type": "stream",
          "name": "stdout",
          "text": [
            "Epoch 646 Training Loss: 0.8585, Accuracy: 0.6814\n",
            "Epoch 646 Validation Loss: 0.8805, Accuracy: 0.6519\n"
          ]
        },
        {
          "output_type": "stream",
          "name": "stderr",
          "text": [
            "Epoch 647 Training: 100%|██████████| 136/136 [00:00<00:00, 784.32it/s]\n",
            "Epoch 647 Validation: 100%|██████████| 34/34 [00:00<00:00, 1721.26it/s]\n"
          ]
        },
        {
          "output_type": "stream",
          "name": "stdout",
          "text": [
            "Epoch 647 Training Loss: 0.8552, Accuracy: 0.6860\n",
            "Epoch 647 Validation Loss: 0.8881, Accuracy: 0.6335\n"
          ]
        },
        {
          "output_type": "stream",
          "name": "stderr",
          "text": [
            "Epoch 648 Training: 100%|██████████| 136/136 [00:00<00:00, 797.66it/s]\n",
            "Epoch 648 Validation: 100%|██████████| 34/34 [00:00<00:00, 1713.46it/s]\n"
          ]
        },
        {
          "output_type": "stream",
          "name": "stdout",
          "text": [
            "Epoch 648 Training Loss: 0.8542, Accuracy: 0.6837\n",
            "Epoch 648 Validation Loss: 0.8934, Accuracy: 0.6390\n"
          ]
        },
        {
          "output_type": "stream",
          "name": "stderr",
          "text": [
            "Epoch 649 Training: 100%|██████████| 136/136 [00:00<00:00, 789.44it/s]\n",
            "Epoch 649 Validation: 100%|██████████| 34/34 [00:00<00:00, 1582.19it/s]\n"
          ]
        },
        {
          "output_type": "stream",
          "name": "stdout",
          "text": [
            "Epoch 649 Training Loss: 0.8542, Accuracy: 0.6869\n",
            "Epoch 649 Validation Loss: 0.9045, Accuracy: 0.6262\n"
          ]
        },
        {
          "output_type": "stream",
          "name": "stderr",
          "text": [
            "Epoch 650 Training: 100%|██████████| 136/136 [00:00<00:00, 763.40it/s]\n",
            "Epoch 650 Validation: 100%|██████████| 34/34 [00:00<00:00, 1671.98it/s]\n"
          ]
        },
        {
          "output_type": "stream",
          "name": "stdout",
          "text": [
            "Epoch 650 Training Loss: 0.8567, Accuracy: 0.6805\n",
            "Epoch 650 Validation Loss: 0.8838, Accuracy: 0.6538\n"
          ]
        },
        {
          "output_type": "stream",
          "name": "stderr",
          "text": [
            "Epoch 651 Training: 100%|██████████| 136/136 [00:00<00:00, 722.61it/s]\n",
            "Epoch 651 Validation: 100%|██████████| 34/34 [00:00<00:00, 1467.84it/s]\n"
          ]
        },
        {
          "output_type": "stream",
          "name": "stdout",
          "text": [
            "Epoch 651 Training Loss: 0.8593, Accuracy: 0.6796\n",
            "Epoch 651 Validation Loss: 0.8850, Accuracy: 0.6446\n"
          ]
        },
        {
          "output_type": "stream",
          "name": "stderr",
          "text": [
            "Epoch 652 Training: 100%|██████████| 136/136 [00:00<00:00, 775.49it/s]\n",
            "Epoch 652 Validation: 100%|██████████| 34/34 [00:00<00:00, 1612.96it/s]\n"
          ]
        },
        {
          "output_type": "stream",
          "name": "stdout",
          "text": [
            "Epoch 652 Training Loss: 0.8593, Accuracy: 0.6786\n",
            "Epoch 652 Validation Loss: 0.8856, Accuracy: 0.6501\n"
          ]
        },
        {
          "output_type": "stream",
          "name": "stderr",
          "text": [
            "Epoch 653 Training: 100%|██████████| 136/136 [00:00<00:00, 761.34it/s]\n",
            "Epoch 653 Validation: 100%|██████████| 34/34 [00:00<00:00, 1655.94it/s]\n"
          ]
        },
        {
          "output_type": "stream",
          "name": "stdout",
          "text": [
            "Epoch 653 Training Loss: 0.8580, Accuracy: 0.6809\n",
            "Epoch 653 Validation Loss: 0.8903, Accuracy: 0.6354\n"
          ]
        },
        {
          "output_type": "stream",
          "name": "stderr",
          "text": [
            "Epoch 654 Training: 100%|██████████| 136/136 [00:00<00:00, 777.04it/s]\n",
            "Epoch 654 Validation: 100%|██████████| 34/34 [00:00<00:00, 1640.17it/s]\n"
          ]
        },
        {
          "output_type": "stream",
          "name": "stdout",
          "text": [
            "Epoch 654 Training Loss: 0.8621, Accuracy: 0.6800\n",
            "Epoch 654 Validation Loss: 0.8952, Accuracy: 0.6354\n"
          ]
        },
        {
          "output_type": "stream",
          "name": "stderr",
          "text": [
            "Epoch 655 Training: 100%|██████████| 136/136 [00:00<00:00, 737.95it/s]\n",
            "Epoch 655 Validation: 100%|██████████| 34/34 [00:00<00:00, 1137.06it/s]\n"
          ]
        },
        {
          "output_type": "stream",
          "name": "stdout",
          "text": [
            "Epoch 655 Training Loss: 0.8545, Accuracy: 0.6929\n",
            "Epoch 655 Validation Loss: 0.8990, Accuracy: 0.6372\n"
          ]
        },
        {
          "output_type": "stream",
          "name": "stderr",
          "text": [
            "Epoch 656 Training: 100%|██████████| 136/136 [00:00<00:00, 740.25it/s]\n",
            "Epoch 656 Validation: 100%|██████████| 34/34 [00:00<00:00, 1636.52it/s]\n"
          ]
        },
        {
          "output_type": "stream",
          "name": "stdout",
          "text": [
            "Epoch 656 Training Loss: 0.8526, Accuracy: 0.6869\n",
            "Epoch 656 Validation Loss: 0.8860, Accuracy: 0.6464\n"
          ]
        },
        {
          "output_type": "stream",
          "name": "stderr",
          "text": [
            "Epoch 657 Training: 100%|██████████| 136/136 [00:00<00:00, 761.71it/s]\n",
            "Epoch 657 Validation: 100%|██████████| 34/34 [00:00<00:00, 1434.09it/s]\n"
          ]
        },
        {
          "output_type": "stream",
          "name": "stdout",
          "text": [
            "Epoch 657 Training Loss: 0.8571, Accuracy: 0.6786\n",
            "Epoch 657 Validation Loss: 0.8968, Accuracy: 0.6317\n"
          ]
        },
        {
          "output_type": "stream",
          "name": "stderr",
          "text": [
            "Epoch 658 Training: 100%|██████████| 136/136 [00:00<00:00, 764.14it/s]\n",
            "Epoch 658 Validation: 100%|██████████| 34/34 [00:00<00:00, 1703.78it/s]\n"
          ]
        },
        {
          "output_type": "stream",
          "name": "stdout",
          "text": [
            "Epoch 658 Training Loss: 0.8530, Accuracy: 0.6878\n",
            "Epoch 658 Validation Loss: 0.8857, Accuracy: 0.6372\n"
          ]
        },
        {
          "output_type": "stream",
          "name": "stderr",
          "text": [
            "Epoch 659 Training: 100%|██████████| 136/136 [00:00<00:00, 741.15it/s]\n",
            "Epoch 659 Validation: 100%|██████████| 34/34 [00:00<00:00, 1451.83it/s]\n"
          ]
        },
        {
          "output_type": "stream",
          "name": "stdout",
          "text": [
            "Epoch 659 Training Loss: 0.8600, Accuracy: 0.6777\n",
            "Epoch 659 Validation Loss: 0.8919, Accuracy: 0.6372\n"
          ]
        },
        {
          "output_type": "stream",
          "name": "stderr",
          "text": [
            "Epoch 660 Training: 100%|██████████| 136/136 [00:00<00:00, 751.99it/s]\n",
            "Epoch 660 Validation: 100%|██████████| 34/34 [00:00<00:00, 1566.24it/s]\n"
          ]
        },
        {
          "output_type": "stream",
          "name": "stdout",
          "text": [
            "Epoch 660 Training Loss: 0.8541, Accuracy: 0.6911\n",
            "Epoch 660 Validation Loss: 0.8862, Accuracy: 0.6446\n"
          ]
        },
        {
          "output_type": "stream",
          "name": "stderr",
          "text": [
            "Epoch 661 Training: 100%|██████████| 136/136 [00:00<00:00, 798.56it/s]\n",
            "Epoch 661 Validation: 100%|██████████| 34/34 [00:00<00:00, 1488.16it/s]\n"
          ]
        },
        {
          "output_type": "stream",
          "name": "stdout",
          "text": [
            "Epoch 661 Training Loss: 0.8551, Accuracy: 0.6855\n",
            "Epoch 661 Validation Loss: 0.8903, Accuracy: 0.6390\n"
          ]
        },
        {
          "output_type": "stream",
          "name": "stderr",
          "text": [
            "Epoch 662 Training: 100%|██████████| 136/136 [00:00<00:00, 769.20it/s]\n",
            "Epoch 662 Validation: 100%|██████████| 34/34 [00:00<00:00, 1581.74it/s]\n"
          ]
        },
        {
          "output_type": "stream",
          "name": "stdout",
          "text": [
            "Epoch 662 Training Loss: 0.8571, Accuracy: 0.6791\n",
            "Epoch 662 Validation Loss: 0.8958, Accuracy: 0.6317\n"
          ]
        },
        {
          "output_type": "stream",
          "name": "stderr",
          "text": [
            "Epoch 663 Training: 100%|██████████| 136/136 [00:00<00:00, 754.23it/s]\n",
            "Epoch 663 Validation: 100%|██████████| 34/34 [00:00<00:00, 1648.42it/s]\n"
          ]
        },
        {
          "output_type": "stream",
          "name": "stdout",
          "text": [
            "Epoch 663 Training Loss: 0.8568, Accuracy: 0.6855\n",
            "Epoch 663 Validation Loss: 0.8842, Accuracy: 0.6427\n"
          ]
        },
        {
          "output_type": "stream",
          "name": "stderr",
          "text": [
            "Epoch 664 Training: 100%|██████████| 136/136 [00:00<00:00, 838.65it/s]\n",
            "Epoch 664 Validation: 100%|██████████| 34/34 [00:00<00:00, 1872.09it/s]\n"
          ]
        },
        {
          "output_type": "stream",
          "name": "stdout",
          "text": [
            "Epoch 664 Training Loss: 0.8580, Accuracy: 0.6763\n",
            "Epoch 664 Validation Loss: 0.8897, Accuracy: 0.6354\n"
          ]
        },
        {
          "output_type": "stream",
          "name": "stderr",
          "text": [
            "Epoch 665 Training: 100%|██████████| 136/136 [00:00<00:00, 708.92it/s]\n",
            "Epoch 665 Validation: 100%|██████████| 34/34 [00:00<00:00, 1507.31it/s]\n"
          ]
        },
        {
          "output_type": "stream",
          "name": "stdout",
          "text": [
            "Epoch 665 Training Loss: 0.8549, Accuracy: 0.6823\n",
            "Epoch 665 Validation Loss: 0.8909, Accuracy: 0.6501\n"
          ]
        },
        {
          "output_type": "stream",
          "name": "stderr",
          "text": [
            "Epoch 666 Training: 100%|██████████| 136/136 [00:00<00:00, 774.85it/s]\n",
            "Epoch 666 Validation: 100%|██████████| 34/34 [00:00<00:00, 1608.44it/s]\n"
          ]
        },
        {
          "output_type": "stream",
          "name": "stdout",
          "text": [
            "Epoch 666 Training Loss: 0.8575, Accuracy: 0.6796\n",
            "Epoch 666 Validation Loss: 0.8886, Accuracy: 0.6409\n"
          ]
        },
        {
          "output_type": "stream",
          "name": "stderr",
          "text": [
            "Epoch 667 Training: 100%|██████████| 136/136 [00:00<00:00, 719.57it/s]\n",
            "Epoch 667 Validation: 100%|██████████| 34/34 [00:00<00:00, 1689.79it/s]\n"
          ]
        },
        {
          "output_type": "stream",
          "name": "stdout",
          "text": [
            "Epoch 667 Training Loss: 0.8550, Accuracy: 0.6865\n",
            "Epoch 667 Validation Loss: 0.8890, Accuracy: 0.6427\n"
          ]
        },
        {
          "output_type": "stream",
          "name": "stderr",
          "text": [
            "Epoch 668 Training: 100%|██████████| 136/136 [00:00<00:00, 748.93it/s]\n",
            "Epoch 668 Validation: 100%|██████████| 34/34 [00:00<00:00, 1677.48it/s]\n"
          ]
        },
        {
          "output_type": "stream",
          "name": "stdout",
          "text": [
            "Epoch 668 Training Loss: 0.8572, Accuracy: 0.6832\n",
            "Epoch 668 Validation Loss: 0.9003, Accuracy: 0.6354\n"
          ]
        },
        {
          "output_type": "stream",
          "name": "stderr",
          "text": [
            "Epoch 669 Training: 100%|██████████| 136/136 [00:00<00:00, 747.12it/s]\n",
            "Epoch 669 Validation: 100%|██████████| 34/34 [00:00<00:00, 1555.51it/s]\n"
          ]
        },
        {
          "output_type": "stream",
          "name": "stdout",
          "text": [
            "Epoch 669 Training Loss: 0.8577, Accuracy: 0.6814\n",
            "Epoch 669 Validation Loss: 0.8908, Accuracy: 0.6501\n"
          ]
        },
        {
          "output_type": "stream",
          "name": "stderr",
          "text": [
            "Epoch 670 Training: 100%|██████████| 136/136 [00:00<00:00, 716.88it/s]\n",
            "Epoch 670 Validation: 100%|██████████| 34/34 [00:00<00:00, 1685.04it/s]\n"
          ]
        },
        {
          "output_type": "stream",
          "name": "stdout",
          "text": [
            "Epoch 670 Training Loss: 0.8528, Accuracy: 0.6869\n",
            "Epoch 670 Validation Loss: 0.8923, Accuracy: 0.6262\n"
          ]
        },
        {
          "output_type": "stream",
          "name": "stderr",
          "text": [
            "Epoch 671 Training: 100%|██████████| 136/136 [00:00<00:00, 768.80it/s]\n",
            "Epoch 671 Validation: 100%|██████████| 34/34 [00:00<00:00, 1454.80it/s]\n"
          ]
        },
        {
          "output_type": "stream",
          "name": "stdout",
          "text": [
            "Epoch 671 Training Loss: 0.8563, Accuracy: 0.6828\n",
            "Epoch 671 Validation Loss: 0.8903, Accuracy: 0.6409\n"
          ]
        },
        {
          "output_type": "stream",
          "name": "stderr",
          "text": [
            "Epoch 672 Training: 100%|██████████| 136/136 [00:00<00:00, 763.78it/s]\n",
            "Epoch 672 Validation: 100%|██████████| 34/34 [00:00<00:00, 1613.60it/s]\n"
          ]
        },
        {
          "output_type": "stream",
          "name": "stdout",
          "text": [
            "Epoch 672 Training Loss: 0.8558, Accuracy: 0.6828\n",
            "Epoch 672 Validation Loss: 0.8955, Accuracy: 0.6335\n"
          ]
        },
        {
          "output_type": "stream",
          "name": "stderr",
          "text": [
            "Epoch 673 Training: 100%|██████████| 136/136 [00:00<00:00, 733.99it/s]\n",
            "Epoch 673 Validation: 100%|██████████| 34/34 [00:00<00:00, 1733.23it/s]\n"
          ]
        },
        {
          "output_type": "stream",
          "name": "stdout",
          "text": [
            "Epoch 673 Training Loss: 0.8569, Accuracy: 0.6796\n",
            "Epoch 673 Validation Loss: 0.8841, Accuracy: 0.6483\n"
          ]
        },
        {
          "output_type": "stream",
          "name": "stderr",
          "text": [
            "Epoch 674 Training: 100%|██████████| 136/136 [00:00<00:00, 803.21it/s]\n",
            "Epoch 674 Validation: 100%|██████████| 34/34 [00:00<00:00, 1563.00it/s]\n"
          ]
        },
        {
          "output_type": "stream",
          "name": "stdout",
          "text": [
            "Epoch 674 Training Loss: 0.8532, Accuracy: 0.6911\n",
            "Epoch 674 Validation Loss: 0.8888, Accuracy: 0.6354\n"
          ]
        },
        {
          "output_type": "stream",
          "name": "stderr",
          "text": [
            "Epoch 675 Training: 100%|██████████| 136/136 [00:00<00:00, 776.78it/s]\n",
            "Epoch 675 Validation: 100%|██████████| 34/34 [00:00<00:00, 1332.79it/s]\n"
          ]
        },
        {
          "output_type": "stream",
          "name": "stdout",
          "text": [
            "Epoch 675 Training Loss: 0.8621, Accuracy: 0.6805\n",
            "Epoch 675 Validation Loss: 0.8955, Accuracy: 0.6446\n"
          ]
        },
        {
          "output_type": "stream",
          "name": "stderr",
          "text": [
            "Epoch 676 Training: 100%|██████████| 136/136 [00:00<00:00, 754.81it/s]\n",
            "Epoch 676 Validation: 100%|██████████| 34/34 [00:00<00:00, 1494.53it/s]\n"
          ]
        },
        {
          "output_type": "stream",
          "name": "stdout",
          "text": [
            "Epoch 676 Training Loss: 0.8575, Accuracy: 0.6819\n",
            "Epoch 676 Validation Loss: 0.8917, Accuracy: 0.6354\n"
          ]
        },
        {
          "output_type": "stream",
          "name": "stderr",
          "text": [
            "Epoch 677 Training: 100%|██████████| 136/136 [00:00<00:00, 764.65it/s]\n",
            "Epoch 677 Validation: 100%|██████████| 34/34 [00:00<00:00, 1593.01it/s]\n"
          ]
        },
        {
          "output_type": "stream",
          "name": "stdout",
          "text": [
            "Epoch 677 Training Loss: 0.8547, Accuracy: 0.6869\n",
            "Epoch 677 Validation Loss: 0.8857, Accuracy: 0.6446\n"
          ]
        },
        {
          "output_type": "stream",
          "name": "stderr",
          "text": [
            "Epoch 678 Training: 100%|██████████| 136/136 [00:00<00:00, 729.16it/s]\n",
            "Epoch 678 Validation: 100%|██████████| 34/34 [00:00<00:00, 1535.37it/s]\n"
          ]
        },
        {
          "output_type": "stream",
          "name": "stdout",
          "text": [
            "Epoch 678 Training Loss: 0.8578, Accuracy: 0.6773\n",
            "Epoch 678 Validation Loss: 0.8989, Accuracy: 0.6354\n"
          ]
        },
        {
          "output_type": "stream",
          "name": "stderr",
          "text": [
            "Epoch 679 Training: 100%|██████████| 136/136 [00:00<00:00, 719.92it/s]\n",
            "Epoch 679 Validation: 100%|██████████| 34/34 [00:00<00:00, 1415.80it/s]\n"
          ]
        },
        {
          "output_type": "stream",
          "name": "stdout",
          "text": [
            "Epoch 679 Training Loss: 0.8515, Accuracy: 0.6874\n",
            "Epoch 679 Validation Loss: 0.8846, Accuracy: 0.6483\n"
          ]
        },
        {
          "output_type": "stream",
          "name": "stderr",
          "text": [
            "Epoch 680 Training: 100%|██████████| 136/136 [00:00<00:00, 769.83it/s]\n",
            "Epoch 680 Validation: 100%|██████████| 34/34 [00:00<00:00, 1366.48it/s]\n"
          ]
        },
        {
          "output_type": "stream",
          "name": "stdout",
          "text": [
            "Epoch 680 Training Loss: 0.8541, Accuracy: 0.6855\n",
            "Epoch 680 Validation Loss: 0.8831, Accuracy: 0.6519\n"
          ]
        },
        {
          "output_type": "stream",
          "name": "stderr",
          "text": [
            "Epoch 681 Training: 100%|██████████| 136/136 [00:00<00:00, 726.47it/s]\n",
            "Epoch 681 Validation: 100%|██████████| 34/34 [00:00<00:00, 1576.07it/s]\n"
          ]
        },
        {
          "output_type": "stream",
          "name": "stdout",
          "text": [
            "Epoch 681 Training Loss: 0.8554, Accuracy: 0.6828\n",
            "Epoch 681 Validation Loss: 0.8851, Accuracy: 0.6354\n"
          ]
        },
        {
          "output_type": "stream",
          "name": "stderr",
          "text": [
            "Epoch 682 Training: 100%|██████████| 136/136 [00:00<00:00, 743.22it/s]\n",
            "Epoch 682 Validation: 100%|██████████| 34/34 [00:00<00:00, 1628.87it/s]\n"
          ]
        },
        {
          "output_type": "stream",
          "name": "stdout",
          "text": [
            "Epoch 682 Training Loss: 0.8587, Accuracy: 0.6796\n",
            "Epoch 682 Validation Loss: 0.8949, Accuracy: 0.6262\n"
          ]
        },
        {
          "output_type": "stream",
          "name": "stderr",
          "text": [
            "Epoch 683 Training: 100%|██████████| 136/136 [00:00<00:00, 760.14it/s]\n",
            "Epoch 683 Validation: 100%|██████████| 34/34 [00:00<00:00, 1433.47it/s]\n"
          ]
        },
        {
          "output_type": "stream",
          "name": "stdout",
          "text": [
            "Epoch 683 Training Loss: 0.8560, Accuracy: 0.6846\n",
            "Epoch 683 Validation Loss: 0.9000, Accuracy: 0.6317\n"
          ]
        },
        {
          "output_type": "stream",
          "name": "stderr",
          "text": [
            "Epoch 684 Training: 100%|██████████| 136/136 [00:00<00:00, 702.93it/s]\n",
            "Epoch 684 Validation: 100%|██████████| 34/34 [00:00<00:00, 1282.28it/s]\n"
          ]
        },
        {
          "output_type": "stream",
          "name": "stdout",
          "text": [
            "Epoch 684 Training Loss: 0.8534, Accuracy: 0.6869\n",
            "Epoch 684 Validation Loss: 0.8800, Accuracy: 0.6519\n"
          ]
        },
        {
          "output_type": "stream",
          "name": "stderr",
          "text": [
            "Epoch 685 Training: 100%|██████████| 136/136 [00:00<00:00, 739.89it/s]\n",
            "Epoch 685 Validation: 100%|██████████| 34/34 [00:00<00:00, 1426.96it/s]\n"
          ]
        },
        {
          "output_type": "stream",
          "name": "stdout",
          "text": [
            "Epoch 685 Training Loss: 0.8517, Accuracy: 0.6874\n",
            "Epoch 685 Validation Loss: 0.8972, Accuracy: 0.6317\n"
          ]
        },
        {
          "output_type": "stream",
          "name": "stderr",
          "text": [
            "Epoch 686 Training: 100%|██████████| 136/136 [00:00<00:00, 752.83it/s]\n",
            "Epoch 686 Validation: 100%|██████████| 34/34 [00:00<00:00, 1279.36it/s]\n"
          ]
        },
        {
          "output_type": "stream",
          "name": "stdout",
          "text": [
            "Epoch 686 Training Loss: 0.8544, Accuracy: 0.6851\n",
            "Epoch 686 Validation Loss: 0.8888, Accuracy: 0.6335\n"
          ]
        },
        {
          "output_type": "stream",
          "name": "stderr",
          "text": [
            "Epoch 687 Training: 100%|██████████| 136/136 [00:00<00:00, 737.13it/s]\n",
            "Epoch 687 Validation: 100%|██████████| 34/34 [00:00<00:00, 1181.32it/s]\n"
          ]
        },
        {
          "output_type": "stream",
          "name": "stdout",
          "text": [
            "Epoch 687 Training Loss: 0.8547, Accuracy: 0.6846\n",
            "Epoch 687 Validation Loss: 0.9021, Accuracy: 0.6188\n"
          ]
        },
        {
          "output_type": "stream",
          "name": "stderr",
          "text": [
            "Epoch 688 Training: 100%|██████████| 136/136 [00:00<00:00, 737.74it/s]\n",
            "Epoch 688 Validation: 100%|██████████| 34/34 [00:00<00:00, 1716.82it/s]\n"
          ]
        },
        {
          "output_type": "stream",
          "name": "stdout",
          "text": [
            "Epoch 688 Training Loss: 0.8565, Accuracy: 0.6851\n",
            "Epoch 688 Validation Loss: 0.8943, Accuracy: 0.6354\n"
          ]
        },
        {
          "output_type": "stream",
          "name": "stderr",
          "text": [
            "Epoch 689 Training: 100%|██████████| 136/136 [00:00<00:00, 552.34it/s]\n",
            "Epoch 689 Validation: 100%|██████████| 34/34 [00:00<00:00, 1161.15it/s]\n"
          ]
        },
        {
          "output_type": "stream",
          "name": "stdout",
          "text": [
            "Epoch 689 Training Loss: 0.8528, Accuracy: 0.6892\n",
            "Epoch 689 Validation Loss: 0.8892, Accuracy: 0.6335\n"
          ]
        },
        {
          "output_type": "stream",
          "name": "stderr",
          "text": [
            "Epoch 690 Training: 100%|██████████| 136/136 [00:00<00:00, 547.09it/s]\n",
            "Epoch 690 Validation: 100%|██████████| 34/34 [00:00<00:00, 1911.08it/s]\n"
          ]
        },
        {
          "output_type": "stream",
          "name": "stdout",
          "text": [
            "Epoch 690 Training Loss: 0.8575, Accuracy: 0.6842\n",
            "Epoch 690 Validation Loss: 0.8815, Accuracy: 0.6575\n"
          ]
        },
        {
          "output_type": "stream",
          "name": "stderr",
          "text": [
            "Epoch 691 Training: 100%|██████████| 136/136 [00:00<00:00, 576.14it/s]\n",
            "Epoch 691 Validation: 100%|██████████| 34/34 [00:00<00:00, 1528.80it/s]\n"
          ]
        },
        {
          "output_type": "stream",
          "name": "stdout",
          "text": [
            "Epoch 691 Training Loss: 0.8539, Accuracy: 0.6860\n",
            "Epoch 691 Validation Loss: 0.8768, Accuracy: 0.6575\n"
          ]
        },
        {
          "output_type": "stream",
          "name": "stderr",
          "text": [
            "Epoch 692 Training: 100%|██████████| 136/136 [00:00<00:00, 568.54it/s]\n",
            "Epoch 692 Validation: 100%|██████████| 34/34 [00:00<00:00, 1946.15it/s]\n"
          ]
        },
        {
          "output_type": "stream",
          "name": "stdout",
          "text": [
            "Epoch 692 Training Loss: 0.8567, Accuracy: 0.6828\n",
            "Epoch 692 Validation Loss: 0.8937, Accuracy: 0.6317\n"
          ]
        },
        {
          "output_type": "stream",
          "name": "stderr",
          "text": [
            "Epoch 693 Training: 100%|██████████| 136/136 [00:00<00:00, 510.88it/s]\n",
            "Epoch 693 Validation: 100%|██████████| 34/34 [00:00<00:00, 1687.49it/s]\n"
          ]
        },
        {
          "output_type": "stream",
          "name": "stdout",
          "text": [
            "Epoch 693 Training Loss: 0.8526, Accuracy: 0.6911\n",
            "Epoch 693 Validation Loss: 0.8895, Accuracy: 0.6427\n"
          ]
        },
        {
          "output_type": "stream",
          "name": "stderr",
          "text": [
            "Epoch 694 Training: 100%|██████████| 136/136 [00:00<00:00, 568.83it/s]\n",
            "Epoch 694 Validation: 100%|██████████| 34/34 [00:00<00:00, 1561.70it/s]\n"
          ]
        },
        {
          "output_type": "stream",
          "name": "stdout",
          "text": [
            "Epoch 694 Training Loss: 0.8552, Accuracy: 0.6846\n",
            "Epoch 694 Validation Loss: 0.8905, Accuracy: 0.6390\n"
          ]
        },
        {
          "output_type": "stream",
          "name": "stderr",
          "text": [
            "Epoch 695 Training: 100%|██████████| 136/136 [00:00<00:00, 599.70it/s]\n",
            "Epoch 695 Validation: 100%|██████████| 34/34 [00:00<00:00, 1713.17it/s]\n"
          ]
        },
        {
          "output_type": "stream",
          "name": "stdout",
          "text": [
            "Epoch 695 Training Loss: 0.8525, Accuracy: 0.6961\n",
            "Epoch 695 Validation Loss: 0.9003, Accuracy: 0.6335\n"
          ]
        },
        {
          "output_type": "stream",
          "name": "stderr",
          "text": [
            "Epoch 696 Training: 100%|██████████| 136/136 [00:00<00:00, 605.29it/s]\n",
            "Epoch 696 Validation: 100%|██████████| 34/34 [00:00<00:00, 1873.27it/s]\n"
          ]
        },
        {
          "output_type": "stream",
          "name": "stdout",
          "text": [
            "Epoch 696 Training Loss: 0.8606, Accuracy: 0.6791\n",
            "Epoch 696 Validation Loss: 0.8861, Accuracy: 0.6446\n"
          ]
        },
        {
          "output_type": "stream",
          "name": "stderr",
          "text": [
            "Epoch 697 Training: 100%|██████████| 136/136 [00:00<00:00, 523.25it/s]\n",
            "Epoch 697 Validation: 100%|██████████| 34/34 [00:00<00:00, 1453.71it/s]\n"
          ]
        },
        {
          "output_type": "stream",
          "name": "stdout",
          "text": [
            "Epoch 697 Training Loss: 0.8593, Accuracy: 0.6786\n",
            "Epoch 697 Validation Loss: 0.8860, Accuracy: 0.6409\n"
          ]
        },
        {
          "output_type": "stream",
          "name": "stderr",
          "text": [
            "Epoch 698 Training: 100%|██████████| 136/136 [00:00<00:00, 468.67it/s]\n",
            "Epoch 698 Validation: 100%|██████████| 34/34 [00:00<00:00, 1403.00it/s]\n"
          ]
        },
        {
          "output_type": "stream",
          "name": "stdout",
          "text": [
            "Epoch 698 Training Loss: 0.8554, Accuracy: 0.6911\n",
            "Epoch 698 Validation Loss: 0.8940, Accuracy: 0.6335\n"
          ]
        },
        {
          "output_type": "stream",
          "name": "stderr",
          "text": [
            "Epoch 699 Training: 100%|██████████| 136/136 [00:00<00:00, 648.91it/s]\n",
            "Epoch 699 Validation: 100%|██████████| 34/34 [00:00<00:00, 1537.95it/s]\n"
          ]
        },
        {
          "output_type": "stream",
          "name": "stdout",
          "text": [
            "Epoch 699 Training Loss: 0.8565, Accuracy: 0.6837\n",
            "Epoch 699 Validation Loss: 0.8869, Accuracy: 0.6409\n"
          ]
        },
        {
          "output_type": "stream",
          "name": "stderr",
          "text": [
            "Epoch 700 Training: 100%|██████████| 136/136 [00:00<00:00, 665.92it/s]\n",
            "Epoch 700 Validation: 100%|██████████| 34/34 [00:00<00:00, 1373.18it/s]\n"
          ]
        },
        {
          "output_type": "stream",
          "name": "stdout",
          "text": [
            "Epoch 700 Training Loss: 0.8597, Accuracy: 0.6828\n",
            "Epoch 700 Validation Loss: 0.8966, Accuracy: 0.6280\n"
          ]
        },
        {
          "output_type": "stream",
          "name": "stderr",
          "text": [
            "Epoch 701 Training: 100%|██████████| 136/136 [00:00<00:00, 730.99it/s]\n",
            "Epoch 701 Validation: 100%|██████████| 34/34 [00:00<00:00, 1574.46it/s]\n"
          ]
        },
        {
          "output_type": "stream",
          "name": "stdout",
          "text": [
            "Epoch 701 Training Loss: 0.8547, Accuracy: 0.6897\n",
            "Epoch 701 Validation Loss: 0.8918, Accuracy: 0.6427\n"
          ]
        },
        {
          "output_type": "stream",
          "name": "stderr",
          "text": [
            "Epoch 702 Training: 100%|██████████| 136/136 [00:00<00:00, 767.69it/s]\n",
            "Epoch 702 Validation: 100%|██████████| 34/34 [00:00<00:00, 1243.48it/s]\n"
          ]
        },
        {
          "output_type": "stream",
          "name": "stdout",
          "text": [
            "Epoch 702 Training Loss: 0.8540, Accuracy: 0.6865\n",
            "Epoch 702 Validation Loss: 0.8907, Accuracy: 0.6372\n"
          ]
        },
        {
          "output_type": "stream",
          "name": "stderr",
          "text": [
            "Epoch 703 Training: 100%|██████████| 136/136 [00:00<00:00, 762.15it/s]\n",
            "Epoch 703 Validation: 100%|██████████| 34/34 [00:00<00:00, 1543.73it/s]\n"
          ]
        },
        {
          "output_type": "stream",
          "name": "stdout",
          "text": [
            "Epoch 703 Training Loss: 0.8523, Accuracy: 0.6892\n",
            "Epoch 703 Validation Loss: 0.8860, Accuracy: 0.6464\n"
          ]
        },
        {
          "output_type": "stream",
          "name": "stderr",
          "text": [
            "Epoch 704 Training: 100%|██████████| 136/136 [00:00<00:00, 711.34it/s]\n",
            "Epoch 704 Validation: 100%|██████████| 34/34 [00:00<00:00, 1334.94it/s]\n"
          ]
        },
        {
          "output_type": "stream",
          "name": "stdout",
          "text": [
            "Epoch 704 Training Loss: 0.8556, Accuracy: 0.6832\n",
            "Epoch 704 Validation Loss: 0.8815, Accuracy: 0.6611\n"
          ]
        },
        {
          "output_type": "stream",
          "name": "stderr",
          "text": [
            "Epoch 705 Training: 100%|██████████| 136/136 [00:00<00:00, 754.10it/s]\n",
            "Epoch 705 Validation: 100%|██████████| 34/34 [00:00<00:00, 1514.24it/s]\n"
          ]
        },
        {
          "output_type": "stream",
          "name": "stdout",
          "text": [
            "Epoch 705 Training Loss: 0.8521, Accuracy: 0.6874\n",
            "Epoch 705 Validation Loss: 0.8851, Accuracy: 0.6519\n"
          ]
        },
        {
          "output_type": "stream",
          "name": "stderr",
          "text": [
            "Epoch 706 Training: 100%|██████████| 136/136 [00:00<00:00, 733.09it/s]\n",
            "Epoch 706 Validation: 100%|██████████| 34/34 [00:00<00:00, 1674.61it/s]\n"
          ]
        },
        {
          "output_type": "stream",
          "name": "stdout",
          "text": [
            "Epoch 706 Training Loss: 0.8556, Accuracy: 0.6800\n",
            "Epoch 706 Validation Loss: 0.8971, Accuracy: 0.6335\n"
          ]
        },
        {
          "output_type": "stream",
          "name": "stderr",
          "text": [
            "Epoch 707 Training: 100%|██████████| 136/136 [00:00<00:00, 708.25it/s]\n",
            "Epoch 707 Validation: 100%|██████████| 34/34 [00:00<00:00, 1658.79it/s]\n"
          ]
        },
        {
          "output_type": "stream",
          "name": "stdout",
          "text": [
            "Epoch 707 Training Loss: 0.8548, Accuracy: 0.6814\n",
            "Epoch 707 Validation Loss: 0.8999, Accuracy: 0.6206\n"
          ]
        },
        {
          "output_type": "stream",
          "name": "stderr",
          "text": [
            "Epoch 708 Training: 100%|██████████| 136/136 [00:00<00:00, 730.15it/s]\n",
            "Epoch 708 Validation: 100%|██████████| 34/34 [00:00<00:00, 1574.47it/s]\n"
          ]
        },
        {
          "output_type": "stream",
          "name": "stdout",
          "text": [
            "Epoch 708 Training Loss: 0.8569, Accuracy: 0.6883\n",
            "Epoch 708 Validation Loss: 0.8948, Accuracy: 0.6390\n"
          ]
        },
        {
          "output_type": "stream",
          "name": "stderr",
          "text": [
            "Epoch 709 Training: 100%|██████████| 136/136 [00:00<00:00, 725.55it/s]\n",
            "Epoch 709 Validation: 100%|██████████| 34/34 [00:00<00:00, 1802.95it/s]\n"
          ]
        },
        {
          "output_type": "stream",
          "name": "stdout",
          "text": [
            "Epoch 709 Training Loss: 0.8594, Accuracy: 0.6791\n",
            "Epoch 709 Validation Loss: 0.8880, Accuracy: 0.6354\n"
          ]
        },
        {
          "output_type": "stream",
          "name": "stderr",
          "text": [
            "Epoch 710 Training: 100%|██████████| 136/136 [00:00<00:00, 780.48it/s]\n",
            "Epoch 710 Validation: 100%|██████████| 34/34 [00:00<00:00, 1512.60it/s]\n"
          ]
        },
        {
          "output_type": "stream",
          "name": "stdout",
          "text": [
            "Epoch 710 Training Loss: 0.8543, Accuracy: 0.6851\n",
            "Epoch 710 Validation Loss: 0.8897, Accuracy: 0.6409\n"
          ]
        },
        {
          "output_type": "stream",
          "name": "stderr",
          "text": [
            "Epoch 711 Training: 100%|██████████| 136/136 [00:00<00:00, 746.68it/s]\n",
            "Epoch 711 Validation: 100%|██████████| 34/34 [00:00<00:00, 1356.99it/s]\n"
          ]
        },
        {
          "output_type": "stream",
          "name": "stdout",
          "text": [
            "Epoch 711 Training Loss: 0.8520, Accuracy: 0.6855\n",
            "Epoch 711 Validation Loss: 0.8934, Accuracy: 0.6390\n"
          ]
        },
        {
          "output_type": "stream",
          "name": "stderr",
          "text": [
            "Epoch 712 Training: 100%|██████████| 136/136 [00:00<00:00, 794.25it/s]\n",
            "Epoch 712 Validation: 100%|██████████| 34/34 [00:00<00:00, 1290.82it/s]\n"
          ]
        },
        {
          "output_type": "stream",
          "name": "stdout",
          "text": [
            "Epoch 712 Training Loss: 0.8537, Accuracy: 0.6819\n",
            "Epoch 712 Validation Loss: 0.8985, Accuracy: 0.6206\n"
          ]
        },
        {
          "output_type": "stream",
          "name": "stderr",
          "text": [
            "Epoch 713 Training: 100%|██████████| 136/136 [00:00<00:00, 758.38it/s]\n",
            "Epoch 713 Validation: 100%|██████████| 34/34 [00:00<00:00, 1680.25it/s]\n"
          ]
        },
        {
          "output_type": "stream",
          "name": "stdout",
          "text": [
            "Epoch 713 Training Loss: 0.8534, Accuracy: 0.6860\n",
            "Epoch 713 Validation Loss: 0.8979, Accuracy: 0.6280\n"
          ]
        },
        {
          "output_type": "stream",
          "name": "stderr",
          "text": [
            "Epoch 714 Training: 100%|██████████| 136/136 [00:00<00:00, 760.50it/s]\n",
            "Epoch 714 Validation: 100%|██████████| 34/34 [00:00<00:00, 1709.76it/s]\n"
          ]
        },
        {
          "output_type": "stream",
          "name": "stdout",
          "text": [
            "Epoch 714 Training Loss: 0.8518, Accuracy: 0.6860\n",
            "Epoch 714 Validation Loss: 0.8971, Accuracy: 0.6317\n"
          ]
        },
        {
          "output_type": "stream",
          "name": "stderr",
          "text": [
            "Epoch 715 Training: 100%|██████████| 136/136 [00:00<00:00, 730.00it/s]\n",
            "Epoch 715 Validation: 100%|██████████| 34/34 [00:00<00:00, 1605.93it/s]\n"
          ]
        },
        {
          "output_type": "stream",
          "name": "stdout",
          "text": [
            "Epoch 715 Training Loss: 0.8528, Accuracy: 0.6911\n",
            "Epoch 715 Validation Loss: 0.8890, Accuracy: 0.6390\n"
          ]
        },
        {
          "output_type": "stream",
          "name": "stderr",
          "text": [
            "Epoch 716 Training: 100%|██████████| 136/136 [00:00<00:00, 737.39it/s]\n",
            "Epoch 716 Validation: 100%|██████████| 34/34 [00:00<00:00, 1670.41it/s]\n"
          ]
        },
        {
          "output_type": "stream",
          "name": "stdout",
          "text": [
            "Epoch 716 Training Loss: 0.8582, Accuracy: 0.6809\n",
            "Epoch 716 Validation Loss: 0.8856, Accuracy: 0.6446\n"
          ]
        },
        {
          "output_type": "stream",
          "name": "stderr",
          "text": [
            "Epoch 717 Training: 100%|██████████| 136/136 [00:00<00:00, 740.16it/s]\n",
            "Epoch 717 Validation: 100%|██████████| 34/34 [00:00<00:00, 1598.92it/s]\n"
          ]
        },
        {
          "output_type": "stream",
          "name": "stdout",
          "text": [
            "Epoch 717 Training Loss: 0.8590, Accuracy: 0.6768\n",
            "Epoch 717 Validation Loss: 0.8836, Accuracy: 0.6427\n"
          ]
        },
        {
          "output_type": "stream",
          "name": "stderr",
          "text": [
            "Epoch 718 Training: 100%|██████████| 136/136 [00:00<00:00, 714.67it/s]\n",
            "Epoch 718 Validation: 100%|██████████| 34/34 [00:00<00:00, 1473.72it/s]\n"
          ]
        },
        {
          "output_type": "stream",
          "name": "stdout",
          "text": [
            "Epoch 718 Training Loss: 0.8572, Accuracy: 0.6823\n",
            "Epoch 718 Validation Loss: 0.8768, Accuracy: 0.6611\n"
          ]
        },
        {
          "output_type": "stream",
          "name": "stderr",
          "text": [
            "Epoch 719 Training: 100%|██████████| 136/136 [00:00<00:00, 704.09it/s]\n",
            "Epoch 719 Validation: 100%|██████████| 34/34 [00:00<00:00, 1523.52it/s]\n"
          ]
        },
        {
          "output_type": "stream",
          "name": "stdout",
          "text": [
            "Epoch 719 Training Loss: 0.8501, Accuracy: 0.6915\n",
            "Epoch 719 Validation Loss: 0.8847, Accuracy: 0.6556\n"
          ]
        },
        {
          "output_type": "stream",
          "name": "stderr",
          "text": [
            "Epoch 720 Training: 100%|██████████| 136/136 [00:00<00:00, 761.21it/s]\n",
            "Epoch 720 Validation: 100%|██████████| 34/34 [00:00<00:00, 1747.13it/s]\n"
          ]
        },
        {
          "output_type": "stream",
          "name": "stdout",
          "text": [
            "Epoch 720 Training Loss: 0.8538, Accuracy: 0.6883\n",
            "Epoch 720 Validation Loss: 0.8879, Accuracy: 0.6446\n"
          ]
        },
        {
          "output_type": "stream",
          "name": "stderr",
          "text": [
            "Epoch 721 Training: 100%|██████████| 136/136 [00:00<00:00, 646.68it/s]\n",
            "Epoch 721 Validation: 100%|██████████| 34/34 [00:00<00:00, 1575.33it/s]\n"
          ]
        },
        {
          "output_type": "stream",
          "name": "stdout",
          "text": [
            "Epoch 721 Training Loss: 0.8522, Accuracy: 0.6924\n",
            "Epoch 721 Validation Loss: 0.8915, Accuracy: 0.6427\n"
          ]
        },
        {
          "output_type": "stream",
          "name": "stderr",
          "text": [
            "Epoch 722 Training: 100%|██████████| 136/136 [00:00<00:00, 711.18it/s]\n",
            "Epoch 722 Validation: 100%|██████████| 34/34 [00:00<00:00, 1664.79it/s]\n"
          ]
        },
        {
          "output_type": "stream",
          "name": "stdout",
          "text": [
            "Epoch 722 Training Loss: 0.8526, Accuracy: 0.6865\n",
            "Epoch 722 Validation Loss: 0.8913, Accuracy: 0.6427\n"
          ]
        },
        {
          "output_type": "stream",
          "name": "stderr",
          "text": [
            "Epoch 723 Training: 100%|██████████| 136/136 [00:00<00:00, 686.00it/s]\n",
            "Epoch 723 Validation: 100%|██████████| 34/34 [00:00<00:00, 1457.90it/s]\n"
          ]
        },
        {
          "output_type": "stream",
          "name": "stdout",
          "text": [
            "Epoch 723 Training Loss: 0.8547, Accuracy: 0.6851\n",
            "Epoch 723 Validation Loss: 0.9043, Accuracy: 0.6280\n"
          ]
        },
        {
          "output_type": "stream",
          "name": "stderr",
          "text": [
            "Epoch 724 Training: 100%|██████████| 136/136 [00:00<00:00, 726.97it/s]\n",
            "Epoch 724 Validation: 100%|██████████| 34/34 [00:00<00:00, 1765.04it/s]\n"
          ]
        },
        {
          "output_type": "stream",
          "name": "stdout",
          "text": [
            "Epoch 724 Training Loss: 0.8535, Accuracy: 0.6846\n",
            "Epoch 724 Validation Loss: 0.8921, Accuracy: 0.6317\n"
          ]
        },
        {
          "output_type": "stream",
          "name": "stderr",
          "text": [
            "Epoch 725 Training: 100%|██████████| 136/136 [00:00<00:00, 776.87it/s]\n",
            "Epoch 725 Validation: 100%|██████████| 34/34 [00:00<00:00, 1808.30it/s]\n"
          ]
        },
        {
          "output_type": "stream",
          "name": "stdout",
          "text": [
            "Epoch 725 Training Loss: 0.8528, Accuracy: 0.6911\n",
            "Epoch 725 Validation Loss: 0.8877, Accuracy: 0.6519\n"
          ]
        },
        {
          "output_type": "stream",
          "name": "stderr",
          "text": [
            "Epoch 726 Training: 100%|██████████| 136/136 [00:00<00:00, 725.50it/s]\n",
            "Epoch 726 Validation: 100%|██████████| 34/34 [00:00<00:00, 1547.39it/s]\n"
          ]
        },
        {
          "output_type": "stream",
          "name": "stdout",
          "text": [
            "Epoch 726 Training Loss: 0.8515, Accuracy: 0.6878\n",
            "Epoch 726 Validation Loss: 0.8970, Accuracy: 0.6243\n"
          ]
        },
        {
          "output_type": "stream",
          "name": "stderr",
          "text": [
            "Epoch 727 Training: 100%|██████████| 136/136 [00:00<00:00, 687.66it/s]\n",
            "Epoch 727 Validation: 100%|██████████| 34/34 [00:00<00:00, 1632.72it/s]\n"
          ]
        },
        {
          "output_type": "stream",
          "name": "stdout",
          "text": [
            "Epoch 727 Training Loss: 0.8528, Accuracy: 0.6865\n",
            "Epoch 727 Validation Loss: 0.8877, Accuracy: 0.6427\n"
          ]
        },
        {
          "output_type": "stream",
          "name": "stderr",
          "text": [
            "Epoch 728 Training: 100%|██████████| 136/136 [00:00<00:00, 710.89it/s]\n",
            "Epoch 728 Validation: 100%|██████████| 34/34 [00:00<00:00, 1395.84it/s]\n"
          ]
        },
        {
          "output_type": "stream",
          "name": "stdout",
          "text": [
            "Epoch 728 Training Loss: 0.8517, Accuracy: 0.6878\n",
            "Epoch 728 Validation Loss: 0.8772, Accuracy: 0.6556\n"
          ]
        },
        {
          "output_type": "stream",
          "name": "stderr",
          "text": [
            "Epoch 729 Training: 100%|██████████| 136/136 [00:00<00:00, 774.07it/s]\n",
            "Epoch 729 Validation: 100%|██████████| 34/34 [00:00<00:00, 1661.87it/s]\n"
          ]
        },
        {
          "output_type": "stream",
          "name": "stdout",
          "text": [
            "Epoch 729 Training Loss: 0.8516, Accuracy: 0.6920\n",
            "Epoch 729 Validation Loss: 0.8946, Accuracy: 0.6390\n"
          ]
        },
        {
          "output_type": "stream",
          "name": "stderr",
          "text": [
            "Epoch 730 Training: 100%|██████████| 136/136 [00:00<00:00, 788.88it/s]\n",
            "Epoch 730 Validation: 100%|██████████| 34/34 [00:00<00:00, 1524.74it/s]\n"
          ]
        },
        {
          "output_type": "stream",
          "name": "stdout",
          "text": [
            "Epoch 730 Training Loss: 0.8522, Accuracy: 0.6888\n",
            "Epoch 730 Validation Loss: 0.8885, Accuracy: 0.6390\n"
          ]
        },
        {
          "output_type": "stream",
          "name": "stderr",
          "text": [
            "Epoch 731 Training: 100%|██████████| 136/136 [00:00<00:00, 726.24it/s]\n",
            "Epoch 731 Validation: 100%|██████████| 34/34 [00:00<00:00, 1266.51it/s]\n"
          ]
        },
        {
          "output_type": "stream",
          "name": "stdout",
          "text": [
            "Epoch 731 Training Loss: 0.8547, Accuracy: 0.6842\n",
            "Epoch 731 Validation Loss: 0.8888, Accuracy: 0.6409\n"
          ]
        },
        {
          "output_type": "stream",
          "name": "stderr",
          "text": [
            "Epoch 732 Training: 100%|██████████| 136/136 [00:00<00:00, 698.04it/s]\n",
            "Epoch 732 Validation: 100%|██████████| 34/34 [00:00<00:00, 1699.58it/s]\n"
          ]
        },
        {
          "output_type": "stream",
          "name": "stdout",
          "text": [
            "Epoch 732 Training Loss: 0.8536, Accuracy: 0.6901\n",
            "Epoch 732 Validation Loss: 0.9017, Accuracy: 0.6317\n"
          ]
        },
        {
          "output_type": "stream",
          "name": "stderr",
          "text": [
            "Epoch 733 Training: 100%|██████████| 136/136 [00:00<00:00, 746.64it/s]\n",
            "Epoch 733 Validation: 100%|██████████| 34/34 [00:00<00:00, 1853.14it/s]\n"
          ]
        },
        {
          "output_type": "stream",
          "name": "stdout",
          "text": [
            "Epoch 733 Training Loss: 0.8527, Accuracy: 0.6897\n",
            "Epoch 733 Validation Loss: 0.9023, Accuracy: 0.6317\n"
          ]
        },
        {
          "output_type": "stream",
          "name": "stderr",
          "text": [
            "Epoch 734 Training: 100%|██████████| 136/136 [00:00<00:00, 777.04it/s]\n",
            "Epoch 734 Validation: 100%|██████████| 34/34 [00:00<00:00, 1685.18it/s]\n"
          ]
        },
        {
          "output_type": "stream",
          "name": "stdout",
          "text": [
            "Epoch 734 Training Loss: 0.8530, Accuracy: 0.6920\n",
            "Epoch 734 Validation Loss: 0.8833, Accuracy: 0.6464\n"
          ]
        },
        {
          "output_type": "stream",
          "name": "stderr",
          "text": [
            "Epoch 735 Training: 100%|██████████| 136/136 [00:00<00:00, 752.13it/s]\n",
            "Epoch 735 Validation: 100%|██████████| 34/34 [00:00<00:00, 1585.55it/s]\n"
          ]
        },
        {
          "output_type": "stream",
          "name": "stdout",
          "text": [
            "Epoch 735 Training Loss: 0.8540, Accuracy: 0.6832\n",
            "Epoch 735 Validation Loss: 0.8857, Accuracy: 0.6427\n"
          ]
        },
        {
          "output_type": "stream",
          "name": "stderr",
          "text": [
            "Epoch 736 Training: 100%|██████████| 136/136 [00:00<00:00, 735.34it/s]\n",
            "Epoch 736 Validation: 100%|██████████| 34/34 [00:00<00:00, 1397.33it/s]\n"
          ]
        },
        {
          "output_type": "stream",
          "name": "stdout",
          "text": [
            "Epoch 736 Training Loss: 0.8516, Accuracy: 0.6888\n",
            "Epoch 736 Validation Loss: 0.8879, Accuracy: 0.6390\n"
          ]
        },
        {
          "output_type": "stream",
          "name": "stderr",
          "text": [
            "Epoch 737 Training: 100%|██████████| 136/136 [00:00<00:00, 778.77it/s]\n",
            "Epoch 737 Validation: 100%|██████████| 34/34 [00:00<00:00, 1475.77it/s]\n"
          ]
        },
        {
          "output_type": "stream",
          "name": "stdout",
          "text": [
            "Epoch 737 Training Loss: 0.8537, Accuracy: 0.6883\n",
            "Epoch 737 Validation Loss: 0.8920, Accuracy: 0.6427\n"
          ]
        },
        {
          "output_type": "stream",
          "name": "stderr",
          "text": [
            "Epoch 738 Training: 100%|██████████| 136/136 [00:00<00:00, 737.79it/s]\n",
            "Epoch 738 Validation: 100%|██████████| 34/34 [00:00<00:00, 1548.03it/s]\n"
          ]
        },
        {
          "output_type": "stream",
          "name": "stdout",
          "text": [
            "Epoch 738 Training Loss: 0.8518, Accuracy: 0.6883\n",
            "Epoch 738 Validation Loss: 0.8909, Accuracy: 0.6390\n"
          ]
        },
        {
          "output_type": "stream",
          "name": "stderr",
          "text": [
            "Epoch 739 Training: 100%|██████████| 136/136 [00:00<00:00, 702.76it/s]\n",
            "Epoch 739 Validation: 100%|██████████| 34/34 [00:00<00:00, 1690.81it/s]\n"
          ]
        },
        {
          "output_type": "stream",
          "name": "stdout",
          "text": [
            "Epoch 739 Training Loss: 0.8506, Accuracy: 0.6897\n",
            "Epoch 739 Validation Loss: 0.8829, Accuracy: 0.6501\n"
          ]
        },
        {
          "output_type": "stream",
          "name": "stderr",
          "text": [
            "Epoch 740 Training: 100%|██████████| 136/136 [00:00<00:00, 749.59it/s]\n",
            "Epoch 740 Validation: 100%|██████████| 34/34 [00:00<00:00, 1701.54it/s]\n"
          ]
        },
        {
          "output_type": "stream",
          "name": "stdout",
          "text": [
            "Epoch 740 Training Loss: 0.8530, Accuracy: 0.6906\n",
            "Epoch 740 Validation Loss: 0.8920, Accuracy: 0.6409\n"
          ]
        },
        {
          "output_type": "stream",
          "name": "stderr",
          "text": [
            "Epoch 741 Training: 100%|██████████| 136/136 [00:00<00:00, 732.27it/s]\n",
            "Epoch 741 Validation: 100%|██████████| 34/34 [00:00<00:00, 1435.45it/s]\n"
          ]
        },
        {
          "output_type": "stream",
          "name": "stdout",
          "text": [
            "Epoch 741 Training Loss: 0.8517, Accuracy: 0.6938\n",
            "Epoch 741 Validation Loss: 0.8867, Accuracy: 0.6519\n"
          ]
        },
        {
          "output_type": "stream",
          "name": "stderr",
          "text": [
            "Epoch 742 Training: 100%|██████████| 136/136 [00:00<00:00, 747.07it/s]\n",
            "Epoch 742 Validation: 100%|██████████| 34/34 [00:00<00:00, 1569.48it/s]\n"
          ]
        },
        {
          "output_type": "stream",
          "name": "stdout",
          "text": [
            "Epoch 742 Training Loss: 0.8519, Accuracy: 0.6943\n",
            "Epoch 742 Validation Loss: 0.8821, Accuracy: 0.6519\n"
          ]
        },
        {
          "output_type": "stream",
          "name": "stderr",
          "text": [
            "Epoch 743 Training: 100%|██████████| 136/136 [00:00<00:00, 638.09it/s]\n",
            "Epoch 743 Validation: 100%|██████████| 34/34 [00:00<00:00, 1349.70it/s]\n"
          ]
        },
        {
          "output_type": "stream",
          "name": "stdout",
          "text": [
            "Epoch 743 Training Loss: 0.8538, Accuracy: 0.6888\n",
            "Epoch 743 Validation Loss: 0.8963, Accuracy: 0.6298\n"
          ]
        },
        {
          "output_type": "stream",
          "name": "stderr",
          "text": [
            "Epoch 744 Training: 100%|██████████| 136/136 [00:00<00:00, 595.08it/s]\n",
            "Epoch 744 Validation: 100%|██████████| 34/34 [00:00<00:00, 1696.75it/s]\n"
          ]
        },
        {
          "output_type": "stream",
          "name": "stdout",
          "text": [
            "Epoch 744 Training Loss: 0.8513, Accuracy: 0.6865\n",
            "Epoch 744 Validation Loss: 0.8932, Accuracy: 0.6298\n"
          ]
        },
        {
          "output_type": "stream",
          "name": "stderr",
          "text": [
            "Epoch 745 Training: 100%|██████████| 136/136 [00:00<00:00, 510.77it/s]\n",
            "Epoch 745 Validation: 100%|██████████| 34/34 [00:00<00:00, 1887.43it/s]\n"
          ]
        },
        {
          "output_type": "stream",
          "name": "stdout",
          "text": [
            "Epoch 745 Training Loss: 0.8510, Accuracy: 0.6892\n",
            "Epoch 745 Validation Loss: 0.8935, Accuracy: 0.6317\n"
          ]
        },
        {
          "output_type": "stream",
          "name": "stderr",
          "text": [
            "Epoch 746 Training: 100%|██████████| 136/136 [00:00<00:00, 555.04it/s]\n",
            "Epoch 746 Validation: 100%|██████████| 34/34 [00:00<00:00, 1394.01it/s]\n"
          ]
        },
        {
          "output_type": "stream",
          "name": "stdout",
          "text": [
            "Epoch 746 Training Loss: 0.8505, Accuracy: 0.6883\n",
            "Epoch 746 Validation Loss: 0.8856, Accuracy: 0.6446\n"
          ]
        },
        {
          "output_type": "stream",
          "name": "stderr",
          "text": [
            "Epoch 747 Training: 100%|██████████| 136/136 [00:00<00:00, 534.19it/s]\n",
            "Epoch 747 Validation: 100%|██████████| 34/34 [00:00<00:00, 1560.11it/s]\n"
          ]
        },
        {
          "output_type": "stream",
          "name": "stdout",
          "text": [
            "Epoch 747 Training Loss: 0.8534, Accuracy: 0.6860\n",
            "Epoch 747 Validation Loss: 0.8980, Accuracy: 0.6298\n"
          ]
        },
        {
          "output_type": "stream",
          "name": "stderr",
          "text": [
            "Epoch 748 Training: 100%|██████████| 136/136 [00:00<00:00, 514.97it/s]\n",
            "Epoch 748 Validation: 100%|██████████| 34/34 [00:00<00:00, 1136.75it/s]\n"
          ]
        },
        {
          "output_type": "stream",
          "name": "stdout",
          "text": [
            "Epoch 748 Training Loss: 0.8521, Accuracy: 0.6924\n",
            "Epoch 748 Validation Loss: 0.8873, Accuracy: 0.6409\n"
          ]
        },
        {
          "output_type": "stream",
          "name": "stderr",
          "text": [
            "Epoch 749 Training: 100%|██████████| 136/136 [00:00<00:00, 589.10it/s]\n",
            "Epoch 749 Validation: 100%|██████████| 34/34 [00:00<00:00, 1064.33it/s]\n"
          ]
        },
        {
          "output_type": "stream",
          "name": "stdout",
          "text": [
            "Epoch 749 Training Loss: 0.8575, Accuracy: 0.6851\n",
            "Epoch 749 Validation Loss: 0.8904, Accuracy: 0.6446\n"
          ]
        },
        {
          "output_type": "stream",
          "name": "stderr",
          "text": [
            "Epoch 750 Training: 100%|██████████| 136/136 [00:00<00:00, 505.37it/s]\n",
            "Epoch 750 Validation: 100%|██████████| 34/34 [00:00<00:00, 1567.09it/s]\n"
          ]
        },
        {
          "output_type": "stream",
          "name": "stdout",
          "text": [
            "Epoch 750 Training Loss: 0.8596, Accuracy: 0.6750\n",
            "Epoch 750 Validation Loss: 0.8901, Accuracy: 0.6409\n"
          ]
        },
        {
          "output_type": "stream",
          "name": "stderr",
          "text": [
            "Epoch 751 Training: 100%|██████████| 136/136 [00:00<00:00, 526.67it/s]\n",
            "Epoch 751 Validation: 100%|██████████| 34/34 [00:00<00:00, 1715.46it/s]\n"
          ]
        },
        {
          "output_type": "stream",
          "name": "stdout",
          "text": [
            "Epoch 751 Training Loss: 0.8513, Accuracy: 0.6920\n",
            "Epoch 751 Validation Loss: 0.8975, Accuracy: 0.6262\n"
          ]
        },
        {
          "output_type": "stream",
          "name": "stderr",
          "text": [
            "Epoch 752 Training: 100%|██████████| 136/136 [00:00<00:00, 494.92it/s]\n",
            "Epoch 752 Validation: 100%|██████████| 34/34 [00:00<00:00, 1614.07it/s]\n"
          ]
        },
        {
          "output_type": "stream",
          "name": "stdout",
          "text": [
            "Epoch 752 Training Loss: 0.8545, Accuracy: 0.6855\n",
            "Epoch 752 Validation Loss: 0.8936, Accuracy: 0.6427\n"
          ]
        },
        {
          "output_type": "stream",
          "name": "stderr",
          "text": [
            "Epoch 753 Training: 100%|██████████| 136/136 [00:00<00:00, 490.25it/s]\n",
            "Epoch 753 Validation: 100%|██████████| 34/34 [00:00<00:00, 1384.11it/s]\n"
          ]
        },
        {
          "output_type": "stream",
          "name": "stdout",
          "text": [
            "Epoch 753 Training Loss: 0.8532, Accuracy: 0.6888\n",
            "Epoch 753 Validation Loss: 0.8926, Accuracy: 0.6335\n"
          ]
        },
        {
          "output_type": "stream",
          "name": "stderr",
          "text": [
            "Epoch 754 Training: 100%|██████████| 136/136 [00:00<00:00, 721.76it/s]\n",
            "Epoch 754 Validation: 100%|██████████| 34/34 [00:00<00:00, 1621.71it/s]\n"
          ]
        },
        {
          "output_type": "stream",
          "name": "stdout",
          "text": [
            "Epoch 754 Training Loss: 0.8525, Accuracy: 0.6897\n",
            "Epoch 754 Validation Loss: 0.8893, Accuracy: 0.6483\n"
          ]
        },
        {
          "output_type": "stream",
          "name": "stderr",
          "text": [
            "Epoch 755 Training: 100%|██████████| 136/136 [00:00<00:00, 733.80it/s]\n",
            "Epoch 755 Validation: 100%|██████████| 34/34 [00:00<00:00, 1529.90it/s]\n"
          ]
        },
        {
          "output_type": "stream",
          "name": "stdout",
          "text": [
            "Epoch 755 Training Loss: 0.8519, Accuracy: 0.6929\n",
            "Epoch 755 Validation Loss: 0.8817, Accuracy: 0.6575\n"
          ]
        },
        {
          "output_type": "stream",
          "name": "stderr",
          "text": [
            "Epoch 756 Training: 100%|██████████| 136/136 [00:00<00:00, 723.50it/s]\n",
            "Epoch 756 Validation: 100%|██████████| 34/34 [00:00<00:00, 1458.07it/s]\n"
          ]
        },
        {
          "output_type": "stream",
          "name": "stdout",
          "text": [
            "Epoch 756 Training Loss: 0.8573, Accuracy: 0.6791\n",
            "Epoch 756 Validation Loss: 0.8986, Accuracy: 0.6354\n"
          ]
        },
        {
          "output_type": "stream",
          "name": "stderr",
          "text": [
            "Epoch 757 Training: 100%|██████████| 136/136 [00:00<00:00, 756.61it/s]\n",
            "Epoch 757 Validation: 100%|██████████| 34/34 [00:00<00:00, 1357.20it/s]\n"
          ]
        },
        {
          "output_type": "stream",
          "name": "stdout",
          "text": [
            "Epoch 757 Training Loss: 0.8564, Accuracy: 0.6846\n",
            "Epoch 757 Validation Loss: 0.9005, Accuracy: 0.6225\n"
          ]
        },
        {
          "output_type": "stream",
          "name": "stderr",
          "text": [
            "Epoch 758 Training: 100%|██████████| 136/136 [00:00<00:00, 719.37it/s]\n",
            "Epoch 758 Validation: 100%|██████████| 34/34 [00:00<00:00, 1672.92it/s]\n"
          ]
        },
        {
          "output_type": "stream",
          "name": "stdout",
          "text": [
            "Epoch 758 Training Loss: 0.8508, Accuracy: 0.6929\n",
            "Epoch 758 Validation Loss: 0.8952, Accuracy: 0.6483\n"
          ]
        },
        {
          "output_type": "stream",
          "name": "stderr",
          "text": [
            "Epoch 759 Training: 100%|██████████| 136/136 [00:00<00:00, 731.58it/s]\n",
            "Epoch 759 Validation: 100%|██████████| 34/34 [00:00<00:00, 1796.39it/s]\n"
          ]
        },
        {
          "output_type": "stream",
          "name": "stdout",
          "text": [
            "Epoch 759 Training Loss: 0.8516, Accuracy: 0.6874\n",
            "Epoch 759 Validation Loss: 0.8922, Accuracy: 0.6409\n"
          ]
        },
        {
          "output_type": "stream",
          "name": "stderr",
          "text": [
            "Epoch 760 Training: 100%|██████████| 136/136 [00:00<00:00, 810.95it/s]\n",
            "Epoch 760 Validation: 100%|██████████| 34/34 [00:00<00:00, 1889.05it/s]\n"
          ]
        },
        {
          "output_type": "stream",
          "name": "stdout",
          "text": [
            "Epoch 760 Training Loss: 0.8536, Accuracy: 0.6832\n",
            "Epoch 760 Validation Loss: 0.8992, Accuracy: 0.6317\n"
          ]
        },
        {
          "output_type": "stream",
          "name": "stderr",
          "text": [
            "Epoch 761 Training: 100%|██████████| 136/136 [00:00<00:00, 645.36it/s]\n",
            "Epoch 761 Validation: 100%|██████████| 34/34 [00:00<00:00, 1608.28it/s]\n"
          ]
        },
        {
          "output_type": "stream",
          "name": "stdout",
          "text": [
            "Epoch 761 Training Loss: 0.8541, Accuracy: 0.6883\n",
            "Epoch 761 Validation Loss: 0.8889, Accuracy: 0.6390\n"
          ]
        },
        {
          "output_type": "stream",
          "name": "stderr",
          "text": [
            "Epoch 762 Training: 100%|██████████| 136/136 [00:00<00:00, 724.29it/s]\n",
            "Epoch 762 Validation: 100%|██████████| 34/34 [00:00<00:00, 1601.38it/s]\n"
          ]
        },
        {
          "output_type": "stream",
          "name": "stdout",
          "text": [
            "Epoch 762 Training Loss: 0.8518, Accuracy: 0.6924\n",
            "Epoch 762 Validation Loss: 0.8895, Accuracy: 0.6501\n"
          ]
        },
        {
          "output_type": "stream",
          "name": "stderr",
          "text": [
            "Epoch 763 Training: 100%|██████████| 136/136 [00:00<00:00, 734.24it/s]\n",
            "Epoch 763 Validation: 100%|██████████| 34/34 [00:00<00:00, 1411.66it/s]\n"
          ]
        },
        {
          "output_type": "stream",
          "name": "stdout",
          "text": [
            "Epoch 763 Training Loss: 0.8522, Accuracy: 0.6915\n",
            "Epoch 763 Validation Loss: 0.8958, Accuracy: 0.6354\n"
          ]
        },
        {
          "output_type": "stream",
          "name": "stderr",
          "text": [
            "Epoch 764 Training: 100%|██████████| 136/136 [00:00<00:00, 730.10it/s]\n",
            "Epoch 764 Validation: 100%|██████████| 34/34 [00:00<00:00, 1437.23it/s]\n"
          ]
        },
        {
          "output_type": "stream",
          "name": "stdout",
          "text": [
            "Epoch 764 Training Loss: 0.8522, Accuracy: 0.6842\n",
            "Epoch 764 Validation Loss: 0.8888, Accuracy: 0.6409\n"
          ]
        },
        {
          "output_type": "stream",
          "name": "stderr",
          "text": [
            "Epoch 765 Training: 100%|██████████| 136/136 [00:00<00:00, 702.09it/s]\n",
            "Epoch 765 Validation: 100%|██████████| 34/34 [00:00<00:00, 1633.80it/s]\n"
          ]
        },
        {
          "output_type": "stream",
          "name": "stdout",
          "text": [
            "Epoch 765 Training Loss: 0.8501, Accuracy: 0.6971\n",
            "Epoch 765 Validation Loss: 0.8972, Accuracy: 0.6409\n"
          ]
        },
        {
          "output_type": "stream",
          "name": "stderr",
          "text": [
            "Epoch 766 Training: 100%|██████████| 136/136 [00:00<00:00, 670.22it/s]\n",
            "Epoch 766 Validation: 100%|██████████| 34/34 [00:00<00:00, 1321.86it/s]\n"
          ]
        },
        {
          "output_type": "stream",
          "name": "stdout",
          "text": [
            "Epoch 766 Training Loss: 0.8519, Accuracy: 0.6897\n",
            "Epoch 766 Validation Loss: 0.8908, Accuracy: 0.6354\n"
          ]
        },
        {
          "output_type": "stream",
          "name": "stderr",
          "text": [
            "Epoch 767 Training: 100%|██████████| 136/136 [00:00<00:00, 682.58it/s]\n",
            "Epoch 767 Validation: 100%|██████████| 34/34 [00:00<00:00, 1619.75it/s]\n"
          ]
        },
        {
          "output_type": "stream",
          "name": "stdout",
          "text": [
            "Epoch 767 Training Loss: 0.8482, Accuracy: 0.6934\n",
            "Epoch 767 Validation Loss: 0.8852, Accuracy: 0.6501\n"
          ]
        },
        {
          "output_type": "stream",
          "name": "stderr",
          "text": [
            "Epoch 768 Training: 100%|██████████| 136/136 [00:00<00:00, 721.98it/s]\n",
            "Epoch 768 Validation: 100%|██████████| 34/34 [00:00<00:00, 1651.19it/s]\n"
          ]
        },
        {
          "output_type": "stream",
          "name": "stdout",
          "text": [
            "Epoch 768 Training Loss: 0.8571, Accuracy: 0.6865\n",
            "Epoch 768 Validation Loss: 0.8842, Accuracy: 0.6483\n"
          ]
        },
        {
          "output_type": "stream",
          "name": "stderr",
          "text": [
            "Epoch 769 Training: 100%|██████████| 136/136 [00:00<00:00, 714.23it/s]\n",
            "Epoch 769 Validation: 100%|██████████| 34/34 [00:00<00:00, 1649.58it/s]\n"
          ]
        },
        {
          "output_type": "stream",
          "name": "stdout",
          "text": [
            "Epoch 769 Training Loss: 0.8494, Accuracy: 0.6888\n",
            "Epoch 769 Validation Loss: 0.8924, Accuracy: 0.6446\n"
          ]
        },
        {
          "output_type": "stream",
          "name": "stderr",
          "text": [
            "Epoch 770 Training: 100%|██████████| 136/136 [00:00<00:00, 683.70it/s]\n",
            "Epoch 770 Validation: 100%|██████████| 34/34 [00:00<00:00, 1539.78it/s]\n"
          ]
        },
        {
          "output_type": "stream",
          "name": "stdout",
          "text": [
            "Epoch 770 Training Loss: 0.8500, Accuracy: 0.6924\n",
            "Epoch 770 Validation Loss: 0.8942, Accuracy: 0.6354\n"
          ]
        },
        {
          "output_type": "stream",
          "name": "stderr",
          "text": [
            "Epoch 771 Training: 100%|██████████| 136/136 [00:00<00:00, 768.74it/s]\n",
            "Epoch 771 Validation: 100%|██████████| 34/34 [00:00<00:00, 1710.26it/s]\n"
          ]
        },
        {
          "output_type": "stream",
          "name": "stdout",
          "text": [
            "Epoch 771 Training Loss: 0.8510, Accuracy: 0.6901\n",
            "Epoch 771 Validation Loss: 0.8935, Accuracy: 0.6390\n"
          ]
        },
        {
          "output_type": "stream",
          "name": "stderr",
          "text": [
            "Epoch 772 Training: 100%|██████████| 136/136 [00:00<00:00, 757.14it/s]\n",
            "Epoch 772 Validation: 100%|██████████| 34/34 [00:00<00:00, 1629.69it/s]\n"
          ]
        },
        {
          "output_type": "stream",
          "name": "stdout",
          "text": [
            "Epoch 772 Training Loss: 0.8533, Accuracy: 0.6846\n",
            "Epoch 772 Validation Loss: 0.8879, Accuracy: 0.6446\n"
          ]
        },
        {
          "output_type": "stream",
          "name": "stderr",
          "text": [
            "Epoch 773 Training: 100%|██████████| 136/136 [00:00<00:00, 704.82it/s]\n",
            "Epoch 773 Validation: 100%|██████████| 34/34 [00:00<00:00, 1483.63it/s]\n"
          ]
        },
        {
          "output_type": "stream",
          "name": "stdout",
          "text": [
            "Epoch 773 Training Loss: 0.8521, Accuracy: 0.6883\n",
            "Epoch 773 Validation Loss: 0.8897, Accuracy: 0.6390\n"
          ]
        },
        {
          "output_type": "stream",
          "name": "stderr",
          "text": [
            "Epoch 774 Training: 100%|██████████| 136/136 [00:00<00:00, 708.09it/s]\n",
            "Epoch 774 Validation: 100%|██████████| 34/34 [00:00<00:00, 1373.04it/s]\n"
          ]
        },
        {
          "output_type": "stream",
          "name": "stdout",
          "text": [
            "Epoch 774 Training Loss: 0.8548, Accuracy: 0.6855\n",
            "Epoch 774 Validation Loss: 0.8787, Accuracy: 0.6556\n"
          ]
        },
        {
          "output_type": "stream",
          "name": "stderr",
          "text": [
            "Epoch 775 Training: 100%|██████████| 136/136 [00:00<00:00, 751.19it/s]\n",
            "Epoch 775 Validation: 100%|██████████| 34/34 [00:00<00:00, 1573.95it/s]\n"
          ]
        },
        {
          "output_type": "stream",
          "name": "stdout",
          "text": [
            "Epoch 775 Training Loss: 0.8611, Accuracy: 0.6717\n",
            "Epoch 775 Validation Loss: 0.8755, Accuracy: 0.6722\n"
          ]
        },
        {
          "output_type": "stream",
          "name": "stderr",
          "text": [
            "Epoch 776 Training: 100%|██████████| 136/136 [00:00<00:00, 761.92it/s]\n",
            "Epoch 776 Validation: 100%|██████████| 34/34 [00:00<00:00, 1643.27it/s]\n"
          ]
        },
        {
          "output_type": "stream",
          "name": "stdout",
          "text": [
            "Epoch 776 Training Loss: 0.8531, Accuracy: 0.6865\n",
            "Epoch 776 Validation Loss: 0.8953, Accuracy: 0.6372\n"
          ]
        },
        {
          "output_type": "stream",
          "name": "stderr",
          "text": [
            "Epoch 777 Training: 100%|██████████| 136/136 [00:00<00:00, 722.76it/s]\n",
            "Epoch 777 Validation: 100%|██████████| 34/34 [00:00<00:00, 1469.87it/s]\n"
          ]
        },
        {
          "output_type": "stream",
          "name": "stdout",
          "text": [
            "Epoch 777 Training Loss: 0.8536, Accuracy: 0.6828\n",
            "Epoch 777 Validation Loss: 0.8900, Accuracy: 0.6390\n"
          ]
        },
        {
          "output_type": "stream",
          "name": "stderr",
          "text": [
            "Epoch 778 Training: 100%|██████████| 136/136 [00:00<00:00, 763.79it/s]\n",
            "Epoch 778 Validation: 100%|██████████| 34/34 [00:00<00:00, 1483.80it/s]\n"
          ]
        },
        {
          "output_type": "stream",
          "name": "stdout",
          "text": [
            "Epoch 778 Training Loss: 0.8517, Accuracy: 0.6911\n",
            "Epoch 778 Validation Loss: 0.8877, Accuracy: 0.6483\n"
          ]
        },
        {
          "output_type": "stream",
          "name": "stderr",
          "text": [
            "Epoch 779 Training: 100%|██████████| 136/136 [00:00<00:00, 662.88it/s]\n",
            "Epoch 779 Validation: 100%|██████████| 34/34 [00:00<00:00, 1795.73it/s]\n"
          ]
        },
        {
          "output_type": "stream",
          "name": "stdout",
          "text": [
            "Epoch 779 Training Loss: 0.8524, Accuracy: 0.6874\n",
            "Epoch 779 Validation Loss: 0.8986, Accuracy: 0.6409\n"
          ]
        },
        {
          "output_type": "stream",
          "name": "stderr",
          "text": [
            "Epoch 780 Training: 100%|██████████| 136/136 [00:00<00:00, 732.54it/s]\n",
            "Epoch 780 Validation: 100%|██████████| 34/34 [00:00<00:00, 1586.58it/s]\n"
          ]
        },
        {
          "output_type": "stream",
          "name": "stdout",
          "text": [
            "Epoch 780 Training Loss: 0.8537, Accuracy: 0.6851\n",
            "Epoch 780 Validation Loss: 0.8902, Accuracy: 0.6390\n"
          ]
        },
        {
          "output_type": "stream",
          "name": "stderr",
          "text": [
            "Epoch 781 Training: 100%|██████████| 136/136 [00:00<00:00, 768.92it/s]\n",
            "Epoch 781 Validation: 100%|██████████| 34/34 [00:00<00:00, 1565.52it/s]\n"
          ]
        },
        {
          "output_type": "stream",
          "name": "stdout",
          "text": [
            "Epoch 781 Training Loss: 0.8516, Accuracy: 0.6883\n",
            "Epoch 781 Validation Loss: 0.8951, Accuracy: 0.6372\n"
          ]
        },
        {
          "output_type": "stream",
          "name": "stderr",
          "text": [
            "Epoch 782 Training: 100%|██████████| 136/136 [00:00<00:00, 729.81it/s]\n",
            "Epoch 782 Validation: 100%|██████████| 34/34 [00:00<00:00, 1639.34it/s]\n"
          ]
        },
        {
          "output_type": "stream",
          "name": "stdout",
          "text": [
            "Epoch 782 Training Loss: 0.8532, Accuracy: 0.6837\n",
            "Epoch 782 Validation Loss: 0.8986, Accuracy: 0.6317\n"
          ]
        },
        {
          "output_type": "stream",
          "name": "stderr",
          "text": [
            "Epoch 783 Training: 100%|██████████| 136/136 [00:00<00:00, 747.64it/s]\n",
            "Epoch 783 Validation: 100%|██████████| 34/34 [00:00<00:00, 1588.84it/s]\n"
          ]
        },
        {
          "output_type": "stream",
          "name": "stdout",
          "text": [
            "Epoch 783 Training Loss: 0.8527, Accuracy: 0.6869\n",
            "Epoch 783 Validation Loss: 0.8913, Accuracy: 0.6446\n"
          ]
        },
        {
          "output_type": "stream",
          "name": "stderr",
          "text": [
            "Epoch 784 Training: 100%|██████████| 136/136 [00:00<00:00, 690.37it/s]\n",
            "Epoch 784 Validation: 100%|██████████| 34/34 [00:00<00:00, 1720.76it/s]\n"
          ]
        },
        {
          "output_type": "stream",
          "name": "stdout",
          "text": [
            "Epoch 784 Training Loss: 0.8499, Accuracy: 0.6924\n",
            "Epoch 784 Validation Loss: 0.9030, Accuracy: 0.6206\n"
          ]
        },
        {
          "output_type": "stream",
          "name": "stderr",
          "text": [
            "Epoch 785 Training: 100%|██████████| 136/136 [00:00<00:00, 749.36it/s]\n",
            "Epoch 785 Validation: 100%|██████████| 34/34 [00:00<00:00, 1690.85it/s]\n"
          ]
        },
        {
          "output_type": "stream",
          "name": "stdout",
          "text": [
            "Epoch 785 Training Loss: 0.8573, Accuracy: 0.6791\n",
            "Epoch 785 Validation Loss: 0.8888, Accuracy: 0.6298\n"
          ]
        },
        {
          "output_type": "stream",
          "name": "stderr",
          "text": [
            "Epoch 786 Training: 100%|██████████| 136/136 [00:00<00:00, 737.29it/s]\n",
            "Epoch 786 Validation: 100%|██████████| 34/34 [00:00<00:00, 1566.69it/s]\n"
          ]
        },
        {
          "output_type": "stream",
          "name": "stdout",
          "text": [
            "Epoch 786 Training Loss: 0.8500, Accuracy: 0.6929\n",
            "Epoch 786 Validation Loss: 0.8974, Accuracy: 0.6390\n"
          ]
        },
        {
          "output_type": "stream",
          "name": "stderr",
          "text": [
            "Epoch 787 Training: 100%|██████████| 136/136 [00:00<00:00, 727.18it/s]\n",
            "Epoch 787 Validation: 100%|██████████| 34/34 [00:00<00:00, 1498.56it/s]\n"
          ]
        },
        {
          "output_type": "stream",
          "name": "stdout",
          "text": [
            "Epoch 787 Training Loss: 0.8505, Accuracy: 0.6901\n",
            "Epoch 787 Validation Loss: 0.8952, Accuracy: 0.6225\n"
          ]
        },
        {
          "output_type": "stream",
          "name": "stderr",
          "text": [
            "Epoch 788 Training: 100%|██████████| 136/136 [00:00<00:00, 766.16it/s]\n",
            "Epoch 788 Validation: 100%|██████████| 34/34 [00:00<00:00, 1749.43it/s]\n"
          ]
        },
        {
          "output_type": "stream",
          "name": "stdout",
          "text": [
            "Epoch 788 Training Loss: 0.8536, Accuracy: 0.6851\n",
            "Epoch 788 Validation Loss: 0.8996, Accuracy: 0.6280\n"
          ]
        },
        {
          "output_type": "stream",
          "name": "stderr",
          "text": [
            "Epoch 789 Training: 100%|██████████| 136/136 [00:00<00:00, 790.48it/s]\n",
            "Epoch 789 Validation: 100%|██████████| 34/34 [00:00<00:00, 1759.03it/s]\n"
          ]
        },
        {
          "output_type": "stream",
          "name": "stdout",
          "text": [
            "Epoch 789 Training Loss: 0.8564, Accuracy: 0.6823\n",
            "Epoch 789 Validation Loss: 0.8864, Accuracy: 0.6483\n"
          ]
        },
        {
          "output_type": "stream",
          "name": "stderr",
          "text": [
            "Epoch 790 Training: 100%|██████████| 136/136 [00:00<00:00, 760.51it/s]\n",
            "Epoch 790 Validation: 100%|██████████| 34/34 [00:00<00:00, 1538.98it/s]\n"
          ]
        },
        {
          "output_type": "stream",
          "name": "stdout",
          "text": [
            "Epoch 790 Training Loss: 0.8502, Accuracy: 0.6934\n",
            "Epoch 790 Validation Loss: 0.8821, Accuracy: 0.6556\n"
          ]
        },
        {
          "output_type": "stream",
          "name": "stderr",
          "text": [
            "Epoch 791 Training: 100%|██████████| 136/136 [00:00<00:00, 724.41it/s]\n",
            "Epoch 791 Validation: 100%|██████████| 34/34 [00:00<00:00, 1549.93it/s]\n"
          ]
        },
        {
          "output_type": "stream",
          "name": "stdout",
          "text": [
            "Epoch 791 Training Loss: 0.8502, Accuracy: 0.6943\n",
            "Epoch 791 Validation Loss: 0.8847, Accuracy: 0.6519\n"
          ]
        },
        {
          "output_type": "stream",
          "name": "stderr",
          "text": [
            "Epoch 792 Training: 100%|██████████| 136/136 [00:00<00:00, 735.81it/s]\n",
            "Epoch 792 Validation: 100%|██████████| 34/34 [00:00<00:00, 1518.88it/s]\n"
          ]
        },
        {
          "output_type": "stream",
          "name": "stdout",
          "text": [
            "Epoch 792 Training Loss: 0.8513, Accuracy: 0.6915\n",
            "Epoch 792 Validation Loss: 0.9003, Accuracy: 0.6372\n"
          ]
        },
        {
          "output_type": "stream",
          "name": "stderr",
          "text": [
            "Epoch 793 Training: 100%|██████████| 136/136 [00:00<00:00, 657.05it/s]\n",
            "Epoch 793 Validation: 100%|██████████| 34/34 [00:00<00:00, 1680.39it/s]\n"
          ]
        },
        {
          "output_type": "stream",
          "name": "stdout",
          "text": [
            "Epoch 793 Training Loss: 0.8512, Accuracy: 0.6934\n",
            "Epoch 793 Validation Loss: 0.8820, Accuracy: 0.6556\n"
          ]
        },
        {
          "output_type": "stream",
          "name": "stderr",
          "text": [
            "Epoch 794 Training: 100%|██████████| 136/136 [00:00<00:00, 694.22it/s]\n",
            "Epoch 794 Validation: 100%|██████████| 34/34 [00:00<00:00, 1754.25it/s]\n"
          ]
        },
        {
          "output_type": "stream",
          "name": "stdout",
          "text": [
            "Epoch 794 Training Loss: 0.8524, Accuracy: 0.6897\n",
            "Epoch 794 Validation Loss: 0.8926, Accuracy: 0.6427\n"
          ]
        },
        {
          "output_type": "stream",
          "name": "stderr",
          "text": [
            "Epoch 795 Training: 100%|██████████| 136/136 [00:00<00:00, 711.33it/s]\n",
            "Epoch 795 Validation: 100%|██████████| 34/34 [00:00<00:00, 1631.71it/s]\n"
          ]
        },
        {
          "output_type": "stream",
          "name": "stdout",
          "text": [
            "Epoch 795 Training Loss: 0.8513, Accuracy: 0.6901\n",
            "Epoch 795 Validation Loss: 0.8904, Accuracy: 0.6519\n"
          ]
        },
        {
          "output_type": "stream",
          "name": "stderr",
          "text": [
            "Epoch 796 Training: 100%|██████████| 136/136 [00:00<00:00, 704.77it/s]\n",
            "Epoch 796 Validation: 100%|██████████| 34/34 [00:00<00:00, 1611.77it/s]\n"
          ]
        },
        {
          "output_type": "stream",
          "name": "stdout",
          "text": [
            "Epoch 796 Training Loss: 0.8538, Accuracy: 0.6901\n",
            "Epoch 796 Validation Loss: 0.8926, Accuracy: 0.6427\n"
          ]
        },
        {
          "output_type": "stream",
          "name": "stderr",
          "text": [
            "Epoch 797 Training: 100%|██████████| 136/136 [00:00<00:00, 686.35it/s]\n",
            "Epoch 797 Validation: 100%|██████████| 34/34 [00:00<00:00, 1609.82it/s]\n"
          ]
        },
        {
          "output_type": "stream",
          "name": "stdout",
          "text": [
            "Epoch 797 Training Loss: 0.8538, Accuracy: 0.6892\n",
            "Epoch 797 Validation Loss: 0.8911, Accuracy: 0.6446\n"
          ]
        },
        {
          "output_type": "stream",
          "name": "stderr",
          "text": [
            "Epoch 798 Training: 100%|██████████| 136/136 [00:00<00:00, 605.15it/s]\n",
            "Epoch 798 Validation: 100%|██████████| 34/34 [00:00<00:00, 1298.37it/s]\n"
          ]
        },
        {
          "output_type": "stream",
          "name": "stdout",
          "text": [
            "Epoch 798 Training Loss: 0.8489, Accuracy: 0.6911\n",
            "Epoch 798 Validation Loss: 0.8985, Accuracy: 0.6262\n"
          ]
        },
        {
          "output_type": "stream",
          "name": "stderr",
          "text": [
            "Epoch 799 Training: 100%|██████████| 136/136 [00:00<00:00, 547.06it/s]\n",
            "Epoch 799 Validation: 100%|██████████| 34/34 [00:00<00:00, 1570.09it/s]\n"
          ]
        },
        {
          "output_type": "stream",
          "name": "stdout",
          "text": [
            "Epoch 799 Training Loss: 0.8491, Accuracy: 0.6952\n",
            "Epoch 799 Validation Loss: 0.8872, Accuracy: 0.6538\n"
          ]
        },
        {
          "output_type": "stream",
          "name": "stderr",
          "text": [
            "Epoch 800 Training: 100%|██████████| 136/136 [00:00<00:00, 620.68it/s]\n",
            "Epoch 800 Validation: 100%|██████████| 34/34 [00:00<00:00, 1753.51it/s]\n"
          ]
        },
        {
          "output_type": "stream",
          "name": "stdout",
          "text": [
            "Epoch 800 Training Loss: 0.8518, Accuracy: 0.6901\n",
            "Epoch 800 Validation Loss: 0.8867, Accuracy: 0.6556\n"
          ]
        },
        {
          "output_type": "stream",
          "name": "stderr",
          "text": [
            "Epoch 801 Training: 100%|██████████| 136/136 [00:00<00:00, 534.76it/s]\n",
            "Epoch 801 Validation: 100%|██████████| 34/34 [00:00<00:00, 1532.48it/s]\n"
          ]
        },
        {
          "output_type": "stream",
          "name": "stdout",
          "text": [
            "Epoch 801 Training Loss: 0.8517, Accuracy: 0.6865\n",
            "Epoch 801 Validation Loss: 0.8987, Accuracy: 0.6298\n"
          ]
        },
        {
          "output_type": "stream",
          "name": "stderr",
          "text": [
            "Epoch 802 Training: 100%|██████████| 136/136 [00:00<00:00, 607.05it/s]\n",
            "Epoch 802 Validation: 100%|██████████| 34/34 [00:00<00:00, 1458.92it/s]\n"
          ]
        },
        {
          "output_type": "stream",
          "name": "stdout",
          "text": [
            "Epoch 802 Training Loss: 0.8561, Accuracy: 0.6832\n",
            "Epoch 802 Validation Loss: 0.9078, Accuracy: 0.6206\n"
          ]
        },
        {
          "output_type": "stream",
          "name": "stderr",
          "text": [
            "Epoch 803 Training: 100%|██████████| 136/136 [00:00<00:00, 500.96it/s]\n",
            "Epoch 803 Validation: 100%|██████████| 34/34 [00:00<00:00, 1878.23it/s]\n"
          ]
        },
        {
          "output_type": "stream",
          "name": "stdout",
          "text": [
            "Epoch 803 Training Loss: 0.8511, Accuracy: 0.6920\n",
            "Epoch 803 Validation Loss: 0.9032, Accuracy: 0.6243\n"
          ]
        },
        {
          "output_type": "stream",
          "name": "stderr",
          "text": [
            "Epoch 804 Training: 100%|██████████| 136/136 [00:00<00:00, 545.70it/s]\n",
            "Epoch 804 Validation: 100%|██████████| 34/34 [00:00<00:00, 1785.23it/s]\n"
          ]
        },
        {
          "output_type": "stream",
          "name": "stdout",
          "text": [
            "Epoch 804 Training Loss: 0.8517, Accuracy: 0.6901\n",
            "Epoch 804 Validation Loss: 0.8891, Accuracy: 0.6409\n"
          ]
        },
        {
          "output_type": "stream",
          "name": "stderr",
          "text": [
            "Epoch 805 Training: 100%|██████████| 136/136 [00:00<00:00, 581.09it/s]\n",
            "Epoch 805 Validation: 100%|██████████| 34/34 [00:00<00:00, 1758.94it/s]\n"
          ]
        },
        {
          "output_type": "stream",
          "name": "stdout",
          "text": [
            "Epoch 805 Training Loss: 0.8498, Accuracy: 0.6897\n",
            "Epoch 805 Validation Loss: 0.8989, Accuracy: 0.6298\n"
          ]
        },
        {
          "output_type": "stream",
          "name": "stderr",
          "text": [
            "Epoch 806 Training: 100%|██████████| 136/136 [00:00<00:00, 647.64it/s]\n",
            "Epoch 806 Validation: 100%|██████████| 34/34 [00:00<00:00, 1195.74it/s]\n"
          ]
        },
        {
          "output_type": "stream",
          "name": "stdout",
          "text": [
            "Epoch 806 Training Loss: 0.8545, Accuracy: 0.6860\n",
            "Epoch 806 Validation Loss: 0.8881, Accuracy: 0.6390\n"
          ]
        },
        {
          "output_type": "stream",
          "name": "stderr",
          "text": [
            "Epoch 807 Training: 100%|██████████| 136/136 [00:00<00:00, 467.28it/s]\n",
            "Epoch 807 Validation: 100%|██████████| 34/34 [00:00<00:00, 1191.36it/s]\n"
          ]
        },
        {
          "output_type": "stream",
          "name": "stdout",
          "text": [
            "Epoch 807 Training Loss: 0.8528, Accuracy: 0.6860\n",
            "Epoch 807 Validation Loss: 0.8928, Accuracy: 0.6372\n"
          ]
        },
        {
          "output_type": "stream",
          "name": "stderr",
          "text": [
            "Epoch 808 Training: 100%|██████████| 136/136 [00:00<00:00, 546.48it/s]\n",
            "Epoch 808 Validation: 100%|██████████| 34/34 [00:00<00:00, 1378.56it/s]\n"
          ]
        },
        {
          "output_type": "stream",
          "name": "stdout",
          "text": [
            "Epoch 808 Training Loss: 0.8546, Accuracy: 0.6823\n",
            "Epoch 808 Validation Loss: 0.8902, Accuracy: 0.6464\n"
          ]
        },
        {
          "output_type": "stream",
          "name": "stderr",
          "text": [
            "Epoch 809 Training: 100%|██████████| 136/136 [00:00<00:00, 594.98it/s]\n",
            "Epoch 809 Validation: 100%|██████████| 34/34 [00:00<00:00, 1592.90it/s]\n"
          ]
        },
        {
          "output_type": "stream",
          "name": "stdout",
          "text": [
            "Epoch 809 Training Loss: 0.8512, Accuracy: 0.6888\n",
            "Epoch 809 Validation Loss: 0.8983, Accuracy: 0.6243\n"
          ]
        },
        {
          "output_type": "stream",
          "name": "stderr",
          "text": [
            "Epoch 810 Training: 100%|██████████| 136/136 [00:00<00:00, 612.36it/s]\n",
            "Epoch 810 Validation: 100%|██████████| 34/34 [00:00<00:00, 1734.70it/s]\n"
          ]
        },
        {
          "output_type": "stream",
          "name": "stdout",
          "text": [
            "Epoch 810 Training Loss: 0.8525, Accuracy: 0.6869\n",
            "Epoch 810 Validation Loss: 0.8927, Accuracy: 0.6354\n"
          ]
        },
        {
          "output_type": "stream",
          "name": "stderr",
          "text": [
            "Epoch 811 Training: 100%|██████████| 136/136 [00:00<00:00, 687.88it/s]\n",
            "Epoch 811 Validation: 100%|██████████| 34/34 [00:00<00:00, 1604.01it/s]\n"
          ]
        },
        {
          "output_type": "stream",
          "name": "stdout",
          "text": [
            "Epoch 811 Training Loss: 0.8503, Accuracy: 0.6915\n",
            "Epoch 811 Validation Loss: 0.8905, Accuracy: 0.6427\n"
          ]
        },
        {
          "output_type": "stream",
          "name": "stderr",
          "text": [
            "Epoch 812 Training: 100%|██████████| 136/136 [00:00<00:00, 730.77it/s]\n",
            "Epoch 812 Validation: 100%|██████████| 34/34 [00:00<00:00, 1685.81it/s]\n"
          ]
        },
        {
          "output_type": "stream",
          "name": "stdout",
          "text": [
            "Epoch 812 Training Loss: 0.8516, Accuracy: 0.6892\n",
            "Epoch 812 Validation Loss: 0.8881, Accuracy: 0.6464\n"
          ]
        },
        {
          "output_type": "stream",
          "name": "stderr",
          "text": [
            "Epoch 813 Training: 100%|██████████| 136/136 [00:00<00:00, 695.59it/s]\n",
            "Epoch 813 Validation: 100%|██████████| 34/34 [00:00<00:00, 1661.73it/s]\n"
          ]
        },
        {
          "output_type": "stream",
          "name": "stdout",
          "text": [
            "Epoch 813 Training Loss: 0.8536, Accuracy: 0.6842\n",
            "Epoch 813 Validation Loss: 0.8986, Accuracy: 0.6243\n"
          ]
        },
        {
          "output_type": "stream",
          "name": "stderr",
          "text": [
            "Epoch 814 Training: 100%|██████████| 136/136 [00:00<00:00, 720.57it/s]\n",
            "Epoch 814 Validation: 100%|██████████| 34/34 [00:00<00:00, 1626.61it/s]\n"
          ]
        },
        {
          "output_type": "stream",
          "name": "stdout",
          "text": [
            "Epoch 814 Training Loss: 0.8514, Accuracy: 0.6869\n",
            "Epoch 814 Validation Loss: 0.8838, Accuracy: 0.6575\n"
          ]
        },
        {
          "output_type": "stream",
          "name": "stderr",
          "text": [
            "Epoch 815 Training: 100%|██████████| 136/136 [00:00<00:00, 740.48it/s]\n",
            "Epoch 815 Validation: 100%|██████████| 34/34 [00:00<00:00, 1556.02it/s]\n"
          ]
        },
        {
          "output_type": "stream",
          "name": "stdout",
          "text": [
            "Epoch 815 Training Loss: 0.8516, Accuracy: 0.6874\n",
            "Epoch 815 Validation Loss: 0.9008, Accuracy: 0.6317\n"
          ]
        },
        {
          "output_type": "stream",
          "name": "stderr",
          "text": [
            "Epoch 816 Training: 100%|██████████| 136/136 [00:00<00:00, 717.65it/s]\n",
            "Epoch 816 Validation: 100%|██████████| 34/34 [00:00<00:00, 1730.45it/s]\n"
          ]
        },
        {
          "output_type": "stream",
          "name": "stdout",
          "text": [
            "Epoch 816 Training Loss: 0.8529, Accuracy: 0.6901\n",
            "Epoch 816 Validation Loss: 0.8918, Accuracy: 0.6354\n"
          ]
        },
        {
          "output_type": "stream",
          "name": "stderr",
          "text": [
            "Epoch 817 Training: 100%|██████████| 136/136 [00:00<00:00, 658.43it/s]\n",
            "Epoch 817 Validation: 100%|██████████| 34/34 [00:00<00:00, 1505.19it/s]\n"
          ]
        },
        {
          "output_type": "stream",
          "name": "stdout",
          "text": [
            "Epoch 817 Training Loss: 0.8514, Accuracy: 0.6874\n",
            "Epoch 817 Validation Loss: 0.8941, Accuracy: 0.6317\n"
          ]
        },
        {
          "output_type": "stream",
          "name": "stderr",
          "text": [
            "Epoch 818 Training: 100%|██████████| 136/136 [00:00<00:00, 696.90it/s]\n",
            "Epoch 818 Validation: 100%|██████████| 34/34 [00:00<00:00, 1538.63it/s]\n"
          ]
        },
        {
          "output_type": "stream",
          "name": "stdout",
          "text": [
            "Epoch 818 Training Loss: 0.8559, Accuracy: 0.6842\n",
            "Epoch 818 Validation Loss: 0.8833, Accuracy: 0.6446\n"
          ]
        },
        {
          "output_type": "stream",
          "name": "stderr",
          "text": [
            "Epoch 819 Training: 100%|██████████| 136/136 [00:00<00:00, 730.42it/s]\n",
            "Epoch 819 Validation: 100%|██████████| 34/34 [00:00<00:00, 1485.27it/s]\n"
          ]
        },
        {
          "output_type": "stream",
          "name": "stdout",
          "text": [
            "Epoch 819 Training Loss: 0.8577, Accuracy: 0.6754\n",
            "Epoch 819 Validation Loss: 0.8946, Accuracy: 0.6446\n"
          ]
        },
        {
          "output_type": "stream",
          "name": "stderr",
          "text": [
            "Epoch 820 Training: 100%|██████████| 136/136 [00:00<00:00, 738.50it/s]\n",
            "Epoch 820 Validation: 100%|██████████| 34/34 [00:00<00:00, 1465.47it/s]\n"
          ]
        },
        {
          "output_type": "stream",
          "name": "stdout",
          "text": [
            "Epoch 820 Training Loss: 0.8506, Accuracy: 0.6915\n",
            "Epoch 820 Validation Loss: 0.8963, Accuracy: 0.6335\n"
          ]
        },
        {
          "output_type": "stream",
          "name": "stderr",
          "text": [
            "Epoch 821 Training: 100%|██████████| 136/136 [00:00<00:00, 744.34it/s]\n",
            "Epoch 821 Validation: 100%|██████████| 34/34 [00:00<00:00, 1332.04it/s]\n"
          ]
        },
        {
          "output_type": "stream",
          "name": "stdout",
          "text": [
            "Epoch 821 Training Loss: 0.8495, Accuracy: 0.6966\n",
            "Epoch 821 Validation Loss: 0.8892, Accuracy: 0.6409\n"
          ]
        },
        {
          "output_type": "stream",
          "name": "stderr",
          "text": [
            "Epoch 822 Training: 100%|██████████| 136/136 [00:00<00:00, 681.03it/s]\n",
            "Epoch 822 Validation: 100%|██████████| 34/34 [00:00<00:00, 1581.02it/s]\n"
          ]
        },
        {
          "output_type": "stream",
          "name": "stdout",
          "text": [
            "Epoch 822 Training Loss: 0.8514, Accuracy: 0.6929\n",
            "Epoch 822 Validation Loss: 0.8978, Accuracy: 0.6298\n"
          ]
        },
        {
          "output_type": "stream",
          "name": "stderr",
          "text": [
            "Epoch 823 Training: 100%|██████████| 136/136 [00:00<00:00, 750.87it/s]\n",
            "Epoch 823 Validation: 100%|██████████| 34/34 [00:00<00:00, 1572.70it/s]\n"
          ]
        },
        {
          "output_type": "stream",
          "name": "stdout",
          "text": [
            "Epoch 823 Training Loss: 0.8490, Accuracy: 0.6948\n",
            "Epoch 823 Validation Loss: 0.8856, Accuracy: 0.6501\n"
          ]
        },
        {
          "output_type": "stream",
          "name": "stderr",
          "text": [
            "Epoch 824 Training: 100%|██████████| 136/136 [00:00<00:00, 735.45it/s]\n",
            "Epoch 824 Validation: 100%|██████████| 34/34 [00:00<00:00, 1479.61it/s]\n"
          ]
        },
        {
          "output_type": "stream",
          "name": "stdout",
          "text": [
            "Epoch 824 Training Loss: 0.8520, Accuracy: 0.6878\n",
            "Epoch 824 Validation Loss: 0.9052, Accuracy: 0.6206\n"
          ]
        },
        {
          "output_type": "stream",
          "name": "stderr",
          "text": [
            "Epoch 825 Training: 100%|██████████| 136/136 [00:00<00:00, 677.42it/s]\n",
            "Epoch 825 Validation: 100%|██████████| 34/34 [00:00<00:00, 1859.35it/s]\n"
          ]
        },
        {
          "output_type": "stream",
          "name": "stdout",
          "text": [
            "Epoch 825 Training Loss: 0.8521, Accuracy: 0.6897\n",
            "Epoch 825 Validation Loss: 0.8849, Accuracy: 0.6538\n"
          ]
        },
        {
          "output_type": "stream",
          "name": "stderr",
          "text": [
            "Epoch 826 Training: 100%|██████████| 136/136 [00:00<00:00, 754.02it/s]\n",
            "Epoch 826 Validation: 100%|██████████| 34/34 [00:00<00:00, 1697.01it/s]\n"
          ]
        },
        {
          "output_type": "stream",
          "name": "stdout",
          "text": [
            "Epoch 826 Training Loss: 0.8520, Accuracy: 0.6897\n",
            "Epoch 826 Validation Loss: 0.8890, Accuracy: 0.6427\n"
          ]
        },
        {
          "output_type": "stream",
          "name": "stderr",
          "text": [
            "Epoch 827 Training: 100%|██████████| 136/136 [00:00<00:00, 748.64it/s]\n",
            "Epoch 827 Validation: 100%|██████████| 34/34 [00:00<00:00, 1516.90it/s]\n"
          ]
        },
        {
          "output_type": "stream",
          "name": "stdout",
          "text": [
            "Epoch 827 Training Loss: 0.8515, Accuracy: 0.6915\n",
            "Epoch 827 Validation Loss: 0.8927, Accuracy: 0.6298\n"
          ]
        },
        {
          "output_type": "stream",
          "name": "stderr",
          "text": [
            "Epoch 828 Training: 100%|██████████| 136/136 [00:00<00:00, 776.69it/s]\n",
            "Epoch 828 Validation: 100%|██████████| 34/34 [00:00<00:00, 1671.80it/s]\n"
          ]
        },
        {
          "output_type": "stream",
          "name": "stdout",
          "text": [
            "Epoch 828 Training Loss: 0.8564, Accuracy: 0.6837\n",
            "Epoch 828 Validation Loss: 0.8896, Accuracy: 0.6354\n"
          ]
        },
        {
          "output_type": "stream",
          "name": "stderr",
          "text": [
            "Epoch 829 Training: 100%|██████████| 136/136 [00:00<00:00, 720.85it/s]\n",
            "Epoch 829 Validation: 100%|██████████| 34/34 [00:00<00:00, 1573.38it/s]\n"
          ]
        },
        {
          "output_type": "stream",
          "name": "stdout",
          "text": [
            "Epoch 829 Training Loss: 0.8482, Accuracy: 0.6929\n",
            "Epoch 829 Validation Loss: 0.8925, Accuracy: 0.6317\n"
          ]
        },
        {
          "output_type": "stream",
          "name": "stderr",
          "text": [
            "Epoch 830 Training: 100%|██████████| 136/136 [00:00<00:00, 689.56it/s]\n",
            "Epoch 830 Validation: 100%|██████████| 34/34 [00:00<00:00, 1664.43it/s]\n"
          ]
        },
        {
          "output_type": "stream",
          "name": "stdout",
          "text": [
            "Epoch 830 Training Loss: 0.8510, Accuracy: 0.6911\n",
            "Epoch 830 Validation Loss: 0.8921, Accuracy: 0.6409\n"
          ]
        },
        {
          "output_type": "stream",
          "name": "stderr",
          "text": [
            "Epoch 831 Training: 100%|██████████| 136/136 [00:00<00:00, 651.91it/s]\n",
            "Epoch 831 Validation: 100%|██████████| 34/34 [00:00<00:00, 1787.38it/s]\n"
          ]
        },
        {
          "output_type": "stream",
          "name": "stdout",
          "text": [
            "Epoch 831 Training Loss: 0.8548, Accuracy: 0.6837\n",
            "Epoch 831 Validation Loss: 0.8884, Accuracy: 0.6409\n"
          ]
        },
        {
          "output_type": "stream",
          "name": "stderr",
          "text": [
            "Epoch 832 Training: 100%|██████████| 136/136 [00:00<00:00, 675.55it/s]\n",
            "Epoch 832 Validation: 100%|██████████| 34/34 [00:00<00:00, 1714.82it/s]\n"
          ]
        },
        {
          "output_type": "stream",
          "name": "stdout",
          "text": [
            "Epoch 832 Training Loss: 0.8516, Accuracy: 0.6943\n",
            "Epoch 832 Validation Loss: 0.8972, Accuracy: 0.6298\n"
          ]
        },
        {
          "output_type": "stream",
          "name": "stderr",
          "text": [
            "Epoch 833 Training: 100%|██████████| 136/136 [00:00<00:00, 697.75it/s]\n",
            "Epoch 833 Validation: 100%|██████████| 34/34 [00:00<00:00, 1627.72it/s]\n"
          ]
        },
        {
          "output_type": "stream",
          "name": "stdout",
          "text": [
            "Epoch 833 Training Loss: 0.8520, Accuracy: 0.6851\n",
            "Epoch 833 Validation Loss: 0.8978, Accuracy: 0.6317\n"
          ]
        },
        {
          "output_type": "stream",
          "name": "stderr",
          "text": [
            "Epoch 834 Training: 100%|██████████| 136/136 [00:00<00:00, 724.78it/s]\n",
            "Epoch 834 Validation: 100%|██████████| 34/34 [00:00<00:00, 1625.25it/s]\n"
          ]
        },
        {
          "output_type": "stream",
          "name": "stdout",
          "text": [
            "Epoch 834 Training Loss: 0.8498, Accuracy: 0.6883\n",
            "Epoch 834 Validation Loss: 0.8832, Accuracy: 0.6483\n"
          ]
        },
        {
          "output_type": "stream",
          "name": "stderr",
          "text": [
            "Epoch 835 Training: 100%|██████████| 136/136 [00:00<00:00, 635.79it/s]\n",
            "Epoch 835 Validation: 100%|██████████| 34/34 [00:00<00:00, 1631.73it/s]\n"
          ]
        },
        {
          "output_type": "stream",
          "name": "stdout",
          "text": [
            "Epoch 835 Training Loss: 0.8496, Accuracy: 0.6929\n",
            "Epoch 835 Validation Loss: 0.8917, Accuracy: 0.6464\n"
          ]
        },
        {
          "output_type": "stream",
          "name": "stderr",
          "text": [
            "Epoch 836 Training: 100%|██████████| 136/136 [00:00<00:00, 710.41it/s]\n",
            "Epoch 836 Validation: 100%|██████████| 34/34 [00:00<00:00, 1698.24it/s]\n"
          ]
        },
        {
          "output_type": "stream",
          "name": "stdout",
          "text": [
            "Epoch 836 Training Loss: 0.8510, Accuracy: 0.6934\n",
            "Epoch 836 Validation Loss: 0.8868, Accuracy: 0.6501\n"
          ]
        },
        {
          "output_type": "stream",
          "name": "stderr",
          "text": [
            "Epoch 837 Training: 100%|██████████| 136/136 [00:00<00:00, 723.84it/s]\n",
            "Epoch 837 Validation: 100%|██████████| 34/34 [00:00<00:00, 1781.42it/s]\n"
          ]
        },
        {
          "output_type": "stream",
          "name": "stdout",
          "text": [
            "Epoch 837 Training Loss: 0.8507, Accuracy: 0.6897\n",
            "Epoch 837 Validation Loss: 0.8879, Accuracy: 0.6409\n"
          ]
        },
        {
          "output_type": "stream",
          "name": "stderr",
          "text": [
            "Epoch 838 Training: 100%|██████████| 136/136 [00:00<00:00, 715.36it/s]\n",
            "Epoch 838 Validation: 100%|██████████| 34/34 [00:00<00:00, 1617.97it/s]\n"
          ]
        },
        {
          "output_type": "stream",
          "name": "stdout",
          "text": [
            "Epoch 838 Training Loss: 0.8515, Accuracy: 0.6855\n",
            "Epoch 838 Validation Loss: 0.8878, Accuracy: 0.6446\n"
          ]
        },
        {
          "output_type": "stream",
          "name": "stderr",
          "text": [
            "Epoch 839 Training: 100%|██████████| 136/136 [00:00<00:00, 721.90it/s]\n",
            "Epoch 839 Validation: 100%|██████████| 34/34 [00:00<00:00, 1090.24it/s]\n"
          ]
        },
        {
          "output_type": "stream",
          "name": "stdout",
          "text": [
            "Epoch 839 Training Loss: 0.8487, Accuracy: 0.6920\n",
            "Epoch 839 Validation Loss: 0.8889, Accuracy: 0.6556\n"
          ]
        },
        {
          "output_type": "stream",
          "name": "stderr",
          "text": [
            "Epoch 840 Training: 100%|██████████| 136/136 [00:00<00:00, 714.47it/s]\n",
            "Epoch 840 Validation: 100%|██████████| 34/34 [00:00<00:00, 1478.37it/s]\n"
          ]
        },
        {
          "output_type": "stream",
          "name": "stdout",
          "text": [
            "Epoch 840 Training Loss: 0.8542, Accuracy: 0.6883\n",
            "Epoch 840 Validation Loss: 0.8939, Accuracy: 0.6427\n"
          ]
        },
        {
          "output_type": "stream",
          "name": "stderr",
          "text": [
            "Epoch 841 Training: 100%|██████████| 136/136 [00:00<00:00, 740.50it/s]\n",
            "Epoch 841 Validation: 100%|██████████| 34/34 [00:00<00:00, 1630.81it/s]\n"
          ]
        },
        {
          "output_type": "stream",
          "name": "stdout",
          "text": [
            "Epoch 841 Training Loss: 0.8523, Accuracy: 0.6855\n",
            "Epoch 841 Validation Loss: 0.8904, Accuracy: 0.6390\n"
          ]
        },
        {
          "output_type": "stream",
          "name": "stderr",
          "text": [
            "Epoch 842 Training: 100%|██████████| 136/136 [00:00<00:00, 728.87it/s]\n",
            "Epoch 842 Validation: 100%|██████████| 34/34 [00:00<00:00, 1537.19it/s]\n"
          ]
        },
        {
          "output_type": "stream",
          "name": "stdout",
          "text": [
            "Epoch 842 Training Loss: 0.8564, Accuracy: 0.6842\n",
            "Epoch 842 Validation Loss: 0.8915, Accuracy: 0.6354\n"
          ]
        },
        {
          "output_type": "stream",
          "name": "stderr",
          "text": [
            "Epoch 843 Training: 100%|██████████| 136/136 [00:00<00:00, 726.22it/s]\n",
            "Epoch 843 Validation: 100%|██████████| 34/34 [00:00<00:00, 1370.74it/s]\n"
          ]
        },
        {
          "output_type": "stream",
          "name": "stdout",
          "text": [
            "Epoch 843 Training Loss: 0.8497, Accuracy: 0.6934\n",
            "Epoch 843 Validation Loss: 0.9023, Accuracy: 0.6298\n"
          ]
        },
        {
          "output_type": "stream",
          "name": "stderr",
          "text": [
            "Epoch 844 Training: 100%|██████████| 136/136 [00:00<00:00, 671.89it/s]\n",
            "Epoch 844 Validation: 100%|██████████| 34/34 [00:00<00:00, 1364.59it/s]\n"
          ]
        },
        {
          "output_type": "stream",
          "name": "stdout",
          "text": [
            "Epoch 844 Training Loss: 0.8500, Accuracy: 0.6906\n",
            "Epoch 844 Validation Loss: 0.8848, Accuracy: 0.6575\n"
          ]
        },
        {
          "output_type": "stream",
          "name": "stderr",
          "text": [
            "Epoch 845 Training: 100%|██████████| 136/136 [00:00<00:00, 699.34it/s]\n",
            "Epoch 845 Validation: 100%|██████████| 34/34 [00:00<00:00, 1580.65it/s]\n"
          ]
        },
        {
          "output_type": "stream",
          "name": "stdout",
          "text": [
            "Epoch 845 Training Loss: 0.8529, Accuracy: 0.6897\n",
            "Epoch 845 Validation Loss: 0.8867, Accuracy: 0.6446\n"
          ]
        },
        {
          "output_type": "stream",
          "name": "stderr",
          "text": [
            "Epoch 846 Training: 100%|██████████| 136/136 [00:00<00:00, 706.44it/s]\n",
            "Epoch 846 Validation: 100%|██████████| 34/34 [00:00<00:00, 1731.92it/s]\n"
          ]
        },
        {
          "output_type": "stream",
          "name": "stdout",
          "text": [
            "Epoch 846 Training Loss: 0.8496, Accuracy: 0.6938\n",
            "Epoch 846 Validation Loss: 0.9077, Accuracy: 0.6133\n"
          ]
        },
        {
          "output_type": "stream",
          "name": "stderr",
          "text": [
            "Epoch 847 Training: 100%|██████████| 136/136 [00:00<00:00, 698.24it/s]\n",
            "Epoch 847 Validation: 100%|██████████| 34/34 [00:00<00:00, 1676.36it/s]\n"
          ]
        },
        {
          "output_type": "stream",
          "name": "stdout",
          "text": [
            "Epoch 847 Training Loss: 0.8507, Accuracy: 0.6924\n",
            "Epoch 847 Validation Loss: 0.8993, Accuracy: 0.6225\n"
          ]
        },
        {
          "output_type": "stream",
          "name": "stderr",
          "text": [
            "Epoch 848 Training: 100%|██████████| 136/136 [00:00<00:00, 721.73it/s]\n",
            "Epoch 848 Validation: 100%|██████████| 34/34 [00:00<00:00, 1164.35it/s]\n"
          ]
        },
        {
          "output_type": "stream",
          "name": "stdout",
          "text": [
            "Epoch 848 Training Loss: 0.8513, Accuracy: 0.6911\n",
            "Epoch 848 Validation Loss: 0.8980, Accuracy: 0.6317\n"
          ]
        },
        {
          "output_type": "stream",
          "name": "stderr",
          "text": [
            "Epoch 849 Training: 100%|██████████| 136/136 [00:00<00:00, 751.54it/s]\n",
            "Epoch 849 Validation: 100%|██████████| 34/34 [00:00<00:00, 1652.22it/s]\n"
          ]
        },
        {
          "output_type": "stream",
          "name": "stdout",
          "text": [
            "Epoch 849 Training Loss: 0.8569, Accuracy: 0.6823\n",
            "Epoch 849 Validation Loss: 0.8764, Accuracy: 0.6593\n"
          ]
        },
        {
          "output_type": "stream",
          "name": "stderr",
          "text": [
            "Epoch 850 Training: 100%|██████████| 136/136 [00:00<00:00, 744.77it/s]\n",
            "Epoch 850 Validation: 100%|██████████| 34/34 [00:00<00:00, 1728.48it/s]\n"
          ]
        },
        {
          "output_type": "stream",
          "name": "stdout",
          "text": [
            "Epoch 850 Training Loss: 0.8566, Accuracy: 0.6805\n",
            "Epoch 850 Validation Loss: 0.8944, Accuracy: 0.6464\n"
          ]
        },
        {
          "output_type": "stream",
          "name": "stderr",
          "text": [
            "Epoch 851 Training: 100%|██████████| 136/136 [00:00<00:00, 716.37it/s]\n",
            "Epoch 851 Validation: 100%|██████████| 34/34 [00:00<00:00, 1691.17it/s]\n"
          ]
        },
        {
          "output_type": "stream",
          "name": "stdout",
          "text": [
            "Epoch 851 Training Loss: 0.8491, Accuracy: 0.6901\n",
            "Epoch 851 Validation Loss: 0.8866, Accuracy: 0.6464\n"
          ]
        },
        {
          "output_type": "stream",
          "name": "stderr",
          "text": [
            "Epoch 852 Training: 100%|██████████| 136/136 [00:00<00:00, 729.96it/s]\n",
            "Epoch 852 Validation: 100%|██████████| 34/34 [00:00<00:00, 1584.92it/s]\n"
          ]
        },
        {
          "output_type": "stream",
          "name": "stdout",
          "text": [
            "Epoch 852 Training Loss: 0.8512, Accuracy: 0.6878\n",
            "Epoch 852 Validation Loss: 0.8917, Accuracy: 0.6354\n"
          ]
        },
        {
          "output_type": "stream",
          "name": "stderr",
          "text": [
            "Epoch 853 Training: 100%|██████████| 136/136 [00:00<00:00, 539.09it/s]\n",
            "Epoch 853 Validation: 100%|██████████| 34/34 [00:00<00:00, 1169.24it/s]\n"
          ]
        },
        {
          "output_type": "stream",
          "name": "stdout",
          "text": [
            "Epoch 853 Training Loss: 0.8492, Accuracy: 0.6966\n",
            "Epoch 853 Validation Loss: 0.8949, Accuracy: 0.6427\n"
          ]
        },
        {
          "output_type": "stream",
          "name": "stderr",
          "text": [
            "Epoch 854 Training: 100%|██████████| 136/136 [00:00<00:00, 529.06it/s]\n",
            "Epoch 854 Validation: 100%|██████████| 34/34 [00:00<00:00, 1384.85it/s]\n"
          ]
        },
        {
          "output_type": "stream",
          "name": "stdout",
          "text": [
            "Epoch 854 Training Loss: 0.8525, Accuracy: 0.6906\n",
            "Epoch 854 Validation Loss: 0.8851, Accuracy: 0.6464\n"
          ]
        },
        {
          "output_type": "stream",
          "name": "stderr",
          "text": [
            "Epoch 855 Training: 100%|██████████| 136/136 [00:00<00:00, 690.97it/s]\n",
            "Epoch 855 Validation: 100%|██████████| 34/34 [00:00<00:00, 1714.78it/s]\n"
          ]
        },
        {
          "output_type": "stream",
          "name": "stdout",
          "text": [
            "Epoch 855 Training Loss: 0.8490, Accuracy: 0.6924\n",
            "Epoch 855 Validation Loss: 0.8956, Accuracy: 0.6372\n"
          ]
        },
        {
          "output_type": "stream",
          "name": "stderr",
          "text": [
            "Epoch 856 Training: 100%|██████████| 136/136 [00:00<00:00, 698.60it/s]\n",
            "Epoch 856 Validation: 100%|██████████| 34/34 [00:00<00:00, 1696.36it/s]\n"
          ]
        },
        {
          "output_type": "stream",
          "name": "stdout",
          "text": [
            "Epoch 856 Training Loss: 0.8523, Accuracy: 0.6846\n",
            "Epoch 856 Validation Loss: 0.8882, Accuracy: 0.6446\n"
          ]
        },
        {
          "output_type": "stream",
          "name": "stderr",
          "text": [
            "Epoch 857 Training: 100%|██████████| 136/136 [00:00<00:00, 621.99it/s]\n",
            "Epoch 857 Validation: 100%|██████████| 34/34 [00:00<00:00, 1786.24it/s]\n"
          ]
        },
        {
          "output_type": "stream",
          "name": "stdout",
          "text": [
            "Epoch 857 Training Loss: 0.8485, Accuracy: 0.6957\n",
            "Epoch 857 Validation Loss: 0.9031, Accuracy: 0.6280\n"
          ]
        },
        {
          "output_type": "stream",
          "name": "stderr",
          "text": [
            "Epoch 858 Training: 100%|██████████| 136/136 [00:00<00:00, 632.28it/s]\n",
            "Epoch 858 Validation: 100%|██████████| 34/34 [00:00<00:00, 1658.85it/s]\n"
          ]
        },
        {
          "output_type": "stream",
          "name": "stdout",
          "text": [
            "Epoch 858 Training Loss: 0.8531, Accuracy: 0.6828\n",
            "Epoch 858 Validation Loss: 0.8993, Accuracy: 0.6280\n"
          ]
        },
        {
          "output_type": "stream",
          "name": "stderr",
          "text": [
            "Epoch 859 Training: 100%|██████████| 136/136 [00:00<00:00, 693.26it/s]\n",
            "Epoch 859 Validation: 100%|██████████| 34/34 [00:00<00:00, 1392.53it/s]\n"
          ]
        },
        {
          "output_type": "stream",
          "name": "stdout",
          "text": [
            "Epoch 859 Training Loss: 0.8546, Accuracy: 0.6851\n",
            "Epoch 859 Validation Loss: 0.8869, Accuracy: 0.6446\n"
          ]
        },
        {
          "output_type": "stream",
          "name": "stderr",
          "text": [
            "Epoch 860 Training: 100%|██████████| 136/136 [00:00<00:00, 756.03it/s]\n",
            "Epoch 860 Validation: 100%|██████████| 34/34 [00:00<00:00, 2016.15it/s]\n"
          ]
        },
        {
          "output_type": "stream",
          "name": "stdout",
          "text": [
            "Epoch 860 Training Loss: 0.8497, Accuracy: 0.6948\n",
            "Epoch 860 Validation Loss: 0.8877, Accuracy: 0.6464\n"
          ]
        },
        {
          "output_type": "stream",
          "name": "stderr",
          "text": [
            "Epoch 861 Training: 100%|██████████| 136/136 [00:00<00:00, 718.91it/s]\n",
            "Epoch 861 Validation: 100%|██████████| 34/34 [00:00<00:00, 1326.23it/s]\n"
          ]
        },
        {
          "output_type": "stream",
          "name": "stdout",
          "text": [
            "Epoch 861 Training Loss: 0.8495, Accuracy: 0.6966\n",
            "Epoch 861 Validation Loss: 0.9041, Accuracy: 0.6262\n"
          ]
        },
        {
          "output_type": "stream",
          "name": "stderr",
          "text": [
            "Epoch 862 Training: 100%|██████████| 136/136 [00:00<00:00, 675.79it/s]\n",
            "Epoch 862 Validation: 100%|██████████| 34/34 [00:00<00:00, 1817.29it/s]\n"
          ]
        },
        {
          "output_type": "stream",
          "name": "stdout",
          "text": [
            "Epoch 862 Training Loss: 0.8523, Accuracy: 0.6961\n",
            "Epoch 862 Validation Loss: 0.8952, Accuracy: 0.6335\n"
          ]
        },
        {
          "output_type": "stream",
          "name": "stderr",
          "text": [
            "Epoch 863 Training: 100%|██████████| 136/136 [00:00<00:00, 676.52it/s]\n",
            "Epoch 863 Validation: 100%|██████████| 34/34 [00:00<00:00, 1675.59it/s]\n"
          ]
        },
        {
          "output_type": "stream",
          "name": "stdout",
          "text": [
            "Epoch 863 Training Loss: 0.8498, Accuracy: 0.6901\n",
            "Epoch 863 Validation Loss: 0.8789, Accuracy: 0.6593\n"
          ]
        },
        {
          "output_type": "stream",
          "name": "stderr",
          "text": [
            "Epoch 864 Training: 100%|██████████| 136/136 [00:00<00:00, 642.82it/s]\n",
            "Epoch 864 Validation: 100%|██████████| 34/34 [00:00<00:00, 1418.59it/s]\n"
          ]
        },
        {
          "output_type": "stream",
          "name": "stdout",
          "text": [
            "Epoch 864 Training Loss: 0.8582, Accuracy: 0.6837\n",
            "Epoch 864 Validation Loss: 0.8915, Accuracy: 0.6317\n"
          ]
        },
        {
          "output_type": "stream",
          "name": "stderr",
          "text": [
            "Epoch 865 Training: 100%|██████████| 136/136 [00:00<00:00, 464.50it/s]\n",
            "Epoch 865 Validation: 100%|██████████| 34/34 [00:00<00:00, 1277.66it/s]\n"
          ]
        },
        {
          "output_type": "stream",
          "name": "stdout",
          "text": [
            "Epoch 865 Training Loss: 0.8474, Accuracy: 0.6934\n",
            "Epoch 865 Validation Loss: 0.8880, Accuracy: 0.6519\n"
          ]
        },
        {
          "output_type": "stream",
          "name": "stderr",
          "text": [
            "Epoch 866 Training: 100%|██████████| 136/136 [00:00<00:00, 576.31it/s]\n",
            "Epoch 866 Validation: 100%|██████████| 34/34 [00:00<00:00, 1438.10it/s]\n"
          ]
        },
        {
          "output_type": "stream",
          "name": "stdout",
          "text": [
            "Epoch 866 Training Loss: 0.8490, Accuracy: 0.6915\n",
            "Epoch 866 Validation Loss: 0.9071, Accuracy: 0.6151\n"
          ]
        },
        {
          "output_type": "stream",
          "name": "stderr",
          "text": [
            "Epoch 867 Training: 100%|██████████| 136/136 [00:00<00:00, 612.13it/s]\n",
            "Epoch 867 Validation: 100%|██████████| 34/34 [00:00<00:00, 1875.91it/s]\n"
          ]
        },
        {
          "output_type": "stream",
          "name": "stdout",
          "text": [
            "Epoch 867 Training Loss: 0.8541, Accuracy: 0.6819\n",
            "Epoch 867 Validation Loss: 0.8810, Accuracy: 0.6575\n"
          ]
        },
        {
          "output_type": "stream",
          "name": "stderr",
          "text": [
            "Epoch 868 Training: 100%|██████████| 136/136 [00:00<00:00, 634.97it/s]\n",
            "Epoch 868 Validation: 100%|██████████| 34/34 [00:00<00:00, 1679.40it/s]\n"
          ]
        },
        {
          "output_type": "stream",
          "name": "stdout",
          "text": [
            "Epoch 868 Training Loss: 0.8512, Accuracy: 0.6846\n",
            "Epoch 868 Validation Loss: 0.8854, Accuracy: 0.6483\n"
          ]
        },
        {
          "output_type": "stream",
          "name": "stderr",
          "text": [
            "Epoch 869 Training: 100%|██████████| 136/136 [00:00<00:00, 589.97it/s]\n",
            "Epoch 869 Validation: 100%|██████████| 34/34 [00:00<00:00, 1752.35it/s]\n"
          ]
        },
        {
          "output_type": "stream",
          "name": "stdout",
          "text": [
            "Epoch 869 Training Loss: 0.8506, Accuracy: 0.6911\n",
            "Epoch 869 Validation Loss: 0.8928, Accuracy: 0.6409\n"
          ]
        },
        {
          "output_type": "stream",
          "name": "stderr",
          "text": [
            "Epoch 870 Training: 100%|██████████| 136/136 [00:00<00:00, 642.29it/s]\n",
            "Epoch 870 Validation: 100%|██████████| 34/34 [00:00<00:00, 1751.00it/s]\n"
          ]
        },
        {
          "output_type": "stream",
          "name": "stdout",
          "text": [
            "Epoch 870 Training Loss: 0.8531, Accuracy: 0.6869\n",
            "Epoch 870 Validation Loss: 0.8860, Accuracy: 0.6446\n"
          ]
        },
        {
          "output_type": "stream",
          "name": "stderr",
          "text": [
            "Epoch 871 Training: 100%|██████████| 136/136 [00:00<00:00, 638.60it/s]\n",
            "Epoch 871 Validation: 100%|██████████| 34/34 [00:00<00:00, 1567.90it/s]\n"
          ]
        },
        {
          "output_type": "stream",
          "name": "stdout",
          "text": [
            "Epoch 871 Training Loss: 0.8507, Accuracy: 0.6901\n",
            "Epoch 871 Validation Loss: 0.8877, Accuracy: 0.6372\n"
          ]
        },
        {
          "output_type": "stream",
          "name": "stderr",
          "text": [
            "Epoch 872 Training: 100%|██████████| 136/136 [00:00<00:00, 607.57it/s]\n",
            "Epoch 872 Validation: 100%|██████████| 34/34 [00:00<00:00, 1638.53it/s]\n"
          ]
        },
        {
          "output_type": "stream",
          "name": "stdout",
          "text": [
            "Epoch 872 Training Loss: 0.8528, Accuracy: 0.6901\n",
            "Epoch 872 Validation Loss: 0.8929, Accuracy: 0.6464\n"
          ]
        },
        {
          "output_type": "stream",
          "name": "stderr",
          "text": [
            "Epoch 873 Training: 100%|██████████| 136/136 [00:00<00:00, 644.88it/s]\n",
            "Epoch 873 Validation: 100%|██████████| 34/34 [00:00<00:00, 1435.44it/s]\n"
          ]
        },
        {
          "output_type": "stream",
          "name": "stdout",
          "text": [
            "Epoch 873 Training Loss: 0.8512, Accuracy: 0.6934\n",
            "Epoch 873 Validation Loss: 0.8963, Accuracy: 0.6298\n"
          ]
        },
        {
          "output_type": "stream",
          "name": "stderr",
          "text": [
            "Epoch 874 Training: 100%|██████████| 136/136 [00:00<00:00, 622.23it/s]\n",
            "Epoch 874 Validation: 100%|██████████| 34/34 [00:00<00:00, 1461.55it/s]\n"
          ]
        },
        {
          "output_type": "stream",
          "name": "stdout",
          "text": [
            "Epoch 874 Training Loss: 0.8500, Accuracy: 0.6911\n",
            "Epoch 874 Validation Loss: 0.9066, Accuracy: 0.6243\n"
          ]
        },
        {
          "output_type": "stream",
          "name": "stderr",
          "text": [
            "Epoch 875 Training: 100%|██████████| 136/136 [00:00<00:00, 628.25it/s]\n",
            "Epoch 875 Validation: 100%|██████████| 34/34 [00:00<00:00, 1910.56it/s]\n"
          ]
        },
        {
          "output_type": "stream",
          "name": "stdout",
          "text": [
            "Epoch 875 Training Loss: 0.8517, Accuracy: 0.6934\n",
            "Epoch 875 Validation Loss: 0.8981, Accuracy: 0.6354\n"
          ]
        },
        {
          "output_type": "stream",
          "name": "stderr",
          "text": [
            "Epoch 876 Training: 100%|██████████| 136/136 [00:00<00:00, 735.99it/s]\n",
            "Epoch 876 Validation: 100%|██████████| 34/34 [00:00<00:00, 1611.53it/s]\n"
          ]
        },
        {
          "output_type": "stream",
          "name": "stdout",
          "text": [
            "Epoch 876 Training Loss: 0.8500, Accuracy: 0.6911\n",
            "Epoch 876 Validation Loss: 0.8933, Accuracy: 0.6335\n"
          ]
        },
        {
          "output_type": "stream",
          "name": "stderr",
          "text": [
            "Epoch 877 Training: 100%|██████████| 136/136 [00:00<00:00, 712.60it/s]\n",
            "Epoch 877 Validation: 100%|██████████| 34/34 [00:00<00:00, 1552.55it/s]\n"
          ]
        },
        {
          "output_type": "stream",
          "name": "stdout",
          "text": [
            "Epoch 877 Training Loss: 0.8490, Accuracy: 0.6924\n",
            "Epoch 877 Validation Loss: 0.9074, Accuracy: 0.6262\n"
          ]
        },
        {
          "output_type": "stream",
          "name": "stderr",
          "text": [
            "Epoch 878 Training: 100%|██████████| 136/136 [00:00<00:00, 701.48it/s]\n",
            "Epoch 878 Validation: 100%|██████████| 34/34 [00:00<00:00, 1679.28it/s]\n"
          ]
        },
        {
          "output_type": "stream",
          "name": "stdout",
          "text": [
            "Epoch 878 Training Loss: 0.8478, Accuracy: 0.6961\n",
            "Epoch 878 Validation Loss: 0.8942, Accuracy: 0.6317\n"
          ]
        },
        {
          "output_type": "stream",
          "name": "stderr",
          "text": [
            "Epoch 879 Training: 100%|██████████| 136/136 [00:00<00:00, 716.80it/s]\n",
            "Epoch 879 Validation: 100%|██████████| 34/34 [00:00<00:00, 1555.75it/s]\n"
          ]
        },
        {
          "output_type": "stream",
          "name": "stdout",
          "text": [
            "Epoch 879 Training Loss: 0.8497, Accuracy: 0.6938\n",
            "Epoch 879 Validation Loss: 0.8873, Accuracy: 0.6501\n"
          ]
        },
        {
          "output_type": "stream",
          "name": "stderr",
          "text": [
            "Epoch 880 Training: 100%|██████████| 136/136 [00:00<00:00, 694.97it/s]\n",
            "Epoch 880 Validation: 100%|██████████| 34/34 [00:00<00:00, 1440.50it/s]\n"
          ]
        },
        {
          "output_type": "stream",
          "name": "stdout",
          "text": [
            "Epoch 880 Training Loss: 0.8535, Accuracy: 0.6860\n",
            "Epoch 880 Validation Loss: 0.8872, Accuracy: 0.6390\n"
          ]
        },
        {
          "output_type": "stream",
          "name": "stderr",
          "text": [
            "Epoch 881 Training: 100%|██████████| 136/136 [00:00<00:00, 756.76it/s]\n",
            "Epoch 881 Validation: 100%|██████████| 34/34 [00:00<00:00, 1701.20it/s]\n"
          ]
        },
        {
          "output_type": "stream",
          "name": "stdout",
          "text": [
            "Epoch 881 Training Loss: 0.8480, Accuracy: 0.6971\n",
            "Epoch 881 Validation Loss: 0.8829, Accuracy: 0.6575\n"
          ]
        },
        {
          "output_type": "stream",
          "name": "stderr",
          "text": [
            "Epoch 882 Training: 100%|██████████| 136/136 [00:00<00:00, 723.35it/s]\n",
            "Epoch 882 Validation: 100%|██████████| 34/34 [00:00<00:00, 1561.65it/s]\n"
          ]
        },
        {
          "output_type": "stream",
          "name": "stdout",
          "text": [
            "Epoch 882 Training Loss: 0.8465, Accuracy: 0.6989\n",
            "Epoch 882 Validation Loss: 0.8918, Accuracy: 0.6354\n"
          ]
        },
        {
          "output_type": "stream",
          "name": "stderr",
          "text": [
            "Epoch 883 Training: 100%|██████████| 136/136 [00:00<00:00, 737.73it/s]\n",
            "Epoch 883 Validation: 100%|██████████| 34/34 [00:00<00:00, 1351.32it/s]\n"
          ]
        },
        {
          "output_type": "stream",
          "name": "stdout",
          "text": [
            "Epoch 883 Training Loss: 0.8505, Accuracy: 0.6929\n",
            "Epoch 883 Validation Loss: 0.8985, Accuracy: 0.6372\n"
          ]
        },
        {
          "output_type": "stream",
          "name": "stderr",
          "text": [
            "Epoch 884 Training: 100%|██████████| 136/136 [00:00<00:00, 708.29it/s]\n",
            "Epoch 884 Validation: 100%|██████████| 34/34 [00:00<00:00, 1292.80it/s]\n"
          ]
        },
        {
          "output_type": "stream",
          "name": "stdout",
          "text": [
            "Epoch 884 Training Loss: 0.8501, Accuracy: 0.6901\n",
            "Epoch 884 Validation Loss: 0.8940, Accuracy: 0.6372\n"
          ]
        },
        {
          "output_type": "stream",
          "name": "stderr",
          "text": [
            "Epoch 885 Training: 100%|██████████| 136/136 [00:00<00:00, 742.23it/s]\n",
            "Epoch 885 Validation: 100%|██████████| 34/34 [00:00<00:00, 1590.90it/s]\n"
          ]
        },
        {
          "output_type": "stream",
          "name": "stdout",
          "text": [
            "Epoch 885 Training Loss: 0.8491, Accuracy: 0.6938\n",
            "Epoch 885 Validation Loss: 0.8975, Accuracy: 0.6317\n"
          ]
        },
        {
          "output_type": "stream",
          "name": "stderr",
          "text": [
            "Epoch 886 Training: 100%|██████████| 136/136 [00:00<00:00, 693.36it/s]\n",
            "Epoch 886 Validation: 100%|██████████| 34/34 [00:00<00:00, 1652.89it/s]\n"
          ]
        },
        {
          "output_type": "stream",
          "name": "stdout",
          "text": [
            "Epoch 886 Training Loss: 0.8465, Accuracy: 0.6961\n",
            "Epoch 886 Validation Loss: 0.8971, Accuracy: 0.6354\n"
          ]
        },
        {
          "output_type": "stream",
          "name": "stderr",
          "text": [
            "Epoch 887 Training: 100%|██████████| 136/136 [00:00<00:00, 686.23it/s]\n",
            "Epoch 887 Validation: 100%|██████████| 34/34 [00:00<00:00, 1455.45it/s]\n"
          ]
        },
        {
          "output_type": "stream",
          "name": "stdout",
          "text": [
            "Epoch 887 Training Loss: 0.8481, Accuracy: 0.6957\n",
            "Epoch 887 Validation Loss: 0.9092, Accuracy: 0.6169\n"
          ]
        },
        {
          "output_type": "stream",
          "name": "stderr",
          "text": [
            "Epoch 888 Training: 100%|██████████| 136/136 [00:00<00:00, 703.55it/s]\n",
            "Epoch 888 Validation: 100%|██████████| 34/34 [00:00<00:00, 1413.61it/s]\n"
          ]
        },
        {
          "output_type": "stream",
          "name": "stdout",
          "text": [
            "Epoch 888 Training Loss: 0.8506, Accuracy: 0.6888\n",
            "Epoch 888 Validation Loss: 0.8897, Accuracy: 0.6390\n"
          ]
        },
        {
          "output_type": "stream",
          "name": "stderr",
          "text": [
            "Epoch 889 Training: 100%|██████████| 136/136 [00:00<00:00, 714.62it/s]\n",
            "Epoch 889 Validation: 100%|██████████| 34/34 [00:00<00:00, 1623.64it/s]\n"
          ]
        },
        {
          "output_type": "stream",
          "name": "stdout",
          "text": [
            "Epoch 889 Training Loss: 0.8480, Accuracy: 0.6966\n",
            "Epoch 889 Validation Loss: 0.8975, Accuracy: 0.6390\n"
          ]
        },
        {
          "output_type": "stream",
          "name": "stderr",
          "text": [
            "Epoch 890 Training: 100%|██████████| 136/136 [00:00<00:00, 736.42it/s]\n",
            "Epoch 890 Validation: 100%|██████████| 34/34 [00:00<00:00, 1673.88it/s]\n"
          ]
        },
        {
          "output_type": "stream",
          "name": "stdout",
          "text": [
            "Epoch 890 Training Loss: 0.8508, Accuracy: 0.6934\n",
            "Epoch 890 Validation Loss: 0.8928, Accuracy: 0.6354\n"
          ]
        },
        {
          "output_type": "stream",
          "name": "stderr",
          "text": [
            "Epoch 891 Training: 100%|██████████| 136/136 [00:00<00:00, 658.17it/s]\n",
            "Epoch 891 Validation: 100%|██████████| 34/34 [00:00<00:00, 1690.77it/s]\n"
          ]
        },
        {
          "output_type": "stream",
          "name": "stdout",
          "text": [
            "Epoch 891 Training Loss: 0.8517, Accuracy: 0.6906\n",
            "Epoch 891 Validation Loss: 0.8989, Accuracy: 0.6280\n"
          ]
        },
        {
          "output_type": "stream",
          "name": "stderr",
          "text": [
            "Epoch 892 Training: 100%|██████████| 136/136 [00:00<00:00, 682.65it/s]\n",
            "Epoch 892 Validation: 100%|██████████| 34/34 [00:00<00:00, 1595.86it/s]\n"
          ]
        },
        {
          "output_type": "stream",
          "name": "stdout",
          "text": [
            "Epoch 892 Training Loss: 0.8520, Accuracy: 0.6911\n",
            "Epoch 892 Validation Loss: 0.8815, Accuracy: 0.6648\n"
          ]
        },
        {
          "output_type": "stream",
          "name": "stderr",
          "text": [
            "Epoch 893 Training: 100%|██████████| 136/136 [00:00<00:00, 715.40it/s]\n",
            "Epoch 893 Validation: 100%|██████████| 34/34 [00:00<00:00, 1230.96it/s]\n"
          ]
        },
        {
          "output_type": "stream",
          "name": "stdout",
          "text": [
            "Epoch 893 Training Loss: 0.8499, Accuracy: 0.6915\n",
            "Epoch 893 Validation Loss: 0.8816, Accuracy: 0.6575\n"
          ]
        },
        {
          "output_type": "stream",
          "name": "stderr",
          "text": [
            "Epoch 894 Training: 100%|██████████| 136/136 [00:00<00:00, 743.08it/s]\n",
            "Epoch 894 Validation: 100%|██████████| 34/34 [00:00<00:00, 1633.13it/s]\n"
          ]
        },
        {
          "output_type": "stream",
          "name": "stdout",
          "text": [
            "Epoch 894 Training Loss: 0.8529, Accuracy: 0.6842\n",
            "Epoch 894 Validation Loss: 0.8906, Accuracy: 0.6427\n"
          ]
        },
        {
          "output_type": "stream",
          "name": "stderr",
          "text": [
            "Epoch 895 Training: 100%|██████████| 136/136 [00:00<00:00, 728.65it/s]\n",
            "Epoch 895 Validation: 100%|██████████| 34/34 [00:00<00:00, 1418.47it/s]\n"
          ]
        },
        {
          "output_type": "stream",
          "name": "stdout",
          "text": [
            "Epoch 895 Training Loss: 0.8504, Accuracy: 0.6911\n",
            "Epoch 895 Validation Loss: 0.8941, Accuracy: 0.6354\n"
          ]
        },
        {
          "output_type": "stream",
          "name": "stderr",
          "text": [
            "Epoch 896 Training: 100%|██████████| 136/136 [00:00<00:00, 650.50it/s]\n",
            "Epoch 896 Validation: 100%|██████████| 34/34 [00:00<00:00, 1743.78it/s]\n"
          ]
        },
        {
          "output_type": "stream",
          "name": "stdout",
          "text": [
            "Epoch 896 Training Loss: 0.8487, Accuracy: 0.6943\n",
            "Epoch 896 Validation Loss: 0.8946, Accuracy: 0.6427\n"
          ]
        },
        {
          "output_type": "stream",
          "name": "stderr",
          "text": [
            "Epoch 897 Training: 100%|██████████| 136/136 [00:00<00:00, 773.77it/s]\n",
            "Epoch 897 Validation: 100%|██████████| 34/34 [00:00<00:00, 1646.29it/s]\n"
          ]
        },
        {
          "output_type": "stream",
          "name": "stdout",
          "text": [
            "Epoch 897 Training Loss: 0.8493, Accuracy: 0.6911\n",
            "Epoch 897 Validation Loss: 0.8990, Accuracy: 0.6243\n"
          ]
        },
        {
          "output_type": "stream",
          "name": "stderr",
          "text": [
            "Epoch 898 Training: 100%|██████████| 136/136 [00:00<00:00, 789.70it/s]\n",
            "Epoch 898 Validation: 100%|██████████| 34/34 [00:00<00:00, 1678.69it/s]\n"
          ]
        },
        {
          "output_type": "stream",
          "name": "stdout",
          "text": [
            "Epoch 898 Training Loss: 0.8473, Accuracy: 0.6911\n",
            "Epoch 898 Validation Loss: 0.8975, Accuracy: 0.6390\n"
          ]
        },
        {
          "output_type": "stream",
          "name": "stderr",
          "text": [
            "Epoch 899 Training: 100%|██████████| 136/136 [00:00<00:00, 727.74it/s]\n",
            "Epoch 899 Validation: 100%|██████████| 34/34 [00:00<00:00, 1587.51it/s]\n"
          ]
        },
        {
          "output_type": "stream",
          "name": "stdout",
          "text": [
            "Epoch 899 Training Loss: 0.8505, Accuracy: 0.6920\n",
            "Epoch 899 Validation Loss: 0.8950, Accuracy: 0.6354\n"
          ]
        },
        {
          "output_type": "stream",
          "name": "stderr",
          "text": [
            "Epoch 900 Training: 100%|██████████| 136/136 [00:00<00:00, 765.43it/s]\n",
            "Epoch 900 Validation: 100%|██████████| 34/34 [00:00<00:00, 1334.87it/s]\n"
          ]
        },
        {
          "output_type": "stream",
          "name": "stdout",
          "text": [
            "Epoch 900 Training Loss: 0.8485, Accuracy: 0.6929\n",
            "Epoch 900 Validation Loss: 0.8887, Accuracy: 0.6483\n"
          ]
        },
        {
          "output_type": "stream",
          "name": "stderr",
          "text": [
            "Epoch 901 Training: 100%|██████████| 136/136 [00:00<00:00, 695.83it/s]\n",
            "Epoch 901 Validation: 100%|██████████| 34/34 [00:00<00:00, 1646.65it/s]\n"
          ]
        },
        {
          "output_type": "stream",
          "name": "stdout",
          "text": [
            "Epoch 901 Training Loss: 0.8472, Accuracy: 0.6948\n",
            "Epoch 901 Validation Loss: 0.8836, Accuracy: 0.6519\n"
          ]
        },
        {
          "output_type": "stream",
          "name": "stderr",
          "text": [
            "Epoch 902 Training: 100%|██████████| 136/136 [00:00<00:00, 717.16it/s]\n",
            "Epoch 902 Validation: 100%|██████████| 34/34 [00:00<00:00, 1655.71it/s]\n"
          ]
        },
        {
          "output_type": "stream",
          "name": "stdout",
          "text": [
            "Epoch 902 Training Loss: 0.8516, Accuracy: 0.6897\n",
            "Epoch 902 Validation Loss: 0.8845, Accuracy: 0.6556\n"
          ]
        },
        {
          "output_type": "stream",
          "name": "stderr",
          "text": [
            "Epoch 903 Training: 100%|██████████| 136/136 [00:00<00:00, 723.75it/s]\n",
            "Epoch 903 Validation: 100%|██████████| 34/34 [00:00<00:00, 1549.90it/s]\n"
          ]
        },
        {
          "output_type": "stream",
          "name": "stdout",
          "text": [
            "Epoch 903 Training Loss: 0.8497, Accuracy: 0.6892\n",
            "Epoch 903 Validation Loss: 0.8874, Accuracy: 0.6427\n"
          ]
        },
        {
          "output_type": "stream",
          "name": "stderr",
          "text": [
            "Epoch 904 Training: 100%|██████████| 136/136 [00:00<00:00, 724.52it/s]\n",
            "Epoch 904 Validation: 100%|██████████| 34/34 [00:00<00:00, 1631.26it/s]\n"
          ]
        },
        {
          "output_type": "stream",
          "name": "stdout",
          "text": [
            "Epoch 904 Training Loss: 0.8590, Accuracy: 0.6791\n",
            "Epoch 904 Validation Loss: 0.8967, Accuracy: 0.6409\n"
          ]
        },
        {
          "output_type": "stream",
          "name": "stderr",
          "text": [
            "Epoch 905 Training: 100%|██████████| 136/136 [00:00<00:00, 695.24it/s]\n",
            "Epoch 905 Validation: 100%|██████████| 34/34 [00:00<00:00, 1343.76it/s]\n"
          ]
        },
        {
          "output_type": "stream",
          "name": "stdout",
          "text": [
            "Epoch 905 Training Loss: 0.8500, Accuracy: 0.6901\n",
            "Epoch 905 Validation Loss: 0.8932, Accuracy: 0.6409\n"
          ]
        },
        {
          "output_type": "stream",
          "name": "stderr",
          "text": [
            "Epoch 906 Training: 100%|██████████| 136/136 [00:00<00:00, 741.16it/s]\n",
            "Epoch 906 Validation: 100%|██████████| 34/34 [00:00<00:00, 1691.55it/s]\n"
          ]
        },
        {
          "output_type": "stream",
          "name": "stdout",
          "text": [
            "Epoch 906 Training Loss: 0.8488, Accuracy: 0.6961\n",
            "Epoch 906 Validation Loss: 0.8942, Accuracy: 0.6372\n"
          ]
        },
        {
          "output_type": "stream",
          "name": "stderr",
          "text": [
            "Epoch 907 Training: 100%|██████████| 136/136 [00:00<00:00, 745.05it/s]\n",
            "Epoch 907 Validation: 100%|██████████| 34/34 [00:00<00:00, 1463.56it/s]\n"
          ]
        },
        {
          "output_type": "stream",
          "name": "stdout",
          "text": [
            "Epoch 907 Training Loss: 0.8558, Accuracy: 0.6883\n",
            "Epoch 907 Validation Loss: 0.8897, Accuracy: 0.6409\n"
          ]
        },
        {
          "output_type": "stream",
          "name": "stderr",
          "text": [
            "Epoch 908 Training: 100%|██████████| 136/136 [00:00<00:00, 728.09it/s]\n",
            "Epoch 908 Validation: 100%|██████████| 34/34 [00:00<00:00, 1306.19it/s]\n"
          ]
        },
        {
          "output_type": "stream",
          "name": "stdout",
          "text": [
            "Epoch 908 Training Loss: 0.8486, Accuracy: 0.6971\n",
            "Epoch 908 Validation Loss: 0.8998, Accuracy: 0.6262\n"
          ]
        },
        {
          "output_type": "stream",
          "name": "stderr",
          "text": [
            "Epoch 909 Training: 100%|██████████| 136/136 [00:00<00:00, 733.25it/s]\n",
            "Epoch 909 Validation: 100%|██████████| 34/34 [00:00<00:00, 1695.82it/s]\n"
          ]
        },
        {
          "output_type": "stream",
          "name": "stdout",
          "text": [
            "Epoch 909 Training Loss: 0.8508, Accuracy: 0.6906\n",
            "Epoch 909 Validation Loss: 0.8986, Accuracy: 0.6262\n"
          ]
        },
        {
          "output_type": "stream",
          "name": "stderr",
          "text": [
            "Epoch 910 Training: 100%|██████████| 136/136 [00:00<00:00, 591.02it/s]\n",
            "Epoch 910 Validation: 100%|██████████| 34/34 [00:00<00:00, 1543.12it/s]\n"
          ]
        },
        {
          "output_type": "stream",
          "name": "stdout",
          "text": [
            "Epoch 910 Training Loss: 0.8533, Accuracy: 0.6888\n",
            "Epoch 910 Validation Loss: 0.8850, Accuracy: 0.6483\n"
          ]
        },
        {
          "output_type": "stream",
          "name": "stderr",
          "text": [
            "Epoch 911 Training: 100%|██████████| 136/136 [00:00<00:00, 538.04it/s]\n",
            "Epoch 911 Validation: 100%|██████████| 34/34 [00:00<00:00, 1291.26it/s]\n"
          ]
        },
        {
          "output_type": "stream",
          "name": "stdout",
          "text": [
            "Epoch 911 Training Loss: 0.8517, Accuracy: 0.6892\n",
            "Epoch 911 Validation Loss: 0.9061, Accuracy: 0.6243\n"
          ]
        },
        {
          "output_type": "stream",
          "name": "stderr",
          "text": [
            "Epoch 912 Training: 100%|██████████| 136/136 [00:00<00:00, 574.20it/s]\n",
            "Epoch 912 Validation: 100%|██████████| 34/34 [00:00<00:00, 1829.67it/s]\n"
          ]
        },
        {
          "output_type": "stream",
          "name": "stdout",
          "text": [
            "Epoch 912 Training Loss: 0.8512, Accuracy: 0.6888\n",
            "Epoch 912 Validation Loss: 0.8937, Accuracy: 0.6354\n"
          ]
        },
        {
          "output_type": "stream",
          "name": "stderr",
          "text": [
            "Epoch 913 Training: 100%|██████████| 136/136 [00:00<00:00, 597.74it/s]\n",
            "Epoch 913 Validation: 100%|██████████| 34/34 [00:00<00:00, 1186.35it/s]\n"
          ]
        },
        {
          "output_type": "stream",
          "name": "stdout",
          "text": [
            "Epoch 913 Training Loss: 0.8553, Accuracy: 0.6819\n",
            "Epoch 913 Validation Loss: 0.8792, Accuracy: 0.6648\n"
          ]
        },
        {
          "output_type": "stream",
          "name": "stderr",
          "text": [
            "Epoch 914 Training: 100%|██████████| 136/136 [00:00<00:00, 523.59it/s]\n",
            "Epoch 914 Validation: 100%|██████████| 34/34 [00:00<00:00, 1433.29it/s]\n"
          ]
        },
        {
          "output_type": "stream",
          "name": "stdout",
          "text": [
            "Epoch 914 Training Loss: 0.8481, Accuracy: 0.6934\n",
            "Epoch 914 Validation Loss: 0.8912, Accuracy: 0.6409\n"
          ]
        },
        {
          "output_type": "stream",
          "name": "stderr",
          "text": [
            "Epoch 915 Training: 100%|██████████| 136/136 [00:00<00:00, 598.29it/s]\n",
            "Epoch 915 Validation: 100%|██████████| 34/34 [00:00<00:00, 1410.34it/s]\n"
          ]
        },
        {
          "output_type": "stream",
          "name": "stdout",
          "text": [
            "Epoch 915 Training Loss: 0.8507, Accuracy: 0.6869\n",
            "Epoch 915 Validation Loss: 0.8919, Accuracy: 0.6372\n"
          ]
        },
        {
          "output_type": "stream",
          "name": "stderr",
          "text": [
            "Epoch 916 Training: 100%|██████████| 136/136 [00:00<00:00, 563.10it/s]\n",
            "Epoch 916 Validation: 100%|██████████| 34/34 [00:00<00:00, 1714.12it/s]\n"
          ]
        },
        {
          "output_type": "stream",
          "name": "stdout",
          "text": [
            "Epoch 916 Training Loss: 0.8500, Accuracy: 0.6915\n",
            "Epoch 916 Validation Loss: 0.8833, Accuracy: 0.6519\n"
          ]
        },
        {
          "output_type": "stream",
          "name": "stderr",
          "text": [
            "Epoch 917 Training: 100%|██████████| 136/136 [00:00<00:00, 598.23it/s]\n",
            "Epoch 917 Validation: 100%|██████████| 34/34 [00:00<00:00, 1213.47it/s]\n"
          ]
        },
        {
          "output_type": "stream",
          "name": "stdout",
          "text": [
            "Epoch 917 Training Loss: 0.8483, Accuracy: 0.6906\n",
            "Epoch 917 Validation Loss: 0.8962, Accuracy: 0.6317\n"
          ]
        },
        {
          "output_type": "stream",
          "name": "stderr",
          "text": [
            "Epoch 918 Training: 100%|██████████| 136/136 [00:00<00:00, 684.09it/s]\n",
            "Epoch 918 Validation: 100%|██████████| 34/34 [00:00<00:00, 1793.41it/s]\n"
          ]
        },
        {
          "output_type": "stream",
          "name": "stdout",
          "text": [
            "Epoch 918 Training Loss: 0.8514, Accuracy: 0.6892\n",
            "Epoch 918 Validation Loss: 0.8992, Accuracy: 0.6280\n"
          ]
        },
        {
          "output_type": "stream",
          "name": "stderr",
          "text": [
            "Epoch 919 Training: 100%|██████████| 136/136 [00:00<00:00, 679.83it/s]\n",
            "Epoch 919 Validation: 100%|██████████| 34/34 [00:00<00:00, 1825.59it/s]\n"
          ]
        },
        {
          "output_type": "stream",
          "name": "stdout",
          "text": [
            "Epoch 919 Training Loss: 0.8523, Accuracy: 0.6842\n",
            "Epoch 919 Validation Loss: 0.8914, Accuracy: 0.6409\n"
          ]
        },
        {
          "output_type": "stream",
          "name": "stderr",
          "text": [
            "Epoch 920 Training: 100%|██████████| 136/136 [00:00<00:00, 620.02it/s]\n",
            "Epoch 920 Validation: 100%|██████████| 34/34 [00:00<00:00, 1716.37it/s]\n"
          ]
        },
        {
          "output_type": "stream",
          "name": "stdout",
          "text": [
            "Epoch 920 Training Loss: 0.8483, Accuracy: 0.6957\n",
            "Epoch 920 Validation Loss: 0.9025, Accuracy: 0.6262\n"
          ]
        },
        {
          "output_type": "stream",
          "name": "stderr",
          "text": [
            "Epoch 921 Training: 100%|██████████| 136/136 [00:00<00:00, 469.23it/s]\n",
            "Epoch 921 Validation: 100%|██████████| 34/34 [00:00<00:00, 1600.63it/s]\n"
          ]
        },
        {
          "output_type": "stream",
          "name": "stdout",
          "text": [
            "Epoch 921 Training Loss: 0.8485, Accuracy: 0.6952\n",
            "Epoch 921 Validation Loss: 0.8974, Accuracy: 0.6354\n"
          ]
        },
        {
          "output_type": "stream",
          "name": "stderr",
          "text": [
            "Epoch 922 Training: 100%|██████████| 136/136 [00:00<00:00, 611.31it/s]\n",
            "Epoch 922 Validation: 100%|██████████| 34/34 [00:00<00:00, 1291.13it/s]\n"
          ]
        },
        {
          "output_type": "stream",
          "name": "stdout",
          "text": [
            "Epoch 922 Training Loss: 0.8466, Accuracy: 0.6948\n",
            "Epoch 922 Validation Loss: 0.8935, Accuracy: 0.6446\n"
          ]
        },
        {
          "output_type": "stream",
          "name": "stderr",
          "text": [
            "Epoch 923 Training: 100%|██████████| 136/136 [00:00<00:00, 614.91it/s]\n",
            "Epoch 923 Validation: 100%|██████████| 34/34 [00:00<00:00, 1800.59it/s]\n"
          ]
        },
        {
          "output_type": "stream",
          "name": "stdout",
          "text": [
            "Epoch 923 Training Loss: 0.8473, Accuracy: 0.6929\n",
            "Epoch 923 Validation Loss: 0.8881, Accuracy: 0.6483\n"
          ]
        },
        {
          "output_type": "stream",
          "name": "stderr",
          "text": [
            "Epoch 924 Training: 100%|██████████| 136/136 [00:00<00:00, 653.69it/s]\n",
            "Epoch 924 Validation: 100%|██████████| 34/34 [00:00<00:00, 1520.19it/s]\n"
          ]
        },
        {
          "output_type": "stream",
          "name": "stdout",
          "text": [
            "Epoch 924 Training Loss: 0.8481, Accuracy: 0.6952\n",
            "Epoch 924 Validation Loss: 0.9053, Accuracy: 0.6280\n"
          ]
        },
        {
          "output_type": "stream",
          "name": "stderr",
          "text": [
            "Epoch 925 Training: 100%|██████████| 136/136 [00:00<00:00, 580.22it/s]\n",
            "Epoch 925 Validation: 100%|██████████| 34/34 [00:00<00:00, 1553.07it/s]\n"
          ]
        },
        {
          "output_type": "stream",
          "name": "stdout",
          "text": [
            "Epoch 925 Training Loss: 0.8529, Accuracy: 0.6855\n",
            "Epoch 925 Validation Loss: 0.8945, Accuracy: 0.6372\n"
          ]
        },
        {
          "output_type": "stream",
          "name": "stderr",
          "text": [
            "Epoch 926 Training: 100%|██████████| 136/136 [00:00<00:00, 647.68it/s]\n",
            "Epoch 926 Validation: 100%|██████████| 34/34 [00:00<00:00, 1709.74it/s]\n"
          ]
        },
        {
          "output_type": "stream",
          "name": "stdout",
          "text": [
            "Epoch 926 Training Loss: 0.8477, Accuracy: 0.6971\n",
            "Epoch 926 Validation Loss: 0.9097, Accuracy: 0.6206\n"
          ]
        },
        {
          "output_type": "stream",
          "name": "stderr",
          "text": [
            "Epoch 927 Training: 100%|██████████| 136/136 [00:00<00:00, 634.36it/s]\n",
            "Epoch 927 Validation: 100%|██████████| 34/34 [00:00<00:00, 1805.10it/s]\n"
          ]
        },
        {
          "output_type": "stream",
          "name": "stdout",
          "text": [
            "Epoch 927 Training Loss: 0.8564, Accuracy: 0.6805\n",
            "Epoch 927 Validation Loss: 0.8971, Accuracy: 0.6298\n"
          ]
        },
        {
          "output_type": "stream",
          "name": "stderr",
          "text": [
            "Epoch 928 Training: 100%|██████████| 136/136 [00:00<00:00, 606.36it/s]\n",
            "Epoch 928 Validation: 100%|██████████| 34/34 [00:00<00:00, 1067.61it/s]\n"
          ]
        },
        {
          "output_type": "stream",
          "name": "stdout",
          "text": [
            "Epoch 928 Training Loss: 0.8495, Accuracy: 0.6920\n",
            "Epoch 928 Validation Loss: 0.8972, Accuracy: 0.6372\n"
          ]
        },
        {
          "output_type": "stream",
          "name": "stderr",
          "text": [
            "Epoch 929 Training: 100%|██████████| 136/136 [00:00<00:00, 709.53it/s]\n",
            "Epoch 929 Validation: 100%|██████████| 34/34 [00:00<00:00, 1812.97it/s]\n"
          ]
        },
        {
          "output_type": "stream",
          "name": "stdout",
          "text": [
            "Epoch 929 Training Loss: 0.8478, Accuracy: 0.6975\n",
            "Epoch 929 Validation Loss: 0.8829, Accuracy: 0.6538\n"
          ]
        },
        {
          "output_type": "stream",
          "name": "stderr",
          "text": [
            "Epoch 930 Training: 100%|██████████| 136/136 [00:00<00:00, 728.63it/s]\n",
            "Epoch 930 Validation: 100%|██████████| 34/34 [00:00<00:00, 1756.75it/s]\n"
          ]
        },
        {
          "output_type": "stream",
          "name": "stdout",
          "text": [
            "Epoch 930 Training Loss: 0.8448, Accuracy: 0.6989\n",
            "Epoch 930 Validation Loss: 0.8905, Accuracy: 0.6446\n"
          ]
        },
        {
          "output_type": "stream",
          "name": "stderr",
          "text": [
            "Epoch 931 Training: 100%|██████████| 136/136 [00:00<00:00, 721.93it/s]\n",
            "Epoch 931 Validation: 100%|██████████| 34/34 [00:00<00:00, 1529.60it/s]\n"
          ]
        },
        {
          "output_type": "stream",
          "name": "stdout",
          "text": [
            "Epoch 931 Training Loss: 0.8477, Accuracy: 0.6998\n",
            "Epoch 931 Validation Loss: 0.8995, Accuracy: 0.6262\n"
          ]
        },
        {
          "output_type": "stream",
          "name": "stderr",
          "text": [
            "Epoch 932 Training: 100%|██████████| 136/136 [00:00<00:00, 726.31it/s]\n",
            "Epoch 932 Validation: 100%|██████████| 34/34 [00:00<00:00, 1700.65it/s]\n"
          ]
        },
        {
          "output_type": "stream",
          "name": "stdout",
          "text": [
            "Epoch 932 Training Loss: 0.8494, Accuracy: 0.6952\n",
            "Epoch 932 Validation Loss: 0.9072, Accuracy: 0.6169\n"
          ]
        },
        {
          "output_type": "stream",
          "name": "stderr",
          "text": [
            "Epoch 933 Training: 100%|██████████| 136/136 [00:00<00:00, 710.83it/s]\n",
            "Epoch 933 Validation: 100%|██████████| 34/34 [00:00<00:00, 1678.89it/s]\n"
          ]
        },
        {
          "output_type": "stream",
          "name": "stdout",
          "text": [
            "Epoch 933 Training Loss: 0.8495, Accuracy: 0.6948\n",
            "Epoch 933 Validation Loss: 0.8958, Accuracy: 0.6335\n"
          ]
        },
        {
          "output_type": "stream",
          "name": "stderr",
          "text": [
            "Epoch 934 Training: 100%|██████████| 136/136 [00:00<00:00, 658.58it/s]\n",
            "Epoch 934 Validation: 100%|██████████| 34/34 [00:00<00:00, 1619.05it/s]\n"
          ]
        },
        {
          "output_type": "stream",
          "name": "stdout",
          "text": [
            "Epoch 934 Training Loss: 0.8508, Accuracy: 0.6929\n",
            "Epoch 934 Validation Loss: 0.8967, Accuracy: 0.6262\n"
          ]
        },
        {
          "output_type": "stream",
          "name": "stderr",
          "text": [
            "Epoch 935 Training: 100%|██████████| 136/136 [00:00<00:00, 702.95it/s]\n",
            "Epoch 935 Validation: 100%|██████████| 34/34 [00:00<00:00, 1363.09it/s]\n"
          ]
        },
        {
          "output_type": "stream",
          "name": "stdout",
          "text": [
            "Epoch 935 Training Loss: 0.8522, Accuracy: 0.6869\n",
            "Epoch 935 Validation Loss: 0.8916, Accuracy: 0.6483\n"
          ]
        },
        {
          "output_type": "stream",
          "name": "stderr",
          "text": [
            "Epoch 936 Training: 100%|██████████| 136/136 [00:00<00:00, 714.09it/s]\n",
            "Epoch 936 Validation: 100%|██████████| 34/34 [00:00<00:00, 1559.89it/s]\n"
          ]
        },
        {
          "output_type": "stream",
          "name": "stdout",
          "text": [
            "Epoch 936 Training Loss: 0.8490, Accuracy: 0.6920\n",
            "Epoch 936 Validation Loss: 0.9017, Accuracy: 0.6427\n"
          ]
        },
        {
          "output_type": "stream",
          "name": "stderr",
          "text": [
            "Epoch 937 Training: 100%|██████████| 136/136 [00:00<00:00, 704.17it/s]\n",
            "Epoch 937 Validation: 100%|██████████| 34/34 [00:00<00:00, 1679.68it/s]\n"
          ]
        },
        {
          "output_type": "stream",
          "name": "stdout",
          "text": [
            "Epoch 937 Training Loss: 0.8500, Accuracy: 0.6906\n",
            "Epoch 937 Validation Loss: 0.9062, Accuracy: 0.6262\n"
          ]
        },
        {
          "output_type": "stream",
          "name": "stderr",
          "text": [
            "Epoch 938 Training: 100%|██████████| 136/136 [00:00<00:00, 647.75it/s]\n",
            "Epoch 938 Validation: 100%|██████████| 34/34 [00:00<00:00, 1748.51it/s]\n"
          ]
        },
        {
          "output_type": "stream",
          "name": "stdout",
          "text": [
            "Epoch 938 Training Loss: 0.8519, Accuracy: 0.6869\n",
            "Epoch 938 Validation Loss: 0.9067, Accuracy: 0.6225\n"
          ]
        },
        {
          "output_type": "stream",
          "name": "stderr",
          "text": [
            "Epoch 939 Training: 100%|██████████| 136/136 [00:00<00:00, 715.85it/s]\n",
            "Epoch 939 Validation: 100%|██████████| 34/34 [00:00<00:00, 1705.25it/s]\n"
          ]
        },
        {
          "output_type": "stream",
          "name": "stdout",
          "text": [
            "Epoch 939 Training Loss: 0.8488, Accuracy: 0.6975\n",
            "Epoch 939 Validation Loss: 0.8884, Accuracy: 0.6519\n"
          ]
        },
        {
          "output_type": "stream",
          "name": "stderr",
          "text": [
            "Epoch 940 Training: 100%|██████████| 136/136 [00:00<00:00, 697.72it/s]\n",
            "Epoch 940 Validation: 100%|██████████| 34/34 [00:00<00:00, 1492.70it/s]\n"
          ]
        },
        {
          "output_type": "stream",
          "name": "stdout",
          "text": [
            "Epoch 940 Training Loss: 0.8473, Accuracy: 0.6984\n",
            "Epoch 940 Validation Loss: 0.8933, Accuracy: 0.6409\n"
          ]
        },
        {
          "output_type": "stream",
          "name": "stderr",
          "text": [
            "Epoch 941 Training: 100%|██████████| 136/136 [00:00<00:00, 698.38it/s]\n",
            "Epoch 941 Validation: 100%|██████████| 34/34 [00:00<00:00, 1628.30it/s]\n"
          ]
        },
        {
          "output_type": "stream",
          "name": "stdout",
          "text": [
            "Epoch 941 Training Loss: 0.8466, Accuracy: 0.6948\n",
            "Epoch 941 Validation Loss: 0.8948, Accuracy: 0.6390\n"
          ]
        },
        {
          "output_type": "stream",
          "name": "stderr",
          "text": [
            "Epoch 942 Training: 100%|██████████| 136/136 [00:00<00:00, 686.03it/s]\n",
            "Epoch 942 Validation: 100%|██████████| 34/34 [00:00<00:00, 1750.65it/s]\n"
          ]
        },
        {
          "output_type": "stream",
          "name": "stdout",
          "text": [
            "Epoch 942 Training Loss: 0.8489, Accuracy: 0.6934\n",
            "Epoch 942 Validation Loss: 0.9015, Accuracy: 0.6298\n"
          ]
        },
        {
          "output_type": "stream",
          "name": "stderr",
          "text": [
            "Epoch 943 Training: 100%|██████████| 136/136 [00:00<00:00, 692.85it/s]\n",
            "Epoch 943 Validation: 100%|██████████| 34/34 [00:00<00:00, 1717.05it/s]\n"
          ]
        },
        {
          "output_type": "stream",
          "name": "stdout",
          "text": [
            "Epoch 943 Training Loss: 0.8552, Accuracy: 0.6809\n",
            "Epoch 943 Validation Loss: 0.8909, Accuracy: 0.6390\n"
          ]
        },
        {
          "output_type": "stream",
          "name": "stderr",
          "text": [
            "Epoch 944 Training: 100%|██████████| 136/136 [00:00<00:00, 731.62it/s]\n",
            "Epoch 944 Validation: 100%|██████████| 34/34 [00:00<00:00, 1745.55it/s]\n"
          ]
        },
        {
          "output_type": "stream",
          "name": "stdout",
          "text": [
            "Epoch 944 Training Loss: 0.8495, Accuracy: 0.6975\n",
            "Epoch 944 Validation Loss: 0.8886, Accuracy: 0.6464\n"
          ]
        },
        {
          "output_type": "stream",
          "name": "stderr",
          "text": [
            "Epoch 945 Training: 100%|██████████| 136/136 [00:00<00:00, 721.75it/s]\n",
            "Epoch 945 Validation: 100%|██████████| 34/34 [00:00<00:00, 1559.94it/s]\n"
          ]
        },
        {
          "output_type": "stream",
          "name": "stdout",
          "text": [
            "Epoch 945 Training Loss: 0.8513, Accuracy: 0.6892\n",
            "Epoch 945 Validation Loss: 0.8974, Accuracy: 0.6335\n"
          ]
        },
        {
          "output_type": "stream",
          "name": "stderr",
          "text": [
            "Epoch 946 Training: 100%|██████████| 136/136 [00:00<00:00, 761.88it/s]\n",
            "Epoch 946 Validation: 100%|██████████| 34/34 [00:00<00:00, 1541.52it/s]\n"
          ]
        },
        {
          "output_type": "stream",
          "name": "stdout",
          "text": [
            "Epoch 946 Training Loss: 0.8466, Accuracy: 0.6998\n",
            "Epoch 946 Validation Loss: 0.8909, Accuracy: 0.6390\n"
          ]
        },
        {
          "output_type": "stream",
          "name": "stderr",
          "text": [
            "Epoch 947 Training: 100%|██████████| 136/136 [00:00<00:00, 713.43it/s]\n",
            "Epoch 947 Validation: 100%|██████████| 34/34 [00:00<00:00, 1631.89it/s]\n"
          ]
        },
        {
          "output_type": "stream",
          "name": "stdout",
          "text": [
            "Epoch 947 Training Loss: 0.8486, Accuracy: 0.6920\n",
            "Epoch 947 Validation Loss: 0.8974, Accuracy: 0.6317\n"
          ]
        },
        {
          "output_type": "stream",
          "name": "stderr",
          "text": [
            "Epoch 948 Training: 100%|██████████| 136/136 [00:00<00:00, 724.77it/s]\n",
            "Epoch 948 Validation: 100%|██████████| 34/34 [00:00<00:00, 1777.49it/s]\n"
          ]
        },
        {
          "output_type": "stream",
          "name": "stdout",
          "text": [
            "Epoch 948 Training Loss: 0.8480, Accuracy: 0.6961\n",
            "Epoch 948 Validation Loss: 0.8890, Accuracy: 0.6446\n"
          ]
        },
        {
          "output_type": "stream",
          "name": "stderr",
          "text": [
            "Epoch 949 Training: 100%|██████████| 136/136 [00:00<00:00, 714.77it/s]\n",
            "Epoch 949 Validation: 100%|██████████| 34/34 [00:00<00:00, 1728.71it/s]\n"
          ]
        },
        {
          "output_type": "stream",
          "name": "stdout",
          "text": [
            "Epoch 949 Training Loss: 0.8473, Accuracy: 0.6929\n",
            "Epoch 949 Validation Loss: 0.8806, Accuracy: 0.6593\n"
          ]
        },
        {
          "output_type": "stream",
          "name": "stderr",
          "text": [
            "Epoch 950 Training: 100%|██████████| 136/136 [00:00<00:00, 696.40it/s]\n",
            "Epoch 950 Validation: 100%|██████████| 34/34 [00:00<00:00, 1601.27it/s]\n"
          ]
        },
        {
          "output_type": "stream",
          "name": "stdout",
          "text": [
            "Epoch 950 Training Loss: 0.8494, Accuracy: 0.6934\n",
            "Epoch 950 Validation Loss: 0.8905, Accuracy: 0.6446\n"
          ]
        },
        {
          "output_type": "stream",
          "name": "stderr",
          "text": [
            "Epoch 951 Training: 100%|██████████| 136/136 [00:00<00:00, 686.44it/s]\n",
            "Epoch 951 Validation: 100%|██████████| 34/34 [00:00<00:00, 1511.62it/s]\n"
          ]
        },
        {
          "output_type": "stream",
          "name": "stdout",
          "text": [
            "Epoch 951 Training Loss: 0.8476, Accuracy: 0.6957\n",
            "Epoch 951 Validation Loss: 0.8975, Accuracy: 0.6390\n"
          ]
        },
        {
          "output_type": "stream",
          "name": "stderr",
          "text": [
            "Epoch 952 Training: 100%|██████████| 136/136 [00:00<00:00, 665.63it/s]\n",
            "Epoch 952 Validation: 100%|██████████| 34/34 [00:00<00:00, 1647.92it/s]\n"
          ]
        },
        {
          "output_type": "stream",
          "name": "stdout",
          "text": [
            "Epoch 952 Training Loss: 0.8526, Accuracy: 0.6883\n",
            "Epoch 952 Validation Loss: 0.8957, Accuracy: 0.6390\n"
          ]
        },
        {
          "output_type": "stream",
          "name": "stderr",
          "text": [
            "Epoch 953 Training: 100%|██████████| 136/136 [00:00<00:00, 714.28it/s]\n",
            "Epoch 953 Validation: 100%|██████████| 34/34 [00:00<00:00, 1759.10it/s]\n"
          ]
        },
        {
          "output_type": "stream",
          "name": "stdout",
          "text": [
            "Epoch 953 Training Loss: 0.8519, Accuracy: 0.6860\n",
            "Epoch 953 Validation Loss: 0.8923, Accuracy: 0.6317\n"
          ]
        },
        {
          "output_type": "stream",
          "name": "stderr",
          "text": [
            "Epoch 954 Training: 100%|██████████| 136/136 [00:00<00:00, 726.22it/s]\n",
            "Epoch 954 Validation: 100%|██████████| 34/34 [00:00<00:00, 1565.69it/s]\n"
          ]
        },
        {
          "output_type": "stream",
          "name": "stdout",
          "text": [
            "Epoch 954 Training Loss: 0.8490, Accuracy: 0.6924\n",
            "Epoch 954 Validation Loss: 0.8935, Accuracy: 0.6298\n"
          ]
        },
        {
          "output_type": "stream",
          "name": "stderr",
          "text": [
            "Epoch 955 Training: 100%|██████████| 136/136 [00:00<00:00, 722.56it/s]\n",
            "Epoch 955 Validation: 100%|██████████| 34/34 [00:00<00:00, 1670.80it/s]\n"
          ]
        },
        {
          "output_type": "stream",
          "name": "stdout",
          "text": [
            "Epoch 955 Training Loss: 0.8488, Accuracy: 0.6934\n",
            "Epoch 955 Validation Loss: 0.8999, Accuracy: 0.6317\n"
          ]
        },
        {
          "output_type": "stream",
          "name": "stderr",
          "text": [
            "Epoch 956 Training: 100%|██████████| 136/136 [00:00<00:00, 694.55it/s]\n",
            "Epoch 956 Validation: 100%|██████████| 34/34 [00:00<00:00, 1782.25it/s]\n"
          ]
        },
        {
          "output_type": "stream",
          "name": "stdout",
          "text": [
            "Epoch 956 Training Loss: 0.8482, Accuracy: 0.6924\n",
            "Epoch 956 Validation Loss: 0.8904, Accuracy: 0.6317\n"
          ]
        },
        {
          "output_type": "stream",
          "name": "stderr",
          "text": [
            "Epoch 957 Training: 100%|██████████| 136/136 [00:00<00:00, 733.94it/s]\n",
            "Epoch 957 Validation: 100%|██████████| 34/34 [00:00<00:00, 1652.91it/s]\n"
          ]
        },
        {
          "output_type": "stream",
          "name": "stdout",
          "text": [
            "Epoch 957 Training Loss: 0.8506, Accuracy: 0.6943\n",
            "Epoch 957 Validation Loss: 0.8831, Accuracy: 0.6519\n"
          ]
        },
        {
          "output_type": "stream",
          "name": "stderr",
          "text": [
            "Epoch 958 Training: 100%|██████████| 136/136 [00:00<00:00, 702.12it/s]\n",
            "Epoch 958 Validation: 100%|██████████| 34/34 [00:00<00:00, 1585.13it/s]\n"
          ]
        },
        {
          "output_type": "stream",
          "name": "stdout",
          "text": [
            "Epoch 958 Training Loss: 0.8539, Accuracy: 0.6855\n",
            "Epoch 958 Validation Loss: 0.8875, Accuracy: 0.6427\n"
          ]
        },
        {
          "output_type": "stream",
          "name": "stderr",
          "text": [
            "Epoch 959 Training: 100%|██████████| 136/136 [00:00<00:00, 696.76it/s]\n",
            "Epoch 959 Validation: 100%|██████████| 34/34 [00:00<00:00, 1640.28it/s]\n"
          ]
        },
        {
          "output_type": "stream",
          "name": "stdout",
          "text": [
            "Epoch 959 Training Loss: 0.8487, Accuracy: 0.6943\n",
            "Epoch 959 Validation Loss: 0.8814, Accuracy: 0.6575\n"
          ]
        },
        {
          "output_type": "stream",
          "name": "stderr",
          "text": [
            "Epoch 960 Training: 100%|██████████| 136/136 [00:00<00:00, 731.85it/s]\n",
            "Epoch 960 Validation: 100%|██████████| 34/34 [00:00<00:00, 1796.25it/s]\n"
          ]
        },
        {
          "output_type": "stream",
          "name": "stdout",
          "text": [
            "Epoch 960 Training Loss: 0.8498, Accuracy: 0.6915\n",
            "Epoch 960 Validation Loss: 0.8960, Accuracy: 0.6354\n"
          ]
        },
        {
          "output_type": "stream",
          "name": "stderr",
          "text": [
            "Epoch 961 Training: 100%|██████████| 136/136 [00:00<00:00, 754.88it/s]\n",
            "Epoch 961 Validation: 100%|██████████| 34/34 [00:00<00:00, 1867.28it/s]\n"
          ]
        },
        {
          "output_type": "stream",
          "name": "stdout",
          "text": [
            "Epoch 961 Training Loss: 0.8507, Accuracy: 0.6892\n",
            "Epoch 961 Validation Loss: 0.8959, Accuracy: 0.6298\n"
          ]
        },
        {
          "output_type": "stream",
          "name": "stderr",
          "text": [
            "Epoch 962 Training: 100%|██████████| 136/136 [00:00<00:00, 704.96it/s]\n",
            "Epoch 962 Validation: 100%|██████████| 34/34 [00:00<00:00, 1699.62it/s]\n"
          ]
        },
        {
          "output_type": "stream",
          "name": "stdout",
          "text": [
            "Epoch 962 Training Loss: 0.8467, Accuracy: 0.7017\n",
            "Epoch 962 Validation Loss: 0.8949, Accuracy: 0.6372\n"
          ]
        },
        {
          "output_type": "stream",
          "name": "stderr",
          "text": [
            "Epoch 963 Training: 100%|██████████| 136/136 [00:00<00:00, 726.29it/s]\n",
            "Epoch 963 Validation: 100%|██████████| 34/34 [00:00<00:00, 1366.43it/s]\n"
          ]
        },
        {
          "output_type": "stream",
          "name": "stdout",
          "text": [
            "Epoch 963 Training Loss: 0.8463, Accuracy: 0.6961\n",
            "Epoch 963 Validation Loss: 0.8943, Accuracy: 0.6409\n"
          ]
        },
        {
          "output_type": "stream",
          "name": "stderr",
          "text": [
            "Epoch 964 Training: 100%|██████████| 136/136 [00:00<00:00, 803.11it/s]\n",
            "Epoch 964 Validation: 100%|██████████| 34/34 [00:00<00:00, 1779.73it/s]\n"
          ]
        },
        {
          "output_type": "stream",
          "name": "stdout",
          "text": [
            "Epoch 964 Training Loss: 0.8509, Accuracy: 0.6929\n",
            "Epoch 964 Validation Loss: 0.8973, Accuracy: 0.6372\n"
          ]
        },
        {
          "output_type": "stream",
          "name": "stderr",
          "text": [
            "Epoch 965 Training: 100%|██████████| 136/136 [00:00<00:00, 787.28it/s]\n",
            "Epoch 965 Validation: 100%|██████████| 34/34 [00:00<00:00, 1842.63it/s]\n"
          ]
        },
        {
          "output_type": "stream",
          "name": "stdout",
          "text": [
            "Epoch 965 Training Loss: 0.8486, Accuracy: 0.6924\n",
            "Epoch 965 Validation Loss: 0.8906, Accuracy: 0.6390\n"
          ]
        },
        {
          "output_type": "stream",
          "name": "stderr",
          "text": [
            "Epoch 966 Training: 100%|██████████| 136/136 [00:00<00:00, 759.56it/s]\n",
            "Epoch 966 Validation: 100%|██████████| 34/34 [00:00<00:00, 1385.48it/s]\n"
          ]
        },
        {
          "output_type": "stream",
          "name": "stdout",
          "text": [
            "Epoch 966 Training Loss: 0.8467, Accuracy: 0.6975\n",
            "Epoch 966 Validation Loss: 0.8880, Accuracy: 0.6501\n"
          ]
        },
        {
          "output_type": "stream",
          "name": "stderr",
          "text": [
            "Epoch 967 Training: 100%|██████████| 136/136 [00:00<00:00, 608.34it/s]\n",
            "Epoch 967 Validation: 100%|██████████| 34/34 [00:00<00:00, 1440.88it/s]\n"
          ]
        },
        {
          "output_type": "stream",
          "name": "stdout",
          "text": [
            "Epoch 967 Training Loss: 0.8469, Accuracy: 0.6948\n",
            "Epoch 967 Validation Loss: 0.8915, Accuracy: 0.6409\n"
          ]
        },
        {
          "output_type": "stream",
          "name": "stderr",
          "text": [
            "Epoch 968 Training: 100%|██████████| 136/136 [00:00<00:00, 572.08it/s]\n",
            "Epoch 968 Validation: 100%|██████████| 34/34 [00:00<00:00, 1417.32it/s]\n"
          ]
        },
        {
          "output_type": "stream",
          "name": "stdout",
          "text": [
            "Epoch 968 Training Loss: 0.8514, Accuracy: 0.6911\n",
            "Epoch 968 Validation Loss: 0.8909, Accuracy: 0.6446\n"
          ]
        },
        {
          "output_type": "stream",
          "name": "stderr",
          "text": [
            "Epoch 969 Training: 100%|██████████| 136/136 [00:00<00:00, 577.96it/s]\n",
            "Epoch 969 Validation: 100%|██████████| 34/34 [00:00<00:00, 1552.90it/s]\n"
          ]
        },
        {
          "output_type": "stream",
          "name": "stdout",
          "text": [
            "Epoch 969 Training Loss: 0.8491, Accuracy: 0.6929\n",
            "Epoch 969 Validation Loss: 0.8987, Accuracy: 0.6225\n"
          ]
        },
        {
          "output_type": "stream",
          "name": "stderr",
          "text": [
            "Epoch 970 Training: 100%|██████████| 136/136 [00:00<00:00, 703.21it/s]\n",
            "Epoch 970 Validation: 100%|██████████| 34/34 [00:00<00:00, 1511.17it/s]\n"
          ]
        },
        {
          "output_type": "stream",
          "name": "stdout",
          "text": [
            "Epoch 970 Training Loss: 0.8514, Accuracy: 0.6892\n",
            "Epoch 970 Validation Loss: 0.9011, Accuracy: 0.6262\n"
          ]
        },
        {
          "output_type": "stream",
          "name": "stderr",
          "text": [
            "Epoch 971 Training: 100%|██████████| 136/136 [00:00<00:00, 689.69it/s]\n",
            "Epoch 971 Validation: 100%|██████████| 34/34 [00:00<00:00, 1833.29it/s]\n"
          ]
        },
        {
          "output_type": "stream",
          "name": "stdout",
          "text": [
            "Epoch 971 Training Loss: 0.8473, Accuracy: 0.6948\n",
            "Epoch 971 Validation Loss: 0.8918, Accuracy: 0.6354\n"
          ]
        },
        {
          "output_type": "stream",
          "name": "stderr",
          "text": [
            "Epoch 972 Training: 100%|██████████| 136/136 [00:00<00:00, 708.51it/s]\n",
            "Epoch 972 Validation: 100%|██████████| 34/34 [00:00<00:00, 1898.46it/s]\n"
          ]
        },
        {
          "output_type": "stream",
          "name": "stdout",
          "text": [
            "Epoch 972 Training Loss: 0.8454, Accuracy: 0.7007\n",
            "Epoch 972 Validation Loss: 0.8859, Accuracy: 0.6446\n"
          ]
        },
        {
          "output_type": "stream",
          "name": "stderr",
          "text": [
            "Epoch 973 Training: 100%|██████████| 136/136 [00:00<00:00, 595.23it/s]\n",
            "Epoch 973 Validation: 100%|██████████| 34/34 [00:00<00:00, 1069.58it/s]\n"
          ]
        },
        {
          "output_type": "stream",
          "name": "stdout",
          "text": [
            "Epoch 973 Training Loss: 0.8498, Accuracy: 0.6915\n",
            "Epoch 973 Validation Loss: 0.8973, Accuracy: 0.6298\n"
          ]
        },
        {
          "output_type": "stream",
          "name": "stderr",
          "text": [
            "Epoch 974 Training: 100%|██████████| 136/136 [00:00<00:00, 581.12it/s]\n",
            "Epoch 974 Validation: 100%|██████████| 34/34 [00:00<00:00, 1524.09it/s]\n"
          ]
        },
        {
          "output_type": "stream",
          "name": "stdout",
          "text": [
            "Epoch 974 Training Loss: 0.8458, Accuracy: 0.6961\n",
            "Epoch 974 Validation Loss: 0.9022, Accuracy: 0.6243\n"
          ]
        },
        {
          "output_type": "stream",
          "name": "stderr",
          "text": [
            "Epoch 975 Training: 100%|██████████| 136/136 [00:00<00:00, 529.70it/s]\n",
            "Epoch 975 Validation: 100%|██████████| 34/34 [00:00<00:00, 1144.88it/s]\n"
          ]
        },
        {
          "output_type": "stream",
          "name": "stdout",
          "text": [
            "Epoch 975 Training Loss: 0.8460, Accuracy: 0.6966\n",
            "Epoch 975 Validation Loss: 0.8850, Accuracy: 0.6538\n"
          ]
        },
        {
          "output_type": "stream",
          "name": "stderr",
          "text": [
            "Epoch 976 Training: 100%|██████████| 136/136 [00:00<00:00, 554.45it/s]\n",
            "Epoch 976 Validation: 100%|██████████| 34/34 [00:00<00:00, 1708.88it/s]\n"
          ]
        },
        {
          "output_type": "stream",
          "name": "stdout",
          "text": [
            "Epoch 976 Training Loss: 0.8443, Accuracy: 0.7003\n",
            "Epoch 976 Validation Loss: 0.8817, Accuracy: 0.6501\n"
          ]
        },
        {
          "output_type": "stream",
          "name": "stderr",
          "text": [
            "Epoch 977 Training: 100%|██████████| 136/136 [00:00<00:00, 534.19it/s]\n",
            "Epoch 977 Validation: 100%|██████████| 34/34 [00:00<00:00, 1552.74it/s]\n"
          ]
        },
        {
          "output_type": "stream",
          "name": "stdout",
          "text": [
            "Epoch 977 Training Loss: 0.8520, Accuracy: 0.6874\n",
            "Epoch 977 Validation Loss: 0.8931, Accuracy: 0.6372\n"
          ]
        },
        {
          "output_type": "stream",
          "name": "stderr",
          "text": [
            "Epoch 978 Training: 100%|██████████| 136/136 [00:00<00:00, 586.34it/s]\n",
            "Epoch 978 Validation: 100%|██████████| 34/34 [00:00<00:00, 1546.47it/s]\n"
          ]
        },
        {
          "output_type": "stream",
          "name": "stdout",
          "text": [
            "Epoch 978 Training Loss: 0.8472, Accuracy: 0.6961\n",
            "Epoch 978 Validation Loss: 0.8849, Accuracy: 0.6501\n"
          ]
        },
        {
          "output_type": "stream",
          "name": "stderr",
          "text": [
            "Epoch 979 Training: 100%|██████████| 136/136 [00:00<00:00, 509.89it/s]\n",
            "Epoch 979 Validation: 100%|██████████| 34/34 [00:00<00:00, 1606.18it/s]\n"
          ]
        },
        {
          "output_type": "stream",
          "name": "stdout",
          "text": [
            "Epoch 979 Training Loss: 0.8487, Accuracy: 0.6929\n",
            "Epoch 979 Validation Loss: 0.9069, Accuracy: 0.6243\n"
          ]
        },
        {
          "output_type": "stream",
          "name": "stderr",
          "text": [
            "Epoch 980 Training: 100%|██████████| 136/136 [00:00<00:00, 630.10it/s]\n",
            "Epoch 980 Validation: 100%|██████████| 34/34 [00:00<00:00, 1700.93it/s]\n"
          ]
        },
        {
          "output_type": "stream",
          "name": "stdout",
          "text": [
            "Epoch 980 Training Loss: 0.8464, Accuracy: 0.6943\n",
            "Epoch 980 Validation Loss: 0.8898, Accuracy: 0.6446\n"
          ]
        },
        {
          "output_type": "stream",
          "name": "stderr",
          "text": [
            "Epoch 981 Training: 100%|██████████| 136/136 [00:00<00:00, 676.72it/s]\n",
            "Epoch 981 Validation: 100%|██████████| 34/34 [00:00<00:00, 1432.64it/s]\n"
          ]
        },
        {
          "output_type": "stream",
          "name": "stdout",
          "text": [
            "Epoch 981 Training Loss: 0.8480, Accuracy: 0.6971\n",
            "Epoch 981 Validation Loss: 0.8914, Accuracy: 0.6372\n"
          ]
        },
        {
          "output_type": "stream",
          "name": "stderr",
          "text": [
            "Epoch 982 Training: 100%|██████████| 136/136 [00:00<00:00, 609.09it/s]\n",
            "Epoch 982 Validation: 100%|██████████| 34/34 [00:00<00:00, 1613.85it/s]\n"
          ]
        },
        {
          "output_type": "stream",
          "name": "stdout",
          "text": [
            "Epoch 982 Training Loss: 0.8496, Accuracy: 0.6994\n",
            "Epoch 982 Validation Loss: 0.8864, Accuracy: 0.6501\n"
          ]
        },
        {
          "output_type": "stream",
          "name": "stderr",
          "text": [
            "Epoch 983 Training: 100%|██████████| 136/136 [00:00<00:00, 612.86it/s]\n",
            "Epoch 983 Validation: 100%|██████████| 34/34 [00:00<00:00, 1408.21it/s]\n"
          ]
        },
        {
          "output_type": "stream",
          "name": "stdout",
          "text": [
            "Epoch 983 Training Loss: 0.8511, Accuracy: 0.6915\n",
            "Epoch 983 Validation Loss: 0.8863, Accuracy: 0.6464\n"
          ]
        },
        {
          "output_type": "stream",
          "name": "stderr",
          "text": [
            "Epoch 984 Training: 100%|██████████| 136/136 [00:00<00:00, 672.61it/s]\n",
            "Epoch 984 Validation: 100%|██████████| 34/34 [00:00<00:00, 1716.87it/s]\n"
          ]
        },
        {
          "output_type": "stream",
          "name": "stdout",
          "text": [
            "Epoch 984 Training Loss: 0.8473, Accuracy: 0.7007\n",
            "Epoch 984 Validation Loss: 0.8842, Accuracy: 0.6519\n"
          ]
        },
        {
          "output_type": "stream",
          "name": "stderr",
          "text": [
            "Epoch 985 Training: 100%|██████████| 136/136 [00:00<00:00, 679.08it/s]\n",
            "Epoch 985 Validation: 100%|██████████| 34/34 [00:00<00:00, 1484.45it/s]\n"
          ]
        },
        {
          "output_type": "stream",
          "name": "stdout",
          "text": [
            "Epoch 985 Training Loss: 0.8467, Accuracy: 0.6989\n",
            "Epoch 985 Validation Loss: 0.9041, Accuracy: 0.6298\n"
          ]
        },
        {
          "output_type": "stream",
          "name": "stderr",
          "text": [
            "Epoch 986 Training: 100%|██████████| 136/136 [00:00<00:00, 594.10it/s]\n",
            "Epoch 986 Validation: 100%|██████████| 34/34 [00:00<00:00, 1805.67it/s]\n"
          ]
        },
        {
          "output_type": "stream",
          "name": "stdout",
          "text": [
            "Epoch 986 Training Loss: 0.8493, Accuracy: 0.6934\n",
            "Epoch 986 Validation Loss: 0.8782, Accuracy: 0.6722\n"
          ]
        },
        {
          "output_type": "stream",
          "name": "stderr",
          "text": [
            "Epoch 987 Training: 100%|██████████| 136/136 [00:00<00:00, 704.90it/s]\n",
            "Epoch 987 Validation: 100%|██████████| 34/34 [00:00<00:00, 1424.85it/s]\n"
          ]
        },
        {
          "output_type": "stream",
          "name": "stdout",
          "text": [
            "Epoch 987 Training Loss: 0.8489, Accuracy: 0.6915\n",
            "Epoch 987 Validation Loss: 0.9028, Accuracy: 0.6335\n"
          ]
        },
        {
          "output_type": "stream",
          "name": "stderr",
          "text": [
            "Epoch 988 Training: 100%|██████████| 136/136 [00:00<00:00, 704.95it/s]\n",
            "Epoch 988 Validation: 100%|██████████| 34/34 [00:00<00:00, 1452.03it/s]\n"
          ]
        },
        {
          "output_type": "stream",
          "name": "stdout",
          "text": [
            "Epoch 988 Training Loss: 0.8539, Accuracy: 0.6828\n",
            "Epoch 988 Validation Loss: 0.8953, Accuracy: 0.6390\n"
          ]
        },
        {
          "output_type": "stream",
          "name": "stderr",
          "text": [
            "Epoch 989 Training: 100%|██████████| 136/136 [00:00<00:00, 709.10it/s]\n",
            "Epoch 989 Validation: 100%|██████████| 34/34 [00:00<00:00, 1910.03it/s]\n"
          ]
        },
        {
          "output_type": "stream",
          "name": "stdout",
          "text": [
            "Epoch 989 Training Loss: 0.8483, Accuracy: 0.6874\n",
            "Epoch 989 Validation Loss: 0.8992, Accuracy: 0.6354\n"
          ]
        },
        {
          "output_type": "stream",
          "name": "stderr",
          "text": [
            "Epoch 990 Training: 100%|██████████| 136/136 [00:00<00:00, 590.76it/s]\n",
            "Epoch 990 Validation: 100%|██████████| 34/34 [00:00<00:00, 1660.59it/s]\n"
          ]
        },
        {
          "output_type": "stream",
          "name": "stdout",
          "text": [
            "Epoch 990 Training Loss: 0.8476, Accuracy: 0.6943\n",
            "Epoch 990 Validation Loss: 0.8934, Accuracy: 0.6354\n"
          ]
        },
        {
          "output_type": "stream",
          "name": "stderr",
          "text": [
            "Epoch 991 Training: 100%|██████████| 136/136 [00:00<00:00, 682.91it/s]\n",
            "Epoch 991 Validation: 100%|██████████| 34/34 [00:00<00:00, 1579.25it/s]\n"
          ]
        },
        {
          "output_type": "stream",
          "name": "stdout",
          "text": [
            "Epoch 991 Training Loss: 0.8512, Accuracy: 0.6869\n",
            "Epoch 991 Validation Loss: 0.8916, Accuracy: 0.6519\n"
          ]
        },
        {
          "output_type": "stream",
          "name": "stderr",
          "text": [
            "Epoch 992 Training: 100%|██████████| 136/136 [00:00<00:00, 685.44it/s]\n",
            "Epoch 992 Validation: 100%|██████████| 34/34 [00:00<00:00, 1711.88it/s]\n"
          ]
        },
        {
          "output_type": "stream",
          "name": "stdout",
          "text": [
            "Epoch 992 Training Loss: 0.8561, Accuracy: 0.6855\n",
            "Epoch 992 Validation Loss: 0.8945, Accuracy: 0.6409\n"
          ]
        },
        {
          "output_type": "stream",
          "name": "stderr",
          "text": [
            "Epoch 993 Training: 100%|██████████| 136/136 [00:00<00:00, 707.74it/s]\n",
            "Epoch 993 Validation: 100%|██████████| 34/34 [00:00<00:00, 1579.85it/s]\n"
          ]
        },
        {
          "output_type": "stream",
          "name": "stdout",
          "text": [
            "Epoch 993 Training Loss: 0.8486, Accuracy: 0.6924\n",
            "Epoch 993 Validation Loss: 0.8929, Accuracy: 0.6372\n"
          ]
        },
        {
          "output_type": "stream",
          "name": "stderr",
          "text": [
            "Epoch 994 Training: 100%|██████████| 136/136 [00:00<00:00, 668.20it/s]\n",
            "Epoch 994 Validation: 100%|██████████| 34/34 [00:00<00:00, 1769.79it/s]\n"
          ]
        },
        {
          "output_type": "stream",
          "name": "stdout",
          "text": [
            "Epoch 994 Training Loss: 0.8510, Accuracy: 0.6952\n",
            "Epoch 994 Validation Loss: 0.8908, Accuracy: 0.6427\n"
          ]
        },
        {
          "output_type": "stream",
          "name": "stderr",
          "text": [
            "Epoch 995 Training: 100%|██████████| 136/136 [00:00<00:00, 683.32it/s]\n",
            "Epoch 995 Validation: 100%|██████████| 34/34 [00:00<00:00, 1595.95it/s]\n"
          ]
        },
        {
          "output_type": "stream",
          "name": "stdout",
          "text": [
            "Epoch 995 Training Loss: 0.8451, Accuracy: 0.7021\n",
            "Epoch 995 Validation Loss: 0.8830, Accuracy: 0.6538\n"
          ]
        },
        {
          "output_type": "stream",
          "name": "stderr",
          "text": [
            "Epoch 996 Training: 100%|██████████| 136/136 [00:00<00:00, 698.89it/s]\n",
            "Epoch 996 Validation: 100%|██████████| 34/34 [00:00<00:00, 1566.19it/s]\n"
          ]
        },
        {
          "output_type": "stream",
          "name": "stdout",
          "text": [
            "Epoch 996 Training Loss: 0.8456, Accuracy: 0.6998\n",
            "Epoch 996 Validation Loss: 0.8939, Accuracy: 0.6372\n"
          ]
        },
        {
          "output_type": "stream",
          "name": "stderr",
          "text": [
            "Epoch 997 Training: 100%|██████████| 136/136 [00:00<00:00, 718.16it/s]\n",
            "Epoch 997 Validation: 100%|██████████| 34/34 [00:00<00:00, 1650.48it/s]\n"
          ]
        },
        {
          "output_type": "stream",
          "name": "stdout",
          "text": [
            "Epoch 997 Training Loss: 0.8498, Accuracy: 0.6961\n",
            "Epoch 997 Validation Loss: 0.9023, Accuracy: 0.6280\n"
          ]
        },
        {
          "output_type": "stream",
          "name": "stderr",
          "text": [
            "Epoch 998 Training: 100%|██████████| 136/136 [00:00<00:00, 734.50it/s]\n",
            "Epoch 998 Validation: 100%|██████████| 34/34 [00:00<00:00, 1699.13it/s]\n"
          ]
        },
        {
          "output_type": "stream",
          "name": "stdout",
          "text": [
            "Epoch 998 Training Loss: 0.8491, Accuracy: 0.6906\n",
            "Epoch 998 Validation Loss: 0.8926, Accuracy: 0.6354\n"
          ]
        },
        {
          "output_type": "stream",
          "name": "stderr",
          "text": [
            "Epoch 999 Training: 100%|██████████| 136/136 [00:00<00:00, 652.05it/s]\n",
            "Epoch 999 Validation: 100%|██████████| 34/34 [00:00<00:00, 1630.14it/s]\n"
          ]
        },
        {
          "output_type": "stream",
          "name": "stdout",
          "text": [
            "Epoch 999 Training Loss: 0.8481, Accuracy: 0.6943\n",
            "Epoch 999 Validation Loss: 0.8907, Accuracy: 0.6409\n"
          ]
        },
        {
          "output_type": "stream",
          "name": "stderr",
          "text": [
            "Epoch 1000 Training: 100%|██████████| 136/136 [00:00<00:00, 651.08it/s]\n",
            "Epoch 1000 Validation: 100%|██████████| 34/34 [00:00<00:00, 1220.21it/s]"
          ]
        },
        {
          "output_type": "stream",
          "name": "stdout",
          "text": [
            "Epoch 1000 Training Loss: 0.8451, Accuracy: 0.6952\n",
            "Epoch 1000 Validation Loss: 0.8849, Accuracy: 0.6501\n",
            "Training complete!\n"
          ]
        },
        {
          "output_type": "stream",
          "name": "stderr",
          "text": [
            "\n"
          ]
        }
      ]
    },
    {
      "cell_type": "code",
      "source": [
        "net.eval()\n",
        "test_loss = 0\n",
        "test_accuracy = 0    \n",
        "pred = []\n",
        "tar = []\n",
        "for inputs, targets in tqdm(testloader, desc=f\"testing\"):\n",
        "    outputs = net(inputs)\n",
        "    loss = criterion(outputs, targets)\n",
        "    test_loss += loss.item() * inputs.size(0)\n",
        "    _, predicted = torch.max(outputs.data, 1)\n",
        "    test_accuracy += (predicted == targets).sum().item()\n",
        "    pred = np.concatenate((pred,predicted.numpy()))\n",
        "    tar = np.concatenate((tar,targets.numpy()))\n",
        "test_loss /= len(testloader.dataset)\n",
        "test_accuracy /= len(testloader.dataset)\n",
        "print(\"\\nThe test Loss is:\",test_loss)\n",
        "print(\"The test_accuracy is:\",test_accuracy)"
      ],
      "metadata": {
        "colab": {
          "base_uri": "https://localhost:8080/"
        },
        "id": "VS5m8bhl49Jh",
        "outputId": "1f9241f3-8b9c-4291-c9f2-984ab1cbb5f2"
      },
      "execution_count": 127,
      "outputs": [
        {
          "output_type": "stream",
          "name": "stderr",
          "text": [
            "testing: 100%|██████████| 136/136 [00:00<00:00, 1759.34it/s]"
          ]
        },
        {
          "output_type": "stream",
          "name": "stdout",
          "text": [
            "\n",
            "The test Loss is: 0.8458773199585481\n",
            "The test_accuracy is: 0.6975138121546961\n"
          ]
        },
        {
          "output_type": "stream",
          "name": "stderr",
          "text": [
            "\n"
          ]
        }
      ]
    },
    {
      "cell_type": "code",
      "source": [
        "i = np.linspace(1,1000,1000)\n",
        "plt.plot(i,history['train_loss'])\n",
        "plt.xlabel('epoch')\n",
        "plt.ylabel('Training loss')\n",
        "plt.show"
      ],
      "metadata": {
        "colab": {
          "base_uri": "https://localhost:8080/",
          "height": 520
        },
        "id": "UEDEKD97EoIV",
        "outputId": "99b4691e-8f7d-418a-da67-7c8b7a5f7f1d"
      },
      "execution_count": 128,
      "outputs": [
        {
          "output_type": "execute_result",
          "data": {
            "text/plain": [
              "<function matplotlib.pyplot.show(close=None, block=None)>"
            ]
          },
          "metadata": {},
          "execution_count": 128
        },
        {
          "output_type": "display_data",
          "data": {
            "text/plain": [
              "<Figure size 800x550 with 1 Axes>"
            ],
            "image/png": "[encoded data removed]"
          },
          "metadata": {}
        }
      ]
    },
    {
      "cell_type": "code",
      "source": [
        "i = np.linspace(1,1000,1000)\n",
        "plt.plot(i,history['val_loss'])\n",
        "plt.xlabel('epoch')\n",
        "plt.ylabel('Validation loss')\n",
        "plt.show"
      ],
      "metadata": {
        "colab": {
          "base_uri": "https://localhost:8080/",
          "height": 520
        },
        "id": "BBX-gb9GE9xj",
        "outputId": "95e5c75d-35fd-40e0-879e-19af9f11139f"
      },
      "execution_count": 129,
      "outputs": [
        {
          "output_type": "execute_result",
          "data": {
            "text/plain": [
              "<function matplotlib.pyplot.show(close=None, block=None)>"
            ]
          },
          "metadata": {},
          "execution_count": 129
        },
        {
          "output_type": "display_data",
          "data": {
            "text/plain": [
              "<Figure size 800x550 with 1 Axes>"
            ],
            "image/png": "[encoded data removed]"
          },
          "metadata": {}
        }
      ]
    },
    {
      "cell_type": "code",
      "source": [
        "i = np.linspace(1,1000,1000)\n",
        "plt.plot(i,history['train_acc'])\n",
        "plt.xlabel('epoch')\n",
        "plt.ylabel('Training accuracy')\n",
        "plt.show"
      ],
      "metadata": {
        "colab": {
          "base_uri": "https://localhost:8080/",
          "height": 520
        },
        "id": "2p9TYvrtE__4",
        "outputId": "bfa409f9-b6a4-41e7-f64b-47b93c2c7c6b"
      },
      "execution_count": 130,
      "outputs": [
        {
          "output_type": "execute_result",
          "data": {
            "text/plain": [
              "<function matplotlib.pyplot.show(close=None, block=None)>"
            ]
          },
          "metadata": {},
          "execution_count": 130
        },
        {
          "output_type": "display_data",
          "data": {
            "text/plain": [
              "<Figure size 800x550 with 1 Axes>"
            ],
            "image/png": "[encoded data removed]"
          },
          "metadata": {}
        }
      ]
    },
    {
      "cell_type": "code",
      "source": [
        "i = np.linspace(1,1000,1000)\n",
        "plt.plot(i,history['val_acc'])\n",
        "plt.xlabel('epoch')\n",
        "plt.ylabel('Validation accuracy')\n",
        "plt.show"
      ],
      "metadata": {
        "colab": {
          "base_uri": "https://localhost:8080/",
          "height": 520
        },
        "id": "-7soaG41FAJg",
        "outputId": "b552ca9c-d7ad-4058-f318-ba56461e1925"
      },
      "execution_count": 131,
      "outputs": [
        {
          "output_type": "execute_result",
          "data": {
            "text/plain": [
              "<function matplotlib.pyplot.show(close=None, block=None)>"
            ]
          },
          "metadata": {},
          "execution_count": 131
        },
        {
          "output_type": "display_data",
          "data": {
            "text/plain": [
              "<Figure size 800x550 with 1 Axes>"
            ],
            "image/png": "[encoded data removed]"
          },
          "metadata": {}
        }
      ]
    }
  ]
}