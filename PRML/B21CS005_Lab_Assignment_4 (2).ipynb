{
  "nbformat": 4,
  "nbformat_minor": 0,
  "metadata": {
    "colab": {
      "provenance": []
    },
    "kernelspec": {
      "name": "python3",
      "display_name": "Python 3"
    },
    "language_info": {
      "name": "python"
    }
  },
  "cells": [
    {
      "cell_type": "code",
      "execution_count": 292,
      "metadata": {
        "id": "6Z8iS-FhOjYK"
      },
      "outputs": [],
      "source": [
        "import numpy as np\n",
        "import random\n",
        "import matplotlib.pyplot as plt\n",
        "from scipy.linalg import sqrtm"
      ]
    },
    {
      "cell_type": "markdown",
      "source": [
        "Question 2(1)"
      ],
      "metadata": {
        "id": "sWjq5G06QkUk"
      }
    },
    {
      "cell_type": "code",
      "source": [
        "mean = [0,0] \n",
        "cov = [[1.5 , 0.5],[0.5,1.5]]\n",
        "x, y = np.random.default_rng().multivariate_normal(mean, cov, 1000).T\n",
        "plt.plot(x, y, '.')\n",
        "plt.axis('equal')\n",
        "plt.show()\n",
        "print(x.shape)"
      ],
      "metadata": {
        "colab": {
          "base_uri": "https://localhost:8080/",
          "height": 282
        },
        "id": "MYujqWyNRGIH",
        "outputId": "6e3d74bc-cd39-4b1f-bcfe-8bfdeea19325"
      },
      "execution_count": 293,
      "outputs": [
        {
          "output_type": "display_data",
          "data": {
            "text/plain": [
              "<Figure size 432x288 with 1 Axes>"
            ],
            "image/png": "[encoded data removed]"
          },
          "metadata": {
            "needs_background": "light"
          }
        },
        {
          "output_type": "stream",
          "name": "stdout",
          "text": [
            "(1000,)\n"
          ]
        }
      ]
    },
    {
      "cell_type": "code",
      "source": [
        "x1 = np.random.choice(x,100,replace = False)\n",
        "y1 = np.random.choice(y,100,replace = False)\n",
        "plt.plot(x1, y1,'.')\n",
        "plt.axis('equal')\n",
        "plt.show()\n",
        "X = np.array([x1,y1])"
      ],
      "metadata": {
        "colab": {
          "base_uri": "https://localhost:8080/",
          "height": 265
        },
        "id": "88vwrIUeLlzU",
        "outputId": "84d537c4-ad66-4d0f-87c4-d056ee02e3bf"
      },
      "execution_count": 294,
      "outputs": [
        {
          "output_type": "display_data",
          "data": {
            "text/plain": [
              "<Figure size 432x288 with 1 Axes>"
            ],
            "image/png": "[encoded data removed]"
          },
          "metadata": {
            "needs_background": "light"
          }
        }
      ]
    },
    {
      "cell_type": "code",
      "source": [
        "def variance(a):\n",
        "  mean_a = np.mean(a)\n",
        "  sum_var = 0\n",
        "  for i in range(len(a)):\n",
        "    elem = a[i]\n",
        "    temp = (elem-mean_a)**2\n",
        "    sum_var += temp\n",
        "  var_mat = sum_var/(len(a)-1)\n",
        "  return var_mat\n",
        "def covariance(a,b):\n",
        "  mean_a = float(np.mean(a))\n",
        "  mean_b = float(np.mean(b))\n",
        "  sum_tot = 0\n",
        "  for i in range(len(a)):\n",
        "    elema = a[i]\n",
        "    elemb = b[i]\n",
        "    k = elema - mean_a\n",
        "    n = elemb - mean_b\n",
        "    g = float(k*n)\n",
        "    sum_tot += g\n",
        "  covar_a_b = sum_tot/len(a)\n",
        "  return covar_a_b\n",
        "\n",
        "def cov_matrix(a,b):\n",
        "  c_mat = [[variance(a),covariance(a,b)],[covariance(b,a),variance(b)]]\n",
        "  c_mat = np.array(c_mat)\n",
        "  return c_mat"
      ],
      "metadata": {
        "id": "U3ncXvbKXNry"
      },
      "execution_count": 295,
      "outputs": []
    },
    {
      "cell_type": "code",
      "source": [
        "print(cov_matrix(x1,y1))\n",
        "sigma_x = cov_matrix(x1,y1)"
      ],
      "metadata": {
        "colab": {
          "base_uri": "https://localhost:8080/"
        },
        "id": "fnAHblUkbzKm",
        "outputId": "aeeca86a-d97f-4e16-b36e-b2727794571d"
      },
      "execution_count": 296,
      "outputs": [
        {
          "output_type": "stream",
          "name": "stdout",
          "text": [
            "[[ 1.75965039 -0.13527193]\n",
            " [-0.13527193  1.50597084]]\n"
          ]
        }
      ]
    },
    {
      "cell_type": "code",
      "source": [
        "eig_val,eig_vec = np.linalg.eig(sigma_x)\n",
        "print(eig_val)\n",
        "print(eig_vec)"
      ],
      "metadata": {
        "colab": {
          "base_uri": "https://localhost:8080/"
        },
        "id": "dJWfLAw4eVWu",
        "outputId": "ec526776-7bb2-471d-d383-3c0f5c2a21c4"
      },
      "execution_count": 297,
      "outputs": [
        {
          "output_type": "stream",
          "name": "stdout",
          "text": [
            "[1.81824746 1.44737377]\n",
            "[[ 0.91760701  0.39748884]\n",
            " [-0.39748884  0.91760701]]\n"
          ]
        }
      ]
    },
    {
      "cell_type": "code",
      "source": [
        "slope_1 = eig_vec[0,1]/eig_vec[0,0]\n",
        "slope_2 = eig_vec[1,1]/eig_vec[1,0]\n",
        "def x_lin(m):\n",
        "  x2 = []\n",
        "  for i in range(0,5):\n",
        "    x2.append(i)\n",
        "  y2 = []\n",
        "  for i in range(0,5):\n",
        "    y2.append(m*x2[i])\n",
        "  return x2,y2\n",
        "plt.plot(x1, y1,'.')\n",
        "a,b = x_lin(slope_1)\n",
        "f,g = x_lin(slope_2)\n",
        "plt.plot(a,b)\n",
        "plt.plot(f,g)\n",
        "plt.xlim([-8,8])\n",
        "plt.ylim([-8,8])\n",
        "plt.show()"
      ],
      "metadata": {
        "colab": {
          "base_uri": "https://localhost:8080/",
          "height": 269
        },
        "id": "Xpmnt1eOfE_C",
        "outputId": "7a74a4a8-a939-49eb-8bad-2d5bdaf1807c"
      },
      "execution_count": 298,
      "outputs": [
        {
          "output_type": "display_data",
          "data": {
            "text/plain": [
              "<Figure size 432x288 with 1 Axes>"
            ],
            "image/png": "[encoded data removed]"
          },
          "metadata": {
            "needs_background": "light"
          }
        }
      ]
    },
    {
      "cell_type": "markdown",
      "source": [
        "Question 2(2)"
      ],
      "metadata": {
        "id": "ApZxrwneQg-P"
      }
    },
    {
      "cell_type": "code",
      "source": [
        "some = sqrtm(sigma_x)\n",
        "some = np.linalg.inv(some)"
      ],
      "metadata": {
        "id": "yNWPp1vjiCRS"
      },
      "execution_count": 299,
      "outputs": []
    },
    {
      "cell_type": "code",
      "source": [
        "print(some)"
      ],
      "metadata": {
        "colab": {
          "base_uri": "https://localhost:8080/"
        },
        "id": "zHIu71HXhYqs",
        "outputId": "9950a80d-e5cd-4b77-dd97-b17380508094"
      },
      "execution_count": 300,
      "outputs": [
        {
          "output_type": "stream",
          "name": "stdout",
          "text": [
            "[[0.75576325 0.03268109]\n",
            " [0.03268109 0.81705109]]\n"
          ]
        }
      ]
    },
    {
      "cell_type": "code",
      "source": [
        "X = X.T\n",
        "print(X)"
      ],
      "metadata": {
        "colab": {
          "base_uri": "https://localhost:8080/"
        },
        "id": "sxjhSxYFkAjo",
        "outputId": "fac6bc51-a30b-4859-d870-94d27812fe4b"
      },
      "execution_count": 301,
      "outputs": [
        {
          "output_type": "stream",
          "name": "stdout",
          "text": [
            "[[-9.53821749e-01  1.23815692e+00]\n",
            " [-5.21743599e-01 -8.12077821e-02]\n",
            " [-7.48294522e-01 -1.25452610e+00]\n",
            " [ 1.84911282e-01 -2.14858474e-01]\n",
            " [-1.18398327e+00  2.44989478e-01]\n",
            " [ 1.69563064e+00  1.40960239e-01]\n",
            " [-2.22829274e+00 -1.84560246e+00]\n",
            " [ 4.19884031e-01 -1.04194721e+00]\n",
            " [ 8.96324521e-01  5.55995934e-01]\n",
            " [ 9.59584241e-02  7.74482466e-01]\n",
            " [-1.14116899e+00  2.24803059e+00]\n",
            " [-3.51081486e-01  1.44569831e-01]\n",
            " [ 1.06998236e+00  2.44108574e+00]\n",
            " [-6.83111669e-01  9.99515519e-01]\n",
            " [-4.36207503e-02 -2.10710305e-02]\n",
            " [ 2.16074224e+00 -9.37891751e-01]\n",
            " [-6.01209343e-01  1.01358974e+00]\n",
            " [-4.04278305e-02 -3.10009025e-01]\n",
            " [-2.39862929e+00  1.41569440e+00]\n",
            " [ 2.03866640e+00  4.21350572e-01]\n",
            " [ 9.52214777e-01  1.32620429e+00]\n",
            " [ 2.91331686e-01  5.33638114e-01]\n",
            " [-7.54521420e-01 -4.85601594e-01]\n",
            " [ 3.80446825e+00  7.53915124e-01]\n",
            " [-6.89232205e-01 -2.03497234e-01]\n",
            " [ 1.56414394e-01  6.81614410e-01]\n",
            " [ 1.25033521e+00 -1.38449376e+00]\n",
            " [ 2.23032386e+00 -1.08400575e+00]\n",
            " [-2.18851174e+00 -1.26964881e+00]\n",
            " [-1.94175510e+00 -1.01859031e-01]\n",
            " [-8.07182916e-01  3.42757427e-01]\n",
            " [-6.16363990e-01  1.35223362e+00]\n",
            " [ 1.46761886e+00 -1.22726660e+00]\n",
            " [-4.88886972e-01  3.07750183e-01]\n",
            " [ 2.48225380e+00 -6.60962291e-01]\n",
            " [-1.36109190e+00  1.29444677e+00]\n",
            " [-6.15825650e-01  1.08016234e+00]\n",
            " [-1.64956826e-01  1.66411033e+00]\n",
            " [-7.07942294e-01  1.50182694e+00]\n",
            " [ 2.23140805e+00  2.64495922e-01]\n",
            " [-1.16591150e+00 -3.16116358e+00]\n",
            " [ 2.20430817e-01  1.54822184e+00]\n",
            " [ 2.76763873e-01 -9.02821417e-01]\n",
            " [-1.43371834e-01 -1.02147347e+00]\n",
            " [ 2.18105599e+00 -1.54594527e+00]\n",
            " [ 5.24088935e-01 -1.25085554e+00]\n",
            " [ 1.32975301e+00 -3.11062295e-01]\n",
            " [-8.55254523e-01 -1.29655168e+00]\n",
            " [-1.64241679e+00  1.95412495e+00]\n",
            " [-1.19603998e-01 -1.21181821e+00]\n",
            " [-1.62476329e+00 -6.06350303e-01]\n",
            " [-3.90608596e-01  4.13786363e-01]\n",
            " [ 3.56473714e-01  9.87322719e-01]\n",
            " [ 3.82946315e-01  6.81599888e-01]\n",
            " [ 1.03321879e+00  1.85238637e+00]\n",
            " [ 9.35329336e-01  2.29319581e-01]\n",
            " [-2.25491360e+00  1.18893686e+00]\n",
            " [ 1.98330485e+00 -1.31868593e+00]\n",
            " [ 1.52079046e+00  1.56307136e+00]\n",
            " [ 1.74488565e+00  1.79909465e+00]\n",
            " [-1.34338168e+00 -2.12317965e-01]\n",
            " [-3.35023696e-01 -2.22985407e+00]\n",
            " [ 1.00852987e+00 -1.08317570e+00]\n",
            " [ 2.65965124e-02  7.14426764e-01]\n",
            " [-2.02537434e+00 -6.66638107e-01]\n",
            " [ 1.08610948e+00  9.63982536e-01]\n",
            " [ 1.33515556e+00  1.03879752e+00]\n",
            " [-1.87998228e+00  4.81397183e-01]\n",
            " [ 3.37154536e+00 -5.23707873e-01]\n",
            " [ 2.67862383e+00 -2.06642326e+00]\n",
            " [-8.03406591e-01  1.98123892e-01]\n",
            " [ 7.93517277e-01  1.03502157e+00]\n",
            " [-8.67619346e-02 -3.62555022e-01]\n",
            " [-1.94482727e+00 -2.56232043e+00]\n",
            " [-2.89291420e-01  3.00590012e-01]\n",
            " [-1.05081088e+00 -6.12921925e-01]\n",
            " [ 3.00038872e-01 -1.52203709e+00]\n",
            " [-1.40527200e+00  7.51109393e-01]\n",
            " [-4.67447119e-01 -1.20152067e-01]\n",
            " [ 7.51245807e-01  1.54594132e+00]\n",
            " [-5.82949512e-01  2.70935993e-01]\n",
            " [ 1.73242121e+00 -2.91923906e+00]\n",
            " [-5.20163238e-01 -3.59443338e-01]\n",
            " [ 2.26806171e+00  1.80482769e-01]\n",
            " [ 1.84559192e+00  1.05583912e+00]\n",
            " [-1.46887095e+00  2.88624075e+00]\n",
            " [-6.69413818e-01 -9.95186351e-01]\n",
            " [ 9.55263777e-01 -1.50377357e+00]\n",
            " [-5.65315676e-01  3.97755747e-02]\n",
            " [ 7.17136900e-01  2.48448635e-02]\n",
            " [-5.15835939e-02  1.99611597e+00]\n",
            " [ 3.52047909e-01  5.15973830e-01]\n",
            " [-9.07540234e-01  2.92715342e-01]\n",
            " [-6.20183162e-01  2.98947159e-01]\n",
            " [-2.24542745e-01  2.73783464e-01]\n",
            " [ 1.65728052e-01 -2.74561933e+00]\n",
            " [-1.46154163e+00 -8.82581854e-04]\n",
            " [ 6.70059819e-01  9.17223197e-01]\n",
            " [-9.76938318e-01  1.84439171e+00]\n",
            " [ 1.47687489e+00  6.88912663e-02]]\n"
          ]
        }
      ]
    },
    {
      "cell_type": "code",
      "source": [
        "Y = X@some"
      ],
      "metadata": {
        "id": "eQLdL79Jjo8b"
      },
      "execution_count": 302,
      "outputs": []
    },
    {
      "cell_type": "code",
      "source": [
        "print(Y)"
      ],
      "metadata": {
        "colab": {
          "base_uri": "https://localhost:8080/"
        },
        "id": "-vpGOThNj4iB",
        "outputId": "3658bee1-bb40-4374-cf9d-1de3fd21bb5e"
      },
      "execution_count": 303,
      "outputs": [
        {
          "output_type": "stream",
          "name": "stdout",
          "text": [
            "[[-0.68039911  0.98046553]\n",
            " [-0.3969686  -0.08340206]\n",
            " [-0.60653278 -1.049467  ]\n",
            " [ 0.13272734 -0.16950725]\n",
            " [-0.88680452  0.16147506]\n",
            " [ 1.28610206  0.17058677]\n",
            " [-1.74437806 -1.58077453]\n",
            " [ 0.28328095 -0.83760183]\n",
            " [ 0.69557969  0.48356995]\n",
            " [ 0.09783278  0.63592777]\n",
            " [-0.7889855   1.7994612 ]\n",
            " [-0.26060979  0.10664721]\n",
            " [ 0.88843069  2.02945996]\n",
            " [-0.48360544  0.79433041]\n",
            " [-0.03365558 -0.01864168]\n",
            " [ 1.60235825 -0.69569007]\n",
            " [-0.42124671  0.80850642]\n",
            " [-0.0406853  -0.25461444]\n",
            " [-1.76652943  1.07830483]\n",
            " [ 1.55451934  0.41089078]\n",
            " [ 0.76299074  1.11469607]\n",
            " [ 0.23761766  0.44553064]\n",
            " [-0.58610955 -0.42141989]\n",
            " [ 2.89991605  0.74032134]\n",
            " [-0.52754688 -0.1887925 ]\n",
            " [ 0.14048815  0.56202559]\n",
            " [ 0.89971064 -1.09033982]\n",
            " [ 1.65017032 -0.81279866]\n",
            " [-1.69549025 -1.10889089]\n",
            " [-1.47083601 -0.14668271]\n",
            " [-0.5988375   0.25367071]\n",
            " [-0.42163278  1.0847005 ]\n",
            " [ 1.06906399 -0.95477613]\n",
            " [-0.3594252   0.23547026]\n",
            " [ 1.85439523 -0.4589172 ]\n",
            " [-0.98635931  1.01314717]\n",
            " [-0.43011751  0.86242196]\n",
            " [-0.07028337  1.35427219]\n",
            " [-0.48595543  1.20393301]\n",
            " [ 1.69506021  0.28903153]\n",
            " [-0.98446334 -2.6209354 ]\n",
            " [ 0.21719109  1.27218026]\n",
            " [ 0.17966278 -0.72860628]\n",
            " [-0.14173803 -0.83928156]\n",
            " [ 1.59783879 -1.19183698]\n",
            " [ 0.35520783 -1.00488508]\n",
            " [ 0.9948126  -0.21069601]\n",
            " [-0.68874266 -1.08729961]\n",
            " [-1.17741532  1.54294395]\n",
            " [-0.12999585 -0.99402618]\n",
            " [-1.24775258 -0.54851821]\n",
            " [-0.28168463  0.32531908]\n",
            " [ 0.30167652  0.81834305]\n",
            " [ 0.31169218  0.56941703]\n",
            " [ 0.84140679  1.54726102]\n",
            " [ 0.71438195  0.2179334 ]\n",
            " [-1.66532508  0.89772913]\n",
            " [ 1.45581282 -1.01261721]\n",
            " [ 1.20044042  1.32681024]\n",
            " [ 1.37751682  1.526977  ]\n",
            " [-1.02221728 -0.2173778 ]\n",
            " [-0.32607266 -1.83285363]\n",
            " [ 0.72681045 -0.85205003]\n",
            " [ 0.04344891  0.58459237]\n",
            " [-1.55248995 -0.61086883]\n",
            " [ 0.85234563  0.82311822]\n",
            " [ 1.04301054  0.89238498]\n",
            " [-1.40508893  0.33188622]\n",
            " [ 2.53097473 -0.31771031]\n",
            " [ 1.95687249 -1.60083303]\n",
            " [-0.60071027  0.13562114]\n",
            " [ 0.63353683  0.87159851]\n",
            " [-0.07742017 -0.29906145]\n",
            " [-1.5535684  -2.15710577]\n",
            " [-0.20881221  0.23614304]\n",
            " [-0.8141952  -0.53513017]\n",
            " [ 0.17701652 -1.23377646]\n",
            " [-1.03750586  0.56776893]\n",
            " [-0.35720605 -0.11344706]\n",
            " [ 0.61828702  1.28766457]\n",
            " [-0.43171733  0.20231712]\n",
            " [ 1.21389637 -2.32855004]\n",
            " [-0.40486726 -0.31068307]\n",
            " [ 1.72001606  0.22158637]\n",
            " [ 1.42933652  0.92299046]\n",
            " [-1.01579319  2.31020185]\n",
            " [-0.53844214 -0.83499526]\n",
            " [ 0.6728083  -1.19744077]\n",
            " [-0.4259449   0.01402354]\n",
            " [ 0.54279767  0.04373634]\n",
            " [ 0.02625026  1.62924292]\n",
            " [ 0.28292746  0.43308229]\n",
            " [-0.6763193   0.20950398]\n",
            " [-0.45894172  0.22398684]\n",
            " [-0.16075361  0.21635678]\n",
            " [ 0.03552134 -2.23789509]\n",
            " [-1.10460829 -0.04848589]\n",
            " [ 0.53638244  0.7713165 ]\n",
            " [-0.67805735  1.47503485]\n",
            " [ 1.11841921  0.10455357]]\n"
          ]
        }
      ]
    },
    {
      "cell_type": "code",
      "source": [
        "print(np.cov(Y,rowvar = False))\n",
        "cov_matrix(Y[:,0],Y[:,1])"
      ],
      "metadata": {
        "colab": {
          "base_uri": "https://localhost:8080/"
        },
        "id": "Ih0iSdZUlflq",
        "outputId": "73909da1-eb5b-48da-d6fe-0bd9dcb31aa1"
      },
      "execution_count": 304,
      "outputs": [
        {
          "output_type": "stream",
          "name": "stdout",
          "text": [
            "[[ 9.99932503e-01 -8.45197097e-04]\n",
            " [-8.45197097e-04  9.99927029e-01]]\n"
          ]
        },
        {
          "output_type": "execute_result",
          "data": {
            "text/plain": [
              "array([[ 9.99932503e-01, -8.36745126e-04],\n",
              "       [-8.36745126e-04,  9.99927029e-01]])"
            ]
          },
          "metadata": {},
          "execution_count": 304
        }
      ]
    },
    {
      "cell_type": "markdown",
      "source": [
        "Question 2(3)"
      ],
      "metadata": {
        "id": "6wFDIEOZ_9mc"
      }
    },
    {
      "cell_type": "code",
      "source": [
        "import math"
      ],
      "metadata": {
        "id": "NOjGpY31ATcu"
      },
      "execution_count": 305,
      "outputs": []
    },
    {
      "cell_type": "code",
      "source": [
        "def rot(x,y,ang):\n",
        "  length = ((x**2+y**2)**(0.5))\n",
        "  slope = y/x\n",
        "  angle = math.atan(slope)\n",
        "  angle = angle - ang\n",
        "  sine_ang = math.sin(angle)\n",
        "  cosine_ang = math.cos(angle)\n",
        "  y2 = sine_ang*length\n",
        "  x2 = cosine_ang*length\n",
        "  return x2,y2"
      ],
      "metadata": {
        "id": "ixOt8AWIMekB"
      },
      "execution_count": 306,
      "outputs": []
    },
    {
      "cell_type": "code",
      "source": [
        "P = [[2.2360679774997896964091736687313,2.2360679774997896964091736687313]]\n",
        "g,h = 2.2360679774997896964091736687313,2.2360679774997896964091736687313\n",
        "ang_lst = np.random.rand(9,)\n",
        "for i in range(9):\n",
        "  a,b = rot(g,h,ang_lst[i])\n",
        "  g,h = a,b\n",
        "  P.append([a,b])\n",
        "P = np.array(P)\n",
        "P"
      ],
      "metadata": {
        "colab": {
          "base_uri": "https://localhost:8080/"
        },
        "id": "puZiBtYZATgX",
        "outputId": "6159df90-10ca-4864-a25e-31f9bb5396f5"
      },
      "execution_count": 307,
      "outputs": [
        {
          "output_type": "execute_result",
          "data": {
            "text/plain": [
              "array([[ 2.23606798,  2.23606798],\n",
              "       [ 2.81859899,  1.43370141],\n",
              "       [ 3.12655159,  0.47399908],\n",
              "       [ 3.16150427, -0.06993402],\n",
              "       [ 2.31826061, -2.15073656],\n",
              "       [ 0.1351462 , -3.15938847],\n",
              "       [-0.33641573, -3.14433212],\n",
              "       [ 2.27563947,  2.19578346],\n",
              "       [ 2.85957081,  1.3501314 ],\n",
              "       [ 3.15985953, -0.12364371]])"
            ]
          },
          "metadata": {},
          "execution_count": 307
        }
      ]
    },
    {
      "cell_type": "code",
      "source": [
        "import matplotlib.cm as cm\n",
        "colors = cm.rainbow(np.linspace(0, 1, 10))\n",
        "i = 0\n",
        "for y, c in zip(P[:,1], colors):\n",
        "    plt.scatter(P[i,0], y, color=c)\n",
        "    i += 1\n",
        "plt.scatter(X[:,0], X[:,1], color = 'black')\n",
        "plt.xlim([-5,5])\n",
        "plt.ylim([-5,5])\n",
        "plt.show()"
      ],
      "metadata": {
        "colab": {
          "base_uri": "https://localhost:8080/",
          "height": 265
        },
        "id": "U6SLSEQxEjDJ",
        "outputId": "ebe6f9a2-1eac-4298-f88c-24283973411e"
      },
      "execution_count": 308,
      "outputs": [
        {
          "output_type": "display_data",
          "data": {
            "text/plain": [
              "<Figure size 432x288 with 1 Axes>"
            ],
            "image/png": "[encoded data removed]"
          },
          "metadata": {
            "needs_background": "light"
          }
        }
      ]
    },
    {
      "cell_type": "code",
      "source": [
        "mean_P = [np.mean(P[:,0]),np.mean(P[:,1])]\n",
        "mean_P = np.array(mean_P)\n"
      ],
      "metadata": {
        "id": "av65HbnhHkPJ"
      },
      "execution_count": 309,
      "outputs": []
    },
    {
      "cell_type": "code",
      "source": [
        "dist = []\n",
        "\n",
        "for i in range(10):\n",
        "  x_dist = abs(P[i,0] - mean_P[0])\n",
        "  y_dist = abs(P[i,1] - mean_P[1])\n",
        "  lenth = (x_dist**2 + y_dist**2) ** (0.5)\n",
        "  dist.append(lenth)\n",
        "dist = np.array(dist)\n",
        "#dist = dist.reshape(-1,1)\n",
        "print(dist)\n",
        "print(dist.shape)"
      ],
      "metadata": {
        "colab": {
          "base_uri": "https://localhost:8080/"
        },
        "id": "_uRS2TqHIuqC",
        "outputId": "6db02738-dde9-40d1-b2b6-ad9db8e8c761"
      },
      "execution_count": 310,
      "outputs": [
        {
          "output_type": "stream",
          "name": "stdout",
          "text": [
            "[2.33269015 1.65924267 1.10871607 0.98636603 2.05985595 3.68080348\n",
            " 3.95005642 2.29380647 1.5996255  0.98477387]\n",
            "(10,)\n"
          ]
        }
      ]
    },
    {
      "cell_type": "code",
      "source": [
        "plt.bar(np.linspace(1,10,10),dist)\n",
        "\n",
        "plt.show()"
      ],
      "metadata": {
        "colab": {
          "base_uri": "https://localhost:8080/",
          "height": 265
        },
        "id": "YQNzS7qWJvSV",
        "outputId": "5c517f17-480c-435d-c97e-8f345c182bbd"
      },
      "execution_count": 311,
      "outputs": [
        {
          "output_type": "display_data",
          "data": {
            "text/plain": [
              "<Figure size 432x288 with 1 Axes>"
            ],
            "image/png": "[encoded data removed]"
          },
          "metadata": {
            "needs_background": "light"
          }
        }
      ]
    },
    {
      "cell_type": "code",
      "source": [
        "Q = P@some\n",
        "Q"
      ],
      "metadata": {
        "colab": {
          "base_uri": "https://localhost:8080/"
        },
        "id": "xnsWGLXyLGKz",
        "outputId": "b6d339fe-d716-49ca-bb39-125f82443876"
      },
      "execution_count": 312,
      "outputs": [
        {
          "output_type": "execute_result",
          "data": {
            "text/plain": [
              "array([[ 1.76301514e+00,  1.90005891e+00],\n",
              "       [ 2.17704846e+00,  1.26352218e+00],\n",
              "       [ 2.37842360e+00,  4.89460576e-01],\n",
              "       [ 2.38706322e+00,  4.61817412e-02],\n",
              "       [ 1.68176776e+00, -1.68149837e+00],\n",
              "       [-1.11372379e-03, -2.57696507e+00],\n",
              "       [-3.57010850e-01, -2.58007441e+00],\n",
              "       [ 1.79160528e+00,  1.86843764e+00],\n",
              "       [ 2.20528229e+00,  1.19658022e+00],\n",
              "       [ 2.38406489e+00,  2.24442300e-03]])"
            ]
          },
          "metadata": {},
          "execution_count": 312
        }
      ]
    },
    {
      "cell_type": "code",
      "source": [
        "mean_Q = [np.mean(Q[:,0]),np.mean(Q[:,1])]\n",
        "mean_Q = np.array(mean_Q)"
      ],
      "metadata": {
        "id": "rgWZ6d2DMOAw"
      },
      "execution_count": 313,
      "outputs": []
    },
    {
      "cell_type": "code",
      "source": [
        "dist_Q = []\n",
        "\n",
        "for i in range(10):\n",
        "  x_dist = abs(Q[i,0] - mean_Q[0])\n",
        "  y_dist = abs(Q[i,1] - mean_Q[1])\n",
        "  lenth = (x_dist**2 + y_dist**2) ** (0.5)\n",
        "  dist_Q.append(lenth)\n",
        "dist_Q = np.array(dist_Q)\n",
        "#dist = dist.reshape(-1,1)\n",
        "print(dist_Q)\n",
        "print(dist.shape)"
      ],
      "metadata": {
        "colab": {
          "base_uri": "https://localhost:8080/"
        },
        "id": "BT0oyUCXMaBG",
        "outputId": "971be6f9-6a4c-4aef-8c96-3865e48cc2fb"
      },
      "execution_count": 314,
      "outputs": [
        {
          "output_type": "stream",
          "name": "stdout",
          "text": [
            "[1.9111621  1.37915931 0.88907195 0.74795635 1.67478905 3.04963131\n",
            " 3.2575699  1.88167842 1.3294726  0.74311037]\n",
            "(10,)\n"
          ]
        }
      ]
    },
    {
      "cell_type": "code",
      "source": [
        "plt.bar(np.linspace(1,10,10),dist_Q)\n",
        "\n",
        "plt.show()"
      ],
      "metadata": {
        "colab": {
          "base_uri": "https://localhost:8080/",
          "height": 265
        },
        "id": "1xqLsThPMuzP",
        "outputId": "9112e7e3-a253-4b3c-d456-897ad3af0ab4"
      },
      "execution_count": 315,
      "outputs": [
        {
          "output_type": "display_data",
          "data": {
            "text/plain": [
              "<Figure size 432x288 with 1 Axes>"
            ],
            "image/png": "[encoded data removed]"
          },
          "metadata": {
            "needs_background": "light"
          }
        }
      ]
    },
    {
      "cell_type": "code",
      "source": [
        "colors = cm.rainbow(np.linspace(0, 1, 10))\n",
        "i = 0\n",
        "for y, c in zip(Q[:,1], colors):\n",
        "    plt.scatter(Q[i,0], y, color=c)\n",
        "    i += 1\n",
        "plt.scatter(Y[:,0], Y[:,1], color = 'black')\n",
        "plt.xlim([-5,5])\n",
        "plt.ylim([-5,5])\n",
        "plt.show()"
      ],
      "metadata": {
        "colab": {
          "base_uri": "https://localhost:8080/",
          "height": 265
        },
        "id": "ouOkqtpwMwzX",
        "outputId": "394114b2-fb1e-43e1-bbd9-7eb4b6b74669"
      },
      "execution_count": 316,
      "outputs": [
        {
          "output_type": "display_data",
          "data": {
            "text/plain": [
              "<Figure size 432x288 with 1 Axes>"
            ],
            "image/png": "[encoded data removed]"
          },
          "metadata": {
            "needs_background": "light"
          }
        }
      ]
    },
    {
      "cell_type": "code",
      "source": [
        "C = dist_Q[1]/dist[1]\n",
        "print(C)"
      ],
      "metadata": {
        "colab": {
          "base_uri": "https://localhost:8080/"
        },
        "id": "xEaU8_mPR58J",
        "outputId": "d562331b-1685-411d-a38d-31b0f369000d"
      },
      "execution_count": 317,
      "outputs": [
        {
          "output_type": "stream",
          "name": "stdout",
          "text": [
            "0.8311980757543722\n"
          ]
        }
      ]
    }
  ]
}